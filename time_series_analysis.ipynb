{
  "nbformat": 4,
  "nbformat_minor": 0,
  "metadata": {
    "colab": {
      "name": "time_series_analysis.ipynb",
      "provenance": [],
      "collapsed_sections": []
    },
    "kernelspec": {
      "name": "python3",
      "display_name": "Python 3"
    },
    "language_info": {
      "name": "python"
    }
  },
  "cells": [
    {
      "cell_type": "markdown",
      "source": [
        "# Time Series Analysis in Python  \n",
        "1. Correlation and Autocorrelaction\n",
        "2. Some Simple Time Series\n",
        "3. Autoregressive (AR) Models\n",
        "4. Moving Average (MA) and ARMA models\n",
        "5. Putting it all together\n",
        "\n",
        "[link](https://campus.datacamp.com/courses/time-series-analysis-in-python/autoregressive-ar-models?ex=2)\n",
        "\n",
        "## 1. Correlation and Autocorrelaction\n",
        "\n",
        "#### Some Useful Pandas Tools  \n",
        "* Changing an index to datetime\n",
        "`df.index = pd.to_datetime(df.index)`\n",
        "* Plotting data, if index has been converted do datetime object we can slice data by year for example  \n",
        "`df.plot()`  \n",
        "* Merging two panda df  \n",
        "`df1.join(df2)`  \n",
        "* Often we want to change finacial ts data like prices to returns or differences, using two methods.  \n",
        "`df['col'].pct_change()`  \n",
        "`df['col'].diff()`  \n",
        "* pandas correlation method of series is usefull  \n",
        "`df['XYZ'].corr(df['ABC'])`  "
      ],
      "metadata": {
        "id": "HpQBSgNUWZMS"
      }
    },
    {
      "cell_type": "code",
      "source": [
        "!python --version"
      ],
      "metadata": {
        "colab": {
          "base_uri": "https://localhost:8080/"
        },
        "id": "GyFEhBiPWhHB",
        "outputId": "8ecb1adb-92d1-4d2a-b12a-4723ba96bded"
      },
      "execution_count": 1,
      "outputs": [
        {
          "output_type": "stream",
          "name": "stdout",
          "text": [
            "Python 3.7.13\n"
          ]
        }
      ]
    },
    {
      "cell_type": "code",
      "source": [
        "import numpy as np\n",
        "import pandas as pd\n",
        "import matplotlib.pyplot as plt\n",
        "from google.colab import files\n",
        "import io"
      ],
      "metadata": {
        "id": "pMYtPcIbXELL"
      },
      "execution_count": 2,
      "outputs": []
    },
    {
      "cell_type": "code",
      "source": [
        "# select file to upload : SP500.csv, BAA10Y.csv, mltiTimeline.csv\n",
        "uploaded = files.upload()\n",
        "#uploaded"
      ],
      "metadata": {
        "colab": {
          "resources": {
            "http://localhost:8080/nbextensions/google.colab/files.js": {
              "data": "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",
              "ok": true,
              "headers": [
                [
                  "content-type",
                  "application/javascript"
                ]
              ],
              "status": 200,
              "status_text": ""
            }
          },
          "base_uri": "https://localhost:8080/",
          "height": 143
        },
        "id": "VOEpk1CZquYl",
        "outputId": "853b1470-8c59-4dae-9363-565bac050811"
      },
      "execution_count": null,
      "outputs": [
        {
          "output_type": "display_data",
          "data": {
            "text/plain": [
              "<IPython.core.display.HTML object>"
            ],
            "text/html": [
              "\n",
              "     <input type=\"file\" id=\"files-261f6072-a5d9-4a2d-9d7c-9ce484540350\" name=\"files[]\" multiple disabled\n",
              "        style=\"border:none\" />\n",
              "     <output id=\"result-261f6072-a5d9-4a2d-9d7c-9ce484540350\">\n",
              "      Upload widget is only available when the cell has been executed in the\n",
              "      current browser session. Please rerun this cell to enable.\n",
              "      </output>\n",
              "      <script src=\"/nbextensions/google.colab/files.js\"></script> "
            ]
          },
          "metadata": {}
        },
        {
          "output_type": "stream",
          "name": "stdout",
          "text": [
            "Saving SP500.csv to SP500.csv\n",
            "Saving BAA10Y.csv to BAA10Y.csv\n",
            "Saving multiTimeline.csv to multiTimeline.csv\n"
          ]
        }
      ]
    },
    {
      "cell_type": "code",
      "source": [
        "# check\n",
        "print(uploaded['multiTimeline.csv'][0:50])\n",
        "print(uploaded['BAA10Y.csv'][0:50])\n",
        "print(uploaded['SP500.csv'][0:50])"
      ],
      "metadata": {
        "colab": {
          "base_uri": "https://localhost:8080/"
        },
        "id": "CnLL6Dwpq6lW",
        "outputId": "589be7c2-b99b-41f4-abd4-94d5e1ba636f"
      },
      "execution_count": null,
      "outputs": [
        {
          "output_type": "stream",
          "name": "stdout",
          "text": [
            "b'week,diet\\r\\n2017-01-22,55\\r\\n2017-01-29,68\\r\\n2017-02-0'\n",
            "b'DATE,BAA10Y\\n2017-01-20,2.21\\n2017-01-23,2.21\\n2017-0'\n",
            "b'DATE,SP500\\n2017-01-23,2265.2\\n2017-01-24,2280.07\\n20'\n"
          ]
        }
      ]
    },
    {
      "cell_type": "code",
      "source": [
        "# load as df\n",
        "diet = pd.read_csv(io.StringIO(uploaded['multiTimeline.csv'].decode('utf-8')))\n",
        "\n",
        "# rename week to Date and set as index\n",
        "diet = diet.rename(columns={'week': 'Date'})\n",
        "diet.set_index('Date', inplace=True)\n",
        "\n",
        "# Convert the date index to datetime (to be able to slice it later)\n",
        "diet.index = pd.to_datetime(diet.index)\n",
        "\n",
        "print(diet.shape)\n",
        "diet.head()"
      ],
      "metadata": {
        "colab": {
          "base_uri": "https://localhost:8080/",
          "height": 255
        },
        "id": "6FHt1FPerOM3",
        "outputId": "e4437f5b-d5fa-4c07-8028-6daa46b64a91"
      },
      "execution_count": null,
      "outputs": [
        {
          "output_type": "stream",
          "name": "stdout",
          "text": [
            "(261, 1)\n"
          ]
        },
        {
          "output_type": "execute_result",
          "data": {
            "text/plain": [
              "            diet\n",
              "Date            \n",
              "2017-01-22    55\n",
              "2017-01-29    68\n",
              "2017-02-05    64\n",
              "2017-02-12    73\n",
              "2017-02-19    55"
            ],
            "text/html": [
              "\n",
              "  <div id=\"df-35c26e74-06d3-4b3e-ac2b-3148648ae2e1\">\n",
              "    <div class=\"colab-df-container\">\n",
              "      <div>\n",
              "<style scoped>\n",
              "    .dataframe tbody tr th:only-of-type {\n",
              "        vertical-align: middle;\n",
              "    }\n",
              "\n",
              "    .dataframe tbody tr th {\n",
              "        vertical-align: top;\n",
              "    }\n",
              "\n",
              "    .dataframe thead th {\n",
              "        text-align: right;\n",
              "    }\n",
              "</style>\n",
              "<table border=\"1\" class=\"dataframe\">\n",
              "  <thead>\n",
              "    <tr style=\"text-align: right;\">\n",
              "      <th></th>\n",
              "      <th>diet</th>\n",
              "    </tr>\n",
              "    <tr>\n",
              "      <th>Date</th>\n",
              "      <th></th>\n",
              "    </tr>\n",
              "  </thead>\n",
              "  <tbody>\n",
              "    <tr>\n",
              "      <th>2017-01-22</th>\n",
              "      <td>55</td>\n",
              "    </tr>\n",
              "    <tr>\n",
              "      <th>2017-01-29</th>\n",
              "      <td>68</td>\n",
              "    </tr>\n",
              "    <tr>\n",
              "      <th>2017-02-05</th>\n",
              "      <td>64</td>\n",
              "    </tr>\n",
              "    <tr>\n",
              "      <th>2017-02-12</th>\n",
              "      <td>73</td>\n",
              "    </tr>\n",
              "    <tr>\n",
              "      <th>2017-02-19</th>\n",
              "      <td>55</td>\n",
              "    </tr>\n",
              "  </tbody>\n",
              "</table>\n",
              "</div>\n",
              "      <button class=\"colab-df-convert\" onclick=\"convertToInteractive('df-35c26e74-06d3-4b3e-ac2b-3148648ae2e1')\"\n",
              "              title=\"Convert this dataframe to an interactive table.\"\n",
              "              style=\"display:none;\">\n",
              "        \n",
              "  <svg xmlns=\"http://www.w3.org/2000/svg\" height=\"24px\"viewBox=\"0 0 24 24\"\n",
              "       width=\"24px\">\n",
              "    <path d=\"M0 0h24v24H0V0z\" fill=\"none\"/>\n",
              "    <path d=\"M18.56 5.44l.94 2.06.94-2.06 2.06-.94-2.06-.94-.94-2.06-.94 2.06-2.06.94zm-11 1L8.5 8.5l.94-2.06 2.06-.94-2.06-.94L8.5 2.5l-.94 2.06-2.06.94zm10 10l.94 2.06.94-2.06 2.06-.94-2.06-.94-.94-2.06-.94 2.06-2.06.94z\"/><path d=\"M17.41 7.96l-1.37-1.37c-.4-.4-.92-.59-1.43-.59-.52 0-1.04.2-1.43.59L10.3 9.45l-7.72 7.72c-.78.78-.78 2.05 0 2.83L4 21.41c.39.39.9.59 1.41.59.51 0 1.02-.2 1.41-.59l7.78-7.78 2.81-2.81c.8-.78.8-2.07 0-2.86zM5.41 20L4 18.59l7.72-7.72 1.47 1.35L5.41 20z\"/>\n",
              "  </svg>\n",
              "      </button>\n",
              "      \n",
              "  <style>\n",
              "    .colab-df-container {\n",
              "      display:flex;\n",
              "      flex-wrap:wrap;\n",
              "      gap: 12px;\n",
              "    }\n",
              "\n",
              "    .colab-df-convert {\n",
              "      background-color: #E8F0FE;\n",
              "      border: none;\n",
              "      border-radius: 50%;\n",
              "      cursor: pointer;\n",
              "      display: none;\n",
              "      fill: #1967D2;\n",
              "      height: 32px;\n",
              "      padding: 0 0 0 0;\n",
              "      width: 32px;\n",
              "    }\n",
              "\n",
              "    .colab-df-convert:hover {\n",
              "      background-color: #E2EBFA;\n",
              "      box-shadow: 0px 1px 2px rgba(60, 64, 67, 0.3), 0px 1px 3px 1px rgba(60, 64, 67, 0.15);\n",
              "      fill: #174EA6;\n",
              "    }\n",
              "\n",
              "    [theme=dark] .colab-df-convert {\n",
              "      background-color: #3B4455;\n",
              "      fill: #D2E3FC;\n",
              "    }\n",
              "\n",
              "    [theme=dark] .colab-df-convert:hover {\n",
              "      background-color: #434B5C;\n",
              "      box-shadow: 0px 1px 3px 1px rgba(0, 0, 0, 0.15);\n",
              "      filter: drop-shadow(0px 1px 2px rgba(0, 0, 0, 0.3));\n",
              "      fill: #FFFFFF;\n",
              "    }\n",
              "  </style>\n",
              "\n",
              "      <script>\n",
              "        const buttonEl =\n",
              "          document.querySelector('#df-35c26e74-06d3-4b3e-ac2b-3148648ae2e1 button.colab-df-convert');\n",
              "        buttonEl.style.display =\n",
              "          google.colab.kernel.accessAllowed ? 'block' : 'none';\n",
              "\n",
              "        async function convertToInteractive(key) {\n",
              "          const element = document.querySelector('#df-35c26e74-06d3-4b3e-ac2b-3148648ae2e1');\n",
              "          const dataTable =\n",
              "            await google.colab.kernel.invokeFunction('convertToInteractive',\n",
              "                                                     [key], {});\n",
              "          if (!dataTable) return;\n",
              "\n",
              "          const docLinkHtml = 'Like what you see? Visit the ' +\n",
              "            '<a target=\"_blank\" href=https://colab.research.google.com/notebooks/data_table.ipynb>data table notebook</a>'\n",
              "            + ' to learn more about interactive tables.';\n",
              "          element.innerHTML = '';\n",
              "          dataTable['output_type'] = 'display_data';\n",
              "          await google.colab.output.renderOutput(dataTable, element);\n",
              "          const docLink = document.createElement('div');\n",
              "          docLink.innerHTML = docLinkHtml;\n",
              "          element.appendChild(docLink);\n",
              "        }\n",
              "      </script>\n",
              "    </div>\n",
              "  </div>\n",
              "  "
            ]
          },
          "metadata": {},
          "execution_count": 5
        }
      ]
    },
    {
      "cell_type": "markdown",
      "source": [
        "The data is on weekly level, one observation is one week of data."
      ],
      "metadata": {
        "id": "mNA5JOCfWJlq"
      }
    },
    {
      "cell_type": "code",
      "source": [
        "# Plot the entire time series diet and show gridlines\n",
        "diet.plot(grid=True)\n",
        "plt.show()"
      ],
      "metadata": {
        "colab": {
          "base_uri": "https://localhost:8080/",
          "height": 279
        },
        "id": "0va8pqHgrjC_",
        "outputId": "98c5afad-67ee-4571-a957-105014a5247f"
      },
      "execution_count": null,
      "outputs": [
        {
          "output_type": "display_data",
          "data": {
            "text/plain": [
              "<Figure size 432x288 with 1 Axes>"
            ],
            "image/png": "[encoded data removed]"
          },
          "metadata": {
            "needs_background": "light"
          }
        }
      ]
    },
    {
      "cell_type": "markdown",
      "source": [
        "With the index as datetime it looks much nicer on the x-axis with full years."
      ],
      "metadata": {
        "id": "klMNoqVxwjKA"
      }
    },
    {
      "cell_type": "code",
      "source": [
        "# Slice the dataset to keep only 2018\n",
        "diet.index = pd.to_datetime(diet.index)\n",
        "\n",
        "# Slice the dataset to keep only 2018\n",
        "diet2018 = diet.loc['2018']\n",
        "\n",
        "# Plot 2018 data\n",
        "diet2018.plot(grid=True)\n",
        "plt.show()"
      ],
      "metadata": {
        "colab": {
          "base_uri": "https://localhost:8080/",
          "height": 291
        },
        "id": "XS8DOszqrjF4",
        "outputId": "0edf323c-ac71-445f-e85e-c903ea1412b8"
      },
      "execution_count": null,
      "outputs": [
        {
          "output_type": "display_data",
          "data": {
            "text/plain": [
              "<Figure size 432x288 with 1 Axes>"
            ],
            "image/png": "[encoded data removed]"
          },
          "metadata": {
            "needs_background": "light"
          }
        }
      ]
    },
    {
      "cell_type": "code",
      "source": [
        "# load bonds data\n",
        "bonds = pd.read_csv(io.StringIO(uploaded['BAA10Y.csv'].decode('utf-8')), decimal='.')\n",
        "bonds.set_index('DATE', inplace=True)\n",
        "bonds.index = pd.to_datetime(bonds.index)\n",
        "print(bonds.shape)\n",
        "bonds.head()"
      ],
      "metadata": {
        "colab": {
          "base_uri": "https://localhost:8080/",
          "height": 255
        },
        "id": "3HqFEpiFv8CE",
        "outputId": "efa9adc9-e0f4-40c6-eada-fb3647c09203"
      },
      "execution_count": null,
      "outputs": [
        {
          "output_type": "stream",
          "name": "stdout",
          "text": [
            "(1305, 1)\n"
          ]
        },
        {
          "output_type": "execute_result",
          "data": {
            "text/plain": [
              "           BAA10Y\n",
              "DATE             \n",
              "2017-01-20   2.21\n",
              "2017-01-23   2.21\n",
              "2017-01-24   2.22\n",
              "2017-01-25   2.21\n",
              "2017-01-26   2.20"
            ],
            "text/html": [
              "\n",
              "  <div id=\"df-0f089903-27d6-45ec-a6a2-2868cc0f6e8f\">\n",
              "    <div class=\"colab-df-container\">\n",
              "      <div>\n",
              "<style scoped>\n",
              "    .dataframe tbody tr th:only-of-type {\n",
              "        vertical-align: middle;\n",
              "    }\n",
              "\n",
              "    .dataframe tbody tr th {\n",
              "        vertical-align: top;\n",
              "    }\n",
              "\n",
              "    .dataframe thead th {\n",
              "        text-align: right;\n",
              "    }\n",
              "</style>\n",
              "<table border=\"1\" class=\"dataframe\">\n",
              "  <thead>\n",
              "    <tr style=\"text-align: right;\">\n",
              "      <th></th>\n",
              "      <th>BAA10Y</th>\n",
              "    </tr>\n",
              "    <tr>\n",
              "      <th>DATE</th>\n",
              "      <th></th>\n",
              "    </tr>\n",
              "  </thead>\n",
              "  <tbody>\n",
              "    <tr>\n",
              "      <th>2017-01-20</th>\n",
              "      <td>2.21</td>\n",
              "    </tr>\n",
              "    <tr>\n",
              "      <th>2017-01-23</th>\n",
              "      <td>2.21</td>\n",
              "    </tr>\n",
              "    <tr>\n",
              "      <th>2017-01-24</th>\n",
              "      <td>2.22</td>\n",
              "    </tr>\n",
              "    <tr>\n",
              "      <th>2017-01-25</th>\n",
              "      <td>2.21</td>\n",
              "    </tr>\n",
              "    <tr>\n",
              "      <th>2017-01-26</th>\n",
              "      <td>2.20</td>\n",
              "    </tr>\n",
              "  </tbody>\n",
              "</table>\n",
              "</div>\n",
              "      <button class=\"colab-df-convert\" onclick=\"convertToInteractive('df-0f089903-27d6-45ec-a6a2-2868cc0f6e8f')\"\n",
              "              title=\"Convert this dataframe to an interactive table.\"\n",
              "              style=\"display:none;\">\n",
              "        \n",
              "  <svg xmlns=\"http://www.w3.org/2000/svg\" height=\"24px\"viewBox=\"0 0 24 24\"\n",
              "       width=\"24px\">\n",
              "    <path d=\"M0 0h24v24H0V0z\" fill=\"none\"/>\n",
              "    <path d=\"M18.56 5.44l.94 2.06.94-2.06 2.06-.94-2.06-.94-.94-2.06-.94 2.06-2.06.94zm-11 1L8.5 8.5l.94-2.06 2.06-.94-2.06-.94L8.5 2.5l-.94 2.06-2.06.94zm10 10l.94 2.06.94-2.06 2.06-.94-2.06-.94-.94-2.06-.94 2.06-2.06.94z\"/><path d=\"M17.41 7.96l-1.37-1.37c-.4-.4-.92-.59-1.43-.59-.52 0-1.04.2-1.43.59L10.3 9.45l-7.72 7.72c-.78.78-.78 2.05 0 2.83L4 21.41c.39.39.9.59 1.41.59.51 0 1.02-.2 1.41-.59l7.78-7.78 2.81-2.81c.8-.78.8-2.07 0-2.86zM5.41 20L4 18.59l7.72-7.72 1.47 1.35L5.41 20z\"/>\n",
              "  </svg>\n",
              "      </button>\n",
              "      \n",
              "  <style>\n",
              "    .colab-df-container {\n",
              "      display:flex;\n",
              "      flex-wrap:wrap;\n",
              "      gap: 12px;\n",
              "    }\n",
              "\n",
              "    .colab-df-convert {\n",
              "      background-color: #E8F0FE;\n",
              "      border: none;\n",
              "      border-radius: 50%;\n",
              "      cursor: pointer;\n",
              "      display: none;\n",
              "      fill: #1967D2;\n",
              "      height: 32px;\n",
              "      padding: 0 0 0 0;\n",
              "      width: 32px;\n",
              "    }\n",
              "\n",
              "    .colab-df-convert:hover {\n",
              "      background-color: #E2EBFA;\n",
              "      box-shadow: 0px 1px 2px rgba(60, 64, 67, 0.3), 0px 1px 3px 1px rgba(60, 64, 67, 0.15);\n",
              "      fill: #174EA6;\n",
              "    }\n",
              "\n",
              "    [theme=dark] .colab-df-convert {\n",
              "      background-color: #3B4455;\n",
              "      fill: #D2E3FC;\n",
              "    }\n",
              "\n",
              "    [theme=dark] .colab-df-convert:hover {\n",
              "      background-color: #434B5C;\n",
              "      box-shadow: 0px 1px 3px 1px rgba(0, 0, 0, 0.15);\n",
              "      filter: drop-shadow(0px 1px 2px rgba(0, 0, 0, 0.3));\n",
              "      fill: #FFFFFF;\n",
              "    }\n",
              "  </style>\n",
              "\n",
              "      <script>\n",
              "        const buttonEl =\n",
              "          document.querySelector('#df-0f089903-27d6-45ec-a6a2-2868cc0f6e8f button.colab-df-convert');\n",
              "        buttonEl.style.display =\n",
              "          google.colab.kernel.accessAllowed ? 'block' : 'none';\n",
              "\n",
              "        async function convertToInteractive(key) {\n",
              "          const element = document.querySelector('#df-0f089903-27d6-45ec-a6a2-2868cc0f6e8f');\n",
              "          const dataTable =\n",
              "            await google.colab.kernel.invokeFunction('convertToInteractive',\n",
              "                                                     [key], {});\n",
              "          if (!dataTable) return;\n",
              "\n",
              "          const docLinkHtml = 'Like what you see? Visit the ' +\n",
              "            '<a target=\"_blank\" href=https://colab.research.google.com/notebooks/data_table.ipynb>data table notebook</a>'\n",
              "            + ' to learn more about interactive tables.';\n",
              "          element.innerHTML = '';\n",
              "          dataTable['output_type'] = 'display_data';\n",
              "          await google.colab.output.renderOutput(dataTable, element);\n",
              "          const docLink = document.createElement('div');\n",
              "          docLink.innerHTML = docLinkHtml;\n",
              "          element.appendChild(docLink);\n",
              "        }\n",
              "      </script>\n",
              "    </div>\n",
              "  </div>\n",
              "  "
            ]
          },
          "metadata": {},
          "execution_count": 8
        }
      ]
    },
    {
      "cell_type": "code",
      "source": [
        "# load stocks data\n",
        "stocks = pd.read_csv(io.StringIO(uploaded['SP500.csv'].decode('utf-8')))\n",
        "stocks.set_index('DATE', inplace=True)\n",
        "stocks.index = pd.to_datetime(bonds.index)\n",
        "print(stocks.shape)\n",
        "stocks.head()"
      ],
      "metadata": {
        "colab": {
          "base_uri": "https://localhost:8080/",
          "height": 255
        },
        "id": "OGl_vPz6v8E6",
        "outputId": "e9cf5c45-0e41-4c2b-fda3-afe4c6ed1492"
      },
      "execution_count": null,
      "outputs": [
        {
          "output_type": "stream",
          "name": "stdout",
          "text": [
            "(1305, 1)\n"
          ]
        },
        {
          "output_type": "execute_result",
          "data": {
            "text/plain": [
              "              SP500\n",
              "DATE               \n",
              "2017-01-20   2265.2\n",
              "2017-01-23  2280.07\n",
              "2017-01-24  2298.37\n",
              "2017-01-25  2296.68\n",
              "2017-01-26  2294.69"
            ],
            "text/html": [
              "\n",
              "  <div id=\"df-b1d4f603-33b1-4c09-9919-8dbaa64d02a2\">\n",
              "    <div class=\"colab-df-container\">\n",
              "      <div>\n",
              "<style scoped>\n",
              "    .dataframe tbody tr th:only-of-type {\n",
              "        vertical-align: middle;\n",
              "    }\n",
              "\n",
              "    .dataframe tbody tr th {\n",
              "        vertical-align: top;\n",
              "    }\n",
              "\n",
              "    .dataframe thead th {\n",
              "        text-align: right;\n",
              "    }\n",
              "</style>\n",
              "<table border=\"1\" class=\"dataframe\">\n",
              "  <thead>\n",
              "    <tr style=\"text-align: right;\">\n",
              "      <th></th>\n",
              "      <th>SP500</th>\n",
              "    </tr>\n",
              "    <tr>\n",
              "      <th>DATE</th>\n",
              "      <th></th>\n",
              "    </tr>\n",
              "  </thead>\n",
              "  <tbody>\n",
              "    <tr>\n",
              "      <th>2017-01-20</th>\n",
              "      <td>2265.2</td>\n",
              "    </tr>\n",
              "    <tr>\n",
              "      <th>2017-01-23</th>\n",
              "      <td>2280.07</td>\n",
              "    </tr>\n",
              "    <tr>\n",
              "      <th>2017-01-24</th>\n",
              "      <td>2298.37</td>\n",
              "    </tr>\n",
              "    <tr>\n",
              "      <th>2017-01-25</th>\n",
              "      <td>2296.68</td>\n",
              "    </tr>\n",
              "    <tr>\n",
              "      <th>2017-01-26</th>\n",
              "      <td>2294.69</td>\n",
              "    </tr>\n",
              "  </tbody>\n",
              "</table>\n",
              "</div>\n",
              "      <button class=\"colab-df-convert\" onclick=\"convertToInteractive('df-b1d4f603-33b1-4c09-9919-8dbaa64d02a2')\"\n",
              "              title=\"Convert this dataframe to an interactive table.\"\n",
              "              style=\"display:none;\">\n",
              "        \n",
              "  <svg xmlns=\"http://www.w3.org/2000/svg\" height=\"24px\"viewBox=\"0 0 24 24\"\n",
              "       width=\"24px\">\n",
              "    <path d=\"M0 0h24v24H0V0z\" fill=\"none\"/>\n",
              "    <path d=\"M18.56 5.44l.94 2.06.94-2.06 2.06-.94-2.06-.94-.94-2.06-.94 2.06-2.06.94zm-11 1L8.5 8.5l.94-2.06 2.06-.94-2.06-.94L8.5 2.5l-.94 2.06-2.06.94zm10 10l.94 2.06.94-2.06 2.06-.94-2.06-.94-.94-2.06-.94 2.06-2.06.94z\"/><path d=\"M17.41 7.96l-1.37-1.37c-.4-.4-.92-.59-1.43-.59-.52 0-1.04.2-1.43.59L10.3 9.45l-7.72 7.72c-.78.78-.78 2.05 0 2.83L4 21.41c.39.39.9.59 1.41.59.51 0 1.02-.2 1.41-.59l7.78-7.78 2.81-2.81c.8-.78.8-2.07 0-2.86zM5.41 20L4 18.59l7.72-7.72 1.47 1.35L5.41 20z\"/>\n",
              "  </svg>\n",
              "      </button>\n",
              "      \n",
              "  <style>\n",
              "    .colab-df-container {\n",
              "      display:flex;\n",
              "      flex-wrap:wrap;\n",
              "      gap: 12px;\n",
              "    }\n",
              "\n",
              "    .colab-df-convert {\n",
              "      background-color: #E8F0FE;\n",
              "      border: none;\n",
              "      border-radius: 50%;\n",
              "      cursor: pointer;\n",
              "      display: none;\n",
              "      fill: #1967D2;\n",
              "      height: 32px;\n",
              "      padding: 0 0 0 0;\n",
              "      width: 32px;\n",
              "    }\n",
              "\n",
              "    .colab-df-convert:hover {\n",
              "      background-color: #E2EBFA;\n",
              "      box-shadow: 0px 1px 2px rgba(60, 64, 67, 0.3), 0px 1px 3px 1px rgba(60, 64, 67, 0.15);\n",
              "      fill: #174EA6;\n",
              "    }\n",
              "\n",
              "    [theme=dark] .colab-df-convert {\n",
              "      background-color: #3B4455;\n",
              "      fill: #D2E3FC;\n",
              "    }\n",
              "\n",
              "    [theme=dark] .colab-df-convert:hover {\n",
              "      background-color: #434B5C;\n",
              "      box-shadow: 0px 1px 3px 1px rgba(0, 0, 0, 0.15);\n",
              "      filter: drop-shadow(0px 1px 2px rgba(0, 0, 0, 0.3));\n",
              "      fill: #FFFFFF;\n",
              "    }\n",
              "  </style>\n",
              "\n",
              "      <script>\n",
              "        const buttonEl =\n",
              "          document.querySelector('#df-b1d4f603-33b1-4c09-9919-8dbaa64d02a2 button.colab-df-convert');\n",
              "        buttonEl.style.display =\n",
              "          google.colab.kernel.accessAllowed ? 'block' : 'none';\n",
              "\n",
              "        async function convertToInteractive(key) {\n",
              "          const element = document.querySelector('#df-b1d4f603-33b1-4c09-9919-8dbaa64d02a2');\n",
              "          const dataTable =\n",
              "            await google.colab.kernel.invokeFunction('convertToInteractive',\n",
              "                                                     [key], {});\n",
              "          if (!dataTable) return;\n",
              "\n",
              "          const docLinkHtml = 'Like what you see? Visit the ' +\n",
              "            '<a target=\"_blank\" href=https://colab.research.google.com/notebooks/data_table.ipynb>data table notebook</a>'\n",
              "            + ' to learn more about interactive tables.';\n",
              "          element.innerHTML = '';\n",
              "          dataTable['output_type'] = 'display_data';\n",
              "          await google.colab.output.renderOutput(dataTable, element);\n",
              "          const docLink = document.createElement('div');\n",
              "          docLink.innerHTML = docLinkHtml;\n",
              "          element.appendChild(docLink);\n",
              "        }\n",
              "      </script>\n",
              "    </div>\n",
              "  </div>\n",
              "  "
            ]
          },
          "metadata": {},
          "execution_count": 9
        }
      ]
    },
    {
      "cell_type": "markdown",
      "source": [
        "The data is on day level, one observation is one day of data."
      ],
      "metadata": {
        "id": "MbDYT2CFX1rN"
      }
    },
    {
      "cell_type": "code",
      "source": [
        "# Convert the stock index and bond index into sets\n",
        "set_stock_dates = set(stocks.index)\n",
        "set_bond_dates = set(bonds.index)\n",
        "\n",
        "# Take the difference between the sets and print (stock set minus bonds set)\n",
        "print(set_stock_dates - set_bond_dates)\n",
        "\n",
        "# Merge stocks and bonds DataFrames using join()\n",
        "stocks_and_bonds = stocks.join(bonds, how=\"inner\")\n",
        "\n",
        "stocks_and_bonds.head()"
      ],
      "metadata": {
        "colab": {
          "base_uri": "https://localhost:8080/",
          "height": 255
        },
        "id": "CQ6-Af5T0CD3",
        "outputId": "8359e9a1-b8b1-45a9-aecd-e1ef4d6f56fb"
      },
      "execution_count": null,
      "outputs": [
        {
          "output_type": "stream",
          "name": "stdout",
          "text": [
            "set()\n"
          ]
        },
        {
          "output_type": "execute_result",
          "data": {
            "text/plain": [
              "              SP500 BAA10Y\n",
              "DATE                      \n",
              "2017-01-20   2265.2   2.21\n",
              "2017-01-23  2280.07   2.21\n",
              "2017-01-24  2298.37   2.22\n",
              "2017-01-25  2296.68   2.21\n",
              "2017-01-26  2294.69   2.20"
            ],
            "text/html": [
              "\n",
              "  <div id=\"df-90e1d254-1b6b-4bd1-aa01-7719c1ae9987\">\n",
              "    <div class=\"colab-df-container\">\n",
              "      <div>\n",
              "<style scoped>\n",
              "    .dataframe tbody tr th:only-of-type {\n",
              "        vertical-align: middle;\n",
              "    }\n",
              "\n",
              "    .dataframe tbody tr th {\n",
              "        vertical-align: top;\n",
              "    }\n",
              "\n",
              "    .dataframe thead th {\n",
              "        text-align: right;\n",
              "    }\n",
              "</style>\n",
              "<table border=\"1\" class=\"dataframe\">\n",
              "  <thead>\n",
              "    <tr style=\"text-align: right;\">\n",
              "      <th></th>\n",
              "      <th>SP500</th>\n",
              "      <th>BAA10Y</th>\n",
              "    </tr>\n",
              "    <tr>\n",
              "      <th>DATE</th>\n",
              "      <th></th>\n",
              "      <th></th>\n",
              "    </tr>\n",
              "  </thead>\n",
              "  <tbody>\n",
              "    <tr>\n",
              "      <th>2017-01-20</th>\n",
              "      <td>2265.2</td>\n",
              "      <td>2.21</td>\n",
              "    </tr>\n",
              "    <tr>\n",
              "      <th>2017-01-23</th>\n",
              "      <td>2280.07</td>\n",
              "      <td>2.21</td>\n",
              "    </tr>\n",
              "    <tr>\n",
              "      <th>2017-01-24</th>\n",
              "      <td>2298.37</td>\n",
              "      <td>2.22</td>\n",
              "    </tr>\n",
              "    <tr>\n",
              "      <th>2017-01-25</th>\n",
              "      <td>2296.68</td>\n",
              "      <td>2.21</td>\n",
              "    </tr>\n",
              "    <tr>\n",
              "      <th>2017-01-26</th>\n",
              "      <td>2294.69</td>\n",
              "      <td>2.20</td>\n",
              "    </tr>\n",
              "  </tbody>\n",
              "</table>\n",
              "</div>\n",
              "      <button class=\"colab-df-convert\" onclick=\"convertToInteractive('df-90e1d254-1b6b-4bd1-aa01-7719c1ae9987')\"\n",
              "              title=\"Convert this dataframe to an interactive table.\"\n",
              "              style=\"display:none;\">\n",
              "        \n",
              "  <svg xmlns=\"http://www.w3.org/2000/svg\" height=\"24px\"viewBox=\"0 0 24 24\"\n",
              "       width=\"24px\">\n",
              "    <path d=\"M0 0h24v24H0V0z\" fill=\"none\"/>\n",
              "    <path d=\"M18.56 5.44l.94 2.06.94-2.06 2.06-.94-2.06-.94-.94-2.06-.94 2.06-2.06.94zm-11 1L8.5 8.5l.94-2.06 2.06-.94-2.06-.94L8.5 2.5l-.94 2.06-2.06.94zm10 10l.94 2.06.94-2.06 2.06-.94-2.06-.94-.94-2.06-.94 2.06-2.06.94z\"/><path d=\"M17.41 7.96l-1.37-1.37c-.4-.4-.92-.59-1.43-.59-.52 0-1.04.2-1.43.59L10.3 9.45l-7.72 7.72c-.78.78-.78 2.05 0 2.83L4 21.41c.39.39.9.59 1.41.59.51 0 1.02-.2 1.41-.59l7.78-7.78 2.81-2.81c.8-.78.8-2.07 0-2.86zM5.41 20L4 18.59l7.72-7.72 1.47 1.35L5.41 20z\"/>\n",
              "  </svg>\n",
              "      </button>\n",
              "      \n",
              "  <style>\n",
              "    .colab-df-container {\n",
              "      display:flex;\n",
              "      flex-wrap:wrap;\n",
              "      gap: 12px;\n",
              "    }\n",
              "\n",
              "    .colab-df-convert {\n",
              "      background-color: #E8F0FE;\n",
              "      border: none;\n",
              "      border-radius: 50%;\n",
              "      cursor: pointer;\n",
              "      display: none;\n",
              "      fill: #1967D2;\n",
              "      height: 32px;\n",
              "      padding: 0 0 0 0;\n",
              "      width: 32px;\n",
              "    }\n",
              "\n",
              "    .colab-df-convert:hover {\n",
              "      background-color: #E2EBFA;\n",
              "      box-shadow: 0px 1px 2px rgba(60, 64, 67, 0.3), 0px 1px 3px 1px rgba(60, 64, 67, 0.15);\n",
              "      fill: #174EA6;\n",
              "    }\n",
              "\n",
              "    [theme=dark] .colab-df-convert {\n",
              "      background-color: #3B4455;\n",
              "      fill: #D2E3FC;\n",
              "    }\n",
              "\n",
              "    [theme=dark] .colab-df-convert:hover {\n",
              "      background-color: #434B5C;\n",
              "      box-shadow: 0px 1px 3px 1px rgba(0, 0, 0, 0.15);\n",
              "      filter: drop-shadow(0px 1px 2px rgba(0, 0, 0, 0.3));\n",
              "      fill: #FFFFFF;\n",
              "    }\n",
              "  </style>\n",
              "\n",
              "      <script>\n",
              "        const buttonEl =\n",
              "          document.querySelector('#df-90e1d254-1b6b-4bd1-aa01-7719c1ae9987 button.colab-df-convert');\n",
              "        buttonEl.style.display =\n",
              "          google.colab.kernel.accessAllowed ? 'block' : 'none';\n",
              "\n",
              "        async function convertToInteractive(key) {\n",
              "          const element = document.querySelector('#df-90e1d254-1b6b-4bd1-aa01-7719c1ae9987');\n",
              "          const dataTable =\n",
              "            await google.colab.kernel.invokeFunction('convertToInteractive',\n",
              "                                                     [key], {});\n",
              "          if (!dataTable) return;\n",
              "\n",
              "          const docLinkHtml = 'Like what you see? Visit the ' +\n",
              "            '<a target=\"_blank\" href=https://colab.research.google.com/notebooks/data_table.ipynb>data table notebook</a>'\n",
              "            + ' to learn more about interactive tables.';\n",
              "          element.innerHTML = '';\n",
              "          dataTable['output_type'] = 'display_data';\n",
              "          await google.colab.output.renderOutput(dataTable, element);\n",
              "          const docLink = document.createElement('div');\n",
              "          docLink.innerHTML = docLinkHtml;\n",
              "          element.appendChild(docLink);\n",
              "        }\n",
              "      </script>\n",
              "    </div>\n",
              "  </div>\n",
              "  "
            ]
          },
          "metadata": {},
          "execution_count": 10
        }
      ]
    },
    {
      "cell_type": "code",
      "source": [
        "#stocks_and_bonds = stocks_and_bonds.apply(pd.to_numeric)\n",
        "\n",
        "# Convert object (string) to float\n",
        "stocks_and_bonds['SP500'] = pd.to_numeric(stocks_and_bonds['SP500'], errors='coerce')\n",
        "stocks_and_bonds['BAA10Y'] = pd.to_numeric(stocks_and_bonds['BAA10Y'], errors='coerce')\n",
        "\n",
        "print(stocks_and_bonds.info())\n",
        "stocks_and_bonds.head()"
      ],
      "metadata": {
        "colab": {
          "base_uri": "https://localhost:8080/",
          "height": 411
        },
        "id": "SHfm5ChC0CGw",
        "outputId": "4d24860c-9beb-4274-cf7f-1ee20532e3ec"
      },
      "execution_count": null,
      "outputs": [
        {
          "output_type": "stream",
          "name": "stdout",
          "text": [
            "<class 'pandas.core.frame.DataFrame'>\n",
            "DatetimeIndex: 1305 entries, 2017-01-20 to 2022-01-20\n",
            "Data columns (total 2 columns):\n",
            " #   Column  Non-Null Count  Dtype  \n",
            "---  ------  --------------  -----  \n",
            " 0   SP500   1260 non-null   float64\n",
            " 1   BAA10Y  1249 non-null   float64\n",
            "dtypes: float64(2)\n",
            "memory usage: 62.9 KB\n",
            "None\n"
          ]
        },
        {
          "output_type": "execute_result",
          "data": {
            "text/plain": [
              "              SP500  BAA10Y\n",
              "DATE                       \n",
              "2017-01-20  2265.20    2.21\n",
              "2017-01-23  2280.07    2.21\n",
              "2017-01-24  2298.37    2.22\n",
              "2017-01-25  2296.68    2.21\n",
              "2017-01-26  2294.69    2.20"
            ],
            "text/html": [
              "\n",
              "  <div id=\"df-6057ad9c-7123-47e3-8808-0afeb415b648\">\n",
              "    <div class=\"colab-df-container\">\n",
              "      <div>\n",
              "<style scoped>\n",
              "    .dataframe tbody tr th:only-of-type {\n",
              "        vertical-align: middle;\n",
              "    }\n",
              "\n",
              "    .dataframe tbody tr th {\n",
              "        vertical-align: top;\n",
              "    }\n",
              "\n",
              "    .dataframe thead th {\n",
              "        text-align: right;\n",
              "    }\n",
              "</style>\n",
              "<table border=\"1\" class=\"dataframe\">\n",
              "  <thead>\n",
              "    <tr style=\"text-align: right;\">\n",
              "      <th></th>\n",
              "      <th>SP500</th>\n",
              "      <th>BAA10Y</th>\n",
              "    </tr>\n",
              "    <tr>\n",
              "      <th>DATE</th>\n",
              "      <th></th>\n",
              "      <th></th>\n",
              "    </tr>\n",
              "  </thead>\n",
              "  <tbody>\n",
              "    <tr>\n",
              "      <th>2017-01-20</th>\n",
              "      <td>2265.20</td>\n",
              "      <td>2.21</td>\n",
              "    </tr>\n",
              "    <tr>\n",
              "      <th>2017-01-23</th>\n",
              "      <td>2280.07</td>\n",
              "      <td>2.21</td>\n",
              "    </tr>\n",
              "    <tr>\n",
              "      <th>2017-01-24</th>\n",
              "      <td>2298.37</td>\n",
              "      <td>2.22</td>\n",
              "    </tr>\n",
              "    <tr>\n",
              "      <th>2017-01-25</th>\n",
              "      <td>2296.68</td>\n",
              "      <td>2.21</td>\n",
              "    </tr>\n",
              "    <tr>\n",
              "      <th>2017-01-26</th>\n",
              "      <td>2294.69</td>\n",
              "      <td>2.20</td>\n",
              "    </tr>\n",
              "  </tbody>\n",
              "</table>\n",
              "</div>\n",
              "      <button class=\"colab-df-convert\" onclick=\"convertToInteractive('df-6057ad9c-7123-47e3-8808-0afeb415b648')\"\n",
              "              title=\"Convert this dataframe to an interactive table.\"\n",
              "              style=\"display:none;\">\n",
              "        \n",
              "  <svg xmlns=\"http://www.w3.org/2000/svg\" height=\"24px\"viewBox=\"0 0 24 24\"\n",
              "       width=\"24px\">\n",
              "    <path d=\"M0 0h24v24H0V0z\" fill=\"none\"/>\n",
              "    <path d=\"M18.56 5.44l.94 2.06.94-2.06 2.06-.94-2.06-.94-.94-2.06-.94 2.06-2.06.94zm-11 1L8.5 8.5l.94-2.06 2.06-.94-2.06-.94L8.5 2.5l-.94 2.06-2.06.94zm10 10l.94 2.06.94-2.06 2.06-.94-2.06-.94-.94-2.06-.94 2.06-2.06.94z\"/><path d=\"M17.41 7.96l-1.37-1.37c-.4-.4-.92-.59-1.43-.59-.52 0-1.04.2-1.43.59L10.3 9.45l-7.72 7.72c-.78.78-.78 2.05 0 2.83L4 21.41c.39.39.9.59 1.41.59.51 0 1.02-.2 1.41-.59l7.78-7.78 2.81-2.81c.8-.78.8-2.07 0-2.86zM5.41 20L4 18.59l7.72-7.72 1.47 1.35L5.41 20z\"/>\n",
              "  </svg>\n",
              "      </button>\n",
              "      \n",
              "  <style>\n",
              "    .colab-df-container {\n",
              "      display:flex;\n",
              "      flex-wrap:wrap;\n",
              "      gap: 12px;\n",
              "    }\n",
              "\n",
              "    .colab-df-convert {\n",
              "      background-color: #E8F0FE;\n",
              "      border: none;\n",
              "      border-radius: 50%;\n",
              "      cursor: pointer;\n",
              "      display: none;\n",
              "      fill: #1967D2;\n",
              "      height: 32px;\n",
              "      padding: 0 0 0 0;\n",
              "      width: 32px;\n",
              "    }\n",
              "\n",
              "    .colab-df-convert:hover {\n",
              "      background-color: #E2EBFA;\n",
              "      box-shadow: 0px 1px 2px rgba(60, 64, 67, 0.3), 0px 1px 3px 1px rgba(60, 64, 67, 0.15);\n",
              "      fill: #174EA6;\n",
              "    }\n",
              "\n",
              "    [theme=dark] .colab-df-convert {\n",
              "      background-color: #3B4455;\n",
              "      fill: #D2E3FC;\n",
              "    }\n",
              "\n",
              "    [theme=dark] .colab-df-convert:hover {\n",
              "      background-color: #434B5C;\n",
              "      box-shadow: 0px 1px 3px 1px rgba(0, 0, 0, 0.15);\n",
              "      filter: drop-shadow(0px 1px 2px rgba(0, 0, 0, 0.3));\n",
              "      fill: #FFFFFF;\n",
              "    }\n",
              "  </style>\n",
              "\n",
              "      <script>\n",
              "        const buttonEl =\n",
              "          document.querySelector('#df-6057ad9c-7123-47e3-8808-0afeb415b648 button.colab-df-convert');\n",
              "        buttonEl.style.display =\n",
              "          google.colab.kernel.accessAllowed ? 'block' : 'none';\n",
              "\n",
              "        async function convertToInteractive(key) {\n",
              "          const element = document.querySelector('#df-6057ad9c-7123-47e3-8808-0afeb415b648');\n",
              "          const dataTable =\n",
              "            await google.colab.kernel.invokeFunction('convertToInteractive',\n",
              "                                                     [key], {});\n",
              "          if (!dataTable) return;\n",
              "\n",
              "          const docLinkHtml = 'Like what you see? Visit the ' +\n",
              "            '<a target=\"_blank\" href=https://colab.research.google.com/notebooks/data_table.ipynb>data table notebook</a>'\n",
              "            + ' to learn more about interactive tables.';\n",
              "          element.innerHTML = '';\n",
              "          dataTable['output_type'] = 'display_data';\n",
              "          await google.colab.output.renderOutput(dataTable, element);\n",
              "          const docLink = document.createElement('div');\n",
              "          docLink.innerHTML = docLinkHtml;\n",
              "          element.appendChild(docLink);\n",
              "        }\n",
              "      </script>\n",
              "    </div>\n",
              "  </div>\n",
              "  "
            ]
          },
          "metadata": {},
          "execution_count": 11
        }
      ]
    },
    {
      "cell_type": "markdown",
      "source": [
        "**Correlation of Two Time Series**  \n",
        "Often, stock prices vary together.  \n",
        "Common mistake: Correlation of Two trending series.  \n",
        "You can get high correlation of two time series even when they are totally unrelated. Therefore, if you look at the correlation of two stocks *we should look at the correlations of their returns and not their levels*.  \n",
        "* Correlation of levels can be high  \n",
        "* Correlation of percent changes can be approximately 0  \n",
        "  \n",
        "Correlation of returns.  \n",
        "* First step, compute the percent change of both series using the pandas `pct_change()` method and then `corr()` method.  \n",
        "`df['series_1_ret'] = df['series_1'].pct_change()`  \n",
        "`df['series_2_ret'] = df['series_2'].pct_change()`  \n",
        "* then `corr()` method.  \n",
        "`correlation = df['series_1_ret`].corr(df.['series_2_ret'])  \n",
        "* Visualize the correlation.  \n",
        "`plt.scatter(df['series_1_ret'], df['series_2_ret'])`  \n",
        "\n",
        "  \n"
      ],
      "metadata": {
        "id": "79xNhgYV1SRV"
      }
    },
    {
      "cell_type": "code",
      "source": [
        "# compute correlation of values\n",
        "value_corr = stocks_and_bonds['SP500'].corr(stocks_and_bonds['BAA10Y'])\n",
        "print(f\"Correlation of values: {value_corr}\")\n",
        "\n",
        "# scatter plot values first\n",
        "plt.scatter(stocks_and_bonds['SP500'], stocks_and_bonds['BAA10Y'])\n",
        "plt.title(\"BAA10Y values vs SP500 values\")\n",
        "plt.xlabel(\"SP500\")\n",
        "plt.ylabel(\"BYY10Y\")\n",
        "plt.show()"
      ],
      "metadata": {
        "colab": {
          "base_uri": "https://localhost:8080/",
          "height": 312
        },
        "id": "1V3KcAbHKVM8",
        "outputId": "b3d3ba57-8bc3-474a-ab8b-836cf57c091e"
      },
      "execution_count": null,
      "outputs": [
        {
          "output_type": "stream",
          "name": "stdout",
          "text": [
            "Correlation of values: -0.21983942840413453\n"
          ]
        },
        {
          "output_type": "display_data",
          "data": {
            "text/plain": [
              "<Figure size 432x288 with 1 Axes>"
            ],
            "image/png": "[encoded data removed]"
          },
          "metadata": {
            "needs_background": "light"
          }
        }
      ]
    },
    {
      "cell_type": "markdown",
      "source": [
        "Seems to be a weak negative correlation of values."
      ],
      "metadata": {
        "id": "4y4J5WSkLUNU"
      }
    },
    {
      "cell_type": "code",
      "source": [
        "# also check plot over time\n",
        "stocks_and_bonds['SP500'].plot(grid=True)\n",
        "stocks_and_bonds['BAA10Y'].plot(grid=True)\n",
        "plt.legend(['SP500','BAA10Y'])\n",
        "plt.show()"
      ],
      "metadata": {
        "colab": {
          "base_uri": "https://localhost:8080/",
          "height": 282
        },
        "id": "Ztkw0IGONXOw",
        "outputId": "20833b96-67ed-4099-c69e-ba80ac4fe0bc"
      },
      "execution_count": null,
      "outputs": [
        {
          "output_type": "display_data",
          "data": {
            "text/plain": [
              "<Figure size 432x288 with 1 Axes>"
            ],
            "image/png": "[encoded data removed]"
          },
          "metadata": {
            "needs_background": "light"
          }
        }
      ]
    },
    {
      "cell_type": "markdown",
      "source": [
        "To be able to create meaningfull line plots for both series we need to process them using a scaler. Will go for min-max scalare."
      ],
      "metadata": {
        "id": "QcgmOpHOPJBp"
      }
    },
    {
      "cell_type": "code",
      "source": [
        "from sklearn import preprocessing\n",
        "# use min max scalar\n",
        "min_max_scalar = preprocessing.MinMaxScaler()\n",
        "\n",
        "stocks_and_bonds['SP500_scaled'] = min_max_scalar.fit_transform(stocks_and_bonds[['SP500']]) \n",
        "stocks_and_bonds['BAA10Y_scaled'] = min_max_scalar.fit_transform(stocks_and_bonds[['BAA10Y']])\n",
        "stocks_and_bonds.head()"
      ],
      "metadata": {
        "colab": {
          "base_uri": "https://localhost:8080/",
          "height": 237
        },
        "id": "rbxEGO6APTtf",
        "outputId": "d208d70a-1628-47c9-f4d6-f05d2953b571"
      },
      "execution_count": null,
      "outputs": [
        {
          "output_type": "execute_result",
          "data": {
            "text/plain": [
              "              SP500  BAA10Y  SP500_scaled  BAA10Y_scaled\n",
              "DATE                                                    \n",
              "2017-01-20  2265.20    2.21      0.010863       0.236364\n",
              "2017-01-23  2280.07    2.21      0.016673       0.236364\n",
              "2017-01-24  2298.37    2.22      0.023824       0.240000\n",
              "2017-01-25  2296.68    2.21      0.023164       0.236364\n",
              "2017-01-26  2294.69    2.20      0.022386       0.232727"
            ],
            "text/html": [
              "\n",
              "  <div id=\"df-4f31ef9b-2f7f-4f9d-9cc3-8cdae59504bd\">\n",
              "    <div class=\"colab-df-container\">\n",
              "      <div>\n",
              "<style scoped>\n",
              "    .dataframe tbody tr th:only-of-type {\n",
              "        vertical-align: middle;\n",
              "    }\n",
              "\n",
              "    .dataframe tbody tr th {\n",
              "        vertical-align: top;\n",
              "    }\n",
              "\n",
              "    .dataframe thead th {\n",
              "        text-align: right;\n",
              "    }\n",
              "</style>\n",
              "<table border=\"1\" class=\"dataframe\">\n",
              "  <thead>\n",
              "    <tr style=\"text-align: right;\">\n",
              "      <th></th>\n",
              "      <th>SP500</th>\n",
              "      <th>BAA10Y</th>\n",
              "      <th>SP500_scaled</th>\n",
              "      <th>BAA10Y_scaled</th>\n",
              "    </tr>\n",
              "    <tr>\n",
              "      <th>DATE</th>\n",
              "      <th></th>\n",
              "      <th></th>\n",
              "      <th></th>\n",
              "      <th></th>\n",
              "    </tr>\n",
              "  </thead>\n",
              "  <tbody>\n",
              "    <tr>\n",
              "      <th>2017-01-20</th>\n",
              "      <td>2265.20</td>\n",
              "      <td>2.21</td>\n",
              "      <td>0.010863</td>\n",
              "      <td>0.236364</td>\n",
              "    </tr>\n",
              "    <tr>\n",
              "      <th>2017-01-23</th>\n",
              "      <td>2280.07</td>\n",
              "      <td>2.21</td>\n",
              "      <td>0.016673</td>\n",
              "      <td>0.236364</td>\n",
              "    </tr>\n",
              "    <tr>\n",
              "      <th>2017-01-24</th>\n",
              "      <td>2298.37</td>\n",
              "      <td>2.22</td>\n",
              "      <td>0.023824</td>\n",
              "      <td>0.240000</td>\n",
              "    </tr>\n",
              "    <tr>\n",
              "      <th>2017-01-25</th>\n",
              "      <td>2296.68</td>\n",
              "      <td>2.21</td>\n",
              "      <td>0.023164</td>\n",
              "      <td>0.236364</td>\n",
              "    </tr>\n",
              "    <tr>\n",
              "      <th>2017-01-26</th>\n",
              "      <td>2294.69</td>\n",
              "      <td>2.20</td>\n",
              "      <td>0.022386</td>\n",
              "      <td>0.232727</td>\n",
              "    </tr>\n",
              "  </tbody>\n",
              "</table>\n",
              "</div>\n",
              "      <button class=\"colab-df-convert\" onclick=\"convertToInteractive('df-4f31ef9b-2f7f-4f9d-9cc3-8cdae59504bd')\"\n",
              "              title=\"Convert this dataframe to an interactive table.\"\n",
              "              style=\"display:none;\">\n",
              "        \n",
              "  <svg xmlns=\"http://www.w3.org/2000/svg\" height=\"24px\"viewBox=\"0 0 24 24\"\n",
              "       width=\"24px\">\n",
              "    <path d=\"M0 0h24v24H0V0z\" fill=\"none\"/>\n",
              "    <path d=\"M18.56 5.44l.94 2.06.94-2.06 2.06-.94-2.06-.94-.94-2.06-.94 2.06-2.06.94zm-11 1L8.5 8.5l.94-2.06 2.06-.94-2.06-.94L8.5 2.5l-.94 2.06-2.06.94zm10 10l.94 2.06.94-2.06 2.06-.94-2.06-.94-.94-2.06-.94 2.06-2.06.94z\"/><path d=\"M17.41 7.96l-1.37-1.37c-.4-.4-.92-.59-1.43-.59-.52 0-1.04.2-1.43.59L10.3 9.45l-7.72 7.72c-.78.78-.78 2.05 0 2.83L4 21.41c.39.39.9.59 1.41.59.51 0 1.02-.2 1.41-.59l7.78-7.78 2.81-2.81c.8-.78.8-2.07 0-2.86zM5.41 20L4 18.59l7.72-7.72 1.47 1.35L5.41 20z\"/>\n",
              "  </svg>\n",
              "      </button>\n",
              "      \n",
              "  <style>\n",
              "    .colab-df-container {\n",
              "      display:flex;\n",
              "      flex-wrap:wrap;\n",
              "      gap: 12px;\n",
              "    }\n",
              "\n",
              "    .colab-df-convert {\n",
              "      background-color: #E8F0FE;\n",
              "      border: none;\n",
              "      border-radius: 50%;\n",
              "      cursor: pointer;\n",
              "      display: none;\n",
              "      fill: #1967D2;\n",
              "      height: 32px;\n",
              "      padding: 0 0 0 0;\n",
              "      width: 32px;\n",
              "    }\n",
              "\n",
              "    .colab-df-convert:hover {\n",
              "      background-color: #E2EBFA;\n",
              "      box-shadow: 0px 1px 2px rgba(60, 64, 67, 0.3), 0px 1px 3px 1px rgba(60, 64, 67, 0.15);\n",
              "      fill: #174EA6;\n",
              "    }\n",
              "\n",
              "    [theme=dark] .colab-df-convert {\n",
              "      background-color: #3B4455;\n",
              "      fill: #D2E3FC;\n",
              "    }\n",
              "\n",
              "    [theme=dark] .colab-df-convert:hover {\n",
              "      background-color: #434B5C;\n",
              "      box-shadow: 0px 1px 3px 1px rgba(0, 0, 0, 0.15);\n",
              "      filter: drop-shadow(0px 1px 2px rgba(0, 0, 0, 0.3));\n",
              "      fill: #FFFFFF;\n",
              "    }\n",
              "  </style>\n",
              "\n",
              "      <script>\n",
              "        const buttonEl =\n",
              "          document.querySelector('#df-4f31ef9b-2f7f-4f9d-9cc3-8cdae59504bd button.colab-df-convert');\n",
              "        buttonEl.style.display =\n",
              "          google.colab.kernel.accessAllowed ? 'block' : 'none';\n",
              "\n",
              "        async function convertToInteractive(key) {\n",
              "          const element = document.querySelector('#df-4f31ef9b-2f7f-4f9d-9cc3-8cdae59504bd');\n",
              "          const dataTable =\n",
              "            await google.colab.kernel.invokeFunction('convertToInteractive',\n",
              "                                                     [key], {});\n",
              "          if (!dataTable) return;\n",
              "\n",
              "          const docLinkHtml = 'Like what you see? Visit the ' +\n",
              "            '<a target=\"_blank\" href=https://colab.research.google.com/notebooks/data_table.ipynb>data table notebook</a>'\n",
              "            + ' to learn more about interactive tables.';\n",
              "          element.innerHTML = '';\n",
              "          dataTable['output_type'] = 'display_data';\n",
              "          await google.colab.output.renderOutput(dataTable, element);\n",
              "          const docLink = document.createElement('div');\n",
              "          docLink.innerHTML = docLinkHtml;\n",
              "          element.appendChild(docLink);\n",
              "        }\n",
              "      </script>\n",
              "    </div>\n",
              "  </div>\n",
              "  "
            ]
          },
          "metadata": {},
          "execution_count": 14
        }
      ]
    },
    {
      "cell_type": "code",
      "source": [
        "# plot scaled values of both series over time\n",
        "stocks_and_bonds['SP500_scaled'].plot(grid=True)\n",
        "stocks_and_bonds['BAA10Y_scaled'].plot(grid=True)\n",
        "plt.legend(['SP500_scaled','BAA10Y_scaled'])\n",
        "plt.show()"
      ],
      "metadata": {
        "colab": {
          "base_uri": "https://localhost:8080/",
          "height": 279
        },
        "id": "G6vC-TZZRciG",
        "outputId": "36971133-b8e0-47c7-b354-f6cd45f185ce"
      },
      "execution_count": null,
      "outputs": [
        {
          "output_type": "display_data",
          "data": {
            "text/plain": [
              "<Figure size 432x288 with 1 Axes>"
            ],
            "image/png": "[encoded data removed]"
          },
          "metadata": {
            "needs_background": "light"
          }
        }
      ]
    },
    {
      "cell_type": "code",
      "source": [
        "# Compute percent change using pct_change()\n",
        "returns = stocks_and_bonds.pct_change()\n",
        "returns.head()"
      ],
      "metadata": {
        "colab": {
          "base_uri": "https://localhost:8080/",
          "height": 237
        },
        "id": "K72EGh4U1ZPZ",
        "outputId": "0deab097-dc54-4254-a452-c0dee56a7e3b"
      },
      "execution_count": null,
      "outputs": [
        {
          "output_type": "execute_result",
          "data": {
            "text/plain": [
              "               SP500    BAA10Y  SP500_scaled  BAA10Y_scaled\n",
              "DATE                                                       \n",
              "2017-01-20       NaN       NaN           NaN            NaN\n",
              "2017-01-23  0.006565  0.000000      0.534892       0.000000\n",
              "2017-01-24  0.008026  0.004525      0.428873       0.015385\n",
              "2017-01-25 -0.000735 -0.004505     -0.027719      -0.015152\n",
              "2017-01-26 -0.000866 -0.004525     -0.033570      -0.015385"
            ],
            "text/html": [
              "\n",
              "  <div id=\"df-3b6b0222-00a9-453d-9fd2-a268ca86171f\">\n",
              "    <div class=\"colab-df-container\">\n",
              "      <div>\n",
              "<style scoped>\n",
              "    .dataframe tbody tr th:only-of-type {\n",
              "        vertical-align: middle;\n",
              "    }\n",
              "\n",
              "    .dataframe tbody tr th {\n",
              "        vertical-align: top;\n",
              "    }\n",
              "\n",
              "    .dataframe thead th {\n",
              "        text-align: right;\n",
              "    }\n",
              "</style>\n",
              "<table border=\"1\" class=\"dataframe\">\n",
              "  <thead>\n",
              "    <tr style=\"text-align: right;\">\n",
              "      <th></th>\n",
              "      <th>SP500</th>\n",
              "      <th>BAA10Y</th>\n",
              "      <th>SP500_scaled</th>\n",
              "      <th>BAA10Y_scaled</th>\n",
              "    </tr>\n",
              "    <tr>\n",
              "      <th>DATE</th>\n",
              "      <th></th>\n",
              "      <th></th>\n",
              "      <th></th>\n",
              "      <th></th>\n",
              "    </tr>\n",
              "  </thead>\n",
              "  <tbody>\n",
              "    <tr>\n",
              "      <th>2017-01-20</th>\n",
              "      <td>NaN</td>\n",
              "      <td>NaN</td>\n",
              "      <td>NaN</td>\n",
              "      <td>NaN</td>\n",
              "    </tr>\n",
              "    <tr>\n",
              "      <th>2017-01-23</th>\n",
              "      <td>0.006565</td>\n",
              "      <td>0.000000</td>\n",
              "      <td>0.534892</td>\n",
              "      <td>0.000000</td>\n",
              "    </tr>\n",
              "    <tr>\n",
              "      <th>2017-01-24</th>\n",
              "      <td>0.008026</td>\n",
              "      <td>0.004525</td>\n",
              "      <td>0.428873</td>\n",
              "      <td>0.015385</td>\n",
              "    </tr>\n",
              "    <tr>\n",
              "      <th>2017-01-25</th>\n",
              "      <td>-0.000735</td>\n",
              "      <td>-0.004505</td>\n",
              "      <td>-0.027719</td>\n",
              "      <td>-0.015152</td>\n",
              "    </tr>\n",
              "    <tr>\n",
              "      <th>2017-01-26</th>\n",
              "      <td>-0.000866</td>\n",
              "      <td>-0.004525</td>\n",
              "      <td>-0.033570</td>\n",
              "      <td>-0.015385</td>\n",
              "    </tr>\n",
              "  </tbody>\n",
              "</table>\n",
              "</div>\n",
              "      <button class=\"colab-df-convert\" onclick=\"convertToInteractive('df-3b6b0222-00a9-453d-9fd2-a268ca86171f')\"\n",
              "              title=\"Convert this dataframe to an interactive table.\"\n",
              "              style=\"display:none;\">\n",
              "        \n",
              "  <svg xmlns=\"http://www.w3.org/2000/svg\" height=\"24px\"viewBox=\"0 0 24 24\"\n",
              "       width=\"24px\">\n",
              "    <path d=\"M0 0h24v24H0V0z\" fill=\"none\"/>\n",
              "    <path d=\"M18.56 5.44l.94 2.06.94-2.06 2.06-.94-2.06-.94-.94-2.06-.94 2.06-2.06.94zm-11 1L8.5 8.5l.94-2.06 2.06-.94-2.06-.94L8.5 2.5l-.94 2.06-2.06.94zm10 10l.94 2.06.94-2.06 2.06-.94-2.06-.94-.94-2.06-.94 2.06-2.06.94z\"/><path d=\"M17.41 7.96l-1.37-1.37c-.4-.4-.92-.59-1.43-.59-.52 0-1.04.2-1.43.59L10.3 9.45l-7.72 7.72c-.78.78-.78 2.05 0 2.83L4 21.41c.39.39.9.59 1.41.59.51 0 1.02-.2 1.41-.59l7.78-7.78 2.81-2.81c.8-.78.8-2.07 0-2.86zM5.41 20L4 18.59l7.72-7.72 1.47 1.35L5.41 20z\"/>\n",
              "  </svg>\n",
              "      </button>\n",
              "      \n",
              "  <style>\n",
              "    .colab-df-container {\n",
              "      display:flex;\n",
              "      flex-wrap:wrap;\n",
              "      gap: 12px;\n",
              "    }\n",
              "\n",
              "    .colab-df-convert {\n",
              "      background-color: #E8F0FE;\n",
              "      border: none;\n",
              "      border-radius: 50%;\n",
              "      cursor: pointer;\n",
              "      display: none;\n",
              "      fill: #1967D2;\n",
              "      height: 32px;\n",
              "      padding: 0 0 0 0;\n",
              "      width: 32px;\n",
              "    }\n",
              "\n",
              "    .colab-df-convert:hover {\n",
              "      background-color: #E2EBFA;\n",
              "      box-shadow: 0px 1px 2px rgba(60, 64, 67, 0.3), 0px 1px 3px 1px rgba(60, 64, 67, 0.15);\n",
              "      fill: #174EA6;\n",
              "    }\n",
              "\n",
              "    [theme=dark] .colab-df-convert {\n",
              "      background-color: #3B4455;\n",
              "      fill: #D2E3FC;\n",
              "    }\n",
              "\n",
              "    [theme=dark] .colab-df-convert:hover {\n",
              "      background-color: #434B5C;\n",
              "      box-shadow: 0px 1px 3px 1px rgba(0, 0, 0, 0.15);\n",
              "      filter: drop-shadow(0px 1px 2px rgba(0, 0, 0, 0.3));\n",
              "      fill: #FFFFFF;\n",
              "    }\n",
              "  </style>\n",
              "\n",
              "      <script>\n",
              "        const buttonEl =\n",
              "          document.querySelector('#df-3b6b0222-00a9-453d-9fd2-a268ca86171f button.colab-df-convert');\n",
              "        buttonEl.style.display =\n",
              "          google.colab.kernel.accessAllowed ? 'block' : 'none';\n",
              "\n",
              "        async function convertToInteractive(key) {\n",
              "          const element = document.querySelector('#df-3b6b0222-00a9-453d-9fd2-a268ca86171f');\n",
              "          const dataTable =\n",
              "            await google.colab.kernel.invokeFunction('convertToInteractive',\n",
              "                                                     [key], {});\n",
              "          if (!dataTable) return;\n",
              "\n",
              "          const docLinkHtml = 'Like what you see? Visit the ' +\n",
              "            '<a target=\"_blank\" href=https://colab.research.google.com/notebooks/data_table.ipynb>data table notebook</a>'\n",
              "            + ' to learn more about interactive tables.';\n",
              "          element.innerHTML = '';\n",
              "          dataTable['output_type'] = 'display_data';\n",
              "          await google.colab.output.renderOutput(dataTable, element);\n",
              "          const docLink = document.createElement('div');\n",
              "          docLink.innerHTML = docLinkHtml;\n",
              "          element.appendChild(docLink);\n",
              "        }\n",
              "      </script>\n",
              "    </div>\n",
              "  </div>\n",
              "  "
            ]
          },
          "metadata": {},
          "execution_count": 17
        }
      ]
    },
    {
      "cell_type": "code",
      "source": [
        "# compute correlation of returns\n",
        "returns_corr = returns['SP500'].corr(returns['BAA10Y'])\n",
        "print(f\"Correlation of returns: {returns_corr}\")\n",
        "\n",
        "# scatter plot % change\n",
        "plt.scatter(returns['SP500'],returns['BAA10Y'])\n",
        "plt.title(\"BAA10Y % returns vs SP500 % returns\")\n",
        "plt.xlabel(\"SP500\")\n",
        "plt.ylabel(\"BYY10Y\")\n",
        "plt.show()"
      ],
      "metadata": {
        "colab": {
          "base_uri": "https://localhost:8080/",
          "height": 312
        },
        "id": "tnsRf1VH1Zl5",
        "outputId": "1d90d5fc-02e5-4c2c-fa94-46711a833d4b"
      },
      "execution_count": null,
      "outputs": [
        {
          "output_type": "stream",
          "name": "stdout",
          "text": [
            "Correlation of returns: 0.013730340983812348\n"
          ]
        },
        {
          "output_type": "display_data",
          "data": {
            "text/plain": [
              "<Figure size 432x288 with 1 Axes>"
            ],
            "image/png": "[encoded data removed]"
          },
          "metadata": {
            "needs_background": "light"
          }
        }
      ]
    },
    {
      "cell_type": "code",
      "source": [
        "# plot the daily returns of both series over time\n",
        "returns['SP500'].plot(grid=True)\n",
        "returns['BAA10Y'].plot(grid=True)\n",
        "plt.legend(['SP500_returns', 'BAA10Y_returns'])\n",
        "plt.show()"
      ],
      "metadata": {
        "colab": {
          "base_uri": "https://localhost:8080/",
          "height": 279
        },
        "id": "tIjnfGr3YrC0",
        "outputId": "ffc6798b-afbf-4b4c-ced0-268dd8391cf2"
      },
      "execution_count": null,
      "outputs": [
        {
          "output_type": "display_data",
          "data": {
            "text/plain": [
              "<Figure size 432x288 with 1 Axes>"
            ],
            "image/png": "[encoded data removed]"
          },
          "metadata": {
            "needs_background": "light"
          }
        }
      ]
    },
    {
      "cell_type": "markdown",
      "source": [
        "There is no correlatation in returns compared to values above.  \n",
        "  \n",
        "\n",
        "**Simple Linear Regression of Times Series**  \n",
        "* Simple linear regression:  \n",
        "We can assume that the *true* relationship between variables Y and X can be formulated as:\n",
        "$$_{Y_t=f(X_t) + \\epsilon_t}$$  \n",
        "We can try to approximate $$_{f(X)} $$\n",
        "by a linear function can formulate it like this:  \n",
        "$$_{y_t=\\alpha+\\beta x_t + \\epsilon_t}$$\n",
        "The `y` and `x` can be two time series.  \n",
        "Also known as OLS (Ordinary Least Squares)  \n",
        "  \n",
        "**Python Packages to Perform Regression**  \n",
        "* In statsmodels:\n",
        "`import statsmodels.api as sm`  \n",
        "`sm.OLS(y, x).fit()`  \n",
        "  \n",
        "* In numpy:\n",
        "`np.polyfit(x, y, deg=1)` deg = 1 is first degree (fits data to a line)  \n",
        "  \n",
        "* In pandas:  \n",
        "`pd.ols(y, x)`  \n",
        "  \n",
        "* In scipy:  \n",
        "`from scipy import stats`  \n",
        "`stats.linregress(x, y)`  \n",
        "  \n",
        "Note: The order of `x` and `y` is not consistent across packages!  "
      ],
      "metadata": {
        "id": "gvpb_HFcLX51"
      }
    },
    {
      "cell_type": "markdown",
      "source": [
        "Example: Regression of Small Cap Returns on Large Cap  \n",
        "* Import statsmodels module  \n",
        "`import statsmodels.api as sm`  \n",
        "  \n",
        "* As previously, compute percentage change in both series  \n",
        "`df['SPX_Rex'] = df['SPX_Prices'].pct_change()`  \n",
        "`df['R2000_Ret'] = df['R2000_Prices'].pct_changes()`  \n",
        "  \n",
        "* Add constans to the DataFrame for regression intercept  \n",
        "`df = sm.add_constant(df)`  \n",
        "We add a column of 1s as a dependent right hand side variable, this is because if there is no constant column we would want a regression without and intercept. By adding a column of 1s stats model will compute the regression coefficient for that column as well. Which can be interprete as the intercept of the line.  \n",
        "  \n",
        "* The first row of returns is NaN.  \n",
        "* Delete the ros of NaN  \n",
        "`df = df.dropna()`  \n",
        "  \n",
        "* Run regression  \n",
        "`results = sm.OLS(df['R2000_Ret'], df[['const','SPX_Ret']]).fit()`  \n",
        "The method fit() runs the regression and the results are saved in a class instance called results.  \n",
        "`print(results.summary())`  \n"
      ],
      "metadata": {
        "id": "onMc5ZDtSpPH"
      }
    },
    {
      "cell_type": "code",
      "source": [
        "# example\n",
        "import statsmodels.api as sm\n",
        "\n",
        "# add returns\n",
        "stocks_and_bonds['SP500_Ret'] = stocks_and_bonds['SP500'].pct_change()\n",
        "stocks_and_bonds['BAA10Y_Ret'] = stocks_and_bonds['BAA10Y'].pct_change()\n",
        "df = stocks_and_bonds\n",
        "df = sm.add_constant(df)\n",
        "df = df.dropna()"
      ],
      "metadata": {
        "colab": {
          "base_uri": "https://localhost:8080/"
        },
        "id": "M_D9F7j3Snyi",
        "outputId": "21af25de-4401-4299-d27a-04734ea7954f"
      },
      "execution_count": null,
      "outputs": [
        {
          "output_type": "stream",
          "name": "stderr",
          "text": [
            "/usr/local/lib/python3.7/dist-packages/statsmodels/tools/_testing.py:19: FutureWarning: pandas.util.testing is deprecated. Use the functions in the public API at pandas.testing instead.\n",
            "  import pandas.util.testing as tm\n",
            "/usr/local/lib/python3.7/dist-packages/statsmodels/tsa/tsatools.py:117: FutureWarning: In a future version of pandas all arguments of concat except for the argument 'objs' will be keyword-only\n",
            "  x = pd.concat(x[::order], 1)\n"
          ]
        }
      ]
    },
    {
      "cell_type": "code",
      "source": [
        "df.head()"
      ],
      "metadata": {
        "colab": {
          "base_uri": "https://localhost:8080/",
          "height": 237
        },
        "id": "IfH-RzyjSn1Y",
        "outputId": "961584ef-500a-493e-acfe-a9bf92ea4bd4"
      },
      "execution_count": null,
      "outputs": [
        {
          "output_type": "execute_result",
          "data": {
            "text/plain": [
              "            const    SP500  BAA10Y  SP500_scaled  BAA10Y_scaled  SP500_Ret  \\\n",
              "DATE                                                                         \n",
              "2017-01-23    1.0  2280.07    2.21      0.016673       0.236364   0.006565   \n",
              "2017-01-24    1.0  2298.37    2.22      0.023824       0.240000   0.008026   \n",
              "2017-01-25    1.0  2296.68    2.21      0.023164       0.236364  -0.000735   \n",
              "2017-01-26    1.0  2294.69    2.20      0.022386       0.232727  -0.000866   \n",
              "2017-01-27    1.0  2280.90    2.19      0.016998       0.229091  -0.006010   \n",
              "\n",
              "            BAA10Y_Ret  \n",
              "DATE                    \n",
              "2017-01-23    0.000000  \n",
              "2017-01-24    0.004525  \n",
              "2017-01-25   -0.004505  \n",
              "2017-01-26   -0.004525  \n",
              "2017-01-27   -0.004545  "
            ],
            "text/html": [
              "\n",
              "  <div id=\"df-786704ac-6561-4858-81e4-96ee958c6306\">\n",
              "    <div class=\"colab-df-container\">\n",
              "      <div>\n",
              "<style scoped>\n",
              "    .dataframe tbody tr th:only-of-type {\n",
              "        vertical-align: middle;\n",
              "    }\n",
              "\n",
              "    .dataframe tbody tr th {\n",
              "        vertical-align: top;\n",
              "    }\n",
              "\n",
              "    .dataframe thead th {\n",
              "        text-align: right;\n",
              "    }\n",
              "</style>\n",
              "<table border=\"1\" class=\"dataframe\">\n",
              "  <thead>\n",
              "    <tr style=\"text-align: right;\">\n",
              "      <th></th>\n",
              "      <th>const</th>\n",
              "      <th>SP500</th>\n",
              "      <th>BAA10Y</th>\n",
              "      <th>SP500_scaled</th>\n",
              "      <th>BAA10Y_scaled</th>\n",
              "      <th>SP500_Ret</th>\n",
              "      <th>BAA10Y_Ret</th>\n",
              "    </tr>\n",
              "    <tr>\n",
              "      <th>DATE</th>\n",
              "      <th></th>\n",
              "      <th></th>\n",
              "      <th></th>\n",
              "      <th></th>\n",
              "      <th></th>\n",
              "      <th></th>\n",
              "      <th></th>\n",
              "    </tr>\n",
              "  </thead>\n",
              "  <tbody>\n",
              "    <tr>\n",
              "      <th>2017-01-23</th>\n",
              "      <td>1.0</td>\n",
              "      <td>2280.07</td>\n",
              "      <td>2.21</td>\n",
              "      <td>0.016673</td>\n",
              "      <td>0.236364</td>\n",
              "      <td>0.006565</td>\n",
              "      <td>0.000000</td>\n",
              "    </tr>\n",
              "    <tr>\n",
              "      <th>2017-01-24</th>\n",
              "      <td>1.0</td>\n",
              "      <td>2298.37</td>\n",
              "      <td>2.22</td>\n",
              "      <td>0.023824</td>\n",
              "      <td>0.240000</td>\n",
              "      <td>0.008026</td>\n",
              "      <td>0.004525</td>\n",
              "    </tr>\n",
              "    <tr>\n",
              "      <th>2017-01-25</th>\n",
              "      <td>1.0</td>\n",
              "      <td>2296.68</td>\n",
              "      <td>2.21</td>\n",
              "      <td>0.023164</td>\n",
              "      <td>0.236364</td>\n",
              "      <td>-0.000735</td>\n",
              "      <td>-0.004505</td>\n",
              "    </tr>\n",
              "    <tr>\n",
              "      <th>2017-01-26</th>\n",
              "      <td>1.0</td>\n",
              "      <td>2294.69</td>\n",
              "      <td>2.20</td>\n",
              "      <td>0.022386</td>\n",
              "      <td>0.232727</td>\n",
              "      <td>-0.000866</td>\n",
              "      <td>-0.004525</td>\n",
              "    </tr>\n",
              "    <tr>\n",
              "      <th>2017-01-27</th>\n",
              "      <td>1.0</td>\n",
              "      <td>2280.90</td>\n",
              "      <td>2.19</td>\n",
              "      <td>0.016998</td>\n",
              "      <td>0.229091</td>\n",
              "      <td>-0.006010</td>\n",
              "      <td>-0.004545</td>\n",
              "    </tr>\n",
              "  </tbody>\n",
              "</table>\n",
              "</div>\n",
              "      <button class=\"colab-df-convert\" onclick=\"convertToInteractive('df-786704ac-6561-4858-81e4-96ee958c6306')\"\n",
              "              title=\"Convert this dataframe to an interactive table.\"\n",
              "              style=\"display:none;\">\n",
              "        \n",
              "  <svg xmlns=\"http://www.w3.org/2000/svg\" height=\"24px\"viewBox=\"0 0 24 24\"\n",
              "       width=\"24px\">\n",
              "    <path d=\"M0 0h24v24H0V0z\" fill=\"none\"/>\n",
              "    <path d=\"M18.56 5.44l.94 2.06.94-2.06 2.06-.94-2.06-.94-.94-2.06-.94 2.06-2.06.94zm-11 1L8.5 8.5l.94-2.06 2.06-.94-2.06-.94L8.5 2.5l-.94 2.06-2.06.94zm10 10l.94 2.06.94-2.06 2.06-.94-2.06-.94-.94-2.06-.94 2.06-2.06.94z\"/><path d=\"M17.41 7.96l-1.37-1.37c-.4-.4-.92-.59-1.43-.59-.52 0-1.04.2-1.43.59L10.3 9.45l-7.72 7.72c-.78.78-.78 2.05 0 2.83L4 21.41c.39.39.9.59 1.41.59.51 0 1.02-.2 1.41-.59l7.78-7.78 2.81-2.81c.8-.78.8-2.07 0-2.86zM5.41 20L4 18.59l7.72-7.72 1.47 1.35L5.41 20z\"/>\n",
              "  </svg>\n",
              "      </button>\n",
              "      \n",
              "  <style>\n",
              "    .colab-df-container {\n",
              "      display:flex;\n",
              "      flex-wrap:wrap;\n",
              "      gap: 12px;\n",
              "    }\n",
              "\n",
              "    .colab-df-convert {\n",
              "      background-color: #E8F0FE;\n",
              "      border: none;\n",
              "      border-radius: 50%;\n",
              "      cursor: pointer;\n",
              "      display: none;\n",
              "      fill: #1967D2;\n",
              "      height: 32px;\n",
              "      padding: 0 0 0 0;\n",
              "      width: 32px;\n",
              "    }\n",
              "\n",
              "    .colab-df-convert:hover {\n",
              "      background-color: #E2EBFA;\n",
              "      box-shadow: 0px 1px 2px rgba(60, 64, 67, 0.3), 0px 1px 3px 1px rgba(60, 64, 67, 0.15);\n",
              "      fill: #174EA6;\n",
              "    }\n",
              "\n",
              "    [theme=dark] .colab-df-convert {\n",
              "      background-color: #3B4455;\n",
              "      fill: #D2E3FC;\n",
              "    }\n",
              "\n",
              "    [theme=dark] .colab-df-convert:hover {\n",
              "      background-color: #434B5C;\n",
              "      box-shadow: 0px 1px 3px 1px rgba(0, 0, 0, 0.15);\n",
              "      filter: drop-shadow(0px 1px 2px rgba(0, 0, 0, 0.3));\n",
              "      fill: #FFFFFF;\n",
              "    }\n",
              "  </style>\n",
              "\n",
              "      <script>\n",
              "        const buttonEl =\n",
              "          document.querySelector('#df-786704ac-6561-4858-81e4-96ee958c6306 button.colab-df-convert');\n",
              "        buttonEl.style.display =\n",
              "          google.colab.kernel.accessAllowed ? 'block' : 'none';\n",
              "\n",
              "        async function convertToInteractive(key) {\n",
              "          const element = document.querySelector('#df-786704ac-6561-4858-81e4-96ee958c6306');\n",
              "          const dataTable =\n",
              "            await google.colab.kernel.invokeFunction('convertToInteractive',\n",
              "                                                     [key], {});\n",
              "          if (!dataTable) return;\n",
              "\n",
              "          const docLinkHtml = 'Like what you see? Visit the ' +\n",
              "            '<a target=\"_blank\" href=https://colab.research.google.com/notebooks/data_table.ipynb>data table notebook</a>'\n",
              "            + ' to learn more about interactive tables.';\n",
              "          element.innerHTML = '';\n",
              "          dataTable['output_type'] = 'display_data';\n",
              "          await google.colab.output.renderOutput(dataTable, element);\n",
              "          const docLink = document.createElement('div');\n",
              "          docLink.innerHTML = docLinkHtml;\n",
              "          element.appendChild(docLink);\n",
              "        }\n",
              "      </script>\n",
              "    </div>\n",
              "  </div>\n",
              "  "
            ]
          },
          "metadata": {},
          "execution_count": 21
        }
      ]
    },
    {
      "cell_type": "code",
      "source": [
        "results = sm.OLS(df['SP500_Ret'],df[['const','BAA10Y_Ret']]).fit() # left is y, right is X´s\n",
        "print(results.summary())"
      ],
      "metadata": {
        "colab": {
          "base_uri": "https://localhost:8080/"
        },
        "id": "IHKGsPf9V8iE",
        "outputId": "c3e57dd2-734e-421f-c718-d6d94097d241"
      },
      "execution_count": null,
      "outputs": [
        {
          "output_type": "stream",
          "name": "stdout",
          "text": [
            "                            OLS Regression Results                            \n",
            "==============================================================================\n",
            "Dep. Variable:              SP500_Ret   R-squared:                       0.000\n",
            "Model:                            OLS   Adj. R-squared:                 -0.001\n",
            "Method:                 Least Squares   F-statistic:                    0.2392\n",
            "Date:                Wed, 11 May 2022   Prob (F-statistic):              0.625\n",
            "Time:                        19:51:22   Log-Likelihood:                 3594.3\n",
            "No. Observations:                1203   AIC:                            -7185.\n",
            "Df Residuals:                    1201   BIC:                            -7174.\n",
            "Df Model:                           1                                         \n",
            "Covariance Type:            nonrobust                                         \n",
            "==============================================================================\n",
            "                 coef    std err          t      P>|t|      [0.025      0.975]\n",
            "------------------------------------------------------------------------------\n",
            "const          0.0006      0.000      1.838      0.066   -4.37e-05       0.001\n",
            "BAA10Y_Ret     0.0145      0.030      0.489      0.625      -0.044       0.073\n",
            "==============================================================================\n",
            "Omnibus:                      424.120   Durbin-Watson:                   2.437\n",
            "Prob(Omnibus):                  0.000   Jarque-Bera (JB):            21284.927\n",
            "Skew:                          -0.841   Prob(JB):                         0.00\n",
            "Kurtosis:                      23.538   Cond. No.                         84.1\n",
            "==============================================================================\n",
            "\n",
            "Warnings:\n",
            "[1] Standard Errors assume that the covariance matrix of the errors is correctly specified.\n"
          ]
        }
      ]
    },
    {
      "cell_type": "markdown",
      "source": [
        "The model´s R2 is zero and F-statistic high, indicating model is a bad fit and has no predictive capability.  \n",
        "    \n",
        "We can also manually calculate the coefficients to double check the coefficients from the `sm.OLS()` method.  \n",
        "$$\\hat\\beta_{1}= {{\\sum_{i=1}^n{(x_i-\\bar{x})(y_i-\\bar{y})} \\over \\sum_{i=1}^n(x_i - \\bar{x})^2 } }   $$\n",
        "\n",
        "$$\\hat\\beta_{0}= \\bar{y}-\\hat\\beta_{1}\\bar{x} $$\n"
      ],
      "metadata": {
        "id": "bHMT5n1fWse5"
      }
    },
    {
      "cell_type": "code",
      "source": [
        "# Manual calculation of coeffs\n",
        "\n",
        "# Calculate terms\n",
        "y_mean = df[\"SP500_Ret\"].mean()\n",
        "x_mean = df[\"BAA10Y_Ret\"].mean()\n",
        "#print(f'y_mean: {y_mean}')\n",
        "#print(f'x_mean: {x_mean}')\n",
        "y_minus_y_mean = df[\"SP500_Ret\"]-y_mean\n",
        "x_minus_x_mean = df[\"BAA10Y_Ret\"]-x_mean\n",
        "\n",
        "beta1_numerator = np.sum(x_minus_x_mean*y_minus_y_mean)\n",
        "#print(beta_numerator)\n",
        "beta1_denominator = np.sum(x_minus_x_mean**2)\n",
        "#print(beta_denominator)\n",
        "beta1=(beta1_numerator/beta1_denominator)\n",
        "print(f'BAA10Y_Ret coefficient: {beta1}')\n",
        "\n",
        "beta0 = y_mean - (beta1*x_mean)\n",
        "print(f'const coefficient: {beta0}')\n",
        "# These match the OLS summary output"
      ],
      "metadata": {
        "colab": {
          "base_uri": "https://localhost:8080/"
        },
        "id": "5LbINJXIWkhE",
        "outputId": "994cbbcb-63ac-482f-e2c1-575ccb062af5"
      },
      "execution_count": null,
      "outputs": [
        {
          "output_type": "stream",
          "name": "stdout",
          "text": [
            "BAA10Y_Ret coefficient: 0.014468438689413284\n",
            "const coefficient: 0.0006466844215594462\n"
          ]
        }
      ]
    },
    {
      "cell_type": "markdown",
      "source": [
        "In the output the coeff `0.0145` is the slope of the regression. const is the intercept which is very close to zero.  \n",
        "  \n",
        "Can also pull out the following specific info  \n",
        "* Intercept in `results.params[0]`\n",
        "* Slope in `results.params[1]`  "
      ],
      "metadata": {
        "id": "JmUUv5GQWoMq"
      }
    },
    {
      "cell_type": "code",
      "source": [
        "print(results.params[0])\n",
        "print(results.params[1])"
      ],
      "metadata": {
        "colab": {
          "base_uri": "https://localhost:8080/"
        },
        "id": "5qM3wKz2XEI_",
        "outputId": "45453737-6a8c-4c0f-9181-0d6eefcf9cee"
      },
      "execution_count": null,
      "outputs": [
        {
          "output_type": "stream",
          "name": "stdout",
          "text": [
            "0.0006466844215594464\n",
            "0.01446843868941325\n"
          ]
        }
      ]
    },
    {
      "cell_type": "markdown",
      "source": [
        "We can calculate the Standard Error for the coefficient estimation:\n",
        "$$SE(\\hat\\beta_{1})^2={{\\sigma^2 \\over \\sum_{i=1}^n(x_i - \\bar{x})^2 } } $$"
      ],
      "metadata": {
        "id": "Od5hcsWSjEtS"
      }
    },
    {
      "cell_type": "code",
      "source": [
        "# sigma\n",
        "#population_variance = (np.sum(x_minus_x_mean**2) / df.shape[0])\n",
        "#print(f'Population variance: {population_variance}')\n",
        "\n",
        "# variance of the errors\n",
        "#   from above we have the numerator of the variance...\n",
        "y_minus_y_mean = df[\"SP500_Ret\"]-y_mean\n",
        "#   ... divided by n-2 observations (instead of n)\n",
        "variance_of_errors = (np.sum(y_minus_y_mean**2) / (df.shape[0]-2))\n",
        "print(f'Variance of errors: {variance_of_errors}')\n",
        "\n",
        "# From previous step, repeated!\n",
        "beta1_denominator = np.sum(x_minus_x_mean**2)\n",
        "print(f'Denominator: {beta1_denominator}')\n",
        "\n",
        "standard_error_b1_squared = variance_of_errors / beta1_denominator  \n",
        "print(f'SE beta1 squared: {standard_error_b1_squared}')\n",
        "\n",
        "standard_error_b1 = standard_error_b1_squared**0.5\n",
        "print(f'SE beta1: {standard_error_b1}')"
      ],
      "metadata": {
        "colab": {
          "base_uri": "https://localhost:8080/"
        },
        "id": "6ZrfH7ShjDcJ",
        "outputId": "3166ee22-b2a4-48f6-da07-5333bc6390d5"
      },
      "execution_count": null,
      "outputs": [
        {
          "output_type": "stream",
          "name": "stdout",
          "text": [
            "Variance of errors: 0.000149000730501903\n",
            "Denominator: 0.17024684805302787\n",
            "SE beta1 squared: 0.0008752040475691672\n",
            "SE beta1: 0.02958384774787024\n"
          ]
        }
      ]
    },
    {
      "cell_type": "markdown",
      "source": [
        "Our manually calculated `SE` is rounded to `0.030` in the regression output. "
      ],
      "metadata": {
        "id": "6qp3R8D4rqcM"
      }
    },
    {
      "cell_type": "markdown",
      "source": [
        "\n",
        "We can also manually calculate the confidence interal for our coefficient esimation:  \n",
        "$$\\hat\\beta_{1} +-2*SE{(\\hat\\beta_{1})} $$\n",
        "There is approximately 95% change that this interval will contain the true values of the coefficient. We can do this for one or both of the coefficients."
      ],
      "metadata": {
        "id": "bx36SLsoKoKA"
      }
    },
    {
      "cell_type": "code",
      "source": [
        "# Calculate CI for beta1 coefficient using Std err\n",
        "# UCI\n",
        "UCI = beta1 + (2*0.030)\n",
        "# LCI\n",
        "LCI = beta1 - (2*0.030)\n",
        "print(f'The beta1 coefficient point estimate is: {beta1}')\n",
        "print(f'The beta1 cofidence interval is: {UCI},{LCI}')"
      ],
      "metadata": {
        "id": "xtwumtuZiGOK",
        "colab": {
          "base_uri": "https://localhost:8080/"
        },
        "outputId": "6bb8f58c-b10a-49f9-bc65-2998397687a8"
      },
      "execution_count": null,
      "outputs": [
        {
          "output_type": "stream",
          "name": "stdout",
          "text": [
            "The beta1 coefficient point estimate is: 0.014468438689413284\n",
            "The beta1 cofidence interval is: 0.07446843868941327,-0.045531561310586714\n"
          ]
        }
      ]
    },
    {
      "cell_type": "markdown",
      "source": [
        "In this example, the SE is larger in magnitude than the point estimate itself, which creates a wide confidence interval with different signs of the upper and lower interals. Indicating uncertainty in the point estimate.\n",
        "\n",
        "The relationship between R-squared and Correlation  \n",
        "* [corr(x,y)]^2 = R^2 (or R-squared)\n",
        "* sign(corr) = sign(regression slope)  "
      ],
      "metadata": {
        "id": "WrErT9j0XSOA"
      }
    },
    {
      "cell_type": "code",
      "source": [
        "r = df['SP500_Ret'].corr(df['BAA10Y_Ret'])\n",
        "print(r)    # r corr coefficient\n",
        "print(r**2) # r2"
      ],
      "metadata": {
        "colab": {
          "base_uri": "https://localhost:8080/"
        },
        "id": "oWC46IYRXugt",
        "outputId": "4d49c844-3e08-434c-9ed7-ec8dd6f1cfbe"
      },
      "execution_count": null,
      "outputs": [
        {
          "output_type": "stream",
          "name": "stdout",
          "text": [
            "0.014112225447628343\n",
            "0.000199154907084689\n"
          ]
        }
      ]
    },
    {
      "cell_type": "markdown",
      "source": [
        "We built a regression model with an example, however this model is not very usefull when we look at the diagnostics, r2 and F-statistic."
      ],
      "metadata": {
        "id": "guIu5psxSGvt"
      }
    },
    {
      "cell_type": "markdown",
      "source": [
        "**Autocorrelation**  \n",
        "* Correlation of a time series lagged copy of itself  \n",
        "It is also called serial correlation. Often when we refer to a series autocorrelation we mean the lag-1 correlation.  \n",
        "* Lag-one autocorrelation  \n",
        "E.g a series that is lagged with one day  \n",
        "* **Mean Reversion** - Negative autocorrelation\n",
        "* **Momentum** or **Trend Following** - Positive autocorrelation  \n",
        "  \n",
        "Traders use autocorrelation to make money.  \n",
        "* Individual stocks  \n",
        " * Historically have typically negative autocorrelation of about a week. A popular strategy is to buy stocks that have dropped over the past week and sell stocks that have gone up\n",
        " * Measured over short time horizons (days) \n",
        "  \n",
        "Example of positive autocorrelation: Exchange rates  \n",
        "* Use daily exchange rates in a `df` from FRED  \n",
        "FRED = Federal Reserve Economic Data\n",
        "* Convert index to datetime"
      ],
      "metadata": {
        "id": "Fp-VxbDQZLt5"
      }
    },
    {
      "cell_type": "code",
      "source": [
        "# DO NOT RUN\n",
        "\n",
        "#convert index to datetime\n",
        "df.index = pd.to_datetime(df.index)\n",
        "# Downsample from daily to monthly data\n",
        "df = df.resample(rule='M', how='last')\n",
        "# Compute returns from prices\n",
        "df['Return'] = df['Price'].pct_change()\n",
        "# Compute autocorrelation\n",
        "autocorrelation = df['Return'].autocorr()\n",
        "print(\"The ac is: \",autocorrelation)"
      ],
      "metadata": {
        "id": "hbEjWX8_cEzL"
      },
      "execution_count": null,
      "outputs": []
    },
    {
      "cell_type": "markdown",
      "source": [
        "Look at some stocks and use the popular strategy of weekly mean reversion. Prices tend to bounce back, or revert, towards a previous level after large moves, which are observerd over time horizons of about a week."
      ],
      "metadata": {
        "id": "K88ZIxrFci7X"
      }
    },
    {
      "cell_type": "code",
      "source": [
        "# Create returns pandas series from the above df\n",
        "returns = stocks_and_bonds[['SP500_Ret']]\n",
        "returns = returns.dropna()\n",
        "\n",
        "# Convert daily data to weekly\n",
        "returns = returns.resample(rule='W').last()\n",
        "\n",
        "# Compute and print the autocorrelation\n",
        "autocorrelation = returns['SP500_Ret'].autocorr()\n",
        "print(f\"The autocorrelation of weekly returns is {autocorrelation}\")"
      ],
      "metadata": {
        "colab": {
          "base_uri": "https://localhost:8080/"
        },
        "id": "eSL-4VRAdbTz",
        "outputId": "fdb322bf-17ee-4e38-e192-7bf2f66734cd"
      },
      "execution_count": null,
      "outputs": [
        {
          "output_type": "stream",
          "name": "stdout",
          "text": [
            "The autocorrelation of weekly returns is 0.1751497875364545\n"
          ]
        }
      ]
    },
    {
      "cell_type": "markdown",
      "source": [
        "The autocorrelation of weekly returns is positive, so we have Moment or Trend Following pattern. Check this visually by plotting the series also."
      ],
      "metadata": {
        "id": "W6O_q6SwgvJr"
      }
    },
    {
      "cell_type": "code",
      "source": [
        "import matplotlib.pyplot as plt\n",
        "\n",
        "# take one year sample\n",
        "returns_2018 = returns.loc['2018']\n",
        "returns_2018.plot(grid=True)\n",
        "plt.show()"
      ],
      "metadata": {
        "colab": {
          "base_uri": "https://localhost:8080/",
          "height": 293
        },
        "id": "sR20RqiJgPIt",
        "outputId": "2470f289-f2d2-48b2-d893-187e7968f61b"
      },
      "execution_count": null,
      "outputs": [
        {
          "output_type": "display_data",
          "data": {
            "text/plain": [
              "<Figure size 432x288 with 1 Axes>"
            ],
            "image/png": "[encoded data removed]"
          },
          "metadata": {
            "needs_background": "light"
          }
        }
      ]
    },
    {
      "cell_type": "markdown",
      "source": [
        "It seems from the plot above that there are some periods where there is a momentum in two weeks of the time series movement which confirms the interpretation of the calculated positive autocorrelation.  \n",
        "  \n",
        "Next:  \n",
        "\n",
        "* Compute the autocorrelation of the column `'BAA10Y_Ret'` in daily_diff using the `.autocorr()` method.\n",
        "* Use the `.resample()` method with arguments `rule='A'` to convert to annual frequency and `how='last'`.\n",
        " * The argument `how` in `.resample()` has been deprecated.\n",
        " * The new syntax `.resample().last()` also works.\n",
        "* Create a new DataFrame, yearly_diff of changes in annual rates and compute the autocorrelation, as above"
      ],
      "metadata": {
        "id": "YM16u7X6TQ21"
      }
    },
    {
      "cell_type": "code",
      "source": [
        "# Compute and print the autocorrelation of daily changes\n",
        "autocorrelation_daily = df[\"BAA10Y_Ret\"].autocorr()\n",
        "print(\"The autocorrelation of daily 10Y interest rate change is: \", autocorrelation_daily)\n",
        "\n",
        "# Convert the daily data to annual data\n",
        "yearly_rates = df[[\"BAA10Y\"]].resample(rule=\"A\").last() # takes last value for each year\n",
        "\n",
        "# Repeat above for the annual data\n",
        "yearly_diffs = yearly_rates.diff()\n",
        "autocorrelation_yearly = yearly_diffs[\"BAA10Y\"].autocorr()\n",
        "print(\"The autocorrelation of yearly 10Y interest rate change is: \", autocorrelation_yearly)"
      ],
      "metadata": {
        "colab": {
          "base_uri": "https://localhost:8080/"
        },
        "id": "YPw89N4ATNmV",
        "outputId": "727edf9e-e800-4940-e885-2333523aaef4"
      },
      "execution_count": null,
      "outputs": [
        {
          "output_type": "stream",
          "name": "stdout",
          "text": [
            "The autocorrelation of daily 10Y interest rate change is:  0.20420572892340652\n",
            "The autocorrelation of yearly 10Y interest rate change is:  -0.9412088718642954\n"
          ]
        }
      ]
    },
    {
      "cell_type": "code",
      "source": [
        "print(yearly_diffs.shape)\n",
        "yearly_diffs.plot(grid=True)\n",
        "plt.show()"
      ],
      "metadata": {
        "colab": {
          "base_uri": "https://localhost:8080/",
          "height": 296
        },
        "id": "DY--utWLWBgz",
        "outputId": "8fb35132-6d99-4cf6-ffed-b6a5e50de7de"
      },
      "execution_count": null,
      "outputs": [
        {
          "output_type": "stream",
          "name": "stdout",
          "text": [
            "(6, 1)\n"
          ]
        },
        {
          "output_type": "display_data",
          "data": {
            "text/plain": [
              "<Figure size 432x288 with 1 Axes>"
            ],
            "image/png": "[encoded data removed]"
          },
          "metadata": {
            "needs_background": "light"
          }
        }
      ]
    },
    {
      "cell_type": "markdown",
      "source": [
        "The plot of the yearly series reveals the reverting to mean pattern for these years which is what we expect when we see the negative yearly autocorrelation calculated above."
      ],
      "metadata": {
        "id": "6ZLbnctxW4Kb"
      }
    },
    {
      "cell_type": "markdown",
      "source": [
        "## 2. Some Simple Time Series\n",
        "\n",
        "#### Autocorrelation function  \n",
        "* **Autocorrecation Function (ACF)**: The autocorrelation as a function of the lag. Shows not just the lag 1 autocorrelation but the entire autocorrelation for different lags. Any non-zero autocorrelation of a series implies that the series can be forecasted from the past.  \n",
        " * E.g if the lag 1 and lag 2 autocorrelation values differ from zero we can use the last two values in series for forecasting.\n",
        " * E.g ACF can also be useful for Model Selection.  \n",
        "  \n",
        "**Plot ACF in Python**  \n",
        "* Import module:  \n",
        "`from statsmodels.graphics.tsaplots import plot_acf`  \n",
        "* Plot the ACF:  \n",
        "`plot_act(x, lags=20, alpha=0.05)`   \n",
        "The input `x` is a series or an array.  \n",
        "The `lags` argument set lags of the autocorrelation function to be plotted.  \n",
        "The `alpha` argument sets width of a confidence interval, blue region.  \n",
        "\n",
        "**Confidence Interval of ACF**  \n",
        "* With value `0.05` there is only `5%` chance that if true autocorrelation is zero, it will fall oustide the blue band.  \n",
        "* We will get a wider confidence interval if  \n",
        " * we set the alpha lower \n",
        " * if we have fewer observations.\n",
        "* Under some simple assumptions, 95% confidence bands are `+-2 / sqrt of N`\n",
        "* If we don´t want to have confidence intervals in the plot, set `alpha=1`  \n"
      ],
      "metadata": {
        "id": "xlTCEdDJXKbj"
      }
    },
    {
      "cell_type": "code",
      "source": [
        "from statsmodels.graphics.tsaplots import plot_acf\n",
        "\n",
        "print(returns_2018.shape)\n",
        "plot_acf(returns_2018, lags=20, alpha=0.05)\n",
        "plt.show()"
      ],
      "metadata": {
        "colab": {
          "base_uri": "https://localhost:8080/",
          "height": 298
        },
        "id": "Eqy9dod2aCNi",
        "outputId": "590579a7-7b8b-43c5-cb18-929ef721dacb"
      },
      "execution_count": null,
      "outputs": [
        {
          "output_type": "stream",
          "name": "stdout",
          "text": [
            "(52, 1)\n"
          ]
        },
        {
          "output_type": "display_data",
          "data": {
            "text/plain": [
              "<Figure size 432x288 with 1 Axes>"
            ],
            "image/png": "[encoded data removed]"
          },
          "metadata": {
            "needs_background": "light"
          }
        }
      ]
    },
    {
      "cell_type": "markdown",
      "source": [
        "**ACF Values Instead of Plot**  \n",
        "`from statsmodels.tsa.stattools import acf`  \n",
        "`print(acf(x))` \n",
        "We can use this if we just want to have the acf values instead of plotting them."
      ],
      "metadata": {
        "id": "-uCUQkuGct3F"
      }
    },
    {
      "cell_type": "code",
      "source": [
        "from statsmodels.tsa.stattools import acf\n",
        "print(acf(returns_2018))"
      ],
      "metadata": {
        "colab": {
          "base_uri": "https://localhost:8080/"
        },
        "id": "8mlXX3lkcuQ2",
        "outputId": "f0a8b69f-ff5d-481e-f770-0b996680ba23"
      },
      "execution_count": null,
      "outputs": [
        {
          "output_type": "stream",
          "name": "stdout",
          "text": [
            "[ 1.         -0.1353933  -0.1928933  -0.10374157 -0.05962163  0.06980047\n",
            "  0.20687503 -0.22973272  0.20934708  0.02141939 -0.10756919 -0.04133134\n",
            "  0.09392006  0.02922433  0.03414041 -0.02871223 -0.06216116 -0.05660125\n",
            " -0.03630969  0.01318185  0.11360175  0.0761697  -0.10331401 -0.10322296\n",
            " -0.04643831  0.07485841  0.03072843  0.01918188  0.00968414 -0.06605812\n",
            " -0.0379433  -0.12343888  0.1167082   0.01377857 -0.08537346  0.00284623\n",
            " -0.03366846 -0.00440221  0.04304739 -0.13129225  0.18255928]\n"
          ]
        },
        {
          "output_type": "stream",
          "name": "stderr",
          "text": [
            "/usr/local/lib/python3.7/dist-packages/statsmodels/tsa/stattools.py:541: FutureWarning: fft=True will become the default in a future version of statsmodels. To suppress this warning, explicitly set fft=False.\n",
            "  warnings.warn(msg, FutureWarning)\n"
          ]
        }
      ]
    },
    {
      "cell_type": "markdown",
      "source": [
        "* Compute the array of autocorrelations of the quarterly `SP500` data.\n",
        "* Plot the autocorrelation function of the quarterly data and pass the argument `alpha=1` to suppress the confidence interval."
      ],
      "metadata": {
        "id": "wHjo9M9qdYxI"
      }
    },
    {
      "cell_type": "code",
      "source": [
        "# OMA create quarterly data by converting daily data\n",
        "quarterly_data = df[['SP500']].resample(rule='Q').last()\n",
        "print(quarterly_data.shape)\n",
        "quarterly_data.head()"
      ],
      "metadata": {
        "colab": {
          "base_uri": "https://localhost:8080/",
          "height": 255
        },
        "id": "o_Hp2cFqd4od",
        "outputId": "0af294a2-53d2-42c8-feca-a4ca1e63dd43"
      },
      "execution_count": null,
      "outputs": [
        {
          "output_type": "stream",
          "name": "stdout",
          "text": [
            "(21, 1)\n"
          ]
        },
        {
          "output_type": "execute_result",
          "data": {
            "text/plain": [
              "              SP500\n",
              "DATE               \n",
              "2017-03-31  2358.84\n",
              "2017-06-30  2429.01\n",
              "2017-09-30  2529.12\n",
              "2017-12-31  2673.61\n",
              "2018-03-31  2640.87"
            ],
            "text/html": [
              "\n",
              "  <div id=\"df-368d2b8e-6a41-4c98-8600-0fd3a23588ec\">\n",
              "    <div class=\"colab-df-container\">\n",
              "      <div>\n",
              "<style scoped>\n",
              "    .dataframe tbody tr th:only-of-type {\n",
              "        vertical-align: middle;\n",
              "    }\n",
              "\n",
              "    .dataframe tbody tr th {\n",
              "        vertical-align: top;\n",
              "    }\n",
              "\n",
              "    .dataframe thead th {\n",
              "        text-align: right;\n",
              "    }\n",
              "</style>\n",
              "<table border=\"1\" class=\"dataframe\">\n",
              "  <thead>\n",
              "    <tr style=\"text-align: right;\">\n",
              "      <th></th>\n",
              "      <th>SP500</th>\n",
              "    </tr>\n",
              "    <tr>\n",
              "      <th>DATE</th>\n",
              "      <th></th>\n",
              "    </tr>\n",
              "  </thead>\n",
              "  <tbody>\n",
              "    <tr>\n",
              "      <th>2017-03-31</th>\n",
              "      <td>2358.84</td>\n",
              "    </tr>\n",
              "    <tr>\n",
              "      <th>2017-06-30</th>\n",
              "      <td>2429.01</td>\n",
              "    </tr>\n",
              "    <tr>\n",
              "      <th>2017-09-30</th>\n",
              "      <td>2529.12</td>\n",
              "    </tr>\n",
              "    <tr>\n",
              "      <th>2017-12-31</th>\n",
              "      <td>2673.61</td>\n",
              "    </tr>\n",
              "    <tr>\n",
              "      <th>2018-03-31</th>\n",
              "      <td>2640.87</td>\n",
              "    </tr>\n",
              "  </tbody>\n",
              "</table>\n",
              "</div>\n",
              "      <button class=\"colab-df-convert\" onclick=\"convertToInteractive('df-368d2b8e-6a41-4c98-8600-0fd3a23588ec')\"\n",
              "              title=\"Convert this dataframe to an interactive table.\"\n",
              "              style=\"display:none;\">\n",
              "        \n",
              "  <svg xmlns=\"http://www.w3.org/2000/svg\" height=\"24px\"viewBox=\"0 0 24 24\"\n",
              "       width=\"24px\">\n",
              "    <path d=\"M0 0h24v24H0V0z\" fill=\"none\"/>\n",
              "    <path d=\"M18.56 5.44l.94 2.06.94-2.06 2.06-.94-2.06-.94-.94-2.06-.94 2.06-2.06.94zm-11 1L8.5 8.5l.94-2.06 2.06-.94-2.06-.94L8.5 2.5l-.94 2.06-2.06.94zm10 10l.94 2.06.94-2.06 2.06-.94-2.06-.94-.94-2.06-.94 2.06-2.06.94z\"/><path d=\"M17.41 7.96l-1.37-1.37c-.4-.4-.92-.59-1.43-.59-.52 0-1.04.2-1.43.59L10.3 9.45l-7.72 7.72c-.78.78-.78 2.05 0 2.83L4 21.41c.39.39.9.59 1.41.59.51 0 1.02-.2 1.41-.59l7.78-7.78 2.81-2.81c.8-.78.8-2.07 0-2.86zM5.41 20L4 18.59l7.72-7.72 1.47 1.35L5.41 20z\"/>\n",
              "  </svg>\n",
              "      </button>\n",
              "      \n",
              "  <style>\n",
              "    .colab-df-container {\n",
              "      display:flex;\n",
              "      flex-wrap:wrap;\n",
              "      gap: 12px;\n",
              "    }\n",
              "\n",
              "    .colab-df-convert {\n",
              "      background-color: #E8F0FE;\n",
              "      border: none;\n",
              "      border-radius: 50%;\n",
              "      cursor: pointer;\n",
              "      display: none;\n",
              "      fill: #1967D2;\n",
              "      height: 32px;\n",
              "      padding: 0 0 0 0;\n",
              "      width: 32px;\n",
              "    }\n",
              "\n",
              "    .colab-df-convert:hover {\n",
              "      background-color: #E2EBFA;\n",
              "      box-shadow: 0px 1px 2px rgba(60, 64, 67, 0.3), 0px 1px 3px 1px rgba(60, 64, 67, 0.15);\n",
              "      fill: #174EA6;\n",
              "    }\n",
              "\n",
              "    [theme=dark] .colab-df-convert {\n",
              "      background-color: #3B4455;\n",
              "      fill: #D2E3FC;\n",
              "    }\n",
              "\n",
              "    [theme=dark] .colab-df-convert:hover {\n",
              "      background-color: #434B5C;\n",
              "      box-shadow: 0px 1px 3px 1px rgba(0, 0, 0, 0.15);\n",
              "      filter: drop-shadow(0px 1px 2px rgba(0, 0, 0, 0.3));\n",
              "      fill: #FFFFFF;\n",
              "    }\n",
              "  </style>\n",
              "\n",
              "      <script>\n",
              "        const buttonEl =\n",
              "          document.querySelector('#df-368d2b8e-6a41-4c98-8600-0fd3a23588ec button.colab-df-convert');\n",
              "        buttonEl.style.display =\n",
              "          google.colab.kernel.accessAllowed ? 'block' : 'none';\n",
              "\n",
              "        async function convertToInteractive(key) {\n",
              "          const element = document.querySelector('#df-368d2b8e-6a41-4c98-8600-0fd3a23588ec');\n",
              "          const dataTable =\n",
              "            await google.colab.kernel.invokeFunction('convertToInteractive',\n",
              "                                                     [key], {});\n",
              "          if (!dataTable) return;\n",
              "\n",
              "          const docLinkHtml = 'Like what you see? Visit the ' +\n",
              "            '<a target=\"_blank\" href=https://colab.research.google.com/notebooks/data_table.ipynb>data table notebook</a>'\n",
              "            + ' to learn more about interactive tables.';\n",
              "          element.innerHTML = '';\n",
              "          dataTable['output_type'] = 'display_data';\n",
              "          await google.colab.output.renderOutput(dataTable, element);\n",
              "          const docLink = document.createElement('div');\n",
              "          docLink.innerHTML = docLinkHtml;\n",
              "          element.appendChild(docLink);\n",
              "        }\n",
              "      </script>\n",
              "    </div>\n",
              "  </div>\n",
              "  "
            ]
          },
          "metadata": {},
          "execution_count": 34
        }
      ]
    },
    {
      "cell_type": "code",
      "source": [
        "from statsmodels.tsa.stattools import acf\n",
        "from statsmodels.graphics.tsaplots import plot_acf\n",
        "\n",
        "# Compute the acf array of SP500 quarterly\n",
        "acf_array=acf(quarterly_data['SP500'])\n",
        "print(acf_array)\n",
        "\n",
        "# Plot the acf function\n",
        "plot_acf(quarterly_data, alpha=1)\n",
        "plt.show()"
      ],
      "metadata": {
        "colab": {
          "base_uri": "https://localhost:8080/",
          "height": 405
        },
        "id": "hG5R8Tt-eF3_",
        "outputId": "c4206b0d-a956-4df3-d83f-6c3426f7153f"
      },
      "execution_count": null,
      "outputs": [
        {
          "output_type": "stream",
          "name": "stderr",
          "text": [
            "/usr/local/lib/python3.7/dist-packages/statsmodels/tsa/stattools.py:541: FutureWarning: fft=True will become the default in a future version of statsmodels. To suppress this warning, explicitly set fft=False.\n",
            "  warnings.warn(msg, FutureWarning)\n"
          ]
        },
        {
          "output_type": "stream",
          "name": "stdout",
          "text": [
            "[ 1.          0.81173708  0.63976021  0.46748374  0.29433336  0.16881855\n",
            "  0.03459847 -0.0436937  -0.08943137 -0.0886942  -0.14941354 -0.18596626\n",
            " -0.22227825 -0.2917113  -0.30368118 -0.34453476 -0.33751208 -0.31027096\n",
            " -0.26322011 -0.19759531 -0.08872838]\n"
          ]
        },
        {
          "output_type": "display_data",
          "data": {
            "text/plain": [
              "<Figure size 432x288 with 1 Axes>"
            ],
            "image/png": "[encoded data removed]"
          },
          "metadata": {
            "needs_background": "light"
          }
        }
      ]
    },
    {
      "cell_type": "code",
      "source": [
        "# Check if the first 6 lags of positive auto correlation makes sense by plotting the quarterly data in a line chart\n",
        "quarterly_data['SP500'].plot(grid=True)\n",
        "plt.show()"
      ],
      "metadata": {
        "colab": {
          "base_uri": "https://localhost:8080/",
          "height": 279
        },
        "id": "voUf4O83e5sm",
        "outputId": "6e5d846b-d939-42df-cc3f-9d43fce6f148"
      },
      "execution_count": null,
      "outputs": [
        {
          "output_type": "display_data",
          "data": {
            "text/plain": [
              "<Figure size 432x288 with 1 Axes>"
            ],
            "image/png": "[encoded data removed]"
          },
          "metadata": {
            "needs_background": "light"
          }
        }
      ]
    },
    {
      "cell_type": "markdown",
      "source": [
        "The above chart makes some sense when comparing to the autocorrelation array for the quarterly data.  \n",
        "  \n",
        "**Are We Confident That SP500 Returns are Mean Reverting?**  \n",
        "Another question is to check what is the situation with the weekly data instead of quarterly.  \n",
        "  \n",
        "Recompute the autocorrelation of weekly returns in the Series `'SP500-Ret'` in the `df`.\n",
        "* Find the number of observations in the returns DataFrame using the `len()` function.\n",
        "* Approximate the 95% confidence interval of the estimated autocorrelation. By using math function `math.sqrt()`.\n",
        "* Plot the autocorrelation function of `df` using `plot_acf` that was imported from statsmodels. Set `alpha=0.05` for the confidence intervals (that's the default) and `lags=20`."
      ],
      "metadata": {
        "id": "G7nlrNzffkYN"
      }
    },
    {
      "cell_type": "code",
      "source": [
        "# OMA create weekly data by convering daily data\n",
        "weekly_data = df[['SP500_Ret']].resample(rule='W').last()\n",
        "print(weekly_data.shape)\n",
        "weekly_data.head()"
      ],
      "metadata": {
        "colab": {
          "base_uri": "https://localhost:8080/",
          "height": 255
        },
        "id": "SungkX75gdAm",
        "outputId": "febbb74f-8baf-4dd2-f857-9ed3ecd62947"
      },
      "execution_count": null,
      "outputs": [
        {
          "output_type": "stream",
          "name": "stdout",
          "text": [
            "(261, 1)\n"
          ]
        },
        {
          "output_type": "execute_result",
          "data": {
            "text/plain": [
              "            SP500_Ret\n",
              "DATE                 \n",
              "2017-01-29  -0.006010\n",
              "2017-02-05  -0.002115\n",
              "2017-02-12   0.005246\n",
              "2017-02-19   0.001679\n",
              "2017-02-26   0.001018"
            ],
            "text/html": [
              "\n",
              "  <div id=\"df-3e4094d3-2d35-4e35-8dea-20d58ab192af\">\n",
              "    <div class=\"colab-df-container\">\n",
              "      <div>\n",
              "<style scoped>\n",
              "    .dataframe tbody tr th:only-of-type {\n",
              "        vertical-align: middle;\n",
              "    }\n",
              "\n",
              "    .dataframe tbody tr th {\n",
              "        vertical-align: top;\n",
              "    }\n",
              "\n",
              "    .dataframe thead th {\n",
              "        text-align: right;\n",
              "    }\n",
              "</style>\n",
              "<table border=\"1\" class=\"dataframe\">\n",
              "  <thead>\n",
              "    <tr style=\"text-align: right;\">\n",
              "      <th></th>\n",
              "      <th>SP500_Ret</th>\n",
              "    </tr>\n",
              "    <tr>\n",
              "      <th>DATE</th>\n",
              "      <th></th>\n",
              "    </tr>\n",
              "  </thead>\n",
              "  <tbody>\n",
              "    <tr>\n",
              "      <th>2017-01-29</th>\n",
              "      <td>-0.006010</td>\n",
              "    </tr>\n",
              "    <tr>\n",
              "      <th>2017-02-05</th>\n",
              "      <td>-0.002115</td>\n",
              "    </tr>\n",
              "    <tr>\n",
              "      <th>2017-02-12</th>\n",
              "      <td>0.005246</td>\n",
              "    </tr>\n",
              "    <tr>\n",
              "      <th>2017-02-19</th>\n",
              "      <td>0.001679</td>\n",
              "    </tr>\n",
              "    <tr>\n",
              "      <th>2017-02-26</th>\n",
              "      <td>0.001018</td>\n",
              "    </tr>\n",
              "  </tbody>\n",
              "</table>\n",
              "</div>\n",
              "      <button class=\"colab-df-convert\" onclick=\"convertToInteractive('df-3e4094d3-2d35-4e35-8dea-20d58ab192af')\"\n",
              "              title=\"Convert this dataframe to an interactive table.\"\n",
              "              style=\"display:none;\">\n",
              "        \n",
              "  <svg xmlns=\"http://www.w3.org/2000/svg\" height=\"24px\"viewBox=\"0 0 24 24\"\n",
              "       width=\"24px\">\n",
              "    <path d=\"M0 0h24v24H0V0z\" fill=\"none\"/>\n",
              "    <path d=\"M18.56 5.44l.94 2.06.94-2.06 2.06-.94-2.06-.94-.94-2.06-.94 2.06-2.06.94zm-11 1L8.5 8.5l.94-2.06 2.06-.94-2.06-.94L8.5 2.5l-.94 2.06-2.06.94zm10 10l.94 2.06.94-2.06 2.06-.94-2.06-.94-.94-2.06-.94 2.06-2.06.94z\"/><path d=\"M17.41 7.96l-1.37-1.37c-.4-.4-.92-.59-1.43-.59-.52 0-1.04.2-1.43.59L10.3 9.45l-7.72 7.72c-.78.78-.78 2.05 0 2.83L4 21.41c.39.39.9.59 1.41.59.51 0 1.02-.2 1.41-.59l7.78-7.78 2.81-2.81c.8-.78.8-2.07 0-2.86zM5.41 20L4 18.59l7.72-7.72 1.47 1.35L5.41 20z\"/>\n",
              "  </svg>\n",
              "      </button>\n",
              "      \n",
              "  <style>\n",
              "    .colab-df-container {\n",
              "      display:flex;\n",
              "      flex-wrap:wrap;\n",
              "      gap: 12px;\n",
              "    }\n",
              "\n",
              "    .colab-df-convert {\n",
              "      background-color: #E8F0FE;\n",
              "      border: none;\n",
              "      border-radius: 50%;\n",
              "      cursor: pointer;\n",
              "      display: none;\n",
              "      fill: #1967D2;\n",
              "      height: 32px;\n",
              "      padding: 0 0 0 0;\n",
              "      width: 32px;\n",
              "    }\n",
              "\n",
              "    .colab-df-convert:hover {\n",
              "      background-color: #E2EBFA;\n",
              "      box-shadow: 0px 1px 2px rgba(60, 64, 67, 0.3), 0px 1px 3px 1px rgba(60, 64, 67, 0.15);\n",
              "      fill: #174EA6;\n",
              "    }\n",
              "\n",
              "    [theme=dark] .colab-df-convert {\n",
              "      background-color: #3B4455;\n",
              "      fill: #D2E3FC;\n",
              "    }\n",
              "\n",
              "    [theme=dark] .colab-df-convert:hover {\n",
              "      background-color: #434B5C;\n",
              "      box-shadow: 0px 1px 3px 1px rgba(0, 0, 0, 0.15);\n",
              "      filter: drop-shadow(0px 1px 2px rgba(0, 0, 0, 0.3));\n",
              "      fill: #FFFFFF;\n",
              "    }\n",
              "  </style>\n",
              "\n",
              "      <script>\n",
              "        const buttonEl =\n",
              "          document.querySelector('#df-3e4094d3-2d35-4e35-8dea-20d58ab192af button.colab-df-convert');\n",
              "        buttonEl.style.display =\n",
              "          google.colab.kernel.accessAllowed ? 'block' : 'none';\n",
              "\n",
              "        async function convertToInteractive(key) {\n",
              "          const element = document.querySelector('#df-3e4094d3-2d35-4e35-8dea-20d58ab192af');\n",
              "          const dataTable =\n",
              "            await google.colab.kernel.invokeFunction('convertToInteractive',\n",
              "                                                     [key], {});\n",
              "          if (!dataTable) return;\n",
              "\n",
              "          const docLinkHtml = 'Like what you see? Visit the ' +\n",
              "            '<a target=\"_blank\" href=https://colab.research.google.com/notebooks/data_table.ipynb>data table notebook</a>'\n",
              "            + ' to learn more about interactive tables.';\n",
              "          element.innerHTML = '';\n",
              "          dataTable['output_type'] = 'display_data';\n",
              "          await google.colab.output.renderOutput(dataTable, element);\n",
              "          const docLink = document.createElement('div');\n",
              "          docLink.innerHTML = docLinkHtml;\n",
              "          element.appendChild(docLink);\n",
              "        }\n",
              "      </script>\n",
              "    </div>\n",
              "  </div>\n",
              "  "
            ]
          },
          "metadata": {},
          "execution_count": 37
        }
      ]
    },
    {
      "cell_type": "code",
      "source": [
        "from math import sqrt\n",
        "\n",
        "# Compute and print the autocorrelation of the weekly data\n",
        "autocorrelation = weekly_data['SP500_Ret'].autocorr()\n",
        "print(\"The aurocorrelation of the weekly SP500 Ret is\", autocorrelation)\n",
        "\n",
        "# Find the number of observations in the df\n",
        "nobs = len(weekly_data)\n",
        "print(\"The number of observations is: \", nobs)\n",
        "\n",
        "# Compute the approximate confidence interval\n",
        "conf = 1.96/sqrt(nobs)\n",
        "print(\"The approx confidence interval is +/- :\", conf)\n",
        "\n",
        "# Plot the autocorrelation function with 95% conf interval and 20 lags\n",
        "plot_acf(weekly_data, alpha=0.05, lags=20)\n",
        "plt.show()"
      ],
      "metadata": {
        "colab": {
          "base_uri": "https://localhost:8080/",
          "height": 333
        },
        "id": "xPqc2vOVg7v7",
        "outputId": "e6fd175f-8bfe-4a23-b024-c6e676a52ad9"
      },
      "execution_count": null,
      "outputs": [
        {
          "output_type": "stream",
          "name": "stdout",
          "text": [
            "The aurocorrelation of the weekly SP500 Ret is 0.21665429419146473\n",
            "The number of observations is:  261\n",
            "The approx confidence interval is +/- : 0.1213209542756739\n"
          ]
        },
        {
          "output_type": "display_data",
          "data": {
            "text/plain": [
              "<Figure size 432x288 with 1 Axes>"
            ],
            "image/png": "[encoded data removed]"
          },
          "metadata": {
            "needs_background": "light"
          }
        }
      ]
    },
    {
      "cell_type": "code",
      "source": [
        "# Check if the the first lag of positive autocorr makes sense by plotting the weekly data\n",
        "\n",
        "# Slice the data to only include one year to be able to see the weekly changes\n",
        "weekly_data_2018 = weekly_data.loc['2018']\n",
        "\n",
        "print(weekly_data_2018.shape)\n",
        "weekly_data_2018['SP500_Ret'].plot(grid=True)\n",
        "plt.show()"
      ],
      "metadata": {
        "colab": {
          "base_uri": "https://localhost:8080/",
          "height": 310
        },
        "id": "rOWKIWKedR-8",
        "outputId": "660f6646-444e-404c-a613-d3e6e00ba956"
      },
      "execution_count": null,
      "outputs": [
        {
          "output_type": "stream",
          "name": "stdout",
          "text": [
            "(52, 1)\n"
          ]
        },
        {
          "output_type": "display_data",
          "data": {
            "text/plain": [
              "<Figure size 432x288 with 1 Axes>"
            ],
            "image/png": "[encoded data removed]"
          },
          "metadata": {
            "needs_background": "light"
          }
        }
      ]
    },
    {
      "cell_type": "markdown",
      "source": [
        "The pattern seen in the graph of some 2 weeks trend in the data supports the positivie and significant autocorrelation for lag 1 in the array print out. So the answer to our question is that **the weekly data is not mean reverting** in our example. Instead it has some momentum or **trend of 2 weeks**!  \n",
        "  \n",
        "**White Noise**  \n",
        "  \n",
        "What is White Noice? (There are several ways to define it)  \n",
        "* White Noise is a series with:\n",
        " * Constant mean\n",
        " * Constant variance\n",
        " * Zero autocorrelations at all lags\n",
        "* Special Case: If data has normal distribution, then it is *Gaussian White Noise*.  \n",
        "  \n",
        "**Simulating White Noise**  \n",
        "This is easy to generate. One way of generating it is using `numpy` in the following way:  \n",
        "`np.random.normal(loc=0, scale=1, size=500)`  \n",
        "Where `loc` is the mean, `scale` is the standard deviation and `size` is the sample size.  \n"
      ],
      "metadata": {
        "id": "LFDdwGoci06s"
      }
    },
    {
      "cell_type": "code",
      "source": [
        "import numpy as np\n",
        "noise = np.random.normal(loc=0, scale=1, size=500)\n",
        "noise[0:10]"
      ],
      "metadata": {
        "colab": {
          "base_uri": "https://localhost:8080/"
        },
        "id": "gTrvw4CQcd4Q",
        "outputId": "b7bd61d4-b1ea-46bd-ba9a-c909d1e80ea3"
      },
      "execution_count": null,
      "outputs": [
        {
          "output_type": "execute_result",
          "data": {
            "text/plain": [
              "array([-0.76399004, -0.38653317, -0.0768437 , -0.39130895, -1.51219998,\n",
              "       -0.67001001, -0.62747994,  0.73295662,  2.38480534,  1.02735493])"
            ]
          },
          "metadata": {},
          "execution_count": 40
        }
      ]
    },
    {
      "cell_type": "markdown",
      "source": [
        "What does white noise look like?"
      ],
      "metadata": {
        "id": "VEPedf5xefob"
      }
    },
    {
      "cell_type": "code",
      "source": [
        "plt.hist(noise)\n",
        "plt.show()"
      ],
      "metadata": {
        "colab": {
          "base_uri": "https://localhost:8080/",
          "height": 265
        },
        "id": "HQJmR_RpepvI",
        "outputId": "237a70bf-cda4-414f-c9c4-c005047371a9"
      },
      "execution_count": null,
      "outputs": [
        {
          "output_type": "display_data",
          "data": {
            "text/plain": [
              "<Figure size 432x288 with 1 Axes>"
            ],
            "image/png": "[encoded data removed]"
          },
          "metadata": {
            "needs_background": "light"
          }
        }
      ]
    },
    {
      "cell_type": "code",
      "source": [
        "plt.plot(noise)"
      ],
      "metadata": {
        "colab": {
          "base_uri": "https://localhost:8080/",
          "height": 282
        },
        "id": "2emSLlOUePg5",
        "outputId": "a3d3fb6e-f735-43d4-c402-dbfdec76c2e2"
      },
      "execution_count": null,
      "outputs": [
        {
          "output_type": "execute_result",
          "data": {
            "text/plain": [
              "[<matplotlib.lines.Line2D at 0x7fa4968cd090>]"
            ]
          },
          "metadata": {},
          "execution_count": 42
        },
        {
          "output_type": "display_data",
          "data": {
            "text/plain": [
              "<Figure size 432x288 with 1 Axes>"
            ],
            "image/png": "[encoded data removed]"
          },
          "metadata": {
            "needs_background": "light"
          }
        }
      ]
    },
    {
      "cell_type": "code",
      "source": [
        "# auto correlcation of white noise is all zero\n",
        "plot_acf(noise, lags=50, alpha=0.05)\n",
        "plt.show()"
      ],
      "metadata": {
        "colab": {
          "base_uri": "https://localhost:8080/",
          "height": 281
        },
        "id": "kIy0-bQjejHf",
        "outputId": "623f8ee3-aabd-4456-c1c8-1fb539218b1d"
      },
      "execution_count": null,
      "outputs": [
        {
          "output_type": "display_data",
          "data": {
            "text/plain": [
              "<Figure size 432x288 with 1 Axes>"
            ],
            "image/png": "[encoded data removed]"
          },
          "metadata": {
            "needs_background": "light"
          }
        }
      ]
    },
    {
      "cell_type": "code",
      "source": [
        "# Compare with SP500 autocorrelation function, close to white noise\n",
        "plot_acf(returns_2018, lags=50, alpha=0.05)\n",
        "plt.show()"
      ],
      "metadata": {
        "colab": {
          "base_uri": "https://localhost:8080/",
          "height": 281
        },
        "id": "LNa5-A1afMXD",
        "outputId": "56bd0fde-f176-40ce-dcca-2327da0053a3"
      },
      "execution_count": null,
      "outputs": [
        {
          "output_type": "display_data",
          "data": {
            "text/plain": [
              "<Figure size 432x288 with 1 Axes>"
            ],
            "image/png": "[encoded data removed]"
          },
          "metadata": {
            "needs_background": "light"
          }
        }
      ]
    },
    {
      "cell_type": "markdown",
      "source": [
        "There is no lag where the auto correlation of returns is significantly larger than zero. Notice that for a white noise time series, all the autocorrelations are close to zero, so the past will not help you forecast the future.  \n",
        "  \n",
        "**Random Walk**  \n",
        "What is a random walk?  \n",
        "* Today´s price = yesterday´s price + noise    \n",
        "   \n",
        "$$P_{t} = {P_{t-1}+\\epsilon_{t}} $$  \n",
        "  \n",
        "* Change in price is just white noise    \n",
        "   \n",
        "$$P_{t} - {P_{t-1}=\\epsilon_{t}} $$\n",
        "  \n",
        "* We can´t forecast a random walk  \n",
        "* The best guess (forecast) of tomorrow´s price is simply today´s price  \n",
        "  \n",
        "* Random walk with a drift, drift with `mju` in every period \n",
        "  \n",
        "$$P_{t} =  {\\mu+P_{t-1}+\\epsilon_{t}} $$\n",
        "  \n",
        "* Change in price is just white noise with non-zero mean: \n",
        "  \n",
        "$$P_{t} - {P_{t-1}=\\mu+\\epsilon_{t}} $$  \n",
        "  \n",
        "**Statistical Test for Random Walk**  \n",
        "By regressing current prices on lagged prices.  \n",
        "  \n",
        "* Random walk with a drift \n",
        "  \n",
        "$$P_{t} =  {\\mu+P_{t-1}+\\epsilon_{t}} $$  \n",
        "  \n",
        "* Regression test for random walk  \n",
        "\n",
        "$$P_{t} =  {\\alpha+\\beta P_{t-1}+\\epsilon_{t}} $$  \n",
        "\n",
        "Test: If the slope coefficient `beta` is not significantly different from 1, then we cannot reject the null hypothesis that the series is a random walk.  \n",
        "  \n",
        "However, if the slope coefficient is significantly less than 1 then we can reject the null hypothesis that the series is a random walk.  \n",
        "  \n",
        "The way to do that is to regress the difference in prices in on the lagged price:  \n",
        "  \n",
        "$$P_{t}-P_{t-1} =  {\\alpha+\\beta P_{t-1}+\\epsilon_{t}} $$  \n",
        "  \n",
        "And instead of testing if the slope coefficient `beta` is `1` now we test if it is `0`.  \n",
        "  \n",
        "This is called the Dickey-Fuller test:\n",
        "\n",
        "$$H_{0}: {\\beta=0 (random walk)} $$  \n",
        "  \n",
        "$$H_{1}: {\\beta<0 (not random walk)} $$  \n",
        "  \n",
        "If we add more lagged prices on the right hand side it is called the Augmented Dickey-Fuller test.  \n",
        "  \n",
        "**ADF Test in Python**  \n",
        "* Use module from statsmodels  \n",
        "`from statsmodels.tsa.stattools import adfuller`  \n",
        "* Run Augmented Dickey Fuller test  \n",
        "`adfuller(x)`  \n"
      ],
      "metadata": {
        "id": "trYAH5AcgGjp"
      }
    },
    {
      "cell_type": "code",
      "source": [
        "# Example\n",
        "from statsmodels.tsa.stattools import adfuller\n",
        "\n",
        "# Run ADF on SP500\n",
        "test_results = adfuller(df['SP500'].values)\n",
        "\n",
        "# Print p-value\n",
        "print(f'print p-value: {test_results[1]}')  "
      ],
      "metadata": {
        "colab": {
          "base_uri": "https://localhost:8080/"
        },
        "id": "1Q5WD5aplhOi",
        "outputId": "31c11dd6-5799-47dc-f028-4a4c1722cbbb"
      },
      "execution_count": null,
      "outputs": [
        {
          "output_type": "stream",
          "name": "stdout",
          "text": [
            "print p-value: 0.9540229850032211\n"
          ]
        }
      ]
    },
    {
      "cell_type": "markdown",
      "source": [
        "The main value we are interested in is the `p-value` of the test. If the `p-value` is less than `0.05` then we can reject the hypothesis that the series is a random-walk with `95%` confidence.  \n",
        "In this case the `p-value` is much higher than that and we **cannot reject the null hypothesis that the series is a random walk**."
      ],
      "metadata": {
        "id": "olna17gqnQrt"
      }
    },
    {
      "cell_type": "code",
      "source": [
        "# print full results  \n",
        "test_results"
      ],
      "metadata": {
        "colab": {
          "base_uri": "https://localhost:8080/"
        },
        "id": "fMOiqe1-nBTu",
        "outputId": "62a235f2-9874-433f-e159-6f2ab50ccfbf"
      },
      "execution_count": null,
      "outputs": [
        {
          "output_type": "execute_result",
          "data": {
            "text/plain": [
              "(-0.05190767234563959,\n",
              " 0.9540229850032211,\n",
              " 22,\n",
              " 1180,\n",
              " {'1%': -3.435903883450231,\n",
              "  '10%': -2.5680757461936223,\n",
              "  '5%': -2.863992471942117},\n",
              " 11744.671819763591)"
            ]
          },
          "metadata": {},
          "execution_count": 60
        }
      ]
    },
    {
      "cell_type": "markdown",
      "source": [
        "We can also print out the full results of the test, like `1180` the number of observations and `-0.05190767234563959` test statistica of the test and the critical values for various alphas of `1%`,`10%`,`5%`.\n",
        "  \n",
        "  \n",
        "**Generate a Random Walk**  \n",
        "  \n",
        "An example. Whereas stock *returns* are often modeled as white noise, stock prices closely follow a random walk. In other words, today's price is yesterday's price plus some random noise.\n",
        "\n",
        "We will simulate the price of a stock over time that has a starting price of 100 and every day goes up or down by a random amount. Then, plot the simulated stock price. If we run this code multiple time, we will see several realizations."
      ],
      "metadata": {
        "id": "gSio34Nkmex0"
      }
    },
    {
      "cell_type": "code",
      "source": [
        "# generate 500 random steps with mean 0 and sd 1\n",
        "steps = np.random.normal(loc=0, scale=1, size=500)\n",
        "\n",
        "# set first element to 0 so first price will be the starting stock price\n",
        "steps[0]=0\n",
        "print(steps[0:5])\n",
        "\n",
        "# simulate stock prices, P with starting price of 100\n",
        "P = 100 + np.cumsum(steps)\n",
        "print(P[0:5])\n",
        "\n",
        "# plot the simulated stock prices\n",
        "plt.plot(P)\n",
        "plt.title(\"Simulated Random Walk of Stock Price\")\n",
        "plt.show()"
      ],
      "metadata": {
        "colab": {
          "base_uri": "https://localhost:8080/",
          "height": 316
        },
        "id": "xXX3GTWOgA61",
        "outputId": "2f1de391-b363-4927-e10a-d3c211d4fa3a"
      },
      "execution_count": null,
      "outputs": [
        {
          "output_type": "stream",
          "name": "stdout",
          "text": [
            "[ 0.          0.00806313  0.80915388 -0.35709143 -0.68932702]\n",
            "[100.         100.00806313 100.81721701 100.46012558  99.77079856]\n"
          ]
        },
        {
          "output_type": "display_data",
          "data": {
            "text/plain": [
              "<Figure size 432x288 with 1 Axes>"
            ],
            "image/png": "[encoded data removed]"
          },
          "metadata": {
            "needs_background": "light"
          }
        }
      ]
    },
    {
      "cell_type": "markdown",
      "source": [
        "The simulated price series we plotted should closely resemble a random walk.  \n",
        "  \n",
        "**Get the Drift**  \n",
        "  \n",
        "In the previous step, we simulated stock prices that follow a random walk. Now we will extend this in two ways.\n",
        "\n",
        "* We will look at a random walk with a drift. Many time series, like stock prices, are random walks but tend to drift up over time.\n",
        "* In the previous step, the noise in the random walk was *additive*: random, normal changes in price were added to the last price. However, when adding noise, we could theoretically get negative prices. Now we will make the noise *multiplicative*: we will add one to the random, normal changes to get a total return, and multiply that by the last price."
      ],
      "metadata": {
        "id": "vbSk1XdKhv-E"
      }
    },
    {
      "cell_type": "code",
      "source": [
        "# generate 500 random steps with mean 1.001 and sd 0.01\n",
        "steps = np.random.normal(loc=0.001, scale=0.01, size=500)+1\n",
        "\n",
        "# set first element to 1\n",
        "steps[0]=1\n",
        "print(steps[0:5])\n",
        "\n",
        "# simulate the stock price, P , by taking the cumulative product\n",
        "P = 100 * np.cumprod(steps)\n",
        "print(P[0:5]) \n",
        "\n",
        "# plot the simulated stock prices\n",
        "plt.plot(P)\n",
        "plt.title(\"Simulated Random Walkd of Stock Price with Drift\")"
      ],
      "metadata": {
        "colab": {
          "base_uri": "https://localhost:8080/",
          "height": 333
        },
        "id": "9D1pFgCUid2S",
        "outputId": "1e715a18-4d61-4400-a2a9-ca61f04ac9a6"
      },
      "execution_count": null,
      "outputs": [
        {
          "output_type": "stream",
          "name": "stdout",
          "text": [
            "[1.         1.01847512 1.01600028 1.0056563  1.00339073]\n",
            "[100.         101.84751154 103.47710018 104.06239728 104.41524469]\n"
          ]
        },
        {
          "output_type": "execute_result",
          "data": {
            "text/plain": [
              "Text(0.5, 1.0, 'Simulated Random Walkd of Stock Price with Drift')"
            ]
          },
          "metadata": {},
          "execution_count": 54
        },
        {
          "output_type": "display_data",
          "data": {
            "text/plain": [
              "<Figure size 432x288 with 1 Axes>"
            ],
            "image/png": "[encoded data removed]"
          },
          "metadata": {
            "needs_background": "light"
          }
        }
      ]
    },
    {
      "cell_type": "code",
      "source": [
        "# check the adfuller random walk test for the simulated data\n",
        "res_2 = adfuller(steps)\n",
        "print(f'p-value is: {res_2[1]}')\n",
        "# we can reject h0"
      ],
      "metadata": {
        "colab": {
          "base_uri": "https://localhost:8080/"
        },
        "id": "YLHxf2gqt2Hy",
        "outputId": "6fe7e775-c487-4bce-c2d6-67ff8b124e48"
      },
      "execution_count": null,
      "outputs": [
        {
          "output_type": "stream",
          "name": "stdout",
          "text": [
            "p-value is: 6.433125064316917e-26\n"
          ]
        }
      ]
    },
    {
      "cell_type": "markdown",
      "source": [
        "This simulated price series we plotted should closely resemble a random walk for a high flying stock.  \n",
        "  \n",
        "**Is the SP500 and BAA10Y Random Walks?**  \n",
        "  \n",
        "Most stock prices follow a random walk (perhaps with a drift). We will look at a time series of SP500 stock priceindex and BAA10Y rate and run the 'Augmented Dickey-Fuller Test' from the statsmodels library to show that it does indeed follow a random walk.\n",
        "\n",
        "With the ADF test, the \"null hypothesis\" (the hypothesis that we either reject or fail to reject) is that the series follows a random walk. Therefore, a low p-value (say less than 5%) means we can reject the null hypothesis that the series is a random walk."
      ],
      "metadata": {
        "id": "ha6CeuA5jPiP"
      }
    },
    {
      "cell_type": "code",
      "source": [
        "# import adfuller module from statsmodels\n",
        "from statsmodels.tsa.stattools import adfuller\n",
        "\n",
        "# run adf on the SP500 and BAA10Y series and check the results\n",
        "results = adfuller(df['SP500'])\n",
        "results1 = adfuller(df['BAA10Y'])\n",
        "print(f'print SP500 full results:\\n {results}\\n')\n",
        "print(f'print BAA10Y full results:\\n {results1}\\n')\n",
        "\n",
        "# print just the p-value\n",
        "print(f'the p-value of the test of SP500 stock price index is: {results[1]}')\n",
        "print(f'the p-value of the test of BAA10Y rate index is: {results1[1]}')  \n",
        "  \n",
        "df.head()"
      ],
      "metadata": {
        "colab": {
          "base_uri": "https://localhost:8080/",
          "height": 376
        },
        "id": "-T-K3l8JkRkk",
        "outputId": "f4c5d525-6ad7-4482-dede-b209e6e4038f"
      },
      "execution_count": null,
      "outputs": [
        {
          "output_type": "stream",
          "name": "stdout",
          "text": [
            "print SP500 full results:\n",
            " (-0.05190767234563959, 0.9540229850032211, 22, 1180, {'1%': -3.435903883450231, '5%': -2.863992471942117, '10%': -2.5680757461936223}, 11744.671819763591)\n",
            "\n",
            "print BAA10Y full results:\n",
            " (-2.392935146888236, 0.14374034797439406, 15, 1187, {'1%': -3.4358710597388042, '5%': -2.863977991064458, '10%': -2.5680680340944337}, -5028.593026468976)\n",
            "\n",
            "the p-value of the test of SP500 stock price index is: 0.9540229850032211\n",
            "the p-value of the test of BAA10Y rate index is: 0.14374034797439406\n"
          ]
        },
        {
          "output_type": "execute_result",
          "data": {
            "text/plain": [
              "            const    SP500  BAA10Y  SP500_scaled  BAA10Y_scaled  SP500_Ret  \\\n",
              "DATE                                                                         \n",
              "2017-01-23    1.0  2280.07    2.21      0.016673       0.236364   0.006565   \n",
              "2017-01-24    1.0  2298.37    2.22      0.023824       0.240000   0.008026   \n",
              "2017-01-25    1.0  2296.68    2.21      0.023164       0.236364  -0.000735   \n",
              "2017-01-26    1.0  2294.69    2.20      0.022386       0.232727  -0.000866   \n",
              "2017-01-27    1.0  2280.90    2.19      0.016998       0.229091  -0.006010   \n",
              "\n",
              "            BAA10Y_Ret  \n",
              "DATE                    \n",
              "2017-01-23    0.000000  \n",
              "2017-01-24    0.004525  \n",
              "2017-01-25   -0.004505  \n",
              "2017-01-26   -0.004525  \n",
              "2017-01-27   -0.004545  "
            ],
            "text/html": [
              "\n",
              "  <div id=\"df-135d66e5-1cc8-4184-8c01-918eaca4408f\">\n",
              "    <div class=\"colab-df-container\">\n",
              "      <div>\n",
              "<style scoped>\n",
              "    .dataframe tbody tr th:only-of-type {\n",
              "        vertical-align: middle;\n",
              "    }\n",
              "\n",
              "    .dataframe tbody tr th {\n",
              "        vertical-align: top;\n",
              "    }\n",
              "\n",
              "    .dataframe thead th {\n",
              "        text-align: right;\n",
              "    }\n",
              "</style>\n",
              "<table border=\"1\" class=\"dataframe\">\n",
              "  <thead>\n",
              "    <tr style=\"text-align: right;\">\n",
              "      <th></th>\n",
              "      <th>const</th>\n",
              "      <th>SP500</th>\n",
              "      <th>BAA10Y</th>\n",
              "      <th>SP500_scaled</th>\n",
              "      <th>BAA10Y_scaled</th>\n",
              "      <th>SP500_Ret</th>\n",
              "      <th>BAA10Y_Ret</th>\n",
              "    </tr>\n",
              "    <tr>\n",
              "      <th>DATE</th>\n",
              "      <th></th>\n",
              "      <th></th>\n",
              "      <th></th>\n",
              "      <th></th>\n",
              "      <th></th>\n",
              "      <th></th>\n",
              "      <th></th>\n",
              "    </tr>\n",
              "  </thead>\n",
              "  <tbody>\n",
              "    <tr>\n",
              "      <th>2017-01-23</th>\n",
              "      <td>1.0</td>\n",
              "      <td>2280.07</td>\n",
              "      <td>2.21</td>\n",
              "      <td>0.016673</td>\n",
              "      <td>0.236364</td>\n",
              "      <td>0.006565</td>\n",
              "      <td>0.000000</td>\n",
              "    </tr>\n",
              "    <tr>\n",
              "      <th>2017-01-24</th>\n",
              "      <td>1.0</td>\n",
              "      <td>2298.37</td>\n",
              "      <td>2.22</td>\n",
              "      <td>0.023824</td>\n",
              "      <td>0.240000</td>\n",
              "      <td>0.008026</td>\n",
              "      <td>0.004525</td>\n",
              "    </tr>\n",
              "    <tr>\n",
              "      <th>2017-01-25</th>\n",
              "      <td>1.0</td>\n",
              "      <td>2296.68</td>\n",
              "      <td>2.21</td>\n",
              "      <td>0.023164</td>\n",
              "      <td>0.236364</td>\n",
              "      <td>-0.000735</td>\n",
              "      <td>-0.004505</td>\n",
              "    </tr>\n",
              "    <tr>\n",
              "      <th>2017-01-26</th>\n",
              "      <td>1.0</td>\n",
              "      <td>2294.69</td>\n",
              "      <td>2.20</td>\n",
              "      <td>0.022386</td>\n",
              "      <td>0.232727</td>\n",
              "      <td>-0.000866</td>\n",
              "      <td>-0.004525</td>\n",
              "    </tr>\n",
              "    <tr>\n",
              "      <th>2017-01-27</th>\n",
              "      <td>1.0</td>\n",
              "      <td>2280.90</td>\n",
              "      <td>2.19</td>\n",
              "      <td>0.016998</td>\n",
              "      <td>0.229091</td>\n",
              "      <td>-0.006010</td>\n",
              "      <td>-0.004545</td>\n",
              "    </tr>\n",
              "  </tbody>\n",
              "</table>\n",
              "</div>\n",
              "      <button class=\"colab-df-convert\" onclick=\"convertToInteractive('df-135d66e5-1cc8-4184-8c01-918eaca4408f')\"\n",
              "              title=\"Convert this dataframe to an interactive table.\"\n",
              "              style=\"display:none;\">\n",
              "        \n",
              "  <svg xmlns=\"http://www.w3.org/2000/svg\" height=\"24px\"viewBox=\"0 0 24 24\"\n",
              "       width=\"24px\">\n",
              "    <path d=\"M0 0h24v24H0V0z\" fill=\"none\"/>\n",
              "    <path d=\"M18.56 5.44l.94 2.06.94-2.06 2.06-.94-2.06-.94-.94-2.06-.94 2.06-2.06.94zm-11 1L8.5 8.5l.94-2.06 2.06-.94-2.06-.94L8.5 2.5l-.94 2.06-2.06.94zm10 10l.94 2.06.94-2.06 2.06-.94-2.06-.94-.94-2.06-.94 2.06-2.06.94z\"/><path d=\"M17.41 7.96l-1.37-1.37c-.4-.4-.92-.59-1.43-.59-.52 0-1.04.2-1.43.59L10.3 9.45l-7.72 7.72c-.78.78-.78 2.05 0 2.83L4 21.41c.39.39.9.59 1.41.59.51 0 1.02-.2 1.41-.59l7.78-7.78 2.81-2.81c.8-.78.8-2.07 0-2.86zM5.41 20L4 18.59l7.72-7.72 1.47 1.35L5.41 20z\"/>\n",
              "  </svg>\n",
              "      </button>\n",
              "      \n",
              "  <style>\n",
              "    .colab-df-container {\n",
              "      display:flex;\n",
              "      flex-wrap:wrap;\n",
              "      gap: 12px;\n",
              "    }\n",
              "\n",
              "    .colab-df-convert {\n",
              "      background-color: #E8F0FE;\n",
              "      border: none;\n",
              "      border-radius: 50%;\n",
              "      cursor: pointer;\n",
              "      display: none;\n",
              "      fill: #1967D2;\n",
              "      height: 32px;\n",
              "      padding: 0 0 0 0;\n",
              "      width: 32px;\n",
              "    }\n",
              "\n",
              "    .colab-df-convert:hover {\n",
              "      background-color: #E2EBFA;\n",
              "      box-shadow: 0px 1px 2px rgba(60, 64, 67, 0.3), 0px 1px 3px 1px rgba(60, 64, 67, 0.15);\n",
              "      fill: #174EA6;\n",
              "    }\n",
              "\n",
              "    [theme=dark] .colab-df-convert {\n",
              "      background-color: #3B4455;\n",
              "      fill: #D2E3FC;\n",
              "    }\n",
              "\n",
              "    [theme=dark] .colab-df-convert:hover {\n",
              "      background-color: #434B5C;\n",
              "      box-shadow: 0px 1px 3px 1px rgba(0, 0, 0, 0.15);\n",
              "      filter: drop-shadow(0px 1px 2px rgba(0, 0, 0, 0.3));\n",
              "      fill: #FFFFFF;\n",
              "    }\n",
              "  </style>\n",
              "\n",
              "      <script>\n",
              "        const buttonEl =\n",
              "          document.querySelector('#df-135d66e5-1cc8-4184-8c01-918eaca4408f button.colab-df-convert');\n",
              "        buttonEl.style.display =\n",
              "          google.colab.kernel.accessAllowed ? 'block' : 'none';\n",
              "\n",
              "        async function convertToInteractive(key) {\n",
              "          const element = document.querySelector('#df-135d66e5-1cc8-4184-8c01-918eaca4408f');\n",
              "          const dataTable =\n",
              "            await google.colab.kernel.invokeFunction('convertToInteractive',\n",
              "                                                     [key], {});\n",
              "          if (!dataTable) return;\n",
              "\n",
              "          const docLinkHtml = 'Like what you see? Visit the ' +\n",
              "            '<a target=\"_blank\" href=https://colab.research.google.com/notebooks/data_table.ipynb>data table notebook</a>'\n",
              "            + ' to learn more about interactive tables.';\n",
              "          element.innerHTML = '';\n",
              "          dataTable['output_type'] = 'display_data';\n",
              "          await google.colab.output.renderOutput(dataTable, element);\n",
              "          const docLink = document.createElement('div');\n",
              "          docLink.innerHTML = docLinkHtml;\n",
              "          element.appendChild(docLink);\n",
              "        }\n",
              "      </script>\n",
              "    </div>\n",
              "  </div>\n",
              "  "
            ]
          },
          "metadata": {},
          "execution_count": 58
        }
      ]
    },
    {
      "cell_type": "markdown",
      "source": [
        "According to our test, we cannot reject the null hypothesis that SP500 and BAA10Y follow a random walk. Next, we will look at the returns."
      ],
      "metadata": {
        "id": "QsFvHGUHm2oD"
      }
    },
    {
      "cell_type": "code",
      "source": [
        "# import adfuller module from statsmodels\n",
        "from statsmodels.tsa.stattools import adfuller\n",
        "\n",
        "# run adf on the SP500 and BAA10Y series and check the results\n",
        "results = adfuller(df['SP500_Ret'])\n",
        "results1 = adfuller(df['BAA10Y_Ret'])\n",
        "print(f'print SP500_Ret full results:\\n {results}\\n')\n",
        "print(f'print BAA10Y_Ret full results:\\n {results1}\\n')\n",
        "\n",
        "# print just the p-value\n",
        "print(f'the p-value of the test of SP500_Ret stock price index is: {results[1]}')\n",
        "print(f'the p-value of the test of BAA10Y_Ret rate index is: {results1[1]}')  \n",
        "  \n",
        "df.head()"
      ],
      "metadata": {
        "colab": {
          "base_uri": "https://localhost:8080/",
          "height": 376
        },
        "id": "zV4OaJDEnDQD",
        "outputId": "88f335d8-c80d-467d-cdc2-9026995b6fcd"
      },
      "execution_count": null,
      "outputs": [
        {
          "output_type": "stream",
          "name": "stdout",
          "text": [
            "print SP500_Ret full results:\n",
            " (-8.570505058511346, 8.22232913471858e-14, 21, 1181, {'1%': -3.4358991704737245, '5%': -2.863990392722102, '10%': -2.568074638859274}, -7217.194713794877)\n",
            "\n",
            "print BAA10Y_Ret full results:\n",
            " (-7.737778795258839, 1.082062400333422e-11, 10, 1192, {'1%': -3.4358478507713777, '5%': -2.863967751840151, '10%': -2.568062580992973}, -7176.04266694426)\n",
            "\n",
            "the p-value of the test of SP500_Ret stock price index is: 8.22232913471858e-14\n",
            "the p-value of the test of BAA10Y_Ret rate index is: 1.082062400333422e-11\n"
          ]
        },
        {
          "output_type": "execute_result",
          "data": {
            "text/plain": [
              "            const    SP500  BAA10Y  SP500_scaled  BAA10Y_scaled  SP500_Ret  \\\n",
              "DATE                                                                         \n",
              "2017-01-23    1.0  2280.07    2.21      0.016673       0.236364   0.006565   \n",
              "2017-01-24    1.0  2298.37    2.22      0.023824       0.240000   0.008026   \n",
              "2017-01-25    1.0  2296.68    2.21      0.023164       0.236364  -0.000735   \n",
              "2017-01-26    1.0  2294.69    2.20      0.022386       0.232727  -0.000866   \n",
              "2017-01-27    1.0  2280.90    2.19      0.016998       0.229091  -0.006010   \n",
              "\n",
              "            BAA10Y_Ret  \n",
              "DATE                    \n",
              "2017-01-23    0.000000  \n",
              "2017-01-24    0.004525  \n",
              "2017-01-25   -0.004505  \n",
              "2017-01-26   -0.004525  \n",
              "2017-01-27   -0.004545  "
            ],
            "text/html": [
              "\n",
              "  <div id=\"df-09beb21e-36fd-4e5a-9105-c548fa65bcaa\">\n",
              "    <div class=\"colab-df-container\">\n",
              "      <div>\n",
              "<style scoped>\n",
              "    .dataframe tbody tr th:only-of-type {\n",
              "        vertical-align: middle;\n",
              "    }\n",
              "\n",
              "    .dataframe tbody tr th {\n",
              "        vertical-align: top;\n",
              "    }\n",
              "\n",
              "    .dataframe thead th {\n",
              "        text-align: right;\n",
              "    }\n",
              "</style>\n",
              "<table border=\"1\" class=\"dataframe\">\n",
              "  <thead>\n",
              "    <tr style=\"text-align: right;\">\n",
              "      <th></th>\n",
              "      <th>const</th>\n",
              "      <th>SP500</th>\n",
              "      <th>BAA10Y</th>\n",
              "      <th>SP500_scaled</th>\n",
              "      <th>BAA10Y_scaled</th>\n",
              "      <th>SP500_Ret</th>\n",
              "      <th>BAA10Y_Ret</th>\n",
              "    </tr>\n",
              "    <tr>\n",
              "      <th>DATE</th>\n",
              "      <th></th>\n",
              "      <th></th>\n",
              "      <th></th>\n",
              "      <th></th>\n",
              "      <th></th>\n",
              "      <th></th>\n",
              "      <th></th>\n",
              "    </tr>\n",
              "  </thead>\n",
              "  <tbody>\n",
              "    <tr>\n",
              "      <th>2017-01-23</th>\n",
              "      <td>1.0</td>\n",
              "      <td>2280.07</td>\n",
              "      <td>2.21</td>\n",
              "      <td>0.016673</td>\n",
              "      <td>0.236364</td>\n",
              "      <td>0.006565</td>\n",
              "      <td>0.000000</td>\n",
              "    </tr>\n",
              "    <tr>\n",
              "      <th>2017-01-24</th>\n",
              "      <td>1.0</td>\n",
              "      <td>2298.37</td>\n",
              "      <td>2.22</td>\n",
              "      <td>0.023824</td>\n",
              "      <td>0.240000</td>\n",
              "      <td>0.008026</td>\n",
              "      <td>0.004525</td>\n",
              "    </tr>\n",
              "    <tr>\n",
              "      <th>2017-01-25</th>\n",
              "      <td>1.0</td>\n",
              "      <td>2296.68</td>\n",
              "      <td>2.21</td>\n",
              "      <td>0.023164</td>\n",
              "      <td>0.236364</td>\n",
              "      <td>-0.000735</td>\n",
              "      <td>-0.004505</td>\n",
              "    </tr>\n",
              "    <tr>\n",
              "      <th>2017-01-26</th>\n",
              "      <td>1.0</td>\n",
              "      <td>2294.69</td>\n",
              "      <td>2.20</td>\n",
              "      <td>0.022386</td>\n",
              "      <td>0.232727</td>\n",
              "      <td>-0.000866</td>\n",
              "      <td>-0.004525</td>\n",
              "    </tr>\n",
              "    <tr>\n",
              "      <th>2017-01-27</th>\n",
              "      <td>1.0</td>\n",
              "      <td>2280.90</td>\n",
              "      <td>2.19</td>\n",
              "      <td>0.016998</td>\n",
              "      <td>0.229091</td>\n",
              "      <td>-0.006010</td>\n",
              "      <td>-0.004545</td>\n",
              "    </tr>\n",
              "  </tbody>\n",
              "</table>\n",
              "</div>\n",
              "      <button class=\"colab-df-convert\" onclick=\"convertToInteractive('df-09beb21e-36fd-4e5a-9105-c548fa65bcaa')\"\n",
              "              title=\"Convert this dataframe to an interactive table.\"\n",
              "              style=\"display:none;\">\n",
              "        \n",
              "  <svg xmlns=\"http://www.w3.org/2000/svg\" height=\"24px\"viewBox=\"0 0 24 24\"\n",
              "       width=\"24px\">\n",
              "    <path d=\"M0 0h24v24H0V0z\" fill=\"none\"/>\n",
              "    <path d=\"M18.56 5.44l.94 2.06.94-2.06 2.06-.94-2.06-.94-.94-2.06-.94 2.06-2.06.94zm-11 1L8.5 8.5l.94-2.06 2.06-.94-2.06-.94L8.5 2.5l-.94 2.06-2.06.94zm10 10l.94 2.06.94-2.06 2.06-.94-2.06-.94-.94-2.06-.94 2.06-2.06.94z\"/><path d=\"M17.41 7.96l-1.37-1.37c-.4-.4-.92-.59-1.43-.59-.52 0-1.04.2-1.43.59L10.3 9.45l-7.72 7.72c-.78.78-.78 2.05 0 2.83L4 21.41c.39.39.9.59 1.41.59.51 0 1.02-.2 1.41-.59l7.78-7.78 2.81-2.81c.8-.78.8-2.07 0-2.86zM5.41 20L4 18.59l7.72-7.72 1.47 1.35L5.41 20z\"/>\n",
              "  </svg>\n",
              "      </button>\n",
              "      \n",
              "  <style>\n",
              "    .colab-df-container {\n",
              "      display:flex;\n",
              "      flex-wrap:wrap;\n",
              "      gap: 12px;\n",
              "    }\n",
              "\n",
              "    .colab-df-convert {\n",
              "      background-color: #E8F0FE;\n",
              "      border: none;\n",
              "      border-radius: 50%;\n",
              "      cursor: pointer;\n",
              "      display: none;\n",
              "      fill: #1967D2;\n",
              "      height: 32px;\n",
              "      padding: 0 0 0 0;\n",
              "      width: 32px;\n",
              "    }\n",
              "\n",
              "    .colab-df-convert:hover {\n",
              "      background-color: #E2EBFA;\n",
              "      box-shadow: 0px 1px 2px rgba(60, 64, 67, 0.3), 0px 1px 3px 1px rgba(60, 64, 67, 0.15);\n",
              "      fill: #174EA6;\n",
              "    }\n",
              "\n",
              "    [theme=dark] .colab-df-convert {\n",
              "      background-color: #3B4455;\n",
              "      fill: #D2E3FC;\n",
              "    }\n",
              "\n",
              "    [theme=dark] .colab-df-convert:hover {\n",
              "      background-color: #434B5C;\n",
              "      box-shadow: 0px 1px 3px 1px rgba(0, 0, 0, 0.15);\n",
              "      filter: drop-shadow(0px 1px 2px rgba(0, 0, 0, 0.3));\n",
              "      fill: #FFFFFF;\n",
              "    }\n",
              "  </style>\n",
              "\n",
              "      <script>\n",
              "        const buttonEl =\n",
              "          document.querySelector('#df-09beb21e-36fd-4e5a-9105-c548fa65bcaa button.colab-df-convert');\n",
              "        buttonEl.style.display =\n",
              "          google.colab.kernel.accessAllowed ? 'block' : 'none';\n",
              "\n",
              "        async function convertToInteractive(key) {\n",
              "          const element = document.querySelector('#df-09beb21e-36fd-4e5a-9105-c548fa65bcaa');\n",
              "          const dataTable =\n",
              "            await google.colab.kernel.invokeFunction('convertToInteractive',\n",
              "                                                     [key], {});\n",
              "          if (!dataTable) return;\n",
              "\n",
              "          const docLinkHtml = 'Like what you see? Visit the ' +\n",
              "            '<a target=\"_blank\" href=https://colab.research.google.com/notebooks/data_table.ipynb>data table notebook</a>'\n",
              "            + ' to learn more about interactive tables.';\n",
              "          element.innerHTML = '';\n",
              "          dataTable['output_type'] = 'display_data';\n",
              "          await google.colab.output.renderOutput(dataTable, element);\n",
              "          const docLink = document.createElement('div');\n",
              "          docLink.innerHTML = docLinkHtml;\n",
              "          element.appendChild(docLink);\n",
              "        }\n",
              "      </script>\n",
              "    </div>\n",
              "  </div>\n",
              "  "
            ]
          },
          "metadata": {},
          "execution_count": 59
        }
      ]
    },
    {
      "cell_type": "markdown",
      "source": [
        "The p-values are extremely small for both series, so **we can easily reject the hypothesis that returns are a random walk** at all levels of significance.  \n",
        "  \n",
        "**What is Stationarity**  \n",
        "*Strong stationarity*: The entire distribution of data is time-invariant  \n",
        "  \n",
        "*Weak stationairy*: mean, variance and aurocorrelation are time-invariant (does not depend on time). This is easier to test. E.g for autocorrelation the `corr(Xt, Xt-tau)` is only a function of `tau` and not a function of time.  \n",
        "  \n",
        "**Why do we care?**  \n",
        "* If a process is not stationary it becomes difficult to model. Modelling involves estimating a certain number of parameters and if a process is not stationary and the parameters are different at each point in time there are too many parameters to estimate.  \n",
        "* We may up having more parameters than data. We can only estimate a parsimonious model with a few parameters.  \n",
        "  \n",
        "Examples of common non-stationary time series:  \n",
        "* *random walk*. The variance grows with time, uncertainty in a stock price (that is a random walk) is much less tomorrow than the uncertainty 10 years from now.  \n",
        "  \n",
        "* *seasonal series* are also non-stationary. The mean varies with time of the year.  \n",
        "  \n",
        "* *change in mean or st dev over time* this makes such a series also non-stationary.  \n",
        "  \n",
        "**First difference**  \n",
        "Many non-stationary time series can be made stationairy by a simple transformation using method `.diff()`. For a seasonal series we can take the lag of 4 as difference `.diff(4)` to make it stationary.  \n",
        "  \n",
        "Sometimes we need to make two transformations. First take the `np.log()`, to eliminate exponential growth and then `.diff(4)` to eliminate the seasonality, or in combination `np.log(series_name).diff(4)`."
      ],
      "metadata": {
        "id": "T1DsptX8naS7"
      }
    },
    {
      "cell_type": "code",
      "source": [
        "plt.plot(df.SP500)"
      ],
      "metadata": {
        "colab": {
          "base_uri": "https://localhost:8080/",
          "height": 282
        },
        "id": "japPxriWx52A",
        "outputId": "2f7c4b51-4a47-4734-edf4-e2801d416549"
      },
      "execution_count": null,
      "outputs": [
        {
          "output_type": "execute_result",
          "data": {
            "text/plain": [
              "[<matplotlib.lines.Line2D at 0x7fa483de4990>]"
            ]
          },
          "metadata": {},
          "execution_count": 63
        },
        {
          "output_type": "display_data",
          "data": {
            "text/plain": [
              "<Figure size 432x288 with 1 Axes>"
            ],
            "image/png": "[encoded data removed]"
          },
          "metadata": {
            "needs_background": "light"
          }
        }
      ]
    },
    {
      "cell_type": "code",
      "source": [
        "# re-shape into montly data\n",
        "monthly_sp500 = df[['SP500']].resample(rule='M').last()\n",
        "plt.plot(monthly_sp500)"
      ],
      "metadata": {
        "colab": {
          "base_uri": "https://localhost:8080/",
          "height": 282
        },
        "id": "j0_mwklCzBPv",
        "outputId": "6d4bf4ca-c60e-485f-c942-ff3ed29cfc66"
      },
      "execution_count": null,
      "outputs": [
        {
          "output_type": "execute_result",
          "data": {
            "text/plain": [
              "[<matplotlib.lines.Line2D at 0x7fa486c76950>]"
            ]
          },
          "metadata": {},
          "execution_count": 78
        },
        {
          "output_type": "display_data",
          "data": {
            "text/plain": [
              "<Figure size 432x288 with 1 Axes>"
            ],
            "image/png": "[encoded data removed]"
          },
          "metadata": {
            "needs_background": "light"
          }
        }
      ]
    },
    {
      "cell_type": "code",
      "source": [
        "plot_acf(monthly_sp500)\n",
        "plt.show()"
      ],
      "metadata": {
        "colab": {
          "base_uri": "https://localhost:8080/",
          "height": 281
        },
        "id": "_DPcKo7wynLI",
        "outputId": "79f40b9a-2dd7-4de8-f757-eeffd3f05b24"
      },
      "execution_count": null,
      "outputs": [
        {
          "output_type": "display_data",
          "data": {
            "text/plain": [
              "<Figure size 432x288 with 1 Axes>"
            ],
            "image/png": "[encoded data removed]"
          },
          "metadata": {
            "needs_background": "light"
          }
        }
      ]
    },
    {
      "cell_type": "code",
      "source": [
        "# take the log and first difference, not real need for the log but for demo purpose only\n",
        "m_trans = np.log(df.SP500).diff()\n",
        "plt.plot(m_trans)"
      ],
      "metadata": {
        "colab": {
          "base_uri": "https://localhost:8080/",
          "height": 286
        },
        "id": "eSaqoyMfyN22",
        "outputId": "f893f3fe-46c7-417e-b09f-45ac09dbc231"
      },
      "execution_count": null,
      "outputs": [
        {
          "output_type": "execute_result",
          "data": {
            "text/plain": [
              "[<matplotlib.lines.Line2D at 0x7fa48180ffd0>]"
            ]
          },
          "metadata": {},
          "execution_count": 98
        },
        {
          "output_type": "display_data",
          "data": {
            "text/plain": [
              "<Figure size 432x288 with 1 Axes>"
            ],
            "image/png": "[encoded data removed]"
          },
          "metadata": {
            "needs_background": "light"
          }
        }
      ]
    },
    {
      "cell_type": "code",
      "source": [
        "# check autocorrelation of the transformed series\n",
        "m_trans = m_trans.dropna()\n",
        "plot_acf(m_trans)\n",
        "plt.show()"
      ],
      "metadata": {
        "colab": {
          "base_uri": "https://localhost:8080/",
          "height": 281
        },
        "id": "hrSvh4nB0IBY",
        "outputId": "3d21acdb-74b6-429d-e387-df5000071393"
      },
      "execution_count": null,
      "outputs": [
        {
          "output_type": "display_data",
          "data": {
            "text/plain": [
              "<Figure size 432x288 with 1 Axes>"
            ],
            "image/png": "[encoded data removed]"
          },
          "metadata": {
            "needs_background": "light"
          }
        }
      ]
    },
    {
      "cell_type": "markdown",
      "source": [
        "The series looks better from an autocorrelation perspective after we took the first diff, but it is still not perfect.  \n",
        "  \n",
        "## 3. Autoregressive (AR) Models\n",
        "\n",
        "#### Describe AR Model  \n",
        "In an AR model the today´s value equals a mean plus a fraction `phi` of yesterday´s value plus noise.  \n",
        "  \n",
        "$$_{R_t=\\mu+\\phi R_{t-1} + \\epsilon_t}$$  \n",
        "  \n",
        "* Since there is only one lagged value on the right hand side this is called:\n",
        " * AR-model of order 1, or\n",
        " * AR(1) model  \n",
        " * AR parameter is `phi`\n",
        " * The process is a random walk if:\n",
        " $${\\phi} = 1$$\n",
        " * The process is white noise if:\n",
        " $${\\phi} = 0$$\n",
        " * For stationarity it is required that:    \n",
        " $$-1 < {\\phi} < 1$$  \n",
        "  \n",
        "Interpretation of AR(1) parameter:  \n",
        "* If `phi` is negative, positive return last period expect that the next period return will be negative. This implies Mean Reversion  \n",
        "* If `phi` is positive, positive return last period expect that the next period will also be positive. This implies Momentum.  \n",
        "\n",
        "Autocorrelation of AR(1) process.  \n",
        "Autocorrelation decays exponentially at the rate of `phi`. This means that a AR(1) process with `phi=0.9` the `lag1` `ac` is `0.9`, the `lag2` `ac` is `0.9^2`, the `lag3` `ac` is `0.9^3` etc. If `phi` is negative the autocorrelation still decays exponentially but the signs of the autocorrelation reverse at each lag.  \n",
        "  \n",
        "####Higher Order of AR models  \n",
        "  \n",
        "The model can be extended to include more `phi` parameters.  \n",
        "  \n",
        "AR(1):\n",
        "$$_{R_t=\\mu+\\phi_1 R_{t-1} + \\epsilon_t}$$   \n",
        "  \n",
        "AR(2)\n",
        "$$_{R_t=\\mu+\\phi_1 R_{t-1} +\\phi_2 R_{t-2} + \\epsilon_t}$$  \n",
        "  \n",
        "AR(3)\n",
        "$$_{R_t=\\mu+\\phi_1 R_{t-1} +\\phi_2 R_{t-2} +\\phi_3 R_{t-3} + \\epsilon_t}$$   \n",
        "...  \n",
        "  \n",
        "To understand a pure AR process it is usefull to work with simluated data. `statsmodels` provides methods for simulating AR processes. For example for the AR(1) model with `phi` = 0.9 the second element of the ` ar = np.array([1, -09])` is the opposite sign and we must also include the first element 1 for 0-lag, this convention is a bit counter intuitive. This is consistent with time series literature in the field of singal processing. We also have to input the `ma = np.array([1])` parameter, we will talk about this later.\n",
        "  \n"
      ],
      "metadata": {
        "id": "ee8Ef_qR1Ay6"
      }
    },
    {
      "cell_type": "code",
      "source": [
        "from statsmodels.tsa.arima_process import ArmaProcess\n",
        "ar = np.array([1, -0.9]) # must include 0 lag coeff of 1, sign of other coeff is opposite of what we have used -\n",
        "ma = np.array([1])\n",
        "AR_object = ArmaProcess(ar, ma)\n",
        "simulated_data = AR_object.generate_sample(nsample=1000)\n",
        "plt.plot(simulated_data)"
      ],
      "metadata": {
        "colab": {
          "base_uri": "https://localhost:8080/",
          "height": 282
        },
        "id": "Pxd4qC-DsQAC",
        "outputId": "fc6db10d-9dd0-4216-8a5f-c07385c66b68"
      },
      "execution_count": 5,
      "outputs": [
        {
          "output_type": "execute_result",
          "data": {
            "text/plain": [
              "[<matplotlib.lines.Line2D at 0x7fa90667ee10>]"
            ]
          },
          "metadata": {},
          "execution_count": 5
        },
        {
          "output_type": "display_data",
          "data": {
            "text/plain": [
              "<Figure size 432x288 with 1 Axes>"
            ],
            "image/png": "[encoded data removed]"
          },
          "metadata": {
            "needs_background": "light"
          }
        }
      ]
    },
    {
      "cell_type": "markdown",
      "source": [
        "**Simulate AR(1) Time Series**  \n",
        "We will simulate and plot a few AR(1) time series, each with a different parameter, `phi`, using the `arima_process` module in statsmodels. In this exercise, you will look at an AR(1) model with a large positive `phi` and a large negative `phi`, we will play around with our own parameters.\n",
        "\n",
        "There are a few conventions when using the `arima_process` module that require some explanation. First, these routines were made very generally to handle both AR and MA models. We will cover MA models next, so for now, just ignore the MA part. Second, when inputting the coefficients, we must include the zero-lag coefficient of 1, and the sign of the other coefficients is opposite what we have been using (to be consistent with the time series literature in signal processing). For example, for an AR(1) process with `phi = 0.9` , the array representing the AR parameters would be `ar = np.array([1, -0.9])`"
      ],
      "metadata": {
        "id": "an7BT-rMtts2"
      }
    },
    {
      "cell_type": "code",
      "source": [
        "# import the module for simulating data\n",
        "from statsmodels.tsa.arima_process import ArmaProcess\n",
        "\n",
        "# Plot 1: AR parameter = +0.9\n",
        "plt.subplot(2,1,1)\n",
        "ar1 = np.array([1, -0.9])\n",
        "ma1 = np.array([1])\n",
        "AR_object1 = ArmaProcess(ar1, ma1)\n",
        "simulated_data_1 = AR_object1.generate_sample(nsample=1000)\n",
        "plt.plot(simulated_data_1)\n",
        "\n",
        "# Plot 2: AR parameter = -0.9\n",
        "plt.subplot(2,1,2)\n",
        "ar2 = np.array([1, 0.9])\n",
        "ma2 = np.array([1])\n",
        "AR_object2 = ArmaProcess(ar2, ma2)\n",
        "simulated_data_2 = AR_object2.generate_sample(nsample=1000)\n",
        "plt.plot(simulated_data_2)\n",
        "plt.show()\n",
        "\n",
        "# Plot 3: AR parameter = 0.3\n",
        "plt.subplot(2,1,2)\n",
        "ar3 = np.array([1, -0.3])\n",
        "ma3 = np.array([1])\n",
        "AR_object3 = ArmaProcess(ar3, ma3)\n",
        "simulated_data_3 = AR_object3.generate_sample(nsample=1000)\n",
        "plt.plot(simulated_data_3)\n",
        "plt.show()"
      ],
      "metadata": {
        "id": "PRNGKMUsLb_7",
        "colab": {
          "base_uri": "https://localhost:8080/",
          "height": 395
        },
        "outputId": "7a1fc879-d14e-4945-d151-12967328d8f5"
      },
      "execution_count": 9,
      "outputs": [
        {
          "output_type": "display_data",
          "data": {
            "text/plain": [
              "<Figure size 432x288 with 2 Axes>"
            ],
            "image/png": "[encoded data removed]"
          },
          "metadata": {
            "needs_background": "light"
          }
        },
        {
          "output_type": "display_data",
          "data": {
            "text/plain": [
              "<Figure size 432x288 with 1 Axes>"
            ],
            "image/png": "[encoded data removed]"
          },
          "metadata": {
            "needs_background": "light"
          }
        }
      ]
    },
    {
      "cell_type": "markdown",
      "source": [
        "**Compare the ACF for Several AR Time Series**\n",
        "The autocorrelation function decays exponentially for an AR time series at a rate of the AR parameter. For example, if the AR parameter, `phi = 0.9` , the first-lag autocorrelation will be 0.9, the second-lag will be \n",
        "0.9^2, the third-lag will be 0.9^3 \n",
        ", etc. A smaller AR parameter will have a steeper decay, and for a negative AR parameter, say -0.9, the decay will flip signs, so the first-lag autocorrelation will be -0.9, the second-lag will be -0.9^2 = 0.81\n",
        ", the third-lag will be -0.9^3 = -0.729\n",
        ", etc.\n",
        "\n",
        "The object `simulated_data_1` is the simulated time series with an AR parameter of +0.9, `simulated_data_2` is for an AR parameter of -0.9, and `simulated_data_3` is for an AR parameter of 0.3"
      ],
      "metadata": {
        "id": "i5ZshOQVuvT_"
      }
    },
    {
      "cell_type": "code",
      "source": [
        "# Import the plot_acf module from statsmodels\n",
        "from statsmodels.graphics.tsaplots import plot_acf\n",
        "\n",
        "# Plot 1: AR parameter = +0.9\n",
        "plot_acf(simulated_data_1, alpha=1, lags=20)\n",
        "plt.show()\n",
        "\n",
        "# Plot 2: AR parameter = -0.9\n",
        "plot_acf(simulated_data_2, alpha=1, lags=20)\n",
        "plt.show()\n",
        "\n",
        "# Plot 3: AR parameter = +0.3\n",
        "plot_acf(simulated_data_3, alpha=1, lags=20)\n",
        "plt.show()"
      ],
      "metadata": {
        "colab": {
          "base_uri": "https://localhost:8080/",
          "height": 809
        },
        "id": "Thbf0KQ3uTWI",
        "outputId": "59cfdf38-b9e6-460d-c290-a1b69750241d"
      },
      "execution_count": 10,
      "outputs": [
        {
          "output_type": "display_data",
          "data": {
            "text/plain": [
              "<Figure size 432x288 with 1 Axes>"
            ],
            "image/png": "[encoded data removed]"
          },
          "metadata": {
            "needs_background": "light"
          }
        },
        {
          "output_type": "display_data",
          "data": {
            "text/plain": [
              "<Figure size 432x288 with 1 Axes>"
            ],
            "image/png": "[encoded data removed]"
          },
          "metadata": {
            "needs_background": "light"
          }
        },
        {
          "output_type": "display_data",
          "data": {
            "text/plain": [
              "<Figure size 432x288 with 1 Axes>"
            ],
            "image/png": "[encoded data removed]"
          },
          "metadata": {
            "needs_background": "light"
          }
        }
      ]
    },
    {
      "cell_type": "code",
      "source": [
        ""
      ],
      "metadata": {
        "id": "yrBdeE02vXfe"
      },
      "execution_count": null,
      "outputs": []
    }
  ]
}