{
 "cells": [
  {
   "cell_type": "markdown",
   "metadata": {},
   "source": [
    "# Object Oriented Programming in Python  \n",
    "1. OOP Fundamentals\n",
    "2. Inheritance and Polymorphism\n",
    "3. Integrating with Standard Python\n",
    "4. Best Practices of Class Design\n",
    "  \n",
    "  \n",
    "### 1 OOP Fundamentals  \n",
    "The difference between Object Oriented Programming and Procedural Programming.  \n",
    "  \n",
    "**Procedural programming**  \n",
    "* Code as a sequence of steps\n",
    "* Common for data analysis  \n",
    " Typically one download data, process it and visualize it  \n",
    " Thinking in sequences is natural and works for one person´s specific routine  \n",
    " But to specify a specific routine for 1000s of people would be unsustainable  \n",
    " The more data and code one has the harder it is to think in sequence of steps    \n",
    "  \n",
    "**OOP**\n",
    "* Code as interactions of objects\n",
    "* Good for building frameworks and tools  \n",
    "* Reusable and maintainable code!  \n",
    " Thinking in terms of collections of objects and patterns of their interactions  \n",
    " This is usefull when designing frameworks like API´s or tools like Panda df.  \n",
    "  \n",
    "Fundamental concepts of OOB are objects and classes.  \n",
    "  \n",
    "* Object as data structure  \n",
    " An Object incorporates info about state + behaviour. E.g a customer object can have  \n",
    " state info like: email, phone number  \n",
    " behaviour info like: place order, cancel order  \n",
    "  \n",
    "**Encapsulation**  \n",
    "Distinct feature of OOP is that state + behaviour is bundle together. E.g we think of the customer as one unit. This is called *encapsulation* - bundling data with code operating on it!  \n",
    "  \n",
    "The real strength of OOB comes from utilising classes.  \n",
    "  \n",
    "**Classes as blueprints**  \n",
    "* **Class**: blueprint for object outlining possible states and behaviours. E.g Customer class can be defined\n",
    " * email\n",
    " * phone\n",
    " * place order\n",
    " * cancel order  \n",
    "\n",
    " In this way we can talk about customers in a unified way. Then a specific Customer object is just the realization of the Customer class with particular state values.  \n",
    "  \n",
    "**Objects in Python**  \n",
    "* *Everything in Python is an object*\n",
    "* Every object has a class  \n",
    "* Use `type()` on any Python object to find out it´s class  \n",
    " Numbers, strings, data frames, functions etc are objects  \n",
    " Everything we deal with in Python has a class, a blueprint associationed with it under the hood.  \n"
   ]
  },
  {
   "cell_type": "code",
   "execution_count": 16,
   "metadata": {},
   "outputs": [
    {
     "data": {
      "text/html": [
       "<div>\n",
       "<style scoped>\n",
       "    .dataframe tbody tr th:only-of-type {\n",
       "        vertical-align: middle;\n",
       "    }\n",
       "\n",
       "    .dataframe tbody tr th {\n",
       "        vertical-align: top;\n",
       "    }\n",
       "\n",
       "    .dataframe thead th {\n",
       "        text-align: right;\n",
       "    }\n",
       "</style>\n",
       "<table border=\"1\" class=\"dataframe\">\n",
       "  <thead>\n",
       "    <tr style=\"text-align: right;\">\n",
       "      <th></th>\n",
       "      <th>Object</th>\n",
       "      <th>Class</th>\n",
       "    </tr>\n",
       "  </thead>\n",
       "  <tbody>\n",
       "    <tr>\n",
       "      <th>0</th>\n",
       "      <td>5</td>\n",
       "      <td>int</td>\n",
       "    </tr>\n",
       "    <tr>\n",
       "      <th>1</th>\n",
       "      <td>Hello</td>\n",
       "      <td>str</td>\n",
       "    </tr>\n",
       "    <tr>\n",
       "      <th>2</th>\n",
       "      <td>pd.DataFrame()</td>\n",
       "      <td>DataFrame</td>\n",
       "    </tr>\n",
       "    <tr>\n",
       "      <th>3</th>\n",
       "      <td>np.mean</td>\n",
       "      <td>function</td>\n",
       "    </tr>\n",
       "    <tr>\n",
       "      <th>4</th>\n",
       "      <td>...</td>\n",
       "      <td>...</td>\n",
       "    </tr>\n",
       "  </tbody>\n",
       "</table>\n",
       "</div>"
      ],
      "text/plain": [
       "           Object      Class\n",
       "0               5        int\n",
       "1           Hello        str\n",
       "2  pd.DataFrame()  DataFrame\n",
       "3         np.mean   function\n",
       "4             ...        ..."
      ]
     },
     "execution_count": 16,
     "metadata": {},
     "output_type": "execute_result"
    }
   ],
   "source": [
    "import pandas as pd\n",
    "objects = [[\"Object\", \"Class\"],\n",
    "           [5, \"int\"],\n",
    "           [\"Hello\", \"str\"],\n",
    "           [\"pd.DataFrame()\", \"DataFrame\"],\n",
    "           [\"np.mean\", \"function\"],\n",
    "           [\"...\",\"...\"]\n",
    "          ]\n",
    "objects = pd.DataFrame(objects[1:], columns=objects[0])\n",
    "objects.head()"
   ]
  },
  {
   "cell_type": "code",
   "execution_count": 17,
   "metadata": {},
   "outputs": [
    {
     "data": {
      "text/plain": [
       "pandas.core.frame.DataFrame"
      ]
     },
     "execution_count": 17,
     "metadata": {},
     "output_type": "execute_result"
    }
   ],
   "source": [
    "type(objects)"
   ]
  },
  {
   "cell_type": "markdown",
   "metadata": {},
   "source": [
    "**Attributes and methods**  \n",
    "State <-> attributes : state information in Python is contained in attributes  \n",
    "Behaviour <-> methods : behaviour information is contained in methods  \n",
    "E.g numpy array attribute, accessible by dot (`.`)  \n",
    "\n",
    "`a = np.array([1,2,3,4])`  \n",
    "`a.shape`  \n",
    "It also has methods, accessible by dot (`.`) like    \n",
    "`a.reshape(2,2)`  "
   ]
  },
  {
   "cell_type": "code",
   "execution_count": 20,
   "metadata": {},
   "outputs": [
    {
     "data": {
      "text/plain": [
       "(4,)"
      ]
     },
     "execution_count": 20,
     "metadata": {},
     "output_type": "execute_result"
    }
   ],
   "source": [
    "import numpy as np\n",
    "a = np.array([1,2,3,4])\n",
    "a.shape"
   ]
  },
  {
   "cell_type": "code",
   "execution_count": 22,
   "metadata": {},
   "outputs": [
    {
     "data": {
      "text/plain": [
       "array([[1, 2],\n",
       "       [3, 4]])"
      ]
     },
     "execution_count": 22,
     "metadata": {},
     "output_type": "execute_result"
    }
   ],
   "source": [
    "a.reshape(2,2)"
   ]
  },
  {
   "cell_type": "markdown",
   "metadata": {},
   "source": [
    "**Object = attributes + methods**  \n",
    "* attributes (shape) <-> represented by **variables** (Like numbers, strings, tuples) <-> `obj.my_attribute`  \n",
    "* method <-> represented by **function()** <-> `obj.my_method()`  \n",
    "  \n",
    "We can list all attributes and methods of an object by using `dir()` on it.  \n",
    "  \n",
    "Classes and objects both have attributes and methods, but the difference is that a class is an abstract template, while an object is a concrete representation of a class."
   ]
  },
  {
   "cell_type": "code",
   "execution_count": 28,
   "metadata": {},
   "outputs": [
    {
     "data": {
      "text/plain": [
       "['T',\n",
       " '__abs__',\n",
       " '__add__',\n",
       " '__and__',\n",
       " '__array__',\n",
       " '__array_finalize__',\n",
       " '__array_function__',\n",
       " '__array_interface__',\n",
       " '__array_prepare__',\n",
       " '__array_priority__',\n",
       " '__array_struct__',\n",
       " '__array_ufunc__',\n",
       " '__array_wrap__',\n",
       " '__bool__',\n",
       " '__class__',\n",
       " '__complex__',\n",
       " '__contains__',\n",
       " '__copy__',\n",
       " '__deepcopy__',\n",
       " '__delattr__',\n",
       " '__delitem__',\n",
       " '__dir__',\n",
       " '__divmod__',\n",
       " '__doc__',\n",
       " '__eq__',\n",
       " '__float__',\n",
       " '__floordiv__',\n",
       " '__format__',\n",
       " '__ge__',\n",
       " '__getattribute__',\n",
       " '__getitem__',\n",
       " '__gt__',\n",
       " '__hash__',\n",
       " '__iadd__',\n",
       " '__iand__',\n",
       " '__ifloordiv__',\n",
       " '__ilshift__',\n",
       " '__imatmul__',\n",
       " '__imod__',\n",
       " '__imul__',\n",
       " '__index__',\n",
       " '__init__',\n",
       " '__init_subclass__',\n",
       " '__int__',\n",
       " '__invert__',\n",
       " '__ior__',\n",
       " '__ipow__',\n",
       " '__irshift__',\n",
       " '__isub__',\n",
       " '__iter__',\n",
       " '__itruediv__',\n",
       " '__ixor__',\n",
       " '__le__',\n",
       " '__len__',\n",
       " '__lshift__',\n",
       " '__lt__',\n",
       " '__matmul__',\n",
       " '__mod__',\n",
       " '__mul__',\n",
       " '__ne__',\n",
       " '__neg__',\n",
       " '__new__',\n",
       " '__or__',\n",
       " '__pos__',\n",
       " '__pow__',\n",
       " '__radd__',\n",
       " '__rand__',\n",
       " '__rdivmod__',\n",
       " '__reduce__',\n",
       " '__reduce_ex__',\n",
       " '__repr__',\n",
       " '__rfloordiv__',\n",
       " '__rlshift__',\n",
       " '__rmatmul__',\n",
       " '__rmod__',\n",
       " '__rmul__',\n",
       " '__ror__',\n",
       " '__rpow__',\n",
       " '__rrshift__',\n",
       " '__rshift__',\n",
       " '__rsub__',\n",
       " '__rtruediv__',\n",
       " '__rxor__',\n",
       " '__setattr__',\n",
       " '__setitem__',\n",
       " '__setstate__',\n",
       " '__sizeof__',\n",
       " '__str__',\n",
       " '__sub__',\n",
       " '__subclasshook__',\n",
       " '__truediv__',\n",
       " '__xor__',\n",
       " 'all',\n",
       " 'any',\n",
       " 'argmax',\n",
       " 'argmin',\n",
       " 'argpartition',\n",
       " 'argsort',\n",
       " 'astype',\n",
       " 'base',\n",
       " 'byteswap',\n",
       " 'choose',\n",
       " 'clip',\n",
       " 'compress',\n",
       " 'conj',\n",
       " 'conjugate',\n",
       " 'copy',\n",
       " 'ctypes',\n",
       " 'cumprod',\n",
       " 'cumsum',\n",
       " 'data',\n",
       " 'diagonal',\n",
       " 'dot',\n",
       " 'dtype',\n",
       " 'dump',\n",
       " 'dumps',\n",
       " 'fill',\n",
       " 'flags',\n",
       " 'flat',\n",
       " 'flatten',\n",
       " 'getfield',\n",
       " 'imag',\n",
       " 'item',\n",
       " 'itemset',\n",
       " 'itemsize',\n",
       " 'max',\n",
       " 'mean',\n",
       " 'min',\n",
       " 'nbytes',\n",
       " 'ndim',\n",
       " 'newbyteorder',\n",
       " 'nonzero',\n",
       " 'partition',\n",
       " 'prod',\n",
       " 'ptp',\n",
       " 'put',\n",
       " 'ravel',\n",
       " 'real',\n",
       " 'repeat',\n",
       " 'reshape',\n",
       " 'resize',\n",
       " 'round',\n",
       " 'searchsorted',\n",
       " 'setfield',\n",
       " 'setflags',\n",
       " 'shape',\n",
       " 'size',\n",
       " 'sort',\n",
       " 'squeeze',\n",
       " 'std',\n",
       " 'strides',\n",
       " 'sum',\n",
       " 'swapaxes',\n",
       " 'take',\n",
       " 'tobytes',\n",
       " 'tofile',\n",
       " 'tolist',\n",
       " 'tostring',\n",
       " 'trace',\n",
       " 'transpose',\n",
       " 'var',\n",
       " 'view']"
      ]
     },
     "execution_count": 28,
     "metadata": {},
     "output_type": "execute_result"
    }
   ],
   "source": [
    "dir(a)"
   ]
  },
  {
   "cell_type": "markdown",
   "metadata": {},
   "source": [
    "**Class anatomy: attributes and methods**  \n",
    "Until now we have worked with existing classes and object, it is time to create our own.  \n",
    "  \n",
    "To start a new class all we need is a class statement following the name of the class and a `:`.  \n",
    "* `class Customer:` starts a class\n",
    "* code inside `class` is indented and considered part of the class  \n",
    "* use `pass` go create and 'empty' class  \n",
    "  \n",
    "Even if such a class is empty we can still create objects of the class by specifying the name of the class.  \n",
    "* use `ClassName()` to create and object of class `CLassName`."
   ]
  },
  {
   "cell_type": "code",
   "execution_count": 1,
   "metadata": {},
   "outputs": [],
   "source": [
    "class Customer:\n",
    "    # code in the class placed here\n",
    "    pass"
   ]
  },
  {
   "cell_type": "code",
   "execution_count": 3,
   "metadata": {},
   "outputs": [
    {
     "name": "stdout",
     "output_type": "stream",
     "text": [
      "<class '__main__.Customer'>\n",
      "<class '__main__.Customer'>\n"
     ]
    }
   ],
   "source": [
    "c0 = Customer()\n",
    "c1 = Customer()\n",
    "print(type(c0))\n",
    "print(type(c1))"
   ]
  },
  {
   "cell_type": "markdown",
   "metadata": {},
   "source": [
    "We want to create objects that actually store some data and operate on it, i.e having attributes and methods.  \n",
    "  \n",
    "**Add methods to a class**  \n",
    "Adding a method is simple. Methods are functions.  \n",
    "* method definition = function definition inside a class\n",
    "* use `self` as the first argument in method definition  \n",
    "A method looks almost like a function except for one thing, the `self` argument, that every method will hae as the first argument and possibly followed by other arguments.  \n"
   ]
  },
  {
   "cell_type": "code",
   "execution_count": 4,
   "metadata": {},
   "outputs": [],
   "source": [
    "class Customer:\n",
    "    def identify(self, name):\n",
    "        print(\"I am the Customer \" + name)"
   ]
  },
  {
   "cell_type": "code",
   "execution_count": 5,
   "metadata": {},
   "outputs": [
    {
     "name": "stdout",
     "output_type": "stream",
     "text": [
      "I am the Customer Laura\n"
     ]
    }
   ],
   "source": [
    "# create a new customer object\n",
    "cust = Customer()\n",
    "# call the method and pass the desired name\n",
    "cust.identify(\"Laura\")"
   ]
  },
  {
   "cell_type": "markdown",
   "metadata": {},
   "source": [
    "Note that the name was the second argument in the method definition, but it is the first parameter when the method is called. The `self` is not needed in the method call.  \n",
    "  \n",
    "**What is self?**  \n",
    "* classes are templates, objects of a class dont yet exists when a class is being defined, but we often need a way to refer to the data of a particular object within class definition. This is the purpose of `self`.\n",
    "* `self` is a stand-in for a particula object used in class definition. That is why every method should have the self argument\n",
    "* should be the first argument of any method, so we can use it to access attributes and call other methods from within the class definition even when no objects were created yet.  \n",
    "* Python will handle `self` when method is called from an object:  \n",
    "`cust.identify(\"Laura\")` will be inerpreted as `Customer.identify(cust, \"Laura\")`.  \n",
    "In fact, using `object.method()` is equivalent to passing that object as an argument, that is why we don´t specify it explicitly when calling the method from inside an existing object.\n",
    "  \n",
    "**We need attributes**  \n",
    "* **Encapsulation:** bundling data with methods that operate on data. By the principles of OOP the data descibing the state of the object should be bundled into the object.\n",
    "* E.g `Customer`'s' name should be an attribute of the customer object instead of an parameter passed to a method  \n",
    "* Attributes are created by assignment (=) in methods  \n",
    "Meaning an attribute manifests into existence only when values are assign to it.  \n",
    "  \n",
    "**Add an attribute to class**  \n",
    "To create an attribute of the Customer class called `name` (below), all we need to do is to assign something to `self.name`. Remember that self is a stand-in for object. Here we set the `.name` attribute to `new_name` parameter of the function. When we crete a customer it does not yet have a name attribute. "
   ]
  },
  {
   "cell_type": "code",
   "execution_count": 11,
   "metadata": {},
   "outputs": [],
   "source": [
    "class Customer:\n",
    "    # set the name attribue of an object to new_name\n",
    "    def set_name(self, new_name):\n",
    "        # create an attribute by assigning a value\n",
    "        self.name = new_name        # <- will create .name set_name is called"
   ]
  },
  {
   "cell_type": "code",
   "execution_count": 12,
   "metadata": {},
   "outputs": [
    {
     "name": "stdout",
     "output_type": "stream",
     "text": [
      "Lara\n"
     ]
    }
   ],
   "source": [
    "cust = Customer()     # <--.name does not exist here yet\n",
    "cust.set_name(\"Lara\") # <--.name is created and set to \"Lara\"\n",
    "print(cust.name)      # <--.name can be used to access it"
   ]
  },
  {
   "cell_type": "markdown",
   "metadata": {},
   "source": [
    "Equipped with a name attribute we can improve the identification method.  \n",
    "Instead of passing `name` as a parameter we will use the data already stored in the `.name` attribute of the Customer class. We remove the `name` parameter from the `identify()` method and replace it with `self.name` in the print out, which will pull the `.name` attribute from the object that called the method. Now the `identify()` method will only use the data that is encapsulated in the object."
   ]
  },
  {
   "cell_type": "code",
   "execution_count": 29,
   "metadata": {},
   "outputs": [],
   "source": [
    "# old verion\n",
    "class Customer:\n",
    "    \n",
    "    # Using a parameter\n",
    "    def identify(self, name):\n",
    "        print(\"I am the Customer \" + name)"
   ]
  },
  {
   "cell_type": "code",
   "execution_count": 30,
   "metadata": {},
   "outputs": [
    {
     "name": "stdout",
     "output_type": "stream",
     "text": [
      "I am the Customer Eric\n"
     ]
    }
   ],
   "source": [
    "cust = Customer()\n",
    "cust.identify(\"Eric\")"
   ]
  },
  {
   "cell_type": "code",
   "execution_count": 31,
   "metadata": {},
   "outputs": [],
   "source": [
    "# new version\n",
    "class Customer:\n",
    "    def set_name(self, new_name):\n",
    "        self.name = new_name\n",
    "    \n",
    "    # Using .name from the object it*self*\n",
    "    def identify(self):\n",
    "            print(\"I am the Customer \" + self.name)"
   ]
  },
  {
   "cell_type": "code",
   "execution_count": 32,
   "metadata": {},
   "outputs": [
    {
     "name": "stdout",
     "output_type": "stream",
     "text": [
      "I am the Customer Fredric\n"
     ]
    }
   ],
   "source": [
    "cust = Customer()\n",
    "cust.set_name(\"Fredric\")\n",
    "cust.identify()"
   ]
  },
  {
   "cell_type": "code",
   "execution_count": 33,
   "metadata": {},
   "outputs": [
    {
     "name": "stdout",
     "output_type": "stream",
     "text": [
      "6\n"
     ]
    }
   ],
   "source": [
    "# Print the number 6\n",
    "class MyCounter:\n",
    "    def set_count(self, n):\n",
    "        self.count = n\n",
    "\n",
    "mc = MyCounter()\n",
    "mc.set_count(5)\n",
    "mc.count = mc.count + 1\n",
    "print(mc.count)"
   ]
  },
  {
   "cell_type": "markdown",
   "metadata": {},
   "source": [
    "Notice how you used `self.count` to refer to the `count` attribute inside a class definition, and `mc.count` to refer to the `count` attribute of an object. Make sure you understand the difference, and when to use which form.  \n",
    "  \n",
    "**Create your first class**  \n",
    "Now we write our first class! We start building the Employee class we briefly explored previously. We'll start by creating methods that set attributes, and then add a few methods that manipulate them.\n",
    "\n",
    "As mentioned, an object-oriented approach is most useful when our code involves complex interactions of many objects. In real production code, classes can have dozens of attributes and methods with complicated logic, but the underlying structure is the same as with the most simple class.\n",
    "\n",
    "Our classes in this course will only have a few attributes and short methods, but the organizational principles behind the them will be directly translatable to more complicated code."
   ]
  },
  {
   "cell_type": "code",
   "execution_count": null,
   "metadata": {},
   "outputs": [],
   "source": [
    "# Jatka tästä\n",
    "# https://campus.datacamp.com/courses/object-oriented-programming-in-python/oop-fundamentals?ex=6"
   ]
  }
 ],
 "metadata": {
  "kernelspec": {
   "display_name": "Python 3",
   "language": "python",
   "name": "python3"
  },
  "language_info": {
   "codemirror_mode": {
    "name": "ipython",
    "version": 3
   },
   "file_extension": ".py",
   "mimetype": "text/x-python",
   "name": "python",
   "nbconvert_exporter": "python",
   "pygments_lexer": "ipython3",
   "version": "3.8.5"
  }
 },
 "nbformat": 4,
 "nbformat_minor": 4
}
