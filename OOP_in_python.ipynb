{
 "cells": [
  {
   "cell_type": "markdown",
   "metadata": {},
   "source": [
    "# Object Oriented Programming in Python  \n",
    "1. OOP Fundamentals\n",
    "2. Inheritance and Polymorphism\n",
    "3. Integrating with Standard Python\n",
    "4. Best Practices of Class Design\n",
    "  \n",
    "  \n",
    "### 1. OOP Fundamentals  \n",
    "The difference between Object Oriented Programming and Procedural Programming.  \n",
    "  \n",
    "**Procedural programming**  \n",
    "* Code as a sequence of steps\n",
    "* Common for data analysis  \n",
    " Typically one download data, process it and visualize it  \n",
    " Thinking in sequences is natural and works for one person´s specific routine  \n",
    " But to specify a specific routine for 1000s of people would be unsustainable  \n",
    " The more data and code one has the harder it is to think in sequence of steps    \n",
    "  \n",
    "**OOP**\n",
    "* Code as interactions of objects\n",
    "* Good for building frameworks and tools  \n",
    "* Reusable and maintainable code!  \n",
    " Thinking in terms of collections of objects and patterns of their interactions  \n",
    " This is usefull when designing frameworks like API´s or tools like Panda df.  \n",
    "  \n",
    "Fundamental concepts of OOB are objects and classes.  \n",
    "  \n",
    "* Object as data structure  \n",
    " An Object incorporates info about state + behaviour. E.g a customer object can have  \n",
    " state info like: email, phone number  \n",
    " behaviour info like: place order, cancel order  \n",
    "  \n",
    "**Encapsulation**  \n",
    "Distinct feature of OOP is that state + behaviour is bundled together. E.g we think of the customer as one unit. This is called *encapsulation* - bundling data with code operating on it!  \n",
    "  \n",
    "The real strength of OOB comes from utilising classes.  \n",
    "  \n",
    "**Classes as blueprints**  \n",
    "* **Class**: blueprint for object outlining possible states and behaviours. E.g Customer class can be defined\n",
    " * email\n",
    " * phone\n",
    " * place order\n",
    " * cancel order  \n",
    "\n",
    " In this way we can talk about customers in a unified way. Then a specific Customer object is just the realization of the Customer class with particular state values.  \n",
    "  \n",
    "**Objects in Python**  \n",
    "* *Everything in Python is an object*\n",
    "* Every object has a class  \n",
    "* Use `type()` on any Python object to find out it´s class  \n",
    " Numbers, strings, data frames, functions etc are objects  \n",
    " Everything we deal with in Python has a class, a blueprint associationed with it under the hood.  \n"
   ]
  },
  {
   "cell_type": "code",
   "execution_count": 1,
   "metadata": {},
   "outputs": [
    {
     "data": {
      "text/html": [
       "<div>\n",
       "<style scoped>\n",
       "    .dataframe tbody tr th:only-of-type {\n",
       "        vertical-align: middle;\n",
       "    }\n",
       "\n",
       "    .dataframe tbody tr th {\n",
       "        vertical-align: top;\n",
       "    }\n",
       "\n",
       "    .dataframe thead th {\n",
       "        text-align: right;\n",
       "    }\n",
       "</style>\n",
       "<table border=\"1\" class=\"dataframe\">\n",
       "  <thead>\n",
       "    <tr style=\"text-align: right;\">\n",
       "      <th></th>\n",
       "      <th>Object</th>\n",
       "      <th>Class</th>\n",
       "    </tr>\n",
       "  </thead>\n",
       "  <tbody>\n",
       "    <tr>\n",
       "      <th>0</th>\n",
       "      <td>5</td>\n",
       "      <td>int</td>\n",
       "    </tr>\n",
       "    <tr>\n",
       "      <th>1</th>\n",
       "      <td>Hello</td>\n",
       "      <td>str</td>\n",
       "    </tr>\n",
       "    <tr>\n",
       "      <th>2</th>\n",
       "      <td>pd.DataFrame()</td>\n",
       "      <td>DataFrame</td>\n",
       "    </tr>\n",
       "    <tr>\n",
       "      <th>3</th>\n",
       "      <td>np.mean</td>\n",
       "      <td>function</td>\n",
       "    </tr>\n",
       "    <tr>\n",
       "      <th>4</th>\n",
       "      <td>...</td>\n",
       "      <td>...</td>\n",
       "    </tr>\n",
       "  </tbody>\n",
       "</table>\n",
       "</div>"
      ],
      "text/plain": [
       "           Object      Class\n",
       "0               5        int\n",
       "1           Hello        str\n",
       "2  pd.DataFrame()  DataFrame\n",
       "3         np.mean   function\n",
       "4             ...        ..."
      ]
     },
     "execution_count": 1,
     "metadata": {},
     "output_type": "execute_result"
    }
   ],
   "source": [
    "import pandas as pd\n",
    "objects = [[\"Object\", \"Class\"],\n",
    "           [5, \"int\"],\n",
    "           [\"Hello\", \"str\"],\n",
    "           [\"pd.DataFrame()\", \"DataFrame\"],\n",
    "           [\"np.mean\", \"function\"],\n",
    "           [\"...\",\"...\"]\n",
    "          ]\n",
    "objects = pd.DataFrame(objects[1:], columns=objects[0])\n",
    "objects.head()"
   ]
  },
  {
   "cell_type": "code",
   "execution_count": 2,
   "metadata": {},
   "outputs": [
    {
     "data": {
      "text/plain": [
       "pandas.core.frame.DataFrame"
      ]
     },
     "execution_count": 2,
     "metadata": {},
     "output_type": "execute_result"
    }
   ],
   "source": [
    "type(objects)"
   ]
  },
  {
   "cell_type": "markdown",
   "metadata": {},
   "source": [
    "**Attributes and methods**  \n",
    "State <-> attributes : state information in Python is contained in attributes  \n",
    "Behaviour <-> methods : behaviour information is contained in methods  \n",
    "E.g numpy array attribute, accessible by dot (`.`)  \n",
    "\n",
    "`a = np.array([1,2,3,4])`  \n",
    "`a.shape`  \n",
    "It also has methods, accessible by dot (`.`) like    \n",
    "`a.reshape(2,2)`  "
   ]
  },
  {
   "cell_type": "code",
   "execution_count": 3,
   "metadata": {},
   "outputs": [
    {
     "data": {
      "text/plain": [
       "(4,)"
      ]
     },
     "execution_count": 3,
     "metadata": {},
     "output_type": "execute_result"
    }
   ],
   "source": [
    "import numpy as np\n",
    "a = np.array([1,2,3,4])\n",
    "a.shape"
   ]
  },
  {
   "cell_type": "code",
   "execution_count": 4,
   "metadata": {},
   "outputs": [
    {
     "data": {
      "text/plain": [
       "array([[1, 2],\n",
       "       [3, 4]])"
      ]
     },
     "execution_count": 4,
     "metadata": {},
     "output_type": "execute_result"
    }
   ],
   "source": [
    "a.reshape(2,2)"
   ]
  },
  {
   "cell_type": "markdown",
   "metadata": {},
   "source": [
    "**Object = attributes + methods**  \n",
    "* attributes (shape) <-> represented by **variables** (Like numbers, strings, tuples) <-> `obj.my_attribute`  \n",
    "* method <-> represented by **function()** <-> `obj.my_method()`  \n",
    "  \n",
    "We can list all attributes and methods of an object by using `dir()` on it.  \n",
    "  \n",
    "Classes and objects both have attributes and methods, but the difference is that a class is an abstract template, while an object is a concrete representation of a class."
   ]
  },
  {
   "cell_type": "code",
   "execution_count": 5,
   "metadata": {},
   "outputs": [
    {
     "data": {
      "text/plain": [
       "['T',\n",
       " '__abs__',\n",
       " '__add__',\n",
       " '__and__',\n",
       " '__array__',\n",
       " '__array_finalize__',\n",
       " '__array_function__',\n",
       " '__array_interface__',\n",
       " '__array_prepare__',\n",
       " '__array_priority__',\n",
       " '__array_struct__',\n",
       " '__array_ufunc__',\n",
       " '__array_wrap__',\n",
       " '__bool__',\n",
       " '__class__',\n",
       " '__complex__',\n",
       " '__contains__',\n",
       " '__copy__',\n",
       " '__deepcopy__',\n",
       " '__delattr__',\n",
       " '__delitem__',\n",
       " '__dir__',\n",
       " '__divmod__',\n",
       " '__doc__',\n",
       " '__eq__',\n",
       " '__float__',\n",
       " '__floordiv__',\n",
       " '__format__',\n",
       " '__ge__',\n",
       " '__getattribute__',\n",
       " '__getitem__',\n",
       " '__gt__',\n",
       " '__hash__',\n",
       " '__iadd__',\n",
       " '__iand__',\n",
       " '__ifloordiv__',\n",
       " '__ilshift__',\n",
       " '__imatmul__',\n",
       " '__imod__',\n",
       " '__imul__',\n",
       " '__index__',\n",
       " '__init__',\n",
       " '__init_subclass__',\n",
       " '__int__',\n",
       " '__invert__',\n",
       " '__ior__',\n",
       " '__ipow__',\n",
       " '__irshift__',\n",
       " '__isub__',\n",
       " '__iter__',\n",
       " '__itruediv__',\n",
       " '__ixor__',\n",
       " '__le__',\n",
       " '__len__',\n",
       " '__lshift__',\n",
       " '__lt__',\n",
       " '__matmul__',\n",
       " '__mod__',\n",
       " '__mul__',\n",
       " '__ne__',\n",
       " '__neg__',\n",
       " '__new__',\n",
       " '__or__',\n",
       " '__pos__',\n",
       " '__pow__',\n",
       " '__radd__',\n",
       " '__rand__',\n",
       " '__rdivmod__',\n",
       " '__reduce__',\n",
       " '__reduce_ex__',\n",
       " '__repr__',\n",
       " '__rfloordiv__',\n",
       " '__rlshift__',\n",
       " '__rmatmul__',\n",
       " '__rmod__',\n",
       " '__rmul__',\n",
       " '__ror__',\n",
       " '__rpow__',\n",
       " '__rrshift__',\n",
       " '__rshift__',\n",
       " '__rsub__',\n",
       " '__rtruediv__',\n",
       " '__rxor__',\n",
       " '__setattr__',\n",
       " '__setitem__',\n",
       " '__setstate__',\n",
       " '__sizeof__',\n",
       " '__str__',\n",
       " '__sub__',\n",
       " '__subclasshook__',\n",
       " '__truediv__',\n",
       " '__xor__',\n",
       " 'all',\n",
       " 'any',\n",
       " 'argmax',\n",
       " 'argmin',\n",
       " 'argpartition',\n",
       " 'argsort',\n",
       " 'astype',\n",
       " 'base',\n",
       " 'byteswap',\n",
       " 'choose',\n",
       " 'clip',\n",
       " 'compress',\n",
       " 'conj',\n",
       " 'conjugate',\n",
       " 'copy',\n",
       " 'ctypes',\n",
       " 'cumprod',\n",
       " 'cumsum',\n",
       " 'data',\n",
       " 'diagonal',\n",
       " 'dot',\n",
       " 'dtype',\n",
       " 'dump',\n",
       " 'dumps',\n",
       " 'fill',\n",
       " 'flags',\n",
       " 'flat',\n",
       " 'flatten',\n",
       " 'getfield',\n",
       " 'imag',\n",
       " 'item',\n",
       " 'itemset',\n",
       " 'itemsize',\n",
       " 'max',\n",
       " 'mean',\n",
       " 'min',\n",
       " 'nbytes',\n",
       " 'ndim',\n",
       " 'newbyteorder',\n",
       " 'nonzero',\n",
       " 'partition',\n",
       " 'prod',\n",
       " 'ptp',\n",
       " 'put',\n",
       " 'ravel',\n",
       " 'real',\n",
       " 'repeat',\n",
       " 'reshape',\n",
       " 'resize',\n",
       " 'round',\n",
       " 'searchsorted',\n",
       " 'setfield',\n",
       " 'setflags',\n",
       " 'shape',\n",
       " 'size',\n",
       " 'sort',\n",
       " 'squeeze',\n",
       " 'std',\n",
       " 'strides',\n",
       " 'sum',\n",
       " 'swapaxes',\n",
       " 'take',\n",
       " 'tobytes',\n",
       " 'tofile',\n",
       " 'tolist',\n",
       " 'tostring',\n",
       " 'trace',\n",
       " 'transpose',\n",
       " 'var',\n",
       " 'view']"
      ]
     },
     "execution_count": 5,
     "metadata": {},
     "output_type": "execute_result"
    }
   ],
   "source": [
    "dir(a)"
   ]
  },
  {
   "cell_type": "markdown",
   "metadata": {},
   "source": [
    "**Class anatomy: attributes and methods**  \n",
    "Until now we have worked with existing classes and object, it is time to create our own.  \n",
    "  \n",
    "To start a new class all we need is a class statement following the name of the class and a `:`.  \n",
    "* `class Customer:` starts a class\n",
    "* code inside `class` is indented and considered part of the class  \n",
    "* use `pass` to create and 'empty' class  \n",
    "  \n",
    "Even if such a class is empty we can still create objects of the class by specifying the name of the class.  \n",
    "* use `ClassName()` to create and object of class `ClassName`."
   ]
  },
  {
   "cell_type": "code",
   "execution_count": 6,
   "metadata": {},
   "outputs": [],
   "source": [
    "class Customer:\n",
    "    # code in the class placed here\n",
    "    pass"
   ]
  },
  {
   "cell_type": "code",
   "execution_count": 7,
   "metadata": {},
   "outputs": [
    {
     "name": "stdout",
     "output_type": "stream",
     "text": [
      "<class '__main__.Customer'>\n",
      "<class '__main__.Customer'>\n"
     ]
    }
   ],
   "source": [
    "c0 = Customer()\n",
    "c1 = Customer()\n",
    "print(type(c0))\n",
    "print(type(c1))"
   ]
  },
  {
   "cell_type": "markdown",
   "metadata": {},
   "source": [
    "We want to create objects that actually store some data and operate on it, i.e having attributes and methods.  \n",
    "  \n",
    "**Add methods to a class**  \n",
    "Adding a method is simple. Methods are functions.  \n",
    "* method definition = function definition inside a class\n",
    "* use `self` as the first argument in method definition  \n",
    "A method looks almost like a function except for one thing, the `self` argument, that every method will have as the first argument and possibly followed by other arguments.  \n"
   ]
  },
  {
   "cell_type": "code",
   "execution_count": 8,
   "metadata": {},
   "outputs": [],
   "source": [
    "class Customer:\n",
    "    def identify(self, name):\n",
    "        print(\"I am the Customer \" + name)"
   ]
  },
  {
   "cell_type": "code",
   "execution_count": 9,
   "metadata": {},
   "outputs": [
    {
     "name": "stdout",
     "output_type": "stream",
     "text": [
      "I am the Customer Laura\n"
     ]
    }
   ],
   "source": [
    "# create a new customer object\n",
    "cust = Customer()\n",
    "# call the method and pass the desired name\n",
    "cust.identify(\"Laura\")"
   ]
  },
  {
   "cell_type": "markdown",
   "metadata": {},
   "source": [
    "Note that the name was the second argument in the method definition, but it is the first parameter when the method is called. The `self` is not needed in the method call.  \n",
    "  \n",
    "**What is self?**  \n",
    "* classes are templates, objects of a class dont yet exists when a class is being defined, but we often need a way to refer to the data of a particular object within class definition. This is the purpose of `self`.\n",
    "* `self` is a stand-in for a particular object used in class definition. That is why every method should have the self argument\n",
    "* should be the first argument of any method, so we can use it to access attributes and call other methods from within the class definition even when no objects were created yet.  \n",
    "* Python will handle `self` when method is called from an object:  \n",
    "`cust.identify(\"Laura\")` will be inerpreted as `Customer.identify(cust, \"Laura\")`.  \n",
    "In fact, using `object.method()` is equivalent to passing that object as an argument, that is why we don´t specify it explicitly when calling the method from inside an existing object.\n",
    "  \n",
    "**We need attributes**  \n",
    "* **Encapsulation:** bundling data with methods that operate on data. By the principles of OOP the data descibing the state of the object should be bundled into the object.\n",
    "* E.g `Customer`'s' name should be an attribute of the customer object instead of an parameter passed to a method  \n",
    "* Attributes are created by assignment (=) in methods  \n",
    "Meaning an attribute manifests into existence only when values are assign to it.  \n",
    "  \n",
    "**Add an attribute to class**  \n",
    "To create an attribute of the Customer class called `name` (below), all we need to do is to assign something to `self.name`. Remember that self is a stand-in for object. Here we set the `.name` attribute to `new_name` parameter of the function. When we crete a customer it does not yet have a name attribute. "
   ]
  },
  {
   "cell_type": "code",
   "execution_count": 10,
   "metadata": {},
   "outputs": [],
   "source": [
    "class Customer:\n",
    "    # set the name attribue of an object to new_name\n",
    "    def set_name(self, new_name):\n",
    "        # create an attribute by assigning a value\n",
    "        self.name = new_name        # <- will create .name when set_name is called"
   ]
  },
  {
   "cell_type": "code",
   "execution_count": 11,
   "metadata": {},
   "outputs": [
    {
     "name": "stdout",
     "output_type": "stream",
     "text": [
      "Lara\n"
     ]
    }
   ],
   "source": [
    "cust = Customer()     # <--.name does not exist here yet\n",
    "cust.set_name(\"Lara\") # <--.name is created and set to \"Lara\"\n",
    "print(cust.name)      # <--.name can be used to access it"
   ]
  },
  {
   "cell_type": "markdown",
   "metadata": {},
   "source": [
    "Equipped with a name attribute we can improve the identification method.  \n",
    "Instead of passing `name` as a parameter we will use the data already stored in the `.name` attribute of the Customer class. We remove the `name` parameter from the `identify()` method and replace it with `self.name` in the print out, which will pull the `.name` attribute from the object that called the method. Now the `identify()` method will only use the data that is encapsulated in the object."
   ]
  },
  {
   "cell_type": "code",
   "execution_count": 12,
   "metadata": {},
   "outputs": [],
   "source": [
    "# old verion\n",
    "class Customer:\n",
    "    \n",
    "    # Using a parameter\n",
    "    def identify(self, name):\n",
    "        print(\"I am the Customer \" + name)"
   ]
  },
  {
   "cell_type": "code",
   "execution_count": 13,
   "metadata": {},
   "outputs": [
    {
     "name": "stdout",
     "output_type": "stream",
     "text": [
      "I am the Customer Eric\n"
     ]
    }
   ],
   "source": [
    "cust = Customer()\n",
    "cust.identify(\"Eric\")"
   ]
  },
  {
   "cell_type": "code",
   "execution_count": 14,
   "metadata": {},
   "outputs": [],
   "source": [
    "# new version\n",
    "class Customer:\n",
    "    def set_name(self, new_name):\n",
    "        self.name = new_name\n",
    "    \n",
    "    # Using .name from the object it*self*\n",
    "    def identify(self):\n",
    "            print(\"I am the Customer \" + self.name)"
   ]
  },
  {
   "cell_type": "code",
   "execution_count": 15,
   "metadata": {},
   "outputs": [
    {
     "name": "stdout",
     "output_type": "stream",
     "text": [
      "I am the Customer Fredric\n"
     ]
    }
   ],
   "source": [
    "cust = Customer()\n",
    "cust.set_name(\"Fredric\")\n",
    "cust.identify()"
   ]
  },
  {
   "cell_type": "code",
   "execution_count": 16,
   "metadata": {},
   "outputs": [
    {
     "name": "stdout",
     "output_type": "stream",
     "text": [
      "6\n"
     ]
    }
   ],
   "source": [
    "# Print the number 6\n",
    "class MyCounter:\n",
    "    def set_count(self, n):\n",
    "        self.count = n\n",
    "\n",
    "mc = MyCounter()\n",
    "mc.set_count(5)\n",
    "mc.count = mc.count + 1\n",
    "print(mc.count)"
   ]
  },
  {
   "cell_type": "markdown",
   "metadata": {},
   "source": [
    "Notice how you used `self.count` to refer to the `count` attribute inside a class definition, and `mc.count` to refer to the `count` attribute of an object. Make sure you understand the difference, and when to use which form.  \n",
    "  \n",
    "**Create your first class**  \n",
    "Now we write our first class! We start building the Employee class we briefly explored previously. We'll start by creating methods that set attributes, and then add a few methods that manipulate them.\n",
    "\n",
    "As mentioned, an object-oriented approach is most useful when our code involves complex interactions of many objects. In real production code, classes can have dozens of attributes and methods with complicated logic, but the underlying structure is the same as with the most simple class.\n",
    "\n",
    "Our classes in this course will only have a few attributes and short methods, but the organizational principles behind the them will be directly translatable to more complicated code.   \n",
    "  \n",
    "**Create Employee Class**"
   ]
  },
  {
   "cell_type": "code",
   "execution_count": 17,
   "metadata": {},
   "outputs": [
    {
     "name": "stdout",
     "output_type": "stream",
     "text": [
      "Korel Rossi\n"
     ]
    }
   ],
   "source": [
    "# Include a set_name method\n",
    "class Employee:\n",
    "  \n",
    "  def set_name(self, new_name):\n",
    "    self.name = new_name\n",
    "  \n",
    "# Create an object emp of class Employee  \n",
    "emp = Employee()\n",
    "\n",
    "# Use set_name() on emp to set the name of emp to 'Korel Rossi'\n",
    "emp.set_name(\"Korel Rossi\")\n",
    "\n",
    "# Print the name of emp\n",
    "print(emp.name)"
   ]
  },
  {
   "cell_type": "markdown",
   "metadata": {},
   "source": [
    "* Follow the pattern to add another method - `set_salary()` - that will set the `salary` attribute of the class to the parameter `new_salary` passed to method.\n",
    "* Set the salary of `emp` to `50000`"
   ]
  },
  {
   "cell_type": "code",
   "execution_count": 18,
   "metadata": {},
   "outputs": [
    {
     "name": "stdout",
     "output_type": "stream",
     "text": [
      "Korel Rossi\n",
      "50000\n"
     ]
    }
   ],
   "source": [
    "class Employee:\n",
    "  \n",
    "  def set_name(self, new_name):\n",
    "    self.name = new_name\n",
    "  \n",
    "  # Add set_salary() method\n",
    "  def set_salary(self, new_salary):\n",
    "    self.salary = new_salary\n",
    "  \n",
    "  \n",
    "# Create an object emp of class Employee  \n",
    "emp = Employee()\n",
    "\n",
    "# Use set_name to set the name of emp to 'Korel Rossi'\n",
    "emp.set_name('Korel Rossi')\n",
    "\n",
    "# Set the salary of emp to 50000\n",
    "emp.set_salary(50000)\n",
    "\n",
    "print(emp.name)\n",
    "print(emp.salary)"
   ]
  },
  {
   "cell_type": "markdown",
   "metadata": {},
   "source": [
    "We created our first class with two methods and two attributes. Try running `dir(emp)` in the console and see if you can find where these attributes and methods pop up!"
   ]
  },
  {
   "cell_type": "code",
   "execution_count": 19,
   "metadata": {},
   "outputs": [
    {
     "data": {
      "text/plain": [
       "['__class__',\n",
       " '__delattr__',\n",
       " '__dict__',\n",
       " '__dir__',\n",
       " '__doc__',\n",
       " '__eq__',\n",
       " '__format__',\n",
       " '__ge__',\n",
       " '__getattribute__',\n",
       " '__gt__',\n",
       " '__hash__',\n",
       " '__init__',\n",
       " '__init_subclass__',\n",
       " '__le__',\n",
       " '__lt__',\n",
       " '__module__',\n",
       " '__ne__',\n",
       " '__new__',\n",
       " '__reduce__',\n",
       " '__reduce_ex__',\n",
       " '__repr__',\n",
       " '__setattr__',\n",
       " '__sizeof__',\n",
       " '__str__',\n",
       " '__subclasshook__',\n",
       " '__weakref__',\n",
       " 'set_name',\n",
       " 'set_salary']"
      ]
     },
     "execution_count": 19,
     "metadata": {},
     "output_type": "execute_result"
    }
   ],
   "source": [
    "dir(Employee)"
   ]
  },
  {
   "cell_type": "markdown",
   "metadata": {},
   "source": [
    "**Using attributes in class definition**  \n",
    "In the previous exercise, you defined an `Employee` class with two attributes and two methods setting those attributes. This kind of method, aptly called a setter method, is far from the only possible kind. *Methods are functions*, so anything you can do with a function, you can also do with a method. For example, you can use methods to print, return values, make plots, and raise exceptions, as long as it makes sense as the behavior of the objects described by the class (an `Employee` probably wouldn't have a `pivot_table()` method)."
   ]
  },
  {
   "cell_type": "code",
   "execution_count": 20,
   "metadata": {},
   "outputs": [
    {
     "name": "stdout",
     "output_type": "stream",
     "text": [
      "50000\n",
      "51500\n"
     ]
    }
   ],
   "source": [
    "class Employee:\n",
    "    def set_name(self, new_name):\n",
    "        self.name = new_name\n",
    "\n",
    "    def set_salary(self, new_salary):\n",
    "        self.salary = new_salary \n",
    "  \n",
    "emp = Employee()\n",
    "emp.set_name('Korel Rossi')\n",
    "emp.set_salary(50000)\n",
    "\n",
    "# Print the salary attribute of emp\n",
    "print(emp.salary)\n",
    "\n",
    "# Increase salary of emp by 1500\n",
    "emp.salary = emp.salary + 1500\n",
    "\n",
    "# Print the salary attribute of emp again\n",
    "print(emp.salary)"
   ]
  },
  {
   "cell_type": "markdown",
   "metadata": {},
   "source": [
    "Raising a salary for an employee is a *common pattern* of behavior, so it should be part of the class definition instead.\n",
    "\n",
    "* Add a method `give_raise()` to `Employee` that increases the salary by the amount passed to `give_raise()` as a parameter."
   ]
  },
  {
   "cell_type": "code",
   "execution_count": 21,
   "metadata": {},
   "outputs": [
    {
     "name": "stdout",
     "output_type": "stream",
     "text": [
      "50000\n",
      "51500\n"
     ]
    }
   ],
   "source": [
    "class Employee:\n",
    "    def set_name(self, new_name):\n",
    "        self.name = new_name\n",
    "\n",
    "    def set_salary(self, new_salary):\n",
    "        self.salary = new_salary \n",
    "\n",
    "    # Add a give_raise() method with raise amount as a parameter\n",
    "    def give_raise(self, raise_amount):\n",
    "        self.salary = self.salary + raise_amount\n",
    "\n",
    "emp = Employee()\n",
    "emp.set_name('Korel Rossi')\n",
    "emp.set_salary(50000)\n",
    "\n",
    "print(emp.salary)\n",
    "emp.give_raise(1500)\n",
    "print(emp.salary)"
   ]
  },
  {
   "cell_type": "markdown",
   "metadata": {},
   "source": [
    "Methods don't have to just modify the attributes - they can return values as well!\n",
    "\n",
    "* Add a method `monthly_salary()` that `return` s the value of the `.salary` attribute divided by 12.\n",
    "* Call `.monthly_salary()` on `emp`, assign it to `mon_sal`, and print."
   ]
  },
  {
   "cell_type": "code",
   "execution_count": 22,
   "metadata": {},
   "outputs": [
    {
     "name": "stdout",
     "output_type": "stream",
     "text": [
      "John Doe\n",
      "17000\n",
      "1416.6666666666667\n"
     ]
    }
   ],
   "source": [
    "class Employee:\n",
    "    def set_name(self, new_name):\n",
    "        self.name = new_name\n",
    "        \n",
    "    def set_salary(self, new_salary):\n",
    "        self.salary = new_salary\n",
    "    \n",
    "    def give_raise(self, raise_amount):\n",
    "        self.salary = self.salary + raise_amount\n",
    "        \n",
    "    # Add monthly_salary method that returns 1/12 of salary attribute\n",
    "    def monthly_salary(self):\n",
    "        return self.salary / 12\n",
    "\n",
    "emp = Employee()\n",
    "emp.set_name('John Doe')\n",
    "emp.set_salary(17000)\n",
    "print(emp.name)\n",
    "print(emp.salary)\n",
    "\n",
    "    # Get monthly salary of emp and assign to mon_sal\n",
    "mon_sal = emp.monthly_salary()\n",
    "\n",
    "# Print mon_sal\n",
    "print(mon_sal)"
   ]
  },
  {
   "cell_type": "markdown",
   "metadata": {},
   "source": [
    "Why did we write these methods when all the same operations could have been performed on object attributes directly? Our code was very simple, but methods that deal only with attribute values often have pre-processing and checks built in: for example, maybe the company has a maximal allowable raise amount. Then it would be prudent to add a clause to the `give_raise()` method that checks whether the raise amount is within limits.  \n",
    "  \n",
    "**Class anatomy: the __init__ constructor**  \n",
    "  \n",
    "We did methods and attributes above  \n",
    "* Methods are function definitions within a class\n",
    "* `self` as the first argument\n",
    "* Define attributes by assignment\n",
    "* Refer to attributes in class via `self._`  \n",
    "We defined methods one after another within the class e.g"
   ]
  },
  {
   "cell_type": "code",
   "execution_count": null,
   "metadata": {},
   "outputs": [],
   "source": [
    "# do not run\n",
    "\n",
    "class MyClass:\n",
    "    # func definition in class\n",
    "    # first arg is self\n",
    "    def my_method1(self, other_args):\n",
    "        # do this\n",
    "    \n",
    "    def my_method2(self, my_attr)\n",
    "    # attribute created by assignment\n",
    "    self.my_attr = my_attre"
   ]
  },
  {
   "cell_type": "markdown",
   "metadata": {},
   "source": [
    "Defining methods one after another like above could quickly become unsustainable if the class contain alot of data. A better strategy would be to add data to the object when creating it, like what we do when we create a numpy array or a dataframe. Python allows us to add a special method called the Constructor that is automatically called everytime and object is created. This method must be called `__init__()`, this is essential for Python to recognize it.\n",
    "  \n",
    "**Constructor**\n",
    "* Add data to object when creating it?\n",
    "* Constructor `__init__()` method is called every time an object is created\n",
    "Below we define the init method for the customer class. The init method will be automatically called when we pass the customer name in parenthesis to Customer() when creating the customer object and the name attribute created."
   ]
  },
  {
   "cell_type": "code",
   "execution_count": 23,
   "metadata": {},
   "outputs": [
    {
     "name": "stdout",
     "output_type": "stream",
     "text": [
      "The __init__ method was called\n",
      "James Bond\n"
     ]
    }
   ],
   "source": [
    "class Customer:\n",
    "    def __init__(self, name):\n",
    "        self.name = name      # <--- Create the .name attribute\n",
    "        print(\"The __init__ method was called\")\n",
    "\n",
    "cust = Customer(\"James Bond\")\n",
    "print(cust.name)"
   ]
  },
  {
   "cell_type": "markdown",
   "metadata": {},
   "source": [
    "We can add another parameter, e.g account `balance` and create another attribute that will also be initialized during object creation. We can then create a customer object by calling Customer() with two parameters in paranthesis."
   ]
  },
  {
   "cell_type": "code",
   "execution_count": 24,
   "metadata": {},
   "outputs": [
    {
     "name": "stdout",
     "output_type": "stream",
     "text": [
      "The __init__ method was called\n",
      "James Bond\n",
      "1000\n"
     ]
    }
   ],
   "source": [
    "class Customer:\n",
    "    def __init__(self, name, balance): # <-- balance parameter added\n",
    "        self.name = name\n",
    "        self.balance = balance         # <-- balance attribute added\n",
    "        print(\"The __init__ method was called\")\n",
    "\n",
    "cust = Customer(\"James Bond\", 1000)\n",
    "print(cust.name)\n",
    "print(cust.balance)"
   ]
  },
  {
   "cell_type": "markdown",
   "metadata": {},
   "source": [
    "The `__init__` constuctor is also a good place to set default values for attributes. So in this example we set default value of balance to 0 so we can create a customer object without specifying the value for balance."
   ]
  },
  {
   "cell_type": "code",
   "execution_count": 25,
   "metadata": {},
   "outputs": [
    {
     "name": "stdout",
     "output_type": "stream",
     "text": [
      "The __init__ method was called\n",
      "James Bond\n",
      "0\n"
     ]
    }
   ],
   "source": [
    "class Customer():\n",
    "    def __init__(self, name, balance=0): # <-- set default value for balance\n",
    "        self.name = name\n",
    "        self.balance = balance\n",
    "        print(\"The __init__ method was called\")\n",
    "\n",
    "cust = Customer(\"James Bond\")  # <-- dont specify the balance explicitly\n",
    "print(cust.name)\n",
    "print(cust.balance)            # <-- attribute created anyway and initialized to default value 0"
   ]
  },
  {
   "cell_type": "markdown",
   "metadata": {},
   "source": [
    "There are two ways to define an attributes.  \n",
    "  \n",
    "**1. Attributes in methods**  \n",
    "We can define an attribute within any method in a class and then calling the method will then add the attribute to the object."
   ]
  },
  {
   "cell_type": "code",
   "execution_count": null,
   "metadata": {},
   "outputs": [],
   "source": [
    "# dont run\n",
    "class MyClass:\n",
    "    def my_method1(self, attr1):\n",
    "        self.attr1 = attr1\n",
    "        ...\n",
    "        \n",
    "    def my_method2(self, attr2):\n",
    "        self.attr2 = attr2\n",
    "        ...\n",
    "\n",
    "obj = MyClass()\n",
    "obj.my_method1(val1) # <-- attr1 created\n",
    "obj.my_method2(val2) # <-- attr2 created"
   ]
  },
  {
   "cell_type": "markdown",
   "metadata": {},
   "source": [
    "Alternatively, we can define the attributes all together in the constructor.  \n",
    "  \n",
    "**2. Attributes in constructor**  \n",
    "\n",
    "If possible, try to avoid defining attributes outside the constructor!  \n",
    "Our class definition can be hundres of lines long, the person reading it would have to go through all of them to find out the attributes.  \n",
    "* easier to know all the attributes\n",
    "* attributes are created when object is created\n",
    "* *more usable and maintainable code*"
   ]
  },
  {
   "cell_type": "code",
   "execution_count": null,
   "metadata": {},
   "outputs": [],
   "source": [
    "# dont run\n",
    "class MyClass:\n",
    "    def __init__(self, attr1, attr2):\n",
    "        self.attr1 = attr1\n",
    "        self.attr2 = attr2\n",
    "        ...\n",
    "    \n",
    "# All attributes are created\n",
    "obj = MyClass(val1, val2)"
   ]
  },
  {
   "cell_type": "markdown",
   "metadata": {},
   "source": [
    "**Best practices of coding classes**  \n",
    "1. **Initialize attribute in `__init__()`**\n",
    "2. **Naming conventions**  \n",
    " `CamelCase` for classes, each word of class should start with capital letter and not space  \n",
    " `lower_snake_case` for functions and attributes, opposite, lower case letters and separate by underscore  \n",
    "3. **`self` is `self`**  \n",
    "You can do as below but don´t do it, alway use `self`  \n",
    "4. **Use docstrings**  \n",
    "Like functions, classes allow for docstrings. Use them, these are displayed when `help()` is called on the object."
   ]
  },
  {
   "cell_type": "code",
   "execution_count": 35,
   "metadata": {},
   "outputs": [],
   "source": [
    "# do not run\n",
    "\n",
    "# use self, not something else\n",
    "class MyClass:\n",
    "    # This works but is not recommended\n",
    "    def my_method(kitty, attr):\n",
    "        kitty.attr = attre\n",
    "\n",
    "# docstring\n",
    "class MyClass:\n",
    "    \"\"\"This class does nothing\"\"\"\n",
    "    pass"
   ]
  },
  {
   "cell_type": "code",
   "execution_count": 36,
   "metadata": {},
   "outputs": [
    {
     "name": "stdout",
     "output_type": "stream",
     "text": [
      "Help on class MyClass in module __main__:\n",
      "\n",
      "class MyClass(builtins.object)\n",
      " |  This class does nothing\n",
      " |  \n",
      " |  Data descriptors defined here:\n",
      " |  \n",
      " |  __dict__\n",
      " |      dictionary for instance variables (if defined)\n",
      " |  \n",
      " |  __weakref__\n",
      " |      list of weak references to the object (if defined)\n",
      "\n"
     ]
    }
   ],
   "source": [
    "help(MyClass)"
   ]
  },
  {
   "cell_type": "code",
   "execution_count": 26,
   "metadata": {},
   "outputs": [
    {
     "name": "stdout",
     "output_type": "stream",
     "text": [
      "0\n",
      "My counter\n"
     ]
    }
   ],
   "source": [
    "class Counter:\n",
    "    def __init__(self, count, name):\n",
    "        self.count = count\n",
    "        self.name = name\n",
    "\n",
    "c = Counter(0, \"My counter\")\n",
    "print(c.count)\n",
    "print(c.name)"
   ]
  },
  {
   "cell_type": "markdown",
   "metadata": {},
   "source": [
    "Some examples:  \n",
    "  \n",
    "**Add a class constructor**  \n",
    "Now we continue working on the `Employee` class. Instead of using the methods like `set_salary()` that we wrote in the previous section, we will introduce a constructor that assigns name and salary to the employee at the moment when the object is created.\n",
    "\n",
    "We'll also create a new attribute -- `hire_date` -- which will not be initialized through parameters, but instead will contain the current date.\n",
    "\n",
    "Initializing attributes in the constructor is a good idea, because this ensures that the object has all the necessary attributes the moment it is created."
   ]
  },
  {
   "cell_type": "code",
   "execution_count": 27,
   "metadata": {},
   "outputs": [
    {
     "name": "stdout",
     "output_type": "stream",
     "text": [
      "James Bond\n",
      "0\n"
     ]
    }
   ],
   "source": [
    "class Employee:\n",
    "    # Create __init__() method\n",
    "    def __init__(self, name, salary=0):\n",
    "        # Create the name and salary attributes\n",
    "        self.name = name\n",
    "        self.salary = salary\n",
    "    \n",
    "    # From the previous lesson\n",
    "    def give_raise(self, amount):\n",
    "        self.salary += amount\n",
    "\n",
    "    def monthly_salary(self):\n",
    "        return self.salary/12\n",
    "        \n",
    "emp = Employee(\"James Bond\")\n",
    "print(emp.name)\n",
    "print(emp.salary) "
   ]
  },
  {
   "cell_type": "markdown",
   "metadata": {},
   "source": [
    "The `__init__()` method is a great place to do preprocessing.\n",
    "\n",
    "* Modify `__init__()` to check whether the `salary` parameter is positive:\n",
    " * if yes, assign it to the `salary` attribute,\n",
    " * if not, assign `0` to the attribute and print `\"Invalid salary!\"`."
   ]
  },
  {
   "cell_type": "code",
   "execution_count": 28,
   "metadata": {},
   "outputs": [
    {
     "name": "stdout",
     "output_type": "stream",
     "text": [
      "Invalid salary!\n",
      "James Bond\n",
      "0\n"
     ]
    }
   ],
   "source": [
    "class Employee:\n",
    "  \n",
    "    def __init__(self, name, salary=0):\n",
    "        self.name = name\n",
    "        # Modify code below to check if salary is positive\n",
    "        if salary > 0:\n",
    "            self.salary = salary\n",
    "        else:\n",
    "            self.salary = 0\n",
    "            print(\"Invalid salary!\")\n",
    "   \n",
    "   # ...Other methods omitted for brevity ...\n",
    "      \n",
    "emp = Employee(\"James Bond\", -1500)\n",
    "print(emp.name)\n",
    "print(emp.salary)"
   ]
  },
  {
   "cell_type": "markdown",
   "metadata": {},
   "source": [
    "* Import `datetime` from the `datetime` module. This contains the function that returns current date.\n",
    "* Add an attribute `hire_date` and set it to `datetime.today()`."
   ]
  },
  {
   "cell_type": "code",
   "execution_count": 29,
   "metadata": {},
   "outputs": [
    {
     "name": "stdout",
     "output_type": "stream",
     "text": [
      "Invalid salary!\n",
      "James Bond\n",
      "0\n",
      "2022-03-14 21:04:08.782398\n"
     ]
    }
   ],
   "source": [
    "# Import datetime from datetime\n",
    "from datetime import datetime\n",
    "\n",
    "class Employee:\n",
    "    \n",
    "    def __init__(self, name, salary=0):\n",
    "        self.name = name\n",
    "        if salary > 0:\n",
    "          self.salary = salary\n",
    "        else:\n",
    "          self.salary = 0\n",
    "          print(\"Invalid salary!\")\n",
    "          \n",
    "        # Add the hire_date attribute and set it to today's date\n",
    "        self.hire_date = datetime.today()\n",
    "        \n",
    "   # ...Other methods omitted for brevity ...\n",
    "      \n",
    "emp = Employee(\"James Bond\", -1000)\n",
    "print(emp.name)\n",
    "print(emp.salary)\n",
    "print(emp.hire_date)"
   ]
  },
  {
   "cell_type": "markdown",
   "metadata": {},
   "source": [
    "Notice how we had to add the import statement to use the `today()` function. We can use functions from other modules in our class definition, but we need to import the module first, and the import statement has to be outside class definition.  \n",
    "  \n",
    "**Write a class from scratch**\n",
    "We are a Python developer writing a visualization package. For any element in a visualization, we want to be able to tell the position of the element, how far it is from other elements, and easily implement horizontal or vertical flip .\n",
    "\n",
    "The most basic element of any visualization is a single point. Now we will write a class for a point on a plane from scratch.  \n",
    "  \n",
    "Define the class Point that has:\n",
    "\n",
    "* Two attributes, `x` and `y` - the coordinates of the point on the plane;\n",
    "* A *constructor* that accepts two arguments, `x` and `y`, that initialize the corresponding attributes. These arguments should have default value of `0.0`;\n",
    "* A method `distance_to_origin()` that returns the distance from the point to the origin. The formula for that is `sqrt(x^2 + y^2)`.\n",
    "* A method `reflect()`, that reflects the point with respect to the x- or y-axis:\n",
    " * accepts one argument `axis`,\n",
    " * if `axis=\"x\"` , it sets the `y` (not a typo!) attribute to the negative value of the `y` attribute,\n",
    " * if `axis=\"y\"`, it sets the `x` attribute to the negative value of the `x` attribute,\n",
    "* for any other value of `axis`, prints an error message.  \n",
    "Note: We can choose to use `sqrt()` function from either the `numpy` or the `math` package, but whichever package you choose, *don't forget to import* it before starting the class definition!"
   ]
  },
  {
   "cell_type": "code",
   "execution_count": 30,
   "metadata": {},
   "outputs": [],
   "source": [
    "# Write the class Point as outlined in the instructions\n",
    "import numpy as np\n",
    "\"\"\"This Class will return the point (as co-ordinates) on a plane and the point´s the distance to the origin\"\"\"\n",
    "class Point():\n",
    "\n",
    "    def __init__(self, x=0, y=0):\n",
    "        self.x = x\n",
    "        self.y = y\n",
    "    \n",
    "    # returns the distance from point to the origin\n",
    "    def distance_to_origin(self):\n",
    "        return np.sqrt(self.x**2+self.y**2)\n",
    "\n",
    "    # reflect the point with respect to x or y axis\n",
    "    def reflect(self, axis):\n",
    "        if axis==\"x\":\n",
    "            self.y=-(self.y)\n",
    "        elif axis==\"y\":\n",
    "            self.x=-(self.x)\n",
    "        else:\n",
    "            print(\"There was an error with the reflect() method\")"
   ]
  },
  {
   "cell_type": "code",
   "execution_count": 31,
   "metadata": {},
   "outputs": [
    {
     "name": "stdout",
     "output_type": "stream",
     "text": [
      "(-3.0, 0)\n",
      "5.0\n"
     ]
    }
   ],
   "source": [
    "# To check we should be able to run the following code\n",
    "pt = Point(x=3.0)\n",
    "pt.reflect(\"y\")\n",
    "print((pt.x, pt.y))\n",
    "pt.y = 4.0\n",
    "print(pt.distance_to_origin())"
   ]
  },
  {
   "cell_type": "markdown",
   "metadata": {},
   "source": [
    "It should return:  \n",
    "`(-3.0, 0.0)`  \n",
    "`5.0`  \n",
    "  \n",
    "Notice how we implemented `distance_to_origin()` as a method instead of an attribute. Implementing it as an attribute would be less sustainable - we would have to recalculate it every time we change the values of the `x` and `y` attributes to make sure the object state stays current.  \n",
    "  \n",
    "### 2. Inheritance and Polymorphism  \n",
    "Instance and class data.  \n",
    "How do Classes help us make our code better?  \n",
    "We will talk about the following next:\n",
    "  \n",
    "**Inheritance:**  \n",
    "* Extending functionality of existing code  \n",
    "  \n",
    "**Polymorphism:**  \n",
    "* Creating a unified interface  \n",
    "  \n",
    "**Encapsulation:**  \n",
    "* Bundling a data and methods  \n",
    "  \n",
    "But first we need to distinguish between:  \n",
    "* 1. Instance-level data  \n",
    "* 2. Class-level data  \n",
    "  \n",
    "**1 .Instance-level data**  \n",
    "Let´s revist the Employee class from above."
   ]
  },
  {
   "cell_type": "code",
   "execution_count": 32,
   "metadata": {},
   "outputs": [],
   "source": [
    "class Employee:\n",
    "    def __init__(self, name, salary):\n",
    "        self.name = name\n",
    "        self.salary = salary\n",
    "        \n",
    "emp1 = Employee(\"Hasse Svensson\", 45000)\n",
    "emp2 = Employee(\"Karl P Dahl\", 55000)"
   ]
  },
  {
   "cell_type": "markdown",
   "metadata": {},
   "source": [
    "It had attributes like `.name` and `.salary` we were able to assign value to them for each new instance of the class. These were **instance attributes**, we used `self` to bind them to a particular instance.  \n",
    "* `name`, `salary` are *instance attributes**\n",
    "* `self` binds them to an instance  \n",
    "  \n",
    "What if we would use data that is shared among all the instances of a class?  \n",
    "For example if we want to introduce a minimal salary for an entire organization. Such data should not differ among object instances. Then we can define an *attribute* directly in the `class` body. This will create a class attribute that will serve as a global variable in the class.\n",
    "  \n",
    "**2. Class-level data**  \n",
    "* Data shared among all instances of a class\n",
    "* Define *class attributes* in the body of `class`"
   ]
  },
  {
   "cell_type": "code",
   "execution_count": null,
   "metadata": {},
   "outputs": [],
   "source": [
    "class MyClass:\n",
    "    #Define a class attribute\n",
    "    CLASS_ATT_NAME = attr_value"
   ]
  },
  {
   "cell_type": "markdown",
   "metadata": {},
   "source": [
    "* \"Global variable\" within the class  \n",
    "* E.g `MIN_SALARY` is shared among all instances"
   ]
  },
  {
   "cell_type": "code",
   "execution_count": 34,
   "metadata": {},
   "outputs": [],
   "source": [
    "class Employee:\n",
    "    # Define a class attribute\n",
    "    MIN_SALARY = 30000 #<-- no self!\n",
    "    def __init__(self, name, salary):\n",
    "        self.name = name\n",
    "        # Use class name to access class attributes\n",
    "        if salary >= Employee.MIN_SALARY:\n",
    "            self.salary = salary\n",
    "        else:\n",
    "            self.salary = Employee.MIN_SALARY"
   ]
  },
  {
   "cell_type": "markdown",
   "metadata": {},
   "source": [
    "* We do not use `self` to define class attribute\n",
    "* Use `ClassName.ATTR_NAME` to *access* the class attribute value  \n",
    "This `MIN_SALARY` variable will be shared among all the instances of `Employee` class. We can access it like any other attirbute from an object instance and the value will be the same across instances."
   ]
  },
  {
   "cell_type": "code",
   "execution_count": 35,
   "metadata": {},
   "outputs": [
    {
     "name": "stdout",
     "output_type": "stream",
     "text": [
      "30000\n",
      "30000\n"
     ]
    }
   ],
   "source": [
    "emp1 = Employee(\"Tommy\", 40000)\n",
    "print(emp1.MIN_SALARY)\n",
    "emp2 = Employee(\"Rige Lasse\", 10000)\n",
    "print(emp2.MIN_SALARY)"
   ]
  },
  {
   "cell_type": "code",
   "execution_count": 36,
   "metadata": {},
   "outputs": [
    {
     "name": "stdout",
     "output_type": "stream",
     "text": [
      "40000\n",
      "30000\n"
     ]
    }
   ],
   "source": [
    "print(emp1.salary)\n",
    "print(emp2.salary)"
   ]
  },
  {
   "cell_type": "markdown",
   "metadata": {},
   "source": [
    "**Why use class attributes?**  \n",
    "Global constants that are related to the class, is the main reason  \n",
    "  \n",
    "* minimal/maixmal values for attributes (like `MIN_SALARY`)\n",
    "* commonly used values and constans, e.g `pi`for a `Circle` class  \n",
    "What about methods?  \n",
    "  \n",
    "**Class methods**  \n",
    "* Methods are already \"shared\", same code for every instance  \n",
    "The only difference is the data that gets fed into it.  \n",
    "* Class methods can´t use instance-level data  \n",
    "It is possible to define methods bound to a class rather than an instance but they have an narrow application scope, because these methods will not be able to use any instance level data. To define a Class method we start by defining a `@classmethod` decorator."
   ]
  },
  {
   "cell_type": "code",
   "execution_count": null,
   "metadata": {},
   "outputs": [],
   "source": [
    "# Do not run\n",
    "class MyClass:\n",
    "    \n",
    "    @classmethod                         #<-- use decorator to declare a class method\n",
    "    def my_awesome_method(cls, args ...): #<-- cls argument refers to the class\n",
    "        # Do things here\n",
    "        # Can't use any instance level attributes"
   ]
  },
  {
   "cell_type": "markdown",
   "metadata": {},
   "source": [
    "The difference is that the first argument is not `self` but `cls` referring to the class, just like the self argument is a reference to the particular instance. Then we define it as any other function keeping in mind that we cannot refer to any instance attributes in this method. To call a classmethod use:"
   ]
  },
  {
   "cell_type": "code",
   "execution_count": null,
   "metadata": {},
   "outputs": [],
   "source": [
    "# Do not run\n",
    "MyClass.my_awesome_method(args...) # ... rather than an object syntax method"
   ]
  },
  {
   "cell_type": "markdown",
   "metadata": {},
   "source": [
    "Why would we ever need class methods at all?  \n",
    "The main use case is alternative constructors.\n",
    "  \n",
    "**Alternative constructors**  \n",
    "A class can only have one `__init__()` method but there might be multiple ways to initialize an object. For example we might want to create an Employee object from data stored in a file. We cannot use a method, because that would require an instance and there isn't one yet. We can introduce a class method from file that accepts file name, reads the first line from the file and then that presumably contains the name of the employee and returns an object instance. In the return statement we use the `cls` variable, the `cls` refers to the class so this line will call the `__init__()` constructor just like using `Employee()` would when use outside the class definition. Then we call the method from file, using `class.method()` syntax which will create an Employee object without explicitly calling the constructor.   \n",
    "* Can only have one `__init__()` per class\n",
    "* Use class methods to create objects\n",
    "* Use `return` to return an object instance\n",
    "* `cls(...)` will refer to the class and call `__init__(...)`"
   ]
  },
  {
   "cell_type": "code",
   "execution_count": 37,
   "metadata": {},
   "outputs": [],
   "source": [
    "class Employee:\n",
    "    MIN_SALARY = 30000\n",
    "    def __init__(self, name, salary=30000):\n",
    "        self.name = name\n",
    "        if salary >= Employee.MIN_SALARY:\n",
    "            self.salary = salary\n",
    "        else:\n",
    "            self.salary = Employee.MIN_SALARY\n",
    "    \n",
    "    # introduce a class method from a file\n",
    "    @classmethod\n",
    "    def from_file(cls, filename):\n",
    "        with open(filename, \"r\") as f:\n",
    "            name = r.readline()\n",
    "        return cls(name)"
   ]
  },
  {
   "cell_type": "code",
   "execution_count": null,
   "metadata": {},
   "outputs": [],
   "source": [
    "# do not run (dont have the file!)\n",
    "\n",
    "# Create an employee without calling Employee()\n",
    "emp = Employee.from_file(\"employee_data.txt\")\n",
    "type(emp)"
   ]
  },
  {
   "cell_type": "markdown",
   "metadata": {},
   "source": [
    "Should return `__main__.Employee`  \n",
    "  \n",
    "Some example:  \n",
    "  \n",
    "**Class-level attributes**  \n",
    "  \n",
    "Class attributes store data that is shared among all the class instances. They are assigned values in the class body, and are referred to using the `ClassName.` syntax rather than `self.` syntax when used in methods  \n",
    "  \n",
    "We will be a game developer working on a game that will have several players moving on a grid and interacting with each other. As the first step, you want to define a `Player` class that will just move along a straight line. `Player` will have a `position` attribute and a `move()` method. The grid is limited, so the `position` of `Player` will have a maximal value."
   ]
  },
  {
   "cell_type": "code",
   "execution_count": 38,
   "metadata": {},
   "outputs": [
    {
     "name": "stdout",
     "output_type": "stream",
     "text": [
      "10\n",
      "10\n",
      "0\n"
     ]
    }
   ],
   "source": [
    "# Create a Player class with class attribute value = 10\n",
    "class Player:\n",
    "    MAX_POSITION = 10\n",
    "    def __init__(self, position=0):\n",
    "        self.position = position\n",
    "\n",
    "# Print Player.MAX_POSITION       \n",
    "print(Player.MAX_POSITION)\n",
    "\n",
    "# Create a player p and print its MAX_POSITITON\n",
    "p = Player()\n",
    "print(p.MAX_POSITION)\n",
    "print(p.position)"
   ]
  },
  {
   "cell_type": "markdown",
   "metadata": {},
   "source": [
    "Add a `move()` method with a `steps` parameter such that:\n",
    "\n",
    "* if `position` plus `steps` is less than `MAX_POSITION`, then add `steps` to `position` and assign the result back to `position`;\n",
    "* otherwise, set `position` to `MAX_POSITION`.  \n",
    "  \n",
    "Take a look at the console for a visualization!"
   ]
  },
  {
   "cell_type": "code",
   "execution_count": 39,
   "metadata": {},
   "outputs": [
    {
     "name": "stdout",
     "output_type": "stream",
     "text": [
      "|----------\n",
      "----|------\n",
      "---------|-\n",
      "----------|\n"
     ]
    }
   ],
   "source": [
    "class Player:\n",
    "    MAX_POSITION = 10\n",
    "    MAX_SPEED = 3\n",
    "    \n",
    "    def __init__(self):\n",
    "        self.position = 0\n",
    "\n",
    "    # Add a move() method with steps parameter\n",
    "    def move(self, steps):\n",
    "        if self.position + steps < Player.MAX_POSITION:\n",
    "            self.position = self.position + steps\n",
    "        else:\n",
    "            self.position = Player.MAX_POSITION\n",
    "\n",
    "       \n",
    "    # This method provides a rudimentary visualization in the console    \n",
    "    def draw(self):\n",
    "        drawing = \"-\" * self.position + \"|\" +\"-\"*(Player.MAX_POSITION - self.position)\n",
    "        print(drawing)\n",
    "\n",
    "p = Player(); p.draw()\n",
    "p.move(4); p.draw()\n",
    "p.move(5); p.draw()\n",
    "p.move(3); p.draw()"
   ]
  },
  {
   "cell_type": "markdown",
   "metadata": {},
   "source": [
    "**Changing class attributes**  \n",
    "We learned how to define class attributes and how to access them from class instances. So what will happen if we try to assign another value to a class attribute when accessing it from an instance? The answer is not as simple as we might think!\n",
    "\n",
    "Use the `Player` class from above as pre-defined. Recall that it has a `position` instance attribute, and `MAX_SPEED` and `MAX_POSITION` class attributes. The initial value of `MAX_SPEED` is `3`."
   ]
  },
  {
   "cell_type": "code",
   "execution_count": 40,
   "metadata": {},
   "outputs": [
    {
     "name": "stdout",
     "output_type": "stream",
     "text": [
      "MAX_SPEED of p1 and p2 before assignment:\n",
      "3\n",
      "3\n",
      "MAX_SPEED of p1 and p2 after assignment:\n",
      "7\n",
      "3\n",
      "MAX_SPEED of Player:\n",
      "3\n"
     ]
    }
   ],
   "source": [
    "# Create Players p1 and p2\n",
    "p1 = Player()\n",
    "p2 = Player()\n",
    "\n",
    "print(\"MAX_SPEED of p1 and p2 before assignment:\")\n",
    "# Print p1.MAX_SPEED and p2.MAX_SPEED\n",
    "print(p1.MAX_SPEED)\n",
    "print(p2.MAX_SPEED)\n",
    "\n",
    "# Assign 7 to p1.MAX_SPEED\n",
    "p1.MAX_SPEED = 7\n",
    "\n",
    "print(\"MAX_SPEED of p1 and p2 after assignment:\")\n",
    "# Print p1.MAX_SPEED and p2.MAX_SPEED\n",
    "print(p1.MAX_SPEED)\n",
    "print(p2.MAX_SPEED)\n",
    "\n",
    "print(\"MAX_SPEED of Player:\")\n",
    "# Print Player.MAX_SPEED\n",
    "print(Player.MAX_SPEED)"
   ]
  },
  {
   "cell_type": "markdown",
   "metadata": {},
   "source": [
    "Even though `MAX_SPEED` is shared across instances, assigning 7 to `p1.MAX_SPEED` didn't change the value of `MAX_SPEED` in `p2`, or in the `Player` class.\n",
    "\n",
    "So what happened? In fact, Python created a new instance attribute in `p1`, also called it `MAX_SPEED`, and assigned `7` to it, without touching the class attribute.\n",
    "\n",
    "Now let's change the class attribute value for real.\n",
    "\n",
    "* Modify the assignment to assign `7` to `Player.MAX_SPEED` instead."
   ]
  },
  {
   "cell_type": "code",
   "execution_count": 41,
   "metadata": {},
   "outputs": [
    {
     "name": "stdout",
     "output_type": "stream",
     "text": [
      "MAX_SPEED of p1 and p2 before assignment:\n",
      "3\n",
      "3\n",
      "MAX_SPEED of p1 and p2 after assignment:\n",
      "7\n",
      "7\n",
      "MAX_SPEED of Player:\n",
      "7\n"
     ]
    }
   ],
   "source": [
    "# Create Players p1 and p2\n",
    "p1, p2 = Player(), Player()\n",
    "\n",
    "print(\"MAX_SPEED of p1 and p2 before assignment:\")\n",
    "# Print p1.MAX_SPEED and p2.MAX_SPEED\n",
    "print(p1.MAX_SPEED)\n",
    "print(p2.MAX_SPEED)\n",
    "\n",
    "# ---MODIFY THIS LINE--- \n",
    "Player.MAX_SPEED = 7\n",
    "\n",
    "print(\"MAX_SPEED of p1 and p2 after assignment:\")\n",
    "# Print p1.MAX_SPEED and p2.MAX_SPEED\n",
    "print(p1.MAX_SPEED)\n",
    "print(p2.MAX_SPEED)\n",
    "\n",
    "print(\"MAX_SPEED of Player:\")\n",
    "# Print Player.MAX_SPEED\n",
    "print(Player.MAX_SPEED)"
   ]
  },
  {
   "cell_type": "markdown",
   "metadata": {},
   "source": [
    "Not obvious, right? But it makes sense, when we think about it! We shouldn't be able to change the data in all the instances of the class through a single instance. Imagine if we could change the time on all the computers in the world by changing the time on our own computer! If we want to change the value of the class attribute at runtime, we need to do it by referring to the class name, not through an instance.  \n",
    "   \n",
    "**Alternative constructors**  \n",
    "Python allows you to define class methods as well, using the `@classmethod` decorator and a special first argument `cls`. The main use of class methods is defining methods that return an instance of the class, but aren't using the same code as `__init__()`.\n",
    "\n",
    "For example, we are developing a time series package and want to define our own class for working with dates, `BetterDate`. The attributes of the class will be `year`, `month`, and `day`. we want to have a constructor that creates BetterDate objects given the values for year, month, and day, but we also want to be able to create `BetterDate` objects from strings like `2020-04-30`.\n",
    "\n",
    "These functions might be useful:\n",
    "\n",
    "* .`split(\"-\")` method will split a string at `\"-\"` into an array, e.g. `\"2020-04-30\".split(\"-\")` returns `[\"2020\", \"04\", \"30\"]`,\n",
    "* `int()` will convert a string into a number, e.g. `int(\"2019\")` is `2019` ."
   ]
  },
  {
   "cell_type": "code",
   "execution_count": 42,
   "metadata": {},
   "outputs": [
    {
     "name": "stdout",
     "output_type": "stream",
     "text": [
      "2020\n",
      "4\n",
      "30\n"
     ]
    }
   ],
   "source": [
    "class BetterDate:    \n",
    "    # Constructor\n",
    "    def __init__(self, year, month, day):\n",
    "      # Recall that Python allows multiple variable assignments in one line\n",
    "      self.year, self.month, self.day = year, month, day\n",
    "    \n",
    "    # Define a class method from_str\n",
    "    @classmethod\n",
    "    def from_str(cls, datestr):\n",
    "        # Split the string at \"-\" and convert each part to integer\n",
    "        parts = datestr.split(\"-\")\n",
    "        year, month, day = int(parts[0]), int(parts[1]), int(parts[2])\n",
    "        # Return the class instance\n",
    "        return cls(year, month, day)\n",
    "        \n",
    "bd = BetterDate.from_str('2020-04-30')   \n",
    "print(bd.year)\n",
    "print(bd.month)\n",
    "print(bd.day)"
   ]
  },
  {
   "cell_type": "markdown",
   "metadata": {},
   "source": [
    "For compatibility, we also want to be able to convert a `datetime` object into a `BetterDate` object.\n",
    "\n",
    "* Add a class method `from_datetime()` that accepts a `datetime` object as the argument, and uses its attributes `.year`, `.month` and `.day` to create a `BetterDate` object with the same attribute values."
   ]
  },
  {
   "cell_type": "code",
   "execution_count": 44,
   "metadata": {},
   "outputs": [
    {
     "name": "stdout",
     "output_type": "stream",
     "text": [
      "2022\n",
      "3\n",
      "14\n"
     ]
    }
   ],
   "source": [
    "# import datetime from datetime\n",
    "from datetime import datetime\n",
    "\n",
    "class BetterDate:\n",
    "    def __init__(self, year, month, day):\n",
    "      self.year, self.month, self.day = year, month, day\n",
    "      \n",
    "    @classmethod\n",
    "    def from_str(cls, datestr):\n",
    "        year, month, day = map(int, datestr.split(\"-\"))\n",
    "        return cls(year, month, day)\n",
    "      \n",
    "    # Define a class method from_datetime accepting a datetime object\n",
    "    @classmethod\n",
    "    def from_datetime(cls, dateobj):\n",
    "      year, month, day = dateobj.year, dateobj.month, dateobj.day\n",
    "      return cls(year, month, day) \n",
    "\n",
    "\n",
    "# You should be able to run the code below with no errors: \n",
    "today = datetime.today()     \n",
    "bd = BetterDate.from_datetime(today)   \n",
    "print(bd.year)\n",
    "print(bd.month)\n",
    "print(bd.day)"
   ]
  },
  {
   "cell_type": "markdown",
   "metadata": {},
   "source": [
    "There's another type of methods that are not bound to a class instance - static methods, defined with the decorator `@staticmethod`. They are mainly used for helper or utility functions that could as well live outside of the class, but make more sense when bundled into the class. Static methods are beyond the scope of this class, but you can read about them here [link](https://docs.python.org/3/library/functions.html#staticmethod).  \n",
    "  \n",
    "**Class Inheritance**  \n",
    "Now that we have gone through the basics of classes and instances, lets go to the basics of OOP, which is fundamentally about code reuse.  \n",
    "  \n",
    "**Code reuse**  \n",
    "1. Someone has already probably written code that solves part of our problem\n",
    "* Modules are great for fixed functionality (like numpy or pandas)  \n",
    "But what if that code does not satisfy our need exactly, we might want to adjust a method for some reason. We could do that by importing pandas and writing a new function. But it will not be integrated to the data frame interface.  \n",
    "* OOP is great for customizing functionality.  \n",
    "OOP allows us to keep interface consistent while customizing functionality. We also sometimes find ourself re-using our own code, over and over.  \n",
    "2. DRY: Dont Repeat Yourself!  \n",
    "* For example when building a website with alot of boxes and buttons, no matter what the element is the basic functionality is the same, we need to be able to draw it and click on it. Even though there are some different details alot of the code will be repeated. Instead of copy-paste the code for every element it would be better to have a general data structure like a `GUIElement` that implements the basic `.draw()` and `.click()` functionality only once? We can accomplish this with inheritance.  \n",
    "  \n",
    "**Inheritance**  \n",
    "Class inheritance is a mechanism that defines a new class which gets all the functionality of another class plus something extra without re-implementing the code.  \n",
    "*New class functionality = Old class functionality + extra*  \n",
    "  \n",
    "Lets say we have a basic `BankAccount` class. That has:  \n",
    "* `balance` attribute  \n",
    "* `withdraw()` method  \n",
    "  \n",
    "We might work with several types of accounts. E.g we also have a `SavingsAccount`.  \n",
    "That in addition to the above attribute and method also has:  \n",
    "* `interest_rate` attribute  \n",
    "* `compute_interest()` method  \n",
    "  \n",
    "By inheriting attributes and methods from `BankAccount` we will be able to re-use the code that we already re-wrote for the `BankAccount` when for example creating a `CheckingAccount` with inherited attributes and methods from `BankAccount` but it also has:  \n",
    "* `limit` attribute\n",
    "* `deoposit()` method which is a modified version of `withdraw()`  \n",
    "  \n",
    "With inheritance we will be able to customize `withdraw()` method accordingly without re-writing it. How do we implement this?  \n",
    "  \n",
    "**Implementing class inheritance**  \n",
    "`class MyChild(MyParent): `  \n",
    "  `# Do stuff here`  \n",
    "* `MyParent`: class which functionality is being extended/inherited\n",
    "* `MyChild`: class that will inherit the functionality and add more  \n",
    "Declaring a class that inherits from another class is very straight forward. We simply add parenthesis after the class name and then specify the class to inherit from. Here we define a rudimentary `BankAccount` class and a seemingly empty `SavingsAccount` inherited from it."
   ]
  },
  {
   "cell_type": "code",
   "execution_count": 45,
   "metadata": {},
   "outputs": [],
   "source": [
    "class BankAccount:\n",
    "    def __init__(self, balance):\n",
    "        self.balance = balance\n",
    "        \n",
    "    def withdraw(self, amount):\n",
    "        self.balance -= amount\n",
    "\n",
    "# Empty class inherited from BankAccount\n",
    "class SavingsAccount(BankAccount):\n",
    "    pass"
   ]
  },
  {
   "cell_type": "markdown",
   "metadata": {},
   "source": [
    "Seemingsly because the `SavingsAccount` has as much in it as the `BankAccount`  \n",
    "  \n",
    "**Child class has all of the parent data**  \n",
    "For example we can create an object even though we did not define a constructor and we can access the `balance` attribute and `withdraw()` method from the instance of `SavingsAccount` even though these features were not defined in the new class."
   ]
  },
  {
   "cell_type": "code",
   "execution_count": 46,
   "metadata": {},
   "outputs": [
    {
     "data": {
      "text/plain": [
       "__main__.SavingsAccount"
      ]
     },
     "execution_count": 46,
     "metadata": {},
     "output_type": "execute_result"
    }
   ],
   "source": [
    "# Constructor inherited from BankAccount\n",
    "savings_acct = SavingsAccount(1000)\n",
    "type(savings_acct)"
   ]
  },
  {
   "cell_type": "code",
   "execution_count": 47,
   "metadata": {},
   "outputs": [
    {
     "data": {
      "text/plain": [
       "1000"
      ]
     },
     "execution_count": 47,
     "metadata": {},
     "output_type": "execute_result"
    }
   ],
   "source": [
    "# Attribute inherited from BankAccount\n",
    "savings_acct.balance"
   ]
  },
  {
   "cell_type": "code",
   "execution_count": 48,
   "metadata": {},
   "outputs": [],
   "source": [
    "# Method inherited from BankAccount\n",
    "savings_acct.withdraw(300)"
   ]
  },
  {
   "cell_type": "code",
   "execution_count": 49,
   "metadata": {},
   "outputs": [
    {
     "data": {
      "text/plain": [
       "700"
      ]
     },
     "execution_count": 49,
     "metadata": {},
     "output_type": "execute_result"
    }
   ],
   "source": [
    "savings_acct.balance"
   ]
  },
  {
   "cell_type": "markdown",
   "metadata": {},
   "source": [
    "That is because inheritance represent is-a relationship.  \n",
    "  \n",
    "**Inheritance: \"is-a\" relationship**  \n",
    "**A `SavingsAccount` is a `BankAccount`**  \n",
    "(Possibly with special features)  \n",
    "  \n",
    "Calling the `isinstance()` method on `SavingsAccount` object shows that Python treats it like an instance of both `SavingsAccount` and `BankAccount` classes."
   ]
  },
  {
   "cell_type": "code",
   "execution_count": 50,
   "metadata": {},
   "outputs": [
    {
     "data": {
      "text/plain": [
       "True"
      ]
     },
     "execution_count": 50,
     "metadata": {},
     "output_type": "execute_result"
    }
   ],
   "source": [
    "savings_acct = SavingsAccount(1000)\n",
    "isinstance(savings_acct, SavingsAccount)"
   ]
  },
  {
   "cell_type": "code",
   "execution_count": 51,
   "metadata": {},
   "outputs": [
    {
     "data": {
      "text/plain": [
       "True"
      ]
     },
     "execution_count": 51,
     "metadata": {},
     "output_type": "execute_result"
    }
   ],
   "source": [
    "isinstance(savings_acct, BankAccount)"
   ]
  },
  {
   "cell_type": "markdown",
   "metadata": {},
   "source": [
    "Which is not the case for a generic `BankAccount` object."
   ]
  },
  {
   "cell_type": "code",
   "execution_count": 52,
   "metadata": {},
   "outputs": [
    {
     "data": {
      "text/plain": [
       "False"
      ]
     },
     "execution_count": 52,
     "metadata": {},
     "output_type": "execute_result"
    }
   ],
   "source": [
    "savings_acct = BankAccount(4000)\n",
    "isinstance(savings_acct, SavingsAccount)"
   ]
  },
  {
   "cell_type": "code",
   "execution_count": 53,
   "metadata": {},
   "outputs": [
    {
     "data": {
      "text/plain": [
       "True"
      ]
     },
     "execution_count": 53,
     "metadata": {},
     "output_type": "execute_result"
    }
   ],
   "source": [
    "isinstance(savings_acct, BankAccount)"
   ]
  },
  {
   "cell_type": "markdown",
   "metadata": {},
   "source": [
    "Right now this class does not have anything that the original `BankAccount` class did not have. We will start adding features later on.  \n",
    "  \n",
    "Some examples.  \n",
    "  \n",
    "**Create a subclass**  \n",
    "The purpose of child classes -- or sub-classes, as they are usually called - is to customize and extend functionality of the parent class.\n",
    "\n",
    "Recall the `Employee` class from earlier. In most organizations, managers enjoy more privileges and more responsibilities than a regular employee. So it would make sense to introduce a `Manager` class that has more functionality than `Employee`.\n",
    "\n",
    "But a `Manager` is still an employee, so the `Manager` class should be inherited from the `Employee` class."
   ]
  },
  {
   "cell_type": "code",
   "execution_count": 54,
   "metadata": {},
   "outputs": [
    {
     "name": "stdout",
     "output_type": "stream",
     "text": [
      "Debbie Lashko\n",
      "86500\n"
     ]
    }
   ],
   "source": [
    "class Employee:\n",
    "  MIN_SALARY = 30000    \n",
    "\n",
    "  def __init__(self, name, salary=MIN_SALARY):\n",
    "      self.name = name\n",
    "      if salary >= Employee.MIN_SALARY:\n",
    "        self.salary = salary\n",
    "      else:\n",
    "        self.salary = Employee.MIN_SALARY\n",
    "        \n",
    "  def give_raise(self, amount):\n",
    "      self.salary += amount      \n",
    "        \n",
    "# Define a new class Manager inheriting from Employee\n",
    "class Manager(Employee):\n",
    "  pass\n",
    "\n",
    "# Define a Manager object\n",
    "mng = Manager(\"Debbie Lashko\", 86500)\n",
    "\n",
    "# Print mng's name\n",
    "print(mng.name)\n",
    "print(mng.salary)"
   ]
  },
  {
   "cell_type": "markdown",
   "metadata": {},
   "source": [
    "* Remove the `pass` statement and add a `display()` method to the `Manager` class that just prints the string `\"Manager\"` followed by the full name, e.g. `\"Manager Katie Flatcher\"`\n",
    "* Call the `.display()` method from the mnginstance."
   ]
  },
  {
   "cell_type": "code",
   "execution_count": 55,
   "metadata": {},
   "outputs": [
    {
     "name": "stdout",
     "output_type": "stream",
     "text": [
      "Debbie Lashko\n",
      "Manager Debbie Lashko\n"
     ]
    }
   ],
   "source": [
    "class Employee:\n",
    "  MIN_SALARY = 30000    \n",
    "\n",
    "  def __init__(self, name, salary=MIN_SALARY):\n",
    "      self.name = name\n",
    "      if salary >= Employee.MIN_SALARY:\n",
    "        self.salary = salary\n",
    "      else:\n",
    "        self.salary = Employee.MIN_SALARY\n",
    "  def give_raise(self, amount):\n",
    "    self.salary += amount      \n",
    "        \n",
    "# MODIFY Manager class and add a display method\n",
    "class Manager(Employee):\n",
    "  \n",
    "  def display(self):\n",
    "    print(\"Manager \" + self.name)\n",
    "\n",
    "mng = Manager(\"Debbie Lashko\", 86500)\n",
    "print(mng.name)\n",
    "\n",
    "# Call mng.display()\n",
    "mng.display()"
   ]
  },
  {
   "cell_type": "markdown",
   "metadata": {},
   "source": [
    "We already started customizing! The `Manager` class now includes functionality that wasn't present in the original class (the `display()` function) in addition to all the functionality of the `Employee` class. Notice that there wasn't anything special about adding this new method.  \n",
    "  \n",
    "**Customizing functionality via inheritance**  \n",
    "We just went over how class inheritance allows for encoding \"is-a\" relationships.  \n",
    "  \n",
    "What we have so far:"
   ]
  },
  {
   "cell_type": "code",
   "execution_count": 56,
   "metadata": {},
   "outputs": [],
   "source": [
    "class BankAccount:\n",
    "    def __init__(self, balance):\n",
    "        self.balance = balance\n",
    "        \n",
    "    def withdraw(self, amount):\n",
    "        self.balance -= amount\n",
    "\n",
    "# Empty class inherited from BankAccount\n",
    "class SavingsAccount(BankAccount):\n",
    "    pass"
   ]
  },
  {
   "cell_type": "markdown",
   "metadata": {},
   "source": [
    "We did not add anything to the `SavingsAccount` child class yet. Let´s do that now.  \n",
    "We will start customization by adding a constructor specifically for savings account.  \n",
    "  \n",
    "**Customizing constructors**  \n",
    "It will take a `balance` parameter, just like `BankAccount` and an additional `interest_rate` parameter. In that counstructor we first run the code for creating a generic `BankAccount` by explicitly caling the `__init__()` method of the `BankAccount()` class.  \n",
    "  \n",
    "* Can run constructor of the parent class first by `Parent.__init__(self. args...)`  \n",
    "Note that we use the `BankAccount.__init__()` to tell python to call the constructor from the parent class. We also pass `.self` to that constructor. `.self` is a SavingsAccount but recall that in python instances of subclass is also a subclass of the parent class, so it is a bankaccount as well so we can pass it to the `__init__()` method of the `BankAccount`. Then we can add more functionality, e.g initializing an attribute.  \n",
    "* Add more functionality  \n",
    "We actually are not required to call the parent class in the sub-class, or to call it first, we can use new code entirely. But we are likely to almost always use the parent constructor. "
   ]
  },
  {
   "cell_type": "code",
   "execution_count": 57,
   "metadata": {},
   "outputs": [],
   "source": [
    "class SavingsAccount(BankAccount):\n",
    "    \n",
    "    # constructor specifically for SavingsAccount with an additiional parameter\n",
    "    def __init__(self, balance, interest_rate):\n",
    "        # call the parent constructor using ClassName.__init__()\n",
    "        BankAccount.__init__(self, balance) # <--- self is a SavingsAccount but also a BankAccount\n",
    "        # Add more functionality\n",
    "        self.interest_rate = interest_rate"
   ]
  },
  {
   "cell_type": "markdown",
   "metadata": {},
   "source": [
    "* Don´t *have* to call the parent constructors\n",
    "Now when we create an instance of the new `SavingsAccount` class the new constructor will be called and in particular the `.interest_rate` attribute will be initialized."
   ]
  },
  {
   "cell_type": "code",
   "execution_count": 58,
   "metadata": {},
   "outputs": [
    {
     "data": {
      "text/plain": [
       "0.03"
      ]
     },
     "execution_count": 58,
     "metadata": {},
     "output_type": "execute_result"
    }
   ],
   "source": [
    "# Construct the object using the new constructor\n",
    "acct = SavingsAccount(1000, 0.03)\n",
    "acct.interest_rate"
   ]
  },
  {
   "cell_type": "markdown",
   "metadata": {},
   "source": [
    "**Adding functionality**  \n",
    "We saw that we can add functionality to the sub class just like to any other class.\n",
    "* Add methods as usual\n",
    "* Can use the data from both the parent and the child class"
   ]
  },
  {
   "cell_type": "code",
   "execution_count": 59,
   "metadata": {},
   "outputs": [],
   "source": [
    "class SavingsAccount(BankAccount):\n",
    "    \n",
    "    def __init__(self, balance, interest_rate):\n",
    "        BankAccount.__init__(self, balance)\n",
    "        self.interest_rate = interest_rate\n",
    "        \n",
    "    # New functionality\n",
    "    def compute_interest(self, n_periods = 1):\n",
    "        return self.balance * ( (1 + self.interest_rate) ** n_periods - 1)"
   ]
  },
  {
   "cell_type": "markdown",
   "metadata": {},
   "source": [
    "We multiply the `.balance` attribute from the parent class with a `.interest_rate` attribute that exists only in the child `SavingsAccount` class."
   ]
  },
  {
   "cell_type": "code",
   "execution_count": 60,
   "metadata": {},
   "outputs": [
    {
     "data": {
      "text/plain": [
       "30.00000000000003"
      ]
     },
     "execution_count": 60,
     "metadata": {},
     "output_type": "execute_result"
    }
   ],
   "source": [
    "# Construct the object again\n",
    "acct = SavingsAccount(1000, 0.03)\n",
    "# apply new functionality method\n",
    "acct.compute_interest()\n",
    "#print(acct.interest_rate)\n",
    "#print(acct.balance)"
   ]
  },
  {
   "cell_type": "markdown",
   "metadata": {},
   "source": [
    "Now we talk about customizing functionality.  \n",
    "  \n",
    "**Customizing functionality**  \n",
    "  \n",
    "We want to create a `CheckingAccount` which will have a slighlty modified version of the `withdraw()` method. It will have a parameter and just the withdraw amount. Here is what it could look like.  \n",
    "  \n",
    "We start by inheriting from the parent class.  \n",
    "Add a customized constructor, that also executes the parent code.  \n",
    "Add a new deposit method.  \n",
    "Add a new withdraw method with a new argument to it, additional fee.  \n",
    "We check the fee to some limit and then call the parent withdraw method passing the new amount to it with fee subtracted.  \n",
    "This method runs almost the same code as the `BankAccount` `withdraw()` method without re-implementing it, just augmenting.\n",
    "* Notice we can change the signature of a method (adding a parameter)\n",
    "* Use `Parent.method(self, args...)` to call a method from the parent class.  \n",
    "We call the parent version of the method directly, just like in the constructor, by using `Parent.method(self, ...)` "
   ]
  },
  {
   "cell_type": "code",
   "execution_count": 61,
   "metadata": {},
   "outputs": [],
   "source": [
    "class CheckingAccount(BankAccount):\n",
    "    # add a customized constructor\n",
    "    def __init__(self, balance, limit):\n",
    "        BankAccount.__init__(self, balance)\n",
    "        self.limit = limit\n",
    "    \n",
    "    # a new method\n",
    "    def deposit(self, amount):\n",
    "        self.balance += amount\n",
    "    \n",
    "    # a new withdraw method with new arg\n",
    "    def withdraw(self, amount, fee=0):\n",
    "        if fee <= self.limit:\n",
    "            BankAccount.withdraw(self, amount - fee)\n",
    "        else:\n",
    "            BankAccount.withdraw(self, amount - self.limit)"
   ]
  },
  {
   "cell_type": "markdown",
   "metadata": {},
   "source": [
    "Now when we call the `withdraw()` method from an object that is a `CheckingAccount` instance the new customized version will be used."
   ]
  },
  {
   "cell_type": "code",
   "execution_count": 62,
   "metadata": {},
   "outputs": [
    {
     "name": "stdout",
     "output_type": "stream",
     "text": [
      "800\n"
     ]
    }
   ],
   "source": [
    "check_acct = CheckingAccount(1000, 25)\n",
    "\n",
    "# Will call withdraw from CheckingAccount\n",
    "check_acct.withdraw(200)\n",
    "print(check_acct.balance)"
   ]
  },
  {
   "cell_type": "markdown",
   "metadata": {},
   "source": [
    "But when you call it from a regular `BankAccount` the basic version will be used."
   ]
  },
  {
   "cell_type": "code",
   "execution_count": 63,
   "metadata": {},
   "outputs": [
    {
     "name": "stdout",
     "output_type": "stream",
     "text": [
      "800\n"
     ]
    }
   ],
   "source": [
    "bank_acct = BankAccount(1000)\n",
    "\n",
    "# Will call withdraw from BankAccount\n",
    "bank_acct.withdraw(200)\n",
    "print(bank_acct.balance)"
   ]
  },
  {
   "cell_type": "markdown",
   "metadata": {},
   "source": [
    "The interface of the call is the same, and the actual method called is determined by the instance class. This is an application of polymorphism and we will talk more about it later.  \n",
    "  \n",
    "Another differens is that for `CheckingAccount` instance, we could call the method with two parameters."
   ]
  },
  {
   "cell_type": "code",
   "execution_count": 64,
   "metadata": {},
   "outputs": [],
   "source": [
    "# will call withdraw from CheckingAccount\n",
    "check_acct.withdraw(200, fee=15)"
   ]
  },
  {
   "cell_type": "markdown",
   "metadata": {},
   "source": [
    "However, trying that call for a generic `BankAccount` instance will produce an error, because the method in the `BankAccount` class was not affected by the changes in the sub-class."
   ]
  },
  {
   "cell_type": "code",
   "execution_count": null,
   "metadata": {},
   "outputs": [],
   "source": [
    "# will produce an error\n",
    "bank_acct.withdraw(200, fee=15)"
   ]
  },
  {
   "cell_type": "markdown",
   "metadata": {},
   "source": [
    "Now we customize some methods!  \n",
    "  \n",
    "**Method inheritance**\n",
    "Inheritance is powerful because it allows us to reuse and customize code without rewriting existing code. By calling methods of the parent class within the child class, we reuse all the code in those methods, making our code concise and manageable.\n",
    "\n",
    "Now we will continue working with the `Manager` class that is inherited from the `Employee` class. We'll add new data to the class, and customize the `give_raise()` method from Chapter 1 to increase the manager's raise amount by a bonus percentage whenever they are given a raise.\n",
    "\n",
    "A simplified version of the `Employee` class, as well as the beginning of the `Manager` class from the previous parts."
   ]
  },
  {
   "cell_type": "code",
   "execution_count": 66,
   "metadata": {},
   "outputs": [],
   "source": [
    "class Employee:\n",
    "    def __init__(self, name, salary=30000):\n",
    "        self.name = name\n",
    "        self.salary = salary\n",
    "\n",
    "    def give_raise(self, amount):\n",
    "        self.salary += amount\n",
    "\n",
    "        \n",
    "class Manager(Employee):\n",
    "  # Add a constructor \n",
    "    def __init__(self, name, salary=50000, project=None):\n",
    "\n",
    "        # Call the parent's constructor   \n",
    "        Employee.__init__(self, name, salary)\n",
    "\n",
    "        # Assign project attribute\n",
    "        self.project = project "
   ]
  },
  {
   "cell_type": "code",
   "execution_count": 68,
   "metadata": {},
   "outputs": [
    {
     "name": "stdout",
     "output_type": "stream",
     "text": [
      "79550.0\n",
      "81610.0\n"
     ]
    }
   ],
   "source": [
    "class Employee:\n",
    "    def __init__(self, name, salary=30000):\n",
    "        self.name = name\n",
    "        self.salary = salary\n",
    "\n",
    "    def give_raise(self, amount):\n",
    "        self.salary += amount\n",
    "\n",
    "        \n",
    "class Manager(Employee):\n",
    "    def display(self):\n",
    "        print(\"Manager \", self.name)\n",
    "\n",
    "    def __init__(self, name, salary=50000, project=None):\n",
    "        Employee.__init__(self, name, salary)\n",
    "        self.project = project\n",
    "\n",
    "    # Add a give_raise method, that uses the Employee give_raise method add bonus\n",
    "    def give_raise(self, amount, bonus=1.05):\n",
    "        Employee.give_raise(self, amount*bonus)\n",
    "    \n",
    "    \n",
    "mngr = Manager(\"Ashta Dunbar\", 78500)\n",
    "mngr.give_raise(1000)\n",
    "print(mngr.salary)\n",
    "mngr.give_raise(2000, bonus=1.03)\n",
    "print(mngr.salary)"
   ]
  },
  {
   "cell_type": "markdown",
   "metadata": {},
   "source": [
    "In the new class, the use of the default values ensured that the signature of the customized method was compatible with its signature in the parent class. But what if we defined `Manager`'s'`give_raise()` to have 2 non-optional parameters? What would be the result of `mngr.give_raise(1000)`? Experiment in console and see if you can understand what's happening. Adding print statements to both `give_raise()` could help!  \n",
    "  \n",
    "**Inheritance of class attributes**  \n",
    "In the beginning of this chapter, we learned about class attributes and methods that are shared among all the instances of a class. How do they work with inheritance?\n",
    "\n",
    "In this exercise, we'll create subclasses of the `Player` class from the first lesson of the chapter, and explore the inheritance of class attributes and methods.\n",
    "\n",
    "The `Player` class has been defined for you. Recall that the `Player` class had two class-level attributes: `MAX_POSITION` and `MAX_SPEED`, with default values `10` and `3`.  \n",
    "  \n",
    "* Create a class `Racer` inherited from `Player`,\n",
    "* Assign `5` to `MAX_SPEED` in the body of the class.\n",
    "* Create a `Player` object `p` and a `Racer` object `r` (no arguments needed for the constructor)."
   ]
  },
  {
   "cell_type": "code",
   "execution_count": 69,
   "metadata": {},
   "outputs": [
    {
     "name": "stdout",
     "output_type": "stream",
     "text": [
      "p.MAX_SPEED =  7\n",
      "r.MAX_SPEED =  5\n",
      "p.MAX_POSITION =  10\n",
      "r.MAX_POSITION =  10\n"
     ]
    }
   ],
   "source": [
    "class Racer(Player):\n",
    "    MAX_SPEED = 5\n",
    "    \n",
    "p = Player()\n",
    "r = Racer()\n",
    "\n",
    "print(\"p.MAX_SPEED = \", p.MAX_SPEED)\n",
    "print(\"r.MAX_SPEED = \", r.MAX_SPEED)\n",
    "\n",
    "print(\"p.MAX_POSITION = \", p.MAX_POSITION)\n",
    "print(\"r.MAX_POSITION = \", r.MAX_POSITION)"
   ]
  },
  {
   "cell_type": "markdown",
   "metadata": {},
   "source": [
    "Notice that the value of `MAX_SPEED` in `Player` was not affected by the changes to the attribute of the same name in `Racer`.  \n",
    "  \n",
    "**Customizing a DataFrame**  \n",
    "In your company, any data has to come with a timestamp recording when the dataset was created, to make sure that outdated information is not being used. You would like to use `pandas` DataFrames for processing data, but you would need to customize the class to allow for the use of timestamps.\n",
    "\n",
    "In this exercise, you will implement a small `LoggedDF` class that inherits from a regular `pandas` DataFrame but has a `created_at` attribute storing the timestamp. You will then augment the standard `to_csv()` method to always include a column storing the creation date.\n",
    "\n",
    "Tip: all DataFrame methods have many parameters, and it is not sustainable to copy all of them for each method you're customizing. The trick is to use variable-length arguments `*args` and `**kwargs` to catch all of them."
   ]
  },
  {
   "cell_type": "code",
   "execution_count": 70,
   "metadata": {},
   "outputs": [
    {
     "name": "stdout",
     "output_type": "stream",
     "text": [
      "[[1 3]\n",
      " [2 4]]\n",
      "2022-03-14 22:25:16.110913\n"
     ]
    }
   ],
   "source": [
    "# Import pandas as pd\n",
    "import pandas as pd\n",
    "\n",
    "# Define LoggedDF inherited from pd.DataFrame and add the constructor\n",
    "class LoggedDF(pd.DataFrame):\n",
    "    # add a constructor...\n",
    "    def __init__(self, *args,**kwargs):\n",
    "        # ...that calls the parent´s constructor\n",
    "        pd.DataFrame.__init__(self, *args,**kwargs)\n",
    "        # and assigns datetime to created_at\n",
    "        self.created_at = datetime.today()\n",
    "    \n",
    "ldf = LoggedDF({\"col1\": [1,2], \"col2\": [3,4]})\n",
    "print(ldf.values)\n",
    "print(ldf.created_at)"
   ]
  },
  {
   "cell_type": "markdown",
   "metadata": {},
   "source": [
    "* Add a `to_csv()` method to `LoggedDF` that:\n",
    "* copies `self` to a temporary DataFrame using `.copy()`,\n",
    "* creates a new column `created_at` in the temporary DataFrame and fills it with `self.created_at`\n",
    "* calls `pd.DataFrame.to_csv()` on the temporary variable."
   ]
  },
  {
   "cell_type": "code",
   "execution_count": 77,
   "metadata": {},
   "outputs": [],
   "source": [
    "# Import pandas as pd\n",
    "import pandas as pd\n",
    "\n",
    "# Define LoggedDF inherited from pd.DataFrame and add the constructor\n",
    "class LoggedDF(pd.DataFrame):\n",
    "  \n",
    "  def __init__(self, *args, **kwargs):\n",
    "    pd.DataFrame.__init__(self, *args, **kwargs)\n",
    "    self.created_at = datetime.today()\n",
    "    \n",
    "  def to_csv(self, *args, **kwargs):\n",
    "    # Copy self to a temporary DataFrame\n",
    "    temp = self.copy()\n",
    "    \n",
    "    # Create a new column filled with self.created_at\n",
    "    temp[\"created_at\"] = self.created_at\n",
    "    \n",
    "    # Call pd.DataFrame.to_csv on temp, passing in *args and **kwargs\n",
    "    pd.DataFrame.to_csv(temp, *args,**kwargs)"
   ]
  },
  {
   "cell_type": "markdown",
   "metadata": {},
   "source": [
    "Using `*args` and `**kwargs` allows you to not worry about keeping the signature of your customized method compatible. Notice how in the very last line, you called the parent method and passed an object to it that isn't `self`. When you call parent methods in the class, they should accept some object as the first argument, and that object is *usually* `self`, but it doesn't have to be!  \n",
    "  \n",
    "### 3. Integrating with Standard Python    \n",
    "**Operator overloading: comparison**  \n",
    "TBD"
   ]
  },
  {
   "cell_type": "code",
   "execution_count": null,
   "metadata": {},
   "outputs": [],
   "source": [
    "# JATKA TÄSTÄ\n",
    "# https://campus.datacamp.com/courses/object-oriented-programming-in-python/integrating-with-standard-python?ex=1"
   ]
  }
 ],
 "metadata": {
  "kernelspec": {
   "display_name": "Python 3",
   "language": "python",
   "name": "python3"
  },
  "language_info": {
   "codemirror_mode": {
    "name": "ipython",
    "version": 3
   },
   "file_extension": ".py",
   "mimetype": "text/x-python",
   "name": "python",
   "nbconvert_exporter": "python",
   "pygments_lexer": "ipython3",
   "version": "3.8.5"
  }
 },
 "nbformat": 4,
 "nbformat_minor": 4
}
