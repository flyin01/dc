{
 "cells": [
  {
   "cell_type": "markdown",
   "metadata": {},
   "source": [
    "# Intermediate Python  \n",
    "1. Matplotlib\n",
    "2. Dictionaries and Pandas\n",
    "3. Logic, Control Flow and Filtering\n",
    "4. Loops\n",
    "5. Case Study: Hacker Stats"
   ]
  },
  {
   "cell_type": "markdown",
   "metadata": {},
   "source": [
    "### 1. Matplotlib  \n",
    "* Visualizations  \n",
    "* Data struccture  \n",
    "* Control strutures  \n",
    "  \n",
    "**Data visualization**  \n",
    "Understand data, explore data, explain data.  \n",
    "  \n",
    "Matplotlib is the mother of all visualization packages."
   ]
  },
  {
   "cell_type": "code",
   "execution_count": 1,
   "metadata": {},
   "outputs": [
    {
     "data": {
      "image/png": "[encoded data removed]",
      "text/plain": [
       "<Figure size 432x288 with 1 Axes>"
      ]
     },
     "metadata": {
      "needs_background": "light"
     },
     "output_type": "display_data"
    }
   ],
   "source": [
    "# create a line plot\n",
    "import matplotlib.pyplot as plt\n",
    "# create two lists or year and world population\n",
    "year = [1950, 1970, 1990, 2010]\n",
    "pop = [2.517, 3.543, 5.432, 6.787]\n",
    "\n",
    "# plot, first argument is x-axis, second is y-axis\n",
    "plt.plot(year,pop) # tells python what to plot\n",
    "plt.show() # show function displays the actual plot"
   ]
  },
  {
   "cell_type": "code",
   "execution_count": 2,
   "metadata": {},
   "outputs": [
    {
     "data": {
      "image/png": "[encoded data removed]",
      "text/plain": [
       "<Figure size 432x288 with 1 Axes>"
      ]
     },
     "metadata": {
      "needs_background": "light"
     },
     "output_type": "display_data"
    }
   ],
   "source": [
    "# scatter plot\n",
    "plt.scatter(year,pop) # function scatter instead of plot\n",
    "plt.show()\n",
    "# Now we see that the plot is built of only 4 observations"
   ]
  },
  {
   "cell_type": "code",
   "execution_count": 4,
   "metadata": {},
   "outputs": [],
   "source": [
    "# create data for rosling graph: gdp_cap, life_exp\n",
    "gdp_cap = [974.5803384,\n",
    " 5937.029525999998,\n",
    " 6223.367465,\n",
    " 4797.231267,\n",
    " 12779.37964,\n",
    " 34435.367439999995,\n",
    " 36126.4927,\n",
    " 29796.04834,\n",
    " 1391.253792,\n",
    " 33692.60508,\n",
    " 1441.284873,\n",
    " 3822.137084,\n",
    " 7446.298803,\n",
    " 12569.85177,\n",
    " 9065.800825,\n",
    " 10680.79282,\n",
    " 1217.032994,\n",
    " 430.0706916,\n",
    " 1713.778686,\n",
    " 2042.09524,\n",
    " 36319.23501,\n",
    " 706.016537,\n",
    " 1704.063724,\n",
    " 13171.63885,\n",
    " 4959.114854,\n",
    " 7006.580419,\n",
    " 986.1478792,\n",
    " 277.5518587,\n",
    " 3632.557798,\n",
    " 9645.06142,\n",
    " 1544.750112,\n",
    " 14619.222719999998,\n",
    " 8948.102923,\n",
    " 22833.30851,\n",
    " 35278.41874,\n",
    " 2082.4815670000007,\n",
    " 6025.3747520000015,\n",
    " 6873.262326000001,\n",
    " 5581.180998,\n",
    " 5728.353514,\n",
    " 12154.08975,\n",
    " 641.3695236000002,\n",
    " 690.8055759,\n",
    " 33207.0844,\n",
    " 30470.0167,\n",
    " 13206.48452,\n",
    " 752.7497265,\n",
    " 32170.37442,\n",
    " 1327.60891,\n",
    " 27538.41188,\n",
    " 5186.050003,\n",
    " 942.6542111,\n",
    " 579.2317429999998,\n",
    " 1201.637154,\n",
    " 3548.3308460000007,\n",
    " 39724.97867,\n",
    " 18008.94444,\n",
    " 36180.78919,\n",
    " 2452.210407,\n",
    " 3540.651564,\n",
    " 11605.71449,\n",
    " 4471.061906,\n",
    " 40675.99635,\n",
    " 25523.2771,\n",
    " 28569.7197,\n",
    " 7320.8802620000015,\n",
    " 31656.06806,\n",
    " 4519.461171,\n",
    " 1463.249282,\n",
    " 1593.06548,\n",
    " 23348.139730000006,\n",
    " 47306.98978,\n",
    " 10461.05868,\n",
    " 1569.331442,\n",
    " 414.5073415,\n",
    " 12057.49928,\n",
    " 1044.770126,\n",
    " 759.3499101,\n",
    " 12451.6558,\n",
    " 1042.581557,\n",
    " 1803.151496,\n",
    " 10956.99112,\n",
    " 11977.57496,\n",
    " 3095.7722710000007,\n",
    " 9253.896111,\n",
    " 3820.17523,\n",
    " 823.6856205,\n",
    " 944.0,\n",
    " 4811.060429,\n",
    " 1091.359778,\n",
    " 36797.93332,\n",
    " 25185.00911,\n",
    " 2749.320965,\n",
    " 619.6768923999998,\n",
    " 2013.977305,\n",
    " 49357.19017,\n",
    " 22316.19287,\n",
    " 2605.94758,\n",
    " 9809.185636,\n",
    " 4172.838464,\n",
    " 7408.905561,\n",
    " 3190.481016,\n",
    " 15389.924680000002,\n",
    " 20509.64777,\n",
    " 19328.70901,\n",
    " 7670.122558,\n",
    " 10808.47561,\n",
    " 863.0884639000002,\n",
    " 1598.435089,\n",
    " 21654.83194,\n",
    " 1712.472136,\n",
    " 9786.534714,\n",
    " 862.5407561000002,\n",
    " 47143.17964,\n",
    " 18678.31435,\n",
    " 25768.25759,\n",
    " 926.1410683,\n",
    " 9269.657808,\n",
    " 28821.0637,\n",
    " 3970.095407,\n",
    " 2602.394995,\n",
    " 4513.480643,\n",
    " 33859.74835,\n",
    " 37506.41907,\n",
    " 4184.548089,\n",
    " 28718.27684,\n",
    " 1107.482182,\n",
    " 7458.396326999998,\n",
    " 882.9699437999999,\n",
    " 18008.50924,\n",
    " 7092.923025,\n",
    " 8458.276384,\n",
    " 1056.380121,\n",
    " 33203.26128,\n",
    " 42951.65309,\n",
    " 10611.46299,\n",
    " 11415.80569,\n",
    " 2441.576404,\n",
    " 3025.349798,\n",
    " 2280.769906,\n",
    " 1271.211593,\n",
    " 469.70929810000007]\n",
    "\n",
    "life_exp = [43.828,\n",
    " 76.423,\n",
    " 72.301,\n",
    " 42.731,\n",
    " 75.32,\n",
    " 81.235,\n",
    " 79.829,\n",
    " 75.635,\n",
    " 64.062,\n",
    " 79.441,\n",
    " 56.728,\n",
    " 65.554,\n",
    " 74.852,\n",
    " 50.728,\n",
    " 72.39,\n",
    " 73.005,\n",
    " 52.295,\n",
    " 49.58,\n",
    " 59.723,\n",
    " 50.43,\n",
    " 80.653,\n",
    " 44.74100000000001,\n",
    " 50.651,\n",
    " 78.553,\n",
    " 72.961,\n",
    " 72.889,\n",
    " 65.152,\n",
    " 46.462,\n",
    " 55.322,\n",
    " 78.782,\n",
    " 48.328,\n",
    " 75.748,\n",
    " 78.273,\n",
    " 76.486,\n",
    " 78.332,\n",
    " 54.791,\n",
    " 72.235,\n",
    " 74.994,\n",
    " 71.33800000000002,\n",
    " 71.878,\n",
    " 51.57899999999999,\n",
    " 58.04,\n",
    " 52.947,\n",
    " 79.313,\n",
    " 80.657,\n",
    " 56.735,\n",
    " 59.448,\n",
    " 79.406,\n",
    " 60.022,\n",
    " 79.483,\n",
    " 70.259,\n",
    " 56.007,\n",
    " 46.38800000000001,\n",
    " 60.916,\n",
    " 70.19800000000001,\n",
    " 82.208,\n",
    " 73.33800000000002,\n",
    " 81.757,\n",
    " 64.69800000000001,\n",
    " 70.65,\n",
    " 70.964,\n",
    " 59.545,\n",
    " 78.885,\n",
    " 80.745,\n",
    " 80.546,\n",
    " 72.567,\n",
    " 82.603,\n",
    " 72.535,\n",
    " 54.11,\n",
    " 67.297,\n",
    " 78.623,\n",
    " 77.58800000000002,\n",
    " 71.993,\n",
    " 42.592,\n",
    " 45.678,\n",
    " 73.952,\n",
    " 59.44300000000001,\n",
    " 48.303,\n",
    " 74.241,\n",
    " 54.467,\n",
    " 64.164,\n",
    " 72.801,\n",
    " 76.195,\n",
    " 66.803,\n",
    " 74.543,\n",
    " 71.164,\n",
    " 42.082,\n",
    " 62.069,\n",
    " 52.90600000000001,\n",
    " 63.785,\n",
    " 79.762,\n",
    " 80.204,\n",
    " 72.899,\n",
    " 56.867,\n",
    " 46.859,\n",
    " 80.196,\n",
    " 75.64,\n",
    " 65.483,\n",
    " 75.53699999999998,\n",
    " 71.752,\n",
    " 71.421,\n",
    " 71.688,\n",
    " 75.563,\n",
    " 78.098,\n",
    " 78.74600000000002,\n",
    " 76.442,\n",
    " 72.476,\n",
    " 46.242,\n",
    " 65.528,\n",
    " 72.777,\n",
    " 63.062,\n",
    " 74.002,\n",
    " 42.56800000000001,\n",
    " 79.972,\n",
    " 74.663,\n",
    " 77.926,\n",
    " 48.159,\n",
    " 49.339,\n",
    " 80.941,\n",
    " 72.396,\n",
    " 58.556,\n",
    " 39.613,\n",
    " 80.884,\n",
    " 81.70100000000002,\n",
    " 74.143,\n",
    " 78.4,\n",
    " 52.517,\n",
    " 70.616,\n",
    " 58.42,\n",
    " 69.819,\n",
    " 73.923,\n",
    " 71.777,\n",
    " 51.542,\n",
    " 79.425,\n",
    " 78.242,\n",
    " 76.384,\n",
    " 73.747,\n",
    " 74.249,\n",
    " 73.422,\n",
    " 62.698,\n",
    " 42.38399999999999,\n",
    " 43.487]"
   ]
  },
  {
   "cell_type": "markdown",
   "metadata": {},
   "source": [
    "**Create a plot for life expectancy vs gdp cap**  \n",
    "* Print the last item from both the list `gdp_cap`, and the list `life_exp`; it is information about Zimbabwe.\n",
    "* Build a line chart, with `gdp_cap` on the x-axis, and `life_exp` on the y-axis. Does it make sense to plot this data on a line plot?"
   ]
  },
  {
   "cell_type": "code",
   "execution_count": 5,
   "metadata": {},
   "outputs": [
    {
     "name": "stdout",
     "output_type": "stream",
     "text": [
      "469.70929810000007\n",
      "43.487\n"
     ]
    },
    {
     "data": {
      "image/png": "[encoded data removed]",
      "text/plain": [
       "<Figure size 432x288 with 1 Axes>"
      ]
     },
     "metadata": {
      "needs_background": "light"
     },
     "output_type": "display_data"
    }
   ],
   "source": [
    "# Print the last item of gdp_cap and life_exp\n",
    "print(gdp_cap[-1])\n",
    "print(life_exp[-1])\n",
    "\n",
    "# Make a line plot, gdp_cap on the x-axis, life_exp on the y-axis\n",
    "plt.plot(gdp_cap,life_exp)\n",
    "\n",
    "# Display the plot\n",
    "plt.show()"
   ]
  },
  {
   "cell_type": "markdown",
   "metadata": {},
   "source": [
    "This plot makes no sense!  \n",
    "  \n",
    "**Scatter Plot 1**  \n",
    "When you have a time scale along the horizontal axis, the line plot is your friend. But in many other cases, when you're trying to assess if there's a correlation between two variables, for example, the scatter plot is the better choice.  \n",
    "  \n",
    "* Change the line plot that's coded in the script to a scatter plot.\n",
    "* A correlation will become clear when you display the GDP per capita on a logarithmic scale. Add the line `plt.xscale('log')`"
   ]
  },
  {
   "cell_type": "code",
   "execution_count": 6,
   "metadata": {},
   "outputs": [
    {
     "data": {
      "image/png": "[encoded data removed]",
      "text/plain": [
       "<Figure size 432x288 with 1 Axes>"
      ]
     },
     "metadata": {
      "needs_background": "light"
     },
     "output_type": "display_data"
    }
   ],
   "source": [
    "# Change the line plot below to a scatter plot\n",
    "plt.scatter(gdp_cap, life_exp)\n",
    "\n",
    "# Put the x-axis on a logarithmic scale\n",
    "plt.xscale('log')\n",
    "\n",
    "# Show plot\n",
    "plt.show()"
   ]
  },
  {
   "cell_type": "markdown",
   "metadata": {},
   "source": [
    "This plot looks much better on log scale."
   ]
  },
  {
   "cell_type": "code",
   "execution_count": 7,
   "metadata": {},
   "outputs": [
    {
     "data": {
      "image/png": "[encoded data removed]",
      "text/plain": [
       "<Figure size 432x288 with 1 Axes>"
      ]
     },
     "metadata": {
      "needs_background": "light"
     },
     "output_type": "display_data"
    }
   ],
   "source": [
    "# Without the log scale as comparison\n",
    "plt.scatter(gdp_cap, life_exp)\n",
    "plt.show()"
   ]
  },
  {
   "cell_type": "markdown",
   "metadata": {},
   "source": [
    "**Histogram**  \n",
    "* Explore dataset\n",
    "* Get idea about distribution of data\n",
    "Use bins to divide the horizontal axis into how many groups data points should be grouped into. Each group will have a bar. You can set the number of bins specifically when creating a histogram using `matplotlib` and `hist()` will automatically find appropriate bounds for all bins and calculate how many values are in each one.  \n",
    "The histogram is usefull for example to see the distribution of population ages and comparing them over time can show how demographics change."
   ]
  },
  {
   "cell_type": "code",
   "execution_count": 7,
   "metadata": {},
   "outputs": [],
   "source": [
    "import matplotlib.pyplot as plt"
   ]
  },
  {
   "cell_type": "code",
   "execution_count": 9,
   "metadata": {},
   "outputs": [],
   "source": [
    "# help(plt.hist)"
   ]
  },
  {
   "cell_type": "code",
   "execution_count": 9,
   "metadata": {},
   "outputs": [
    {
     "data": {
      "image/png": "[encoded data removed]",
      "text/plain": [
       "<Figure size 432x288 with 1 Axes>"
      ]
     },
     "metadata": {
      "needs_background": "light"
     },
     "output_type": "display_data"
    }
   ],
   "source": [
    "values = [0,0.6,1.3,1.5,2.2,2.6,2.5,3.1,3.5,3.8,4.3,6]\n",
    "# specify the input x and bins\n",
    "plt.hist(values, bins = 5)\n",
    "plt.show()"
   ]
  },
  {
   "cell_type": "markdown",
   "metadata": {},
   "source": [
    "**Build a histogram (1)**  \n",
    "  \n",
    "To see how life expectancy in different countries is distributed, let's create a histogram of `life_exp` using `matplotlib.pyplot`.  \n",
    "  \n",
    "* Use `plt.hist()` to create a histogram of the values in `life_exp`. Do not specify the number of bins; Python will set the number of bins to 10 by default for you.\n",
    "* Add `plt.show()` to actually display the histogram. Can you tell which bin contains the most observations?"
   ]
  },
  {
   "cell_type": "code",
   "execution_count": 13,
   "metadata": {},
   "outputs": [
    {
     "data": {
      "image/png": "[encoded data removed]",
      "text/plain": [
       "<Figure size 432x288 with 1 Axes>"
      ]
     },
     "metadata": {
      "needs_background": "light"
     },
     "output_type": "display_data"
    }
   ],
   "source": [
    "plt.hist(life_exp)\n",
    "plt.show()"
   ]
  },
  {
   "cell_type": "markdown",
   "metadata": {},
   "source": [
    "To control the number of bins to divide your data in, you can set the bins argument.\n",
    "\n",
    "We will be making two plots here. `plt.show()` displays a plot; `plt.clf()` cleans it up again so you can start afresh."
   ]
  },
  {
   "cell_type": "code",
   "execution_count": 14,
   "metadata": {},
   "outputs": [
    {
     "data": {
      "image/png": "[encoded data removed]",
      "text/plain": [
       "<Figure size 432x288 with 1 Axes>"
      ]
     },
     "metadata": {
      "needs_background": "light"
     },
     "output_type": "display_data"
    },
    {
     "data": {
      "image/png": "[encoded data removed]",
      "text/plain": [
       "<Figure size 432x288 with 1 Axes>"
      ]
     },
     "metadata": {
      "needs_background": "light"
     },
     "output_type": "display_data"
    },
    {
     "data": {
      "text/plain": [
       "<Figure size 432x288 with 0 Axes>"
      ]
     },
     "metadata": {},
     "output_type": "display_data"
    }
   ],
   "source": [
    "# build a histogram with 5 bins\n",
    "plt.hist(life_exp, bins=5)\n",
    "\n",
    "# Show and clean up plot\n",
    "plt.show()\n",
    "plt.clf()\n",
    "\n",
    "# Build a histogram with 20 bins\n",
    "plt.hist(life_exp, bins=20)\n",
    "\n",
    "# Show and clean up plot\n",
    "plt.show()\n",
    "plt.clf()\n"
   ]
  },
  {
   "cell_type": "markdown",
   "metadata": {},
   "source": [
    "Split data into two sets and create two histograms, one for each group, and display them in the same plot."
   ]
  },
  {
   "cell_type": "code",
   "execution_count": 19,
   "metadata": {},
   "outputs": [
    {
     "name": "stdout",
     "output_type": "stream",
     "text": [
      "nbr of rows: 142\n"
     ]
    },
    {
     "data": {
      "image/png": "[encoded data removed]",
      "text/plain": [
       "<Figure size 432x288 with 1 Axes>"
      ]
     },
     "metadata": {
      "needs_background": "light"
     },
     "output_type": "display_data"
    },
    {
     "data": {
      "text/plain": [
       "<Figure size 432x288 with 0 Axes>"
      ]
     },
     "metadata": {},
     "output_type": "display_data"
    }
   ],
   "source": [
    "print('nbr of rows:', len(life_exp))\n",
    "\n",
    "life_expA = life_exp[:71]\n",
    "life_expB = life_exp[71:]\n",
    "\n",
    "# Histogram of life_exp, 15 bins\n",
    "plt.hist(life_expA, bins=15)\n",
    "\n",
    "# Histogram of life_exp1950, 15 bins\n",
    "plt.hist(life_expB, bins=15)\n",
    "\n",
    "# Show and clear plot again\n",
    "plt.show()\n",
    "plt.clf()"
   ]
  },
  {
   "cell_type": "markdown",
   "metadata": {},
   "source": [
    "**Customization**  \n",
    "Create a plot is one thing, the real challenge is to make a really usefull plot.  \n",
    "  \n",
    "**Data visualization**  \n",
    "* Many options\n",
    " * different plot types\n",
    " * many customizations\n",
    "* Choice depends on  \n",
    " * data\n",
    " * story we want to tell"
   ]
  },
  {
   "cell_type": "code",
   "execution_count": 20,
   "metadata": {},
   "outputs": [
    {
     "data": {
      "text/plain": [
       "[<matplotlib.lines.Line2D at 0x1d77287cfd0>]"
      ]
     },
     "execution_count": 20,
     "metadata": {},
     "output_type": "execute_result"
    },
    {
     "data": {
      "image/png": "[encoded data removed]",
      "text/plain": [
       "<Figure size 432x288 with 1 Axes>"
      ]
     },
     "metadata": {
      "needs_background": "light"
     },
     "output_type": "display_data"
    }
   ],
   "source": [
    "# same example\n",
    "plt.plot(year, pop)"
   ]
  },
  {
   "cell_type": "markdown",
   "metadata": {},
   "source": [
    "We should add the following information to the plot  \n",
    "* Label axis using `xlabel()` and `ylabel()` functions\n",
    "* Add title to the plot using `title()` function  \n",
    "* Ticks, e.g have y-axis start from `0` using `yticks()` function with a list as argument.  \n",
    "This will help us to create a clearer plot!"
   ]
  },
  {
   "cell_type": "code",
   "execution_count": 21,
   "metadata": {},
   "outputs": [
    {
     "data": {
      "image/png": "[encoded data removed]",
      "text/plain": [
       "<Figure size 432x288 with 1 Axes>"
      ]
     },
     "metadata": {
      "needs_background": "light"
     },
     "output_type": "display_data"
    }
   ],
   "source": [
    "# add some data from wikipedia\n",
    "year = [1800,1850,1900] + year\n",
    "pop = [1.0, 1.262, 1.650] + pop\n",
    "\n",
    "plt.plot(year, pop)\n",
    "\n",
    "# add labels with values as strings that describe what we are looking at\n",
    "plt.xlabel('Year')\n",
    "plt.ylabel('Population')\n",
    "plt.title('World Population') # Add title\n",
    "plt.yticks([0,2,4,6,8],                  # Make y-axis start from zero\n",
    "           ['0','2 B','4 B','6 B','8 B'])    # Add display names of the ticks, same name as the first list\n",
    "\n",
    "plt.show()"
   ]
  },
  {
   "cell_type": "markdown",
   "metadata": {},
   "source": [
    "**Labels**  \n",
    "  \n",
    "Using the `gdp_cap`and `life_exp` data.  \n",
    "* The strings xlab and ylab are already set for you. Use these variables to set the label of the x- and y-axis.\n",
    "* The string title is also coded for you. Use it to add a title to the plot.\n",
    "* Use `tick_val` and `tick_lab` as inputs to the `xticks()` function to make the the plot more readable.\n",
    "* After these customizations, with `plt.show()` to actually display the plot.  "
   ]
  },
  {
   "cell_type": "code",
   "execution_count": 22,
   "metadata": {},
   "outputs": [
    {
     "data": {
      "image/png": "[encoded data removed]",
      "text/plain": [
       "<Figure size 432x288 with 1 Axes>"
      ]
     },
     "metadata": {
      "needs_background": "light"
     },
     "output_type": "display_data"
    }
   ],
   "source": [
    "# Basic scatter plot, log scale\n",
    "plt.scatter(gdp_cap, life_exp)\n",
    "plt.xscale('log') \n",
    "\n",
    "# Strings\n",
    "xlab = 'GDP per Capita [in USD]'\n",
    "ylab = 'Life Expectancy [in years]'\n",
    "title = 'World Development in 2007'\n",
    "\n",
    "# Add axis labels\n",
    "plt.xlabel(xlab)\n",
    "plt.ylabel(ylab)\n",
    "\n",
    "# Definition of tick_val and tick_lab\n",
    "tick_val = [1000, 10000, 100000]\n",
    "tick_lab = ['1k', '10k', '100k']\n",
    "\n",
    "# Adapt ticks on the x-axis\n",
    "plt.xticks(tick_val, tick_lab)\n",
    "\n",
    "# Add title\n",
    "plt.title(title)\n",
    "\n",
    "# After customizing, display the plot\n",
    "plt.show()"
   ]
  },
  {
   "cell_type": "code",
   "execution_count": 23,
   "metadata": {},
   "outputs": [],
   "source": [
    "# add pop for size\n",
    "\n",
    "import numpy as np\n",
    "\n",
    "pop = [31.889923,\n",
    " 3.600523,\n",
    " 33.333216,\n",
    " 12.420476,\n",
    " 40.301927,\n",
    " 20.434176,\n",
    " 8.199783,\n",
    " 0.708573,\n",
    " 150.448339,\n",
    " 10.392226,\n",
    " 8.078314,\n",
    " 9.119152,\n",
    " 4.552198,\n",
    " 1.639131,\n",
    " 190.010647,\n",
    " 7.322858,\n",
    " 14.326203,\n",
    " 8.390505,\n",
    " 14.131858,\n",
    " 17.696293,\n",
    " 33.390141,\n",
    " 4.369038,\n",
    " 10.238807,\n",
    " 16.284741,\n",
    " 1318.683096,\n",
    " 44.22755,\n",
    " 0.71096,\n",
    " 64.606759,\n",
    " 3.80061,\n",
    " 4.133884,\n",
    " 18.013409,\n",
    " 4.493312,\n",
    " 11.416987,\n",
    " 10.228744,\n",
    " 5.46812,\n",
    " 0.496374,\n",
    " 9.319622,\n",
    " 13.75568,\n",
    " 80.264543,\n",
    " 6.939688,\n",
    " 0.551201,\n",
    " 4.906585,\n",
    " 76.511887,\n",
    " 5.23846,\n",
    " 61.083916,\n",
    " 1.454867,\n",
    " 1.688359,\n",
    " 82.400996,\n",
    " 22.873338,\n",
    " 10.70629,\n",
    " 12.572928,\n",
    " 9.947814,\n",
    " 1.472041,\n",
    " 8.502814,\n",
    " 7.483763,\n",
    " 6.980412,\n",
    " 9.956108,\n",
    " 0.301931,\n",
    " 1110.396331,\n",
    " 223.547,\n",
    " 69.45357,\n",
    " 27.499638,\n",
    " 4.109086,\n",
    " 6.426679,\n",
    " 58.147733,\n",
    " 2.780132,\n",
    " 127.467972,\n",
    " 6.053193,\n",
    " 35.610177,\n",
    " 23.301725,\n",
    " 49.04479,\n",
    " 2.505559,\n",
    " 3.921278,\n",
    " 2.012649,\n",
    " 3.193942,\n",
    " 6.036914,\n",
    " 19.167654,\n",
    " 13.327079,\n",
    " 24.821286,\n",
    " 12.031795,\n",
    " 3.270065,\n",
    " 1.250882,\n",
    " 108.700891,\n",
    " 2.874127,\n",
    " 0.684736,\n",
    " 33.757175,\n",
    " 19.951656,\n",
    " 47.76198,\n",
    " 2.05508,\n",
    " 28.90179,\n",
    " 16.570613,\n",
    " 4.115771,\n",
    " 5.675356,\n",
    " 12.894865,\n",
    " 135.031164,\n",
    " 4.627926,\n",
    " 3.204897,\n",
    " 169.270617,\n",
    " 3.242173,\n",
    " 6.667147,\n",
    " 28.674757,\n",
    " 91.077287,\n",
    " 38.518241,\n",
    " 10.642836,\n",
    " 3.942491,\n",
    " 0.798094,\n",
    " 22.276056,\n",
    " 8.860588,\n",
    " 0.199579,\n",
    " 27.601038,\n",
    " 12.267493,\n",
    " 10.150265,\n",
    " 6.144562,\n",
    " 4.553009,\n",
    " 5.447502,\n",
    " 2.009245,\n",
    " 9.118773,\n",
    " 43.997828,\n",
    " 40.448191,\n",
    " 20.378239,\n",
    " 42.292929,\n",
    " 1.133066,\n",
    " 9.031088,\n",
    " 7.554661,\n",
    " 19.314747,\n",
    " 23.174294,\n",
    " 38.13964,\n",
    " 65.068149,\n",
    " 5.701579,\n",
    " 1.056608,\n",
    " 10.276158,\n",
    " 71.158647,\n",
    " 29.170398,\n",
    " 60.776238,\n",
    " 301.139947,\n",
    " 3.447496,\n",
    " 26.084662,\n",
    " 85.262356,\n",
    " 4.018332,\n",
    " 22.211743,\n",
    " 11.746035,\n",
    " 12.311143]\n",
    "\n",
    "np_pop = np.array(pop)"
   ]
  },
  {
   "cell_type": "markdown",
   "metadata": {},
   "source": [
    "**Sizes**  \n",
    "Add size of the dots that corresponds to the populations by using `pop` list from above and use the `s` argument to the `scatter` method.  \n",
    "  \n",
    "* Double the values in `np_pop` setting the value of `np_pop` equal to `np_pop * 2`. Because np_pop is a Numpy array, each array element will be doubled.\n",
    "* Change the `s` argument inside `plt.scatter()` to be `np_pop` instead of `pop`."
   ]
  },
  {
   "cell_type": "code",
   "execution_count": 24,
   "metadata": {},
   "outputs": [
    {
     "data": {
      "image/png": "[encoded data removed]",
      "text/plain": [
       "<Figure size 432x288 with 1 Axes>"
      ]
     },
     "metadata": {
      "needs_background": "light"
     },
     "output_type": "display_data"
    }
   ],
   "source": [
    "# Double np_pop\n",
    "np_pop = np_pop * 2\n",
    "\n",
    "# Update: set s argument to np_pop\n",
    "plt.scatter(gdp_cap, life_exp, s = np_pop)\n",
    "\n",
    "# Previous customizations\n",
    "plt.xscale('log') \n",
    "plt.xlabel('GDP per Capita [in USD]')\n",
    "plt.ylabel('Life Expectancy [in years]')\n",
    "plt.title('World Development in 2007')\n",
    "plt.xticks([1000, 10000, 100000],['1k', '10k', '100k'])\n",
    "\n",
    "# Display the plot\n",
    "plt.show()"
   ]
  },
  {
   "cell_type": "code",
   "execution_count": 25,
   "metadata": {},
   "outputs": [],
   "source": [
    "# add col for color\n",
    "\n",
    "col = ['red',\n",
    " 'green',\n",
    " 'blue',\n",
    " 'blue',\n",
    " 'yellow',\n",
    " 'black',\n",
    " 'green',\n",
    " 'red',\n",
    " 'red',\n",
    " 'green',\n",
    " 'blue',\n",
    " 'yellow',\n",
    " 'green',\n",
    " 'blue',\n",
    " 'yellow',\n",
    " 'green',\n",
    " 'blue',\n",
    " 'blue',\n",
    " 'red',\n",
    " 'blue',\n",
    " 'yellow',\n",
    " 'blue',\n",
    " 'blue',\n",
    " 'yellow',\n",
    " 'red',\n",
    " 'yellow',\n",
    " 'blue',\n",
    " 'blue',\n",
    " 'blue',\n",
    " 'yellow',\n",
    " 'blue',\n",
    " 'green',\n",
    " 'yellow',\n",
    " 'green',\n",
    " 'green',\n",
    " 'blue',\n",
    " 'yellow',\n",
    " 'yellow',\n",
    " 'blue',\n",
    " 'yellow',\n",
    " 'blue',\n",
    " 'blue',\n",
    " 'blue',\n",
    " 'green',\n",
    " 'green',\n",
    " 'blue',\n",
    " 'blue',\n",
    " 'green',\n",
    " 'blue',\n",
    " 'green',\n",
    " 'yellow',\n",
    " 'blue',\n",
    " 'blue',\n",
    " 'yellow',\n",
    " 'yellow',\n",
    " 'red',\n",
    " 'green',\n",
    " 'green',\n",
    " 'red',\n",
    " 'red',\n",
    " 'red',\n",
    " 'red',\n",
    " 'green',\n",
    " 'red',\n",
    " 'green',\n",
    " 'yellow',\n",
    " 'red',\n",
    " 'red',\n",
    " 'blue',\n",
    " 'red',\n",
    " 'red',\n",
    " 'red',\n",
    " 'red',\n",
    " 'blue',\n",
    " 'blue',\n",
    " 'blue',\n",
    " 'blue',\n",
    " 'blue',\n",
    " 'red',\n",
    " 'blue',\n",
    " 'blue',\n",
    " 'blue',\n",
    " 'yellow',\n",
    " 'red',\n",
    " 'green',\n",
    " 'blue',\n",
    " 'blue',\n",
    " 'red',\n",
    " 'blue',\n",
    " 'red',\n",
    " 'green',\n",
    " 'black',\n",
    " 'yellow',\n",
    " 'blue',\n",
    " 'blue',\n",
    " 'green',\n",
    " 'red',\n",
    " 'red',\n",
    " 'yellow',\n",
    " 'yellow',\n",
    " 'yellow',\n",
    " 'red',\n",
    " 'green',\n",
    " 'green',\n",
    " 'yellow',\n",
    " 'blue',\n",
    " 'green',\n",
    " 'blue',\n",
    " 'blue',\n",
    " 'red',\n",
    " 'blue',\n",
    " 'green',\n",
    " 'blue',\n",
    " 'red',\n",
    " 'green',\n",
    " 'green',\n",
    " 'blue',\n",
    " 'blue',\n",
    " 'green',\n",
    " 'red',\n",
    " 'blue',\n",
    " 'blue',\n",
    " 'green',\n",
    " 'green',\n",
    " 'red',\n",
    " 'red',\n",
    " 'blue',\n",
    " 'red',\n",
    " 'blue',\n",
    " 'yellow',\n",
    " 'blue',\n",
    " 'green',\n",
    " 'blue',\n",
    " 'green',\n",
    " 'yellow',\n",
    " 'yellow',\n",
    " 'yellow',\n",
    " 'red',\n",
    " 'red',\n",
    " 'red',\n",
    " 'blue',\n",
    " 'blue']"
   ]
  },
  {
   "cell_type": "markdown",
   "metadata": {},
   "source": [
    "**Colours**  \n",
    "We can add some colours to the plot using the `col`data.  \n",
    "  \n",
    "* Add `c = col` to the arguments of the `plt.scatter()` function.\n",
    "* Change the opacity of the bubbles by setting the `alpha` argument to `0.8` inside `plt.scatter()`. Alpha can be set from zero to one, where zero is totally transparent, and one is not at all transparent.  \n",
    "* Add `plt.grid(True)` after the `plt.text()` calls so that gridlines are drawn on the plot."
   ]
  },
  {
   "cell_type": "code",
   "execution_count": 26,
   "metadata": {},
   "outputs": [
    {
     "data": {
      "image/png": "[encoded data removed]",
      "text/plain": [
       "<Figure size 432x288 with 1 Axes>"
      ]
     },
     "metadata": {
      "needs_background": "light"
     },
     "output_type": "display_data"
    }
   ],
   "source": [
    "# Specify c and alpha inside plt.scatter()\n",
    "plt.scatter(x = gdp_cap, y = life_exp, s = np.array(pop) * 2, c = col, alpha = .8)\n",
    "\n",
    "# Previous customizations\n",
    "plt.xscale('log') \n",
    "plt.xlabel('GDP per Capita [in USD]')\n",
    "plt.ylabel('Life Expectancy [in years]')\n",
    "plt.title('World Development in 2007')\n",
    "plt.xticks([1000,10000,100000], ['1k','10k','100k'])\n",
    "\n",
    "# Additional customizations\n",
    "plt.text(1550, 71, 'India')\n",
    "plt.text(5700, 80, 'China')\n",
    "\n",
    "# Add grid() call\n",
    "plt.grid(True)\n",
    "\n",
    "# Show the plot\n",
    "plt.show()"
   ]
  },
  {
   "cell_type": "markdown",
   "metadata": {},
   "source": [
    "A visualization only makes sense if you can interpret it properly. We do that next!  \n",
    "  \n",
    "**Interpretation**  \n",
    "If you have a look at your colorful plot, it's clear that people live longer in countries with a higher GDP per capita. No high income countries have really short life expectancy, and no low income countries have very long life expectancy. Still, there is a huge difference in life expectancy between countries on the same income level. Most people live in middle income countries where difference in lifespan is huge between countries; depending on how income is distributed and how it is used.\n",
    "  \n",
    "What can you say about the plot?  \n",
    "**A**: The countries in blue, corresponding to Africa, have both low life expectancy and a low GDP per capita.  \n",
    "B: There is a negative correlation between GDP per capita and life expectancy.  \n",
    "C: China has both a lower GDP per capita and lower life expectancy compared to India.  "
   ]
  },
  {
   "cell_type": "markdown",
   "metadata": {},
   "source": [
    "### 2. Dictionaries and Pandas  \n",
    "  \n",
    "**Dictionaries, part 1**  \n",
    "Dictionaries are so usefull in the data world. Compare the below approach for storing population per country using two lists and then subsetting them to get the population of a specific country (this is quite a terrible approach).  \n",
    "  \n",
    "List vs Dictionary"
   ]
  },
  {
   "cell_type": "code",
   "execution_count": 27,
   "metadata": {},
   "outputs": [
    {
     "data": {
      "text/plain": [
       "1"
      ]
     },
     "execution_count": 27,
     "metadata": {},
     "output_type": "execute_result"
    }
   ],
   "source": [
    "# List\n",
    "pop = [30.5, 2.78, 39.23]\n",
    "countries = [\"afghanistan\",\"albania\",\"algeria\"]\n",
    "\n",
    "# use index method to get the population of e.g albania\n",
    "ind_alb = countries.index(\"albania\")\n",
    "ind_alb"
   ]
  },
  {
   "cell_type": "code",
   "execution_count": 28,
   "metadata": {},
   "outputs": [
    {
     "data": {
      "text/plain": [
       "2.78"
      ]
     },
     "execution_count": 28,
     "metadata": {},
     "output_type": "execute_result"
    }
   ],
   "source": [
    "# then subset the pop list with the index\n",
    "pop[ind_alb]"
   ]
  },
  {
   "cell_type": "markdown",
   "metadata": {},
   "source": [
    "* Not convenient\n",
    "* Not intuitive  \n",
    "  \n",
    "Would it not be easier if we could connect each country to its population without using an index?  \n",
    "This is where the dictionary comes into play!  \n",
    "  \n",
    "**Dictionary**  \n",
    "We use curly brackets `{}`  \n",
    "Inside these brackets we have `key-value pairs`.  \n",
    "In our case keys are the country names and population are the values.  "
   ]
  },
  {
   "cell_type": "code",
   "execution_count": 29,
   "metadata": {},
   "outputs": [
    {
     "data": {
      "text/plain": [
       "2.78"
      ]
     },
     "execution_count": 29,
     "metadata": {},
     "output_type": "execute_result"
    }
   ],
   "source": [
    "# create a dict world\n",
    "world = {\"afghanistan\":30.5, \"albania\":2.78, \"algeria\":39.23}\n",
    "\n",
    "world[\"albania\"] # We pass the key in the squared brackets and we get the corresponding value\n",
    "# python can make the look up of these keys fast even for huge dictionaries, which makes it very efficient!"
   ]
  },
  {
   "cell_type": "markdown",
   "metadata": {},
   "source": [
    "**Motivation for dictionaries**  \n",
    "To see why dictionaries are useful, have a look at the two lists defined in the script. `countries` contains the names of some European countries. `capitals` lists the corresponding names of their capital.  \n",
    "  \n",
    "* Use the `index()` method on `countries` to find the index of `'germany'`. Store this index as `ind_ger`.\n",
    "* Use `ind_ger` to access the capital of Germany from the `capitals` list. Print it out."
   ]
  },
  {
   "cell_type": "code",
   "execution_count": 30,
   "metadata": {},
   "outputs": [
    {
     "name": "stdout",
     "output_type": "stream",
     "text": [
      "berlin\n"
     ]
    }
   ],
   "source": [
    "# Definition of countries and capital\n",
    "countries = ['spain', 'france', 'germany', 'norway']\n",
    "capitals = ['madrid', 'paris', 'berlin', 'oslo']\n",
    "\n",
    "# Get index of 'germany': ind_ger\n",
    "ind_ger = countries.index('germany')\n",
    "\n",
    "# Use ind_ger to print out capital of Germany\n",
    "print(capitals[ind_ger])"
   ]
  },
  {
   "cell_type": "markdown",
   "metadata": {},
   "source": [
    "**Create dictionary**  \n",
    "The `countries` and `capitals` lists are again available in the script. It's your job to convert this data to a dictionary where the country names are the keys and the capitals are the corresponding values. As a refresher, here is a recipe for creating a dictionary:\n",
    "\n",
    "`my_dict = {\n",
    "   \"key1\":\"value1\",\n",
    "   \"key2\":\"value2\",\n",
    "}`\n",
    "\n",
    "In this recipe, both the keys and the values are strings. This will also be the case for this exercise.  \n",
    "  \n",
    "* With the strings in `countries` and `capitals`, create a dictionary called `europe` with 4 key:value pairs. Beware of capitalization! Make sure you use lowercase characters everywhere.\n",
    "* Print out `europe` to see if the result is what you expected."
   ]
  },
  {
   "cell_type": "code",
   "execution_count": 33,
   "metadata": {},
   "outputs": [
    {
     "name": "stdout",
     "output_type": "stream",
     "text": [
      "{'spain': 'madrid', 'france': 'paris', 'germany': 'berlin', 'norway': 'oslo'}\n"
     ]
    }
   ],
   "source": [
    "# Definition of countries and capital\n",
    "countries = ['spain', 'france', 'germany', 'norway']\n",
    "capitals = ['madrid', 'paris', 'berlin', 'oslo']\n",
    "\n",
    "# From string in countries and capitals, create dictionary europe\n",
    "europe = { 'spain':'madrid', 'france':'paris', 'germany':'berlin', 'norway':'oslo' }\n",
    "\n",
    "# Print europe\n",
    "print(europe)"
   ]
  },
  {
   "cell_type": "markdown",
   "metadata": {},
   "source": [
    "**Access dictionary**  \n",
    "If the keys of a dictionary are chosen wisely, accessing the values in a dictionary is easy and intuitive. For example, to get the capital for France from `europe` you can use:\n",
    "\n",
    "`europe['france']`\n",
    "Here, `'france'` is the key and `'paris'` the value is returned.  \n",
    "  \n",
    "* Check out which keys are in `europe` by calling the `keys()` method on `europe`. Print out the result.\n",
    "* Print out the value that belongs to the key `'norway'`."
   ]
  },
  {
   "cell_type": "code",
   "execution_count": 34,
   "metadata": {},
   "outputs": [
    {
     "name": "stdout",
     "output_type": "stream",
     "text": [
      "dict_keys(['spain', 'france', 'germany', 'norway'])\n",
      "oslo\n"
     ]
    }
   ],
   "source": [
    "# Definition of dictionary\n",
    "europe = {'spain':'madrid', 'france':'paris', 'germany':'berlin', 'norway':'oslo' }\n",
    "\n",
    "# Print out the keys in europe\n",
    "print(europe.keys())\n",
    "\n",
    "# Print out value that belongs to key 'norway'\n",
    "print(europe['norway'])"
   ]
  },
  {
   "cell_type": "markdown",
   "metadata": {},
   "source": [
    "**Dictionaries, part 1**  \n",
    "* Keys have to be \"immutable\" objects.  \n",
    " Strings, booleans, integers, floats cannot be changes efter they are created. But lists are mutable."
   ]
  },
  {
   "cell_type": "code",
   "execution_count": 36,
   "metadata": {},
   "outputs": [
    {
     "ename": "TypeError",
     "evalue": "unhashable type: 'list'",
     "output_type": "error",
     "traceback": [
      "\u001b[1;31m---------------------------------------------------------------------------\u001b[0m",
      "\u001b[1;31mTypeError\u001b[0m                                 Traceback (most recent call last)",
      "\u001b[1;32m<ipython-input-36-2269382864aa>\u001b[0m in \u001b[0;36m<module>\u001b[1;34m\u001b[0m\n\u001b[0;32m      3\u001b[0m \u001b[1;33m\u001b[0m\u001b[0m\n\u001b[0;32m      4\u001b[0m \u001b[1;31m# not valid, since it uses a list as a key\u001b[0m\u001b[1;33m\u001b[0m\u001b[1;33m\u001b[0m\u001b[1;33m\u001b[0m\u001b[0m\n\u001b[1;32m----> 5\u001b[1;33m \u001b[1;33m{\u001b[0m\u001b[1;33m[\u001b[0m\u001b[1;34m\"just\"\u001b[0m\u001b[1;33m,\u001b[0m \u001b[1;34m\"to\"\u001b[0m\u001b[1;33m,\u001b[0m \u001b[1;34m\"test\"\u001b[0m\u001b[1;33m]\u001b[0m\u001b[1;33m:\u001b[0m \u001b[1;34m\"value\"\u001b[0m\u001b[1;33m}\u001b[0m\u001b[1;33m\u001b[0m\u001b[1;33m\u001b[0m\u001b[0m\n\u001b[0m",
      "\u001b[1;31mTypeError\u001b[0m: unhashable type: 'list'"
     ]
    }
   ],
   "source": [
    "# valid dict\n",
    "{0:\"hello\", True:\"dear\", \"two\":\"world\"}\n",
    "\n",
    "# not valid, since it uses a list as a key\n",
    "{[\"just\", \"to\", \"test\"]: \"value\"}"
   ]
  },
  {
   "cell_type": "markdown",
   "metadata": {},
   "source": [
    "Now we can add more information to a dict.  \n",
    "  \n",
    "**Adding Sealand to world dict**"
   ]
  },
  {
   "cell_type": "code",
   "execution_count": 35,
   "metadata": {},
   "outputs": [
    {
     "name": "stdout",
     "output_type": "stream",
     "text": [
      "{'afghanistan': 30.5, 'albania': 2.78, 'algeria': 39.23, 'sealand': 2.8e-05}\n"
     ]
    },
    {
     "data": {
      "text/plain": [
       "True"
      ]
     },
     "execution_count": 35,
     "metadata": {},
     "output_type": "execute_result"
    }
   ],
   "source": [
    "# create a dict world\n",
    "world = {\"afghanistan\":30.5, \"albania\":2.78, \"algeria\":39.23}\n",
    "\n",
    "# add sealand\n",
    "world[\"sealand\"] = 0.000028\n",
    "print(world)\n",
    "\n",
    "\"sealand\" in world # gives true, if key sealand is in the dict"
   ]
  },
  {
   "cell_type": "markdown",
   "metadata": {},
   "source": [
    "Because each key in a dict is unique, we can update the value and python knows that we are not trying to create a new pair. But want to update the pair that is already there."
   ]
  },
  {
   "cell_type": "code",
   "execution_count": 36,
   "metadata": {},
   "outputs": [
    {
     "name": "stdout",
     "output_type": "stream",
     "text": [
      "{'afghanistan': 30.5, 'albania': 2.78, 'algeria': 39.23, 'sealand': 3.8e-05}\n"
     ]
    }
   ],
   "source": [
    "# update sealand\n",
    "world[\"sealand\"] = 0.000038\n",
    "print(world)"
   ]
  },
  {
   "cell_type": "code",
   "execution_count": 37,
   "metadata": {},
   "outputs": [
    {
     "data": {
      "text/plain": [
       "{'afghanistan': 30.5, 'albania': 2.78, 'algeria': 39.23}"
      ]
     },
     "execution_count": 37,
     "metadata": {},
     "output_type": "execute_result"
    }
   ],
   "source": [
    "#remove sealand from dict\n",
    "del(world[\"sealand\"])\n",
    "world"
   ]
  },
  {
   "cell_type": "markdown",
   "metadata": {},
   "source": [
    "**List vs Dictionary**  \n",
    "LIST | Dictionary\n",
    "Select, update and remove: [] | Select, update and remove: []  \n",
    "Indexed by range of numbers | Indexed by unique keys  \n",
    "When to use which?  \n",
    "Collection of values order matters select entire subsets | Lookup table with unique keys  \n",
    "  \n",
    "**Dictionary Manipulation (1)**  \n",
    "If you know how to access a dictionary, you can also assign a new value to it. To add a new key-value pair to europe you can use something like this:  \n",
    "  \n",
    "`europe['iceland'] = 'reykjavik'`  \n",
    "  \n",
    "* Add the key `'italy'` with the value `'rome'` to `europe`.\n",
    "* To assert that `'italy'` is now a key in `europe`, print out `'italy' in europe`.\n",
    "* Add another key:value pair to `europe`: `'poland'` is the key, `'warsaw'` is the corresponding value.\n",
    "* Print out `europe`"
   ]
  },
  {
   "cell_type": "code",
   "execution_count": 38,
   "metadata": {},
   "outputs": [
    {
     "name": "stdout",
     "output_type": "stream",
     "text": [
      "True\n",
      "{'spain': 'madrid', 'france': 'paris', 'germany': 'berlin', 'norway': 'oslo', 'italy': 'rome', 'poland': 'warsaw'}\n"
     ]
    }
   ],
   "source": [
    "# Definition of dictionary\n",
    "europe = {'spain':'madrid', 'france':'paris', 'germany':'berlin', 'norway':'oslo' }\n",
    "\n",
    "# Add italy to europe\n",
    "europe['italy'] = 'rome'\n",
    "\n",
    "# Print out italy in europe\n",
    "print('italy' in europe)\n",
    "\n",
    "# Add poland to europe\n",
    "europe['poland'] = 'warsaw'\n",
    "\n",
    "# Print europe\n",
    "print(europe)"
   ]
  },
  {
   "cell_type": "markdown",
   "metadata": {},
   "source": [
    "Europe is growing by the minute! Did you notice that the order of the printout is not the same as the order in the dictionary's definition? That's because dictionaries are inherently unordered."
   ]
  },
  {
   "cell_type": "code",
   "execution_count": 39,
   "metadata": {},
   "outputs": [
    {
     "name": "stdout",
     "output_type": "stream",
     "text": [
      "{'spain': 'madrid', 'france': 'paris', 'germany': 'berlin', 'norway': 'oslo', 'italy': 'rome', 'poland': 'warsaw'}\n"
     ]
    }
   ],
   "source": [
    "# Definition of dictionary\n",
    "europe = {'spain':'madrid', 'france':'paris', 'germany':'bonn',\n",
    "          'norway':'oslo', 'italy':'rome', 'poland':'warsaw',\n",
    "          'australia':'vienna' }\n",
    "\n",
    "# Update capital of germany\n",
    "europe['germany'] = 'berlin'\n",
    "\n",
    "# Remove australia\n",
    "del(europe['australia'])\n",
    "\n",
    "# Print europe\n",
    "print(europe)"
   ]
  },
  {
   "cell_type": "markdown",
   "metadata": {},
   "source": [
    "**Dictionariception**  \n",
    "Remember lists?  \n",
    "They could contain anything, even other lists. Well, for dictionaries the same holds. Dictionaries can contain key:value pairs where the values are again dictionaries.  \n",
    "  \n",
    "As an example, have a look at the script where another version of `europe` - the dictionary you've been working with all along - is coded. The keys are still the country names, but the values are dictionaries that contain more information than just the capital.  \n",
    "  \n",
    "It's perfectly possible to chain square brackets to select elements. To fetch the population for Spain from europe, for example, you need:  \n",
    "  \n",
    "`europe['spain']['population']`  \n",
    "* Use chained square brackets to select and print out the capital of France.\n",
    "* Create a dictionary, named data, with the keys `'capital'` and `'population'`. Set them to `'rome'` and `59.83`, respectively.\n",
    "* Add a new key-value pair to `europe`; the key is `'italy'` and the value is `data`, the dictionary you just built."
   ]
  },
  {
   "cell_type": "code",
   "execution_count": 40,
   "metadata": {},
   "outputs": [
    {
     "name": "stdout",
     "output_type": "stream",
     "text": [
      "66.03\n",
      "{'spain': {'capital': 'madrid', 'population': 46.77}, 'france': {'capital': 'paris', 'population': 66.03}, 'germany': {'capital': 'berlin', 'population': 80.62}, 'norway': {'capital': 'oslo', 'population': 5.084}, 'italy': {'capital': 'rome', 'population': 59.83}}\n"
     ]
    }
   ],
   "source": [
    "# Dictionary of dictionaries\n",
    "europe = { 'spain': { 'capital':'madrid', 'population':46.77 },\n",
    "           'france': { 'capital':'paris', 'population':66.03 },\n",
    "           'germany': { 'capital':'berlin', 'population':80.62 },\n",
    "           'norway': { 'capital':'oslo', 'population':5.084 } }\n",
    "\n",
    "\n",
    "# Print out the capital of France\n",
    "print(europe['france']['population'])\n",
    "\n",
    "# Create sub-dictionary data\n",
    "data = {'capital':'rome','population':59.83}\n",
    "\n",
    "# Add data to europe under key 'italy'\n",
    "europe['italy'] = data\n",
    "\n",
    "# Print europe\n",
    "print(europe)"
   ]
  },
  {
   "cell_type": "markdown",
   "metadata": {},
   "source": [
    "**Pandas, Part 1**  \n",
    "  \n",
    "A lot of data comes in tabular form, rows and columns. Each row is an observations, each column is a variable. The latter can have different data in the columns. Sometimes the data types are different, numerical, time, string format etc.  \n",
    "  \n",
    "Datasets in Python  \n",
    "* 2D Numpy array\n",
    " * One data type only!\n",
    "  \n",
    "For handling different types of data we can use Pandas!  \n",
    "* High level data manipulation tool\n",
    "* Built by Wes McKinney\n",
    "* Built upon Numpy\n",
    "* Uses DataFrame to store the data\n",
    "  \n",
    "Compared to numpy it is more high level.  \n",
    "  \n",
    "**How to build a DataFrame?**  \n",
    "  \n",
    "1. we can do it manually, starting from a Dictionary, using the curly brackets.  \n",
    "  Build a dict with:\n",
    "  * keys, column names\n",
    "  * values, data in list form for each column\n",
    "  * then `import pandas as pd` and call `pd.DataFrame()`."
   ]
  },
  {
   "cell_type": "code",
   "execution_count": 47,
   "metadata": {},
   "outputs": [
    {
     "data": {
      "text/plain": [
       "{'country': ['spain', 'france', 'germany', 'norway'],\n",
       " 'capital': ['madrid', 'paris', 'berling', 'oslo'],\n",
       " 'population': [46.77, 66.03, 80.62, 5.084]}"
      ]
     },
     "execution_count": 47,
     "metadata": {},
     "output_type": "execute_result"
    }
   ],
   "source": [
    "dict = {\n",
    "    \"country\":['spain','france','germany','norway'],\n",
    "    \"capital\":['madrid','paris','berling','oslo'],\n",
    "    \"population\":[46.77,66.03,80.62,5.084]\n",
    "}\n",
    "dict"
   ]
  },
  {
   "cell_type": "code",
   "execution_count": 48,
   "metadata": {},
   "outputs": [
    {
     "data": {
      "text/html": [
       "<div>\n",
       "<style scoped>\n",
       "    .dataframe tbody tr th:only-of-type {\n",
       "        vertical-align: middle;\n",
       "    }\n",
       "\n",
       "    .dataframe tbody tr th {\n",
       "        vertical-align: top;\n",
       "    }\n",
       "\n",
       "    .dataframe thead th {\n",
       "        text-align: right;\n",
       "    }\n",
       "</style>\n",
       "<table border=\"1\" class=\"dataframe\">\n",
       "  <thead>\n",
       "    <tr style=\"text-align: right;\">\n",
       "      <th></th>\n",
       "      <th>country</th>\n",
       "      <th>capital</th>\n",
       "      <th>population</th>\n",
       "    </tr>\n",
       "  </thead>\n",
       "  <tbody>\n",
       "    <tr>\n",
       "      <th>0</th>\n",
       "      <td>spain</td>\n",
       "      <td>madrid</td>\n",
       "      <td>46.770</td>\n",
       "    </tr>\n",
       "    <tr>\n",
       "      <th>1</th>\n",
       "      <td>france</td>\n",
       "      <td>paris</td>\n",
       "      <td>66.030</td>\n",
       "    </tr>\n",
       "    <tr>\n",
       "      <th>2</th>\n",
       "      <td>germany</td>\n",
       "      <td>berling</td>\n",
       "      <td>80.620</td>\n",
       "    </tr>\n",
       "    <tr>\n",
       "      <th>3</th>\n",
       "      <td>norway</td>\n",
       "      <td>oslo</td>\n",
       "      <td>5.084</td>\n",
       "    </tr>\n",
       "  </tbody>\n",
       "</table>\n",
       "</div>"
      ],
      "text/plain": [
       "   country  capital  population\n",
       "0    spain   madrid      46.770\n",
       "1   france    paris      66.030\n",
       "2  germany  berling      80.620\n",
       "3   norway     oslo       5.084"
      ]
     },
     "execution_count": 48,
     "metadata": {},
     "output_type": "execute_result"
    }
   ],
   "source": [
    "import pandas as pd\n",
    "\n",
    "brics = pd.DataFrame(dict)\n",
    "brics"
   ]
  },
  {
   "cell_type": "markdown",
   "metadata": {},
   "source": [
    "Pandas assigns row labes automatically, in this case 0-3.  \n",
    "We can specify them manually by setting the index attribute of brics to a list with the correct labels."
   ]
  },
  {
   "cell_type": "code",
   "execution_count": 49,
   "metadata": {},
   "outputs": [
    {
     "data": {
      "text/html": [
       "<div>\n",
       "<style scoped>\n",
       "    .dataframe tbody tr th:only-of-type {\n",
       "        vertical-align: middle;\n",
       "    }\n",
       "\n",
       "    .dataframe tbody tr th {\n",
       "        vertical-align: top;\n",
       "    }\n",
       "\n",
       "    .dataframe thead th {\n",
       "        text-align: right;\n",
       "    }\n",
       "</style>\n",
       "<table border=\"1\" class=\"dataframe\">\n",
       "  <thead>\n",
       "    <tr style=\"text-align: right;\">\n",
       "      <th></th>\n",
       "      <th>country</th>\n",
       "      <th>capital</th>\n",
       "      <th>population</th>\n",
       "    </tr>\n",
       "  </thead>\n",
       "  <tbody>\n",
       "    <tr>\n",
       "      <th>SP</th>\n",
       "      <td>spain</td>\n",
       "      <td>madrid</td>\n",
       "      <td>46.770</td>\n",
       "    </tr>\n",
       "    <tr>\n",
       "      <th>FR</th>\n",
       "      <td>france</td>\n",
       "      <td>paris</td>\n",
       "      <td>66.030</td>\n",
       "    </tr>\n",
       "    <tr>\n",
       "      <th>DE</th>\n",
       "      <td>germany</td>\n",
       "      <td>berling</td>\n",
       "      <td>80.620</td>\n",
       "    </tr>\n",
       "    <tr>\n",
       "      <th>NO</th>\n",
       "      <td>norway</td>\n",
       "      <td>oslo</td>\n",
       "      <td>5.084</td>\n",
       "    </tr>\n",
       "  </tbody>\n",
       "</table>\n",
       "</div>"
      ],
      "text/plain": [
       "    country  capital  population\n",
       "SP    spain   madrid      46.770\n",
       "FR   france    paris      66.030\n",
       "DE  germany  berling      80.620\n",
       "NO   norway     oslo       5.084"
      ]
     },
     "execution_count": 49,
     "metadata": {},
     "output_type": "execute_result"
    }
   ],
   "source": [
    "# set list as labels to df\n",
    "brics.index = ['SP','FR','DE','NO']\n",
    "brics"
   ]
  },
  {
   "cell_type": "markdown",
   "metadata": {},
   "source": [
    "If working with tons of data the dics approach of building a DataFrame is not convenient. We don´t build the df manually, instead we import the data from an external source. E.g 'brics.csv'.  \n",
    "  \n",
    "  2. Build a DataFrame using `pd.read_csv()` function, passing the `.csv` file or path as an argument."
   ]
  },
  {
   "cell_type": "code",
   "execution_count": 50,
   "metadata": {},
   "outputs": [
    {
     "data": {
      "text/html": [
       "<div>\n",
       "<style scoped>\n",
       "    .dataframe tbody tr th:only-of-type {\n",
       "        vertical-align: middle;\n",
       "    }\n",
       "\n",
       "    .dataframe tbody tr th {\n",
       "        vertical-align: top;\n",
       "    }\n",
       "\n",
       "    .dataframe thead th {\n",
       "        text-align: right;\n",
       "    }\n",
       "</style>\n",
       "<table border=\"1\" class=\"dataframe\">\n",
       "  <thead>\n",
       "    <tr style=\"text-align: right;\">\n",
       "      <th></th>\n",
       "      <th>Entity</th>\n",
       "      <th>Code</th>\n",
       "      <th>Year</th>\n",
       "      <th>Capture fisheries production (metric tons)</th>\n",
       "    </tr>\n",
       "  </thead>\n",
       "  <tbody>\n",
       "    <tr>\n",
       "      <th>0</th>\n",
       "      <td>Afghanistan</td>\n",
       "      <td>AFG</td>\n",
       "      <td>1960</td>\n",
       "      <td>200.0</td>\n",
       "    </tr>\n",
       "    <tr>\n",
       "      <th>1</th>\n",
       "      <td>Afghanistan</td>\n",
       "      <td>AFG</td>\n",
       "      <td>1961</td>\n",
       "      <td>300.0</td>\n",
       "    </tr>\n",
       "    <tr>\n",
       "      <th>2</th>\n",
       "      <td>Afghanistan</td>\n",
       "      <td>AFG</td>\n",
       "      <td>1962</td>\n",
       "      <td>300.0</td>\n",
       "    </tr>\n",
       "    <tr>\n",
       "      <th>3</th>\n",
       "      <td>Afghanistan</td>\n",
       "      <td>AFG</td>\n",
       "      <td>1963</td>\n",
       "      <td>300.0</td>\n",
       "    </tr>\n",
       "    <tr>\n",
       "      <th>4</th>\n",
       "      <td>Afghanistan</td>\n",
       "      <td>AFG</td>\n",
       "      <td>1964</td>\n",
       "      <td>300.0</td>\n",
       "    </tr>\n",
       "  </tbody>\n",
       "</table>\n",
       "</div>"
      ],
      "text/plain": [
       "        Entity Code  Year  Capture fisheries production (metric tons)\n",
       "0  Afghanistan  AFG  1960                                       200.0\n",
       "1  Afghanistan  AFG  1961                                       300.0\n",
       "2  Afghanistan  AFG  1962                                       300.0\n",
       "3  Afghanistan  AFG  1963                                       300.0\n",
       "4  Afghanistan  AFG  1964                                       300.0"
      ]
     },
     "execution_count": 50,
     "metadata": {},
     "output_type": "execute_result"
    }
   ],
   "source": [
    "path = \"https://raw.githubusercontent.com/rfordatascience/tidytuesday/master/data/2021/2021-10-12/capture-fishery-production.csv\"\n",
    "\n",
    "fish = pd.read_csv(path)\n",
    "\n",
    "fish.head()"
   ]
  },
  {
   "cell_type": "markdown",
   "metadata": {},
   "source": [
    "The first row contains the row indexes, if we want something else as index we could set is specifically.    \n",
    "We can tell this to the `pd.read_csv()` function by setting the `index_col = 0` argument (if we had assigned the index with a list of specific values like in the `brics.index` example from above)."
   ]
  },
  {
   "cell_type": "code",
   "execution_count": 52,
   "metadata": {},
   "outputs": [],
   "source": [
    "# Do not run\n",
    "# brics = pd.read_csv(\"path/brics.csv\", index_col = 0)"
   ]
  },
  {
   "cell_type": "markdown",
   "metadata": {},
   "source": [
    "**Dictionary to DataFrame (1)**  \n",
    "Pandas is an open source library, providing high-performance, easy-to-use data structures and data analysis tools for Python. Sounds promising!\n",
    "\n",
    "The DataFrame is one of Pandas' most important data structures. It's basically a way to store tabular data where you can label the rows and the columns. One way to build a DataFrame is from a dictionary.\n",
    "\n",
    "In the exercises that follow you will be working with vehicle data from different countries. Each observation corresponds to a country and the columns give information about the number of vehicles per capita, whether people drive left or right, and so on.\n",
    "\n",
    "Three lists are defined in the script:\n",
    "\n",
    "* `names`, containing the country names for which data is available.\n",
    "* `dr`, a list with booleans that tells whether people drive left or right in the corresponding country.\n",
    "* `cpc`, the number of motor vehicles per 1000 people in the corresponding country.  \n",
    "  \n",
    "Each dictionary key is a column label and each value is a list which contains the column elements.  \n",
    "  \n",
    "1. Use the pre-defined lists to create a dictionary called `my_dict`. There should be three key value pairs:\n",
    " * key `'country'` and value names.\n",
    " * key `'drives_right'` and value dr.\n",
    " * key `'cars_per_cap'` and value cpc.\n",
    "2. Use `pd.DataFrame()` to turn your dict into a DataFrame called cars.\n",
    "3. Print out `cars` and see how beautiful it is."
   ]
  },
  {
   "cell_type": "code",
   "execution_count": 54,
   "metadata": {},
   "outputs": [
    {
     "data": {
      "text/html": [
       "<div>\n",
       "<style scoped>\n",
       "    .dataframe tbody tr th:only-of-type {\n",
       "        vertical-align: middle;\n",
       "    }\n",
       "\n",
       "    .dataframe tbody tr th {\n",
       "        vertical-align: top;\n",
       "    }\n",
       "\n",
       "    .dataframe thead th {\n",
       "        text-align: right;\n",
       "    }\n",
       "</style>\n",
       "<table border=\"1\" class=\"dataframe\">\n",
       "  <thead>\n",
       "    <tr style=\"text-align: right;\">\n",
       "      <th></th>\n",
       "      <th>country</th>\n",
       "      <th>drives_right</th>\n",
       "      <th>cars_per_cap</th>\n",
       "    </tr>\n",
       "  </thead>\n",
       "  <tbody>\n",
       "    <tr>\n",
       "      <th>0</th>\n",
       "      <td>United States</td>\n",
       "      <td>True</td>\n",
       "      <td>809</td>\n",
       "    </tr>\n",
       "    <tr>\n",
       "      <th>1</th>\n",
       "      <td>Australia</td>\n",
       "      <td>False</td>\n",
       "      <td>731</td>\n",
       "    </tr>\n",
       "    <tr>\n",
       "      <th>2</th>\n",
       "      <td>Japan</td>\n",
       "      <td>False</td>\n",
       "      <td>588</td>\n",
       "    </tr>\n",
       "    <tr>\n",
       "      <th>3</th>\n",
       "      <td>India</td>\n",
       "      <td>False</td>\n",
       "      <td>18</td>\n",
       "    </tr>\n",
       "    <tr>\n",
       "      <th>4</th>\n",
       "      <td>Russia</td>\n",
       "      <td>True</td>\n",
       "      <td>200</td>\n",
       "    </tr>\n",
       "    <tr>\n",
       "      <th>5</th>\n",
       "      <td>Morocco</td>\n",
       "      <td>True</td>\n",
       "      <td>70</td>\n",
       "    </tr>\n",
       "    <tr>\n",
       "      <th>6</th>\n",
       "      <td>Egypt</td>\n",
       "      <td>True</td>\n",
       "      <td>45</td>\n",
       "    </tr>\n",
       "  </tbody>\n",
       "</table>\n",
       "</div>"
      ],
      "text/plain": [
       "         country  drives_right  cars_per_cap\n",
       "0  United States          True           809\n",
       "1      Australia         False           731\n",
       "2          Japan         False           588\n",
       "3          India         False            18\n",
       "4         Russia          True           200\n",
       "5        Morocco          True            70\n",
       "6          Egypt          True            45"
      ]
     },
     "execution_count": 54,
     "metadata": {},
     "output_type": "execute_result"
    }
   ],
   "source": [
    "# Pre-defined lists\n",
    "names = ['United States', 'Australia', 'Japan', 'India', 'Russia', 'Morocco', 'Egypt']\n",
    "dr =  [True, False, False, False, True, True, True]\n",
    "cpc = [809, 731, 588, 18, 200, 70, 45]\n",
    "\n",
    "# Import pandas as pd\n",
    "import pandas as pd\n",
    "\n",
    "# Create dictionary my_dict with three key:value pairs: my_dict\n",
    "my_dict = {'country':names, 'drives_right':dr, 'cars_per_cap':cpc}\n",
    "\n",
    "# Build a DataFrame cars from my_dict: cars\n",
    "cars = pd.DataFrame(my_dict)\n",
    "\n",
    "# Print cars\n",
    "cars"
   ]
  },
  {
   "cell_type": "markdown",
   "metadata": {},
   "source": [
    "Notice that the columns of cars can be of different types. This was not possible with 2D Numpy arrays!  \n",
    "  \n",
    "**Dictionary to DataFrame (2)**\n",
    "The Python code that solves the previous exercise is included in the script. Have you noticed that the row labels (i.e. the labels for the different observations) were automatically set to integers from 0 up to 6?\n",
    "\n",
    "To solve this a list `row_labels` has been created. You can use it to specify the row labels of the `cars` DataFrame. You do this by setting the `index` attribute of `cars`, that you can access as `cars.index`.   "
   ]
  },
  {
   "cell_type": "code",
   "execution_count": 57,
   "metadata": {},
   "outputs": [
    {
     "name": "stdout",
     "output_type": "stream",
     "text": [
      "         country  drives_right  cars_per_cap\n",
      "0  United States          True           809\n",
      "1      Australia         False           731\n",
      "2          Japan         False           588\n",
      "3          India         False            18\n",
      "4         Russia          True           200\n",
      "5        Morocco          True            70\n",
      "6          Egypt          True            45\n",
      "           country  drives_right  cars_per_cap\n",
      "US   United States          True           809\n",
      "AUS      Australia         False           731\n",
      "JPN          Japan         False           588\n",
      "IN           India         False            18\n",
      "RU          Russia          True           200\n",
      "MOR        Morocco          True            70\n",
      "EG           Egypt          True            45\n"
     ]
    }
   ],
   "source": [
    "import pandas as pd\n",
    "\n",
    "# Build cars DataFrame\n",
    "names = ['United States', 'Australia', 'Japan', 'India', 'Russia', 'Morocco', 'Egypt']\n",
    "dr =  [True, False, False, False, True, True, True]\n",
    "cpc = [809, 731, 588, 18, 200, 70, 45]\n",
    "cars_dict = { 'country':names, 'drives_right':dr, 'cars_per_cap':cpc }\n",
    "cars = pd.DataFrame(cars_dict)\n",
    "print(cars)\n",
    "\n",
    "# Definition of row_labels\n",
    "row_labels = ['US', 'AUS', 'JPN', 'IN', 'RU', 'MOR', 'EG']\n",
    "\n",
    "# Specify row labels of cars\n",
    "cars.index = row_labels\n",
    "\n",
    "# print cars again\n",
    "print(cars)"
   ]
  },
  {
   "cell_type": "markdown",
   "metadata": {},
   "source": [
    "**CSV to DataFrame (1)**  \n",
    "  \n",
    "To import CSV data into Python as a Pandas DataFrame you can use `read_csv()`.\n",
    "\n",
    "Let's explore this function with the same cars data from the previous exercises. This time, however, the data is available in a CSV file, named `cars.csv`. It is available in your current working directory, so the path to the file is simply `'cars.csv'`."
   ]
  },
  {
   "cell_type": "code",
   "execution_count": null,
   "metadata": {},
   "outputs": [],
   "source": [
    "# DO NOT RUN!\n",
    "\n",
    "# Import the cars.csv data: cars\n",
    "cars = pd.read_csv('cars.csv')\n",
    "\n",
    "# Alternative, setting the index_col\n",
    "cars = pd.read_csv('cars.csv', index_col = 0)\n",
    "\n",
    "# Print out cars\n",
    "print(cars)"
   ]
  },
  {
   "cell_type": "markdown",
   "metadata": {},
   "source": [
    "**Pandas, part 2**  \n",
    "  \n",
    "We have created the a dataframe `cars` and made sure that the columns and rows are given the appropriate labels.  \n",
    "This is important to be able to access the columns, rows and single elements in an easy way.  \n",
    "This is what we will do next!"
   ]
  },
  {
   "cell_type": "code",
   "execution_count": 58,
   "metadata": {},
   "outputs": [
    {
     "data": {
      "text/html": [
       "<div>\n",
       "<style scoped>\n",
       "    .dataframe tbody tr th:only-of-type {\n",
       "        vertical-align: middle;\n",
       "    }\n",
       "\n",
       "    .dataframe tbody tr th {\n",
       "        vertical-align: top;\n",
       "    }\n",
       "\n",
       "    .dataframe thead th {\n",
       "        text-align: right;\n",
       "    }\n",
       "</style>\n",
       "<table border=\"1\" class=\"dataframe\">\n",
       "  <thead>\n",
       "    <tr style=\"text-align: right;\">\n",
       "      <th></th>\n",
       "      <th>country</th>\n",
       "      <th>drives_right</th>\n",
       "      <th>cars_per_cap</th>\n",
       "    </tr>\n",
       "  </thead>\n",
       "  <tbody>\n",
       "    <tr>\n",
       "      <th>US</th>\n",
       "      <td>United States</td>\n",
       "      <td>True</td>\n",
       "      <td>809</td>\n",
       "    </tr>\n",
       "    <tr>\n",
       "      <th>AUS</th>\n",
       "      <td>Australia</td>\n",
       "      <td>False</td>\n",
       "      <td>731</td>\n",
       "    </tr>\n",
       "    <tr>\n",
       "      <th>JPN</th>\n",
       "      <td>Japan</td>\n",
       "      <td>False</td>\n",
       "      <td>588</td>\n",
       "    </tr>\n",
       "    <tr>\n",
       "      <th>IN</th>\n",
       "      <td>India</td>\n",
       "      <td>False</td>\n",
       "      <td>18</td>\n",
       "    </tr>\n",
       "    <tr>\n",
       "      <th>RU</th>\n",
       "      <td>Russia</td>\n",
       "      <td>True</td>\n",
       "      <td>200</td>\n",
       "    </tr>\n",
       "    <tr>\n",
       "      <th>MOR</th>\n",
       "      <td>Morocco</td>\n",
       "      <td>True</td>\n",
       "      <td>70</td>\n",
       "    </tr>\n",
       "    <tr>\n",
       "      <th>EG</th>\n",
       "      <td>Egypt</td>\n",
       "      <td>True</td>\n",
       "      <td>45</td>\n",
       "    </tr>\n",
       "  </tbody>\n",
       "</table>\n",
       "</div>"
      ],
      "text/plain": [
       "           country  drives_right  cars_per_cap\n",
       "US   United States          True           809\n",
       "AUS      Australia         False           731\n",
       "JPN          Japan         False           588\n",
       "IN           India         False            18\n",
       "RU          Russia          True           200\n",
       "MOR        Morocco          True            70\n",
       "EG           Egypt          True            45"
      ]
     },
     "execution_count": 58,
     "metadata": {},
     "output_type": "execute_result"
    }
   ],
   "source": [
    "cars"
   ]
  },
  {
   "cell_type": "markdown",
   "metadata": {},
   "source": [
    "**Index and select data**  \n",
    "  \n",
    "There are numerous ways to index and select data from a `df`.  \n",
    "* Squared brackets\n",
    "* Advanced methods, that make pandas extra powerfull\n",
    " * loc\n",
    " * iloc  \n",
    "   \n",
    "**Column Access[]**  \n",
    "Using squared brackets"
   ]
  },
  {
   "cell_type": "code",
   "execution_count": 60,
   "metadata": {},
   "outputs": [
    {
     "data": {
      "text/plain": [
       "US     United States\n",
       "AUS        Australia\n",
       "JPN            Japan\n",
       "IN             India\n",
       "RU            Russia\n",
       "MOR          Morocco\n",
       "EG             Egypt\n",
       "Name: country, dtype: object"
      ]
     },
     "execution_count": 60,
     "metadata": {},
     "output_type": "execute_result"
    }
   ],
   "source": [
    "cars['country'] # python prints out the entire column, together with the row labes"
   ]
  },
  {
   "cell_type": "markdown",
   "metadata": {},
   "source": [
    "Python prints out the entire columns, together with the row labels and the last row `Name: country, dtype: object`  \n",
    "This object that is returned is not a regular data frame. Checking the type: `pandas.core.series.Series`, this is like a \n",
    "* 1D labelled array\n",
    "If you have several of these you can paste them together to create a `df`"
   ]
  },
  {
   "cell_type": "code",
   "execution_count": 61,
   "metadata": {},
   "outputs": [
    {
     "data": {
      "text/plain": [
       "pandas.core.series.Series"
      ]
     },
     "execution_count": 61,
     "metadata": {},
     "output_type": "execute_result"
    }
   ],
   "source": [
    "type(cars['country'])"
   ]
  },
  {
   "cell_type": "markdown",
   "metadata": {},
   "source": [
    "To get the result back as a pandas `df` you need double brackets `df[[]]`"
   ]
  },
  {
   "cell_type": "code",
   "execution_count": 62,
   "metadata": {},
   "outputs": [
    {
     "data": {
      "text/html": [
       "<div>\n",
       "<style scoped>\n",
       "    .dataframe tbody tr th:only-of-type {\n",
       "        vertical-align: middle;\n",
       "    }\n",
       "\n",
       "    .dataframe tbody tr th {\n",
       "        vertical-align: top;\n",
       "    }\n",
       "\n",
       "    .dataframe thead th {\n",
       "        text-align: right;\n",
       "    }\n",
       "</style>\n",
       "<table border=\"1\" class=\"dataframe\">\n",
       "  <thead>\n",
       "    <tr style=\"text-align: right;\">\n",
       "      <th></th>\n",
       "      <th>country</th>\n",
       "    </tr>\n",
       "  </thead>\n",
       "  <tbody>\n",
       "    <tr>\n",
       "      <th>US</th>\n",
       "      <td>United States</td>\n",
       "    </tr>\n",
       "    <tr>\n",
       "      <th>AUS</th>\n",
       "      <td>Australia</td>\n",
       "    </tr>\n",
       "    <tr>\n",
       "      <th>JPN</th>\n",
       "      <td>Japan</td>\n",
       "    </tr>\n",
       "    <tr>\n",
       "      <th>IN</th>\n",
       "      <td>India</td>\n",
       "    </tr>\n",
       "    <tr>\n",
       "      <th>RU</th>\n",
       "      <td>Russia</td>\n",
       "    </tr>\n",
       "    <tr>\n",
       "      <th>MOR</th>\n",
       "      <td>Morocco</td>\n",
       "    </tr>\n",
       "    <tr>\n",
       "      <th>EG</th>\n",
       "      <td>Egypt</td>\n",
       "    </tr>\n",
       "  </tbody>\n",
       "</table>\n",
       "</div>"
      ],
      "text/plain": [
       "           country\n",
       "US   United States\n",
       "AUS      Australia\n",
       "JPN          Japan\n",
       "IN           India\n",
       "RU          Russia\n",
       "MOR        Morocco\n",
       "EG           Egypt"
      ]
     },
     "execution_count": 62,
     "metadata": {},
     "output_type": "execute_result"
    }
   ],
   "source": [
    "cars[['country']]"
   ]
  },
  {
   "cell_type": "code",
   "execution_count": 63,
   "metadata": {},
   "outputs": [
    {
     "data": {
      "text/plain": [
       "pandas.core.frame.DataFrame"
      ]
     },
     "execution_count": 63,
     "metadata": {},
     "output_type": "execute_result"
    }
   ],
   "source": [
    "type(cars[['country']])"
   ]
  },
  {
   "cell_type": "markdown",
   "metadata": {},
   "source": [
    "The double brackets returns a `pandas.core.frame.DataFrame` with only one column.  \n",
    "With double brackets, we are actually putting a list of column labels inside another set of square brackets and end up with a sub-df.  \n",
    "We can extend this call to several columns:"
   ]
  },
  {
   "cell_type": "code",
   "execution_count": 64,
   "metadata": {},
   "outputs": [
    {
     "data": {
      "text/html": [
       "<div>\n",
       "<style scoped>\n",
       "    .dataframe tbody tr th:only-of-type {\n",
       "        vertical-align: middle;\n",
       "    }\n",
       "\n",
       "    .dataframe tbody tr th {\n",
       "        vertical-align: top;\n",
       "    }\n",
       "\n",
       "    .dataframe thead th {\n",
       "        text-align: right;\n",
       "    }\n",
       "</style>\n",
       "<table border=\"1\" class=\"dataframe\">\n",
       "  <thead>\n",
       "    <tr style=\"text-align: right;\">\n",
       "      <th></th>\n",
       "      <th>country</th>\n",
       "      <th>drives_right</th>\n",
       "    </tr>\n",
       "  </thead>\n",
       "  <tbody>\n",
       "    <tr>\n",
       "      <th>US</th>\n",
       "      <td>United States</td>\n",
       "      <td>True</td>\n",
       "    </tr>\n",
       "    <tr>\n",
       "      <th>AUS</th>\n",
       "      <td>Australia</td>\n",
       "      <td>False</td>\n",
       "    </tr>\n",
       "    <tr>\n",
       "      <th>JPN</th>\n",
       "      <td>Japan</td>\n",
       "      <td>False</td>\n",
       "    </tr>\n",
       "    <tr>\n",
       "      <th>IN</th>\n",
       "      <td>India</td>\n",
       "      <td>False</td>\n",
       "    </tr>\n",
       "    <tr>\n",
       "      <th>RU</th>\n",
       "      <td>Russia</td>\n",
       "      <td>True</td>\n",
       "    </tr>\n",
       "    <tr>\n",
       "      <th>MOR</th>\n",
       "      <td>Morocco</td>\n",
       "      <td>True</td>\n",
       "    </tr>\n",
       "    <tr>\n",
       "      <th>EG</th>\n",
       "      <td>Egypt</td>\n",
       "      <td>True</td>\n",
       "    </tr>\n",
       "  </tbody>\n",
       "</table>\n",
       "</div>"
      ],
      "text/plain": [
       "           country  drives_right\n",
       "US   United States          True\n",
       "AUS      Australia         False\n",
       "JPN          Japan         False\n",
       "IN           India         False\n",
       "RU          Russia          True\n",
       "MOR        Morocco          True\n",
       "EG           Egypt          True"
      ]
     },
     "execution_count": 64,
     "metadata": {},
     "output_type": "execute_result"
    }
   ],
   "source": [
    "cars[['country','drives_right']]"
   ]
  },
  {
   "cell_type": "markdown",
   "metadata": {},
   "source": [
    "**Row Access[]**  \n",
    "Using squared brackets.  \n",
    "You can use the single brackets to access rows of the `df`. The way to do it is to specify the slice.  \n",
    "To get the second, third and fourth row. The end of the slice is exclusive and the index starts at 0."
   ]
  },
  {
   "cell_type": "code",
   "execution_count": 65,
   "metadata": {},
   "outputs": [
    {
     "data": {
      "text/html": [
       "<div>\n",
       "<style scoped>\n",
       "    .dataframe tbody tr th:only-of-type {\n",
       "        vertical-align: middle;\n",
       "    }\n",
       "\n",
       "    .dataframe tbody tr th {\n",
       "        vertical-align: top;\n",
       "    }\n",
       "\n",
       "    .dataframe thead th {\n",
       "        text-align: right;\n",
       "    }\n",
       "</style>\n",
       "<table border=\"1\" class=\"dataframe\">\n",
       "  <thead>\n",
       "    <tr style=\"text-align: right;\">\n",
       "      <th></th>\n",
       "      <th>country</th>\n",
       "      <th>drives_right</th>\n",
       "      <th>cars_per_cap</th>\n",
       "    </tr>\n",
       "  </thead>\n",
       "  <tbody>\n",
       "    <tr>\n",
       "      <th>AUS</th>\n",
       "      <td>Australia</td>\n",
       "      <td>False</td>\n",
       "      <td>731</td>\n",
       "    </tr>\n",
       "    <tr>\n",
       "      <th>JPN</th>\n",
       "      <td>Japan</td>\n",
       "      <td>False</td>\n",
       "      <td>588</td>\n",
       "    </tr>\n",
       "    <tr>\n",
       "      <th>IN</th>\n",
       "      <td>India</td>\n",
       "      <td>False</td>\n",
       "      <td>18</td>\n",
       "    </tr>\n",
       "  </tbody>\n",
       "</table>\n",
       "</div>"
      ],
      "text/plain": [
       "       country  drives_right  cars_per_cap\n",
       "AUS  Australia         False           731\n",
       "JPN      Japan         False           588\n",
       "IN       India         False            18"
      ]
     },
     "execution_count": 65,
     "metadata": {},
     "output_type": "execute_result"
    }
   ],
   "source": [
    "cars[1:4]"
   ]
  },
  {
   "cell_type": "markdown",
   "metadata": {},
   "source": [
    "**Discussion[]**  \n",
    "* Square brackets: limited functionality!\n",
    "* Ideally\n",
    " * 2D Numpy arrays\n",
    " * `my_array[rows, columns]`\n",
    "* pandas, to achieve the similar thing we have to extend the toolbox with two functions: \n",
    " * `loc` (label-based)\n",
    " * `iloc` (integer position-based)  \n",
    "   \n",
    "**Row Acceess loc**  \n",
    "We put the label of the row of interest inside the squared brackets after `df.loc[\"row_label\"]`"
   ]
  },
  {
   "cell_type": "code",
   "execution_count": 67,
   "metadata": {},
   "outputs": [
    {
     "data": {
      "text/plain": [
       "country         Australia\n",
       "drives_right        False\n",
       "cars_per_cap          731\n",
       "Name: AUS, dtype: object"
      ]
     },
     "execution_count": 67,
     "metadata": {},
     "output_type": "execute_result"
    }
   ],
   "source": [
    "cars.loc['AUS']"
   ]
  },
  {
   "cell_type": "markdown",
   "metadata": {},
   "source": [
    "We get a pandas Series containing all the row information, inconveniently shown on different lines.  \n",
    "  \n",
    "To get the all rows back as `df` we need to use double brackets `df.loc[[\"row_label\"]]`"
   ]
  },
  {
   "cell_type": "code",
   "execution_count": 68,
   "metadata": {},
   "outputs": [
    {
     "data": {
      "text/html": [
       "<div>\n",
       "<style scoped>\n",
       "    .dataframe tbody tr th:only-of-type {\n",
       "        vertical-align: middle;\n",
       "    }\n",
       "\n",
       "    .dataframe tbody tr th {\n",
       "        vertical-align: top;\n",
       "    }\n",
       "\n",
       "    .dataframe thead th {\n",
       "        text-align: right;\n",
       "    }\n",
       "</style>\n",
       "<table border=\"1\" class=\"dataframe\">\n",
       "  <thead>\n",
       "    <tr style=\"text-align: right;\">\n",
       "      <th></th>\n",
       "      <th>country</th>\n",
       "      <th>drives_right</th>\n",
       "      <th>cars_per_cap</th>\n",
       "    </tr>\n",
       "  </thead>\n",
       "  <tbody>\n",
       "    <tr>\n",
       "      <th>AUS</th>\n",
       "      <td>Australia</td>\n",
       "      <td>False</td>\n",
       "      <td>731</td>\n",
       "    </tr>\n",
       "  </tbody>\n",
       "</table>\n",
       "</div>"
      ],
      "text/plain": [
       "       country  drives_right  cars_per_cap\n",
       "AUS  Australia         False           731"
      ]
     },
     "execution_count": 68,
     "metadata": {},
     "output_type": "execute_result"
    }
   ],
   "source": [
    "cars.loc[['AUS']]"
   ]
  },
  {
   "cell_type": "code",
   "execution_count": 69,
   "metadata": {},
   "outputs": [
    {
     "data": {
      "text/html": [
       "<div>\n",
       "<style scoped>\n",
       "    .dataframe tbody tr th:only-of-type {\n",
       "        vertical-align: middle;\n",
       "    }\n",
       "\n",
       "    .dataframe tbody tr th {\n",
       "        vertical-align: top;\n",
       "    }\n",
       "\n",
       "    .dataframe thead th {\n",
       "        text-align: right;\n",
       "    }\n",
       "</style>\n",
       "<table border=\"1\" class=\"dataframe\">\n",
       "  <thead>\n",
       "    <tr style=\"text-align: right;\">\n",
       "      <th></th>\n",
       "      <th>country</th>\n",
       "      <th>drives_right</th>\n",
       "      <th>cars_per_cap</th>\n",
       "    </tr>\n",
       "  </thead>\n",
       "  <tbody>\n",
       "    <tr>\n",
       "      <th>AUS</th>\n",
       "      <td>Australia</td>\n",
       "      <td>False</td>\n",
       "      <td>731</td>\n",
       "    </tr>\n",
       "    <tr>\n",
       "      <th>IN</th>\n",
       "      <td>India</td>\n",
       "      <td>False</td>\n",
       "      <td>18</td>\n",
       "    </tr>\n",
       "  </tbody>\n",
       "</table>\n",
       "</div>"
      ],
      "text/plain": [
       "       country  drives_right  cars_per_cap\n",
       "AUS  Australia         False           731\n",
       "IN       India         False            18"
      ]
     },
     "execution_count": 69,
     "metadata": {},
     "output_type": "execute_result"
    }
   ],
   "source": [
    "cars.loc[['AUS','IN']]"
   ]
  },
  {
   "cell_type": "markdown",
   "metadata": {},
   "source": [
    "**Row & Column Access loc**  \n",
    "We can add also additional information about which columns we want to keep by specifying  \n",
    "`df.loc[['row_labels'],['col_labels']]`  \n",
    "The intersection gets returned"
   ]
  },
  {
   "cell_type": "code",
   "execution_count": 70,
   "metadata": {},
   "outputs": [
    {
     "data": {
      "text/html": [
       "<div>\n",
       "<style scoped>\n",
       "    .dataframe tbody tr th:only-of-type {\n",
       "        vertical-align: middle;\n",
       "    }\n",
       "\n",
       "    .dataframe tbody tr th {\n",
       "        vertical-align: top;\n",
       "    }\n",
       "\n",
       "    .dataframe thead th {\n",
       "        text-align: right;\n",
       "    }\n",
       "</style>\n",
       "<table border=\"1\" class=\"dataframe\">\n",
       "  <thead>\n",
       "    <tr style=\"text-align: right;\">\n",
       "      <th></th>\n",
       "      <th>country</th>\n",
       "    </tr>\n",
       "  </thead>\n",
       "  <tbody>\n",
       "    <tr>\n",
       "      <th>AUS</th>\n",
       "      <td>Australia</td>\n",
       "    </tr>\n",
       "    <tr>\n",
       "      <th>IN</th>\n",
       "      <td>India</td>\n",
       "    </tr>\n",
       "  </tbody>\n",
       "</table>\n",
       "</div>"
      ],
      "text/plain": [
       "       country\n",
       "AUS  Australia\n",
       "IN       India"
      ]
     },
     "execution_count": 70,
     "metadata": {},
     "output_type": "execute_result"
    }
   ],
   "source": [
    "cars.loc[['AUS','IN'],['country']]"
   ]
  },
  {
   "cell_type": "markdown",
   "metadata": {},
   "source": [
    "We can also use loc to return all rows but only a specific number of columns by replacing the first list with a colon `:`, a slice going from the beginning to end. `df.loc[:,[col_labels']]`  \n",
    "This time, the intersect spans all rows but only the column selected."
   ]
  },
  {
   "cell_type": "code",
   "execution_count": 72,
   "metadata": {},
   "outputs": [
    {
     "data": {
      "text/html": [
       "<div>\n",
       "<style scoped>\n",
       "    .dataframe tbody tr th:only-of-type {\n",
       "        vertical-align: middle;\n",
       "    }\n",
       "\n",
       "    .dataframe tbody tr th {\n",
       "        vertical-align: top;\n",
       "    }\n",
       "\n",
       "    .dataframe thead th {\n",
       "        text-align: right;\n",
       "    }\n",
       "</style>\n",
       "<table border=\"1\" class=\"dataframe\">\n",
       "  <thead>\n",
       "    <tr style=\"text-align: right;\">\n",
       "      <th></th>\n",
       "      <th>country</th>\n",
       "    </tr>\n",
       "  </thead>\n",
       "  <tbody>\n",
       "    <tr>\n",
       "      <th>US</th>\n",
       "      <td>United States</td>\n",
       "    </tr>\n",
       "    <tr>\n",
       "      <th>AUS</th>\n",
       "      <td>Australia</td>\n",
       "    </tr>\n",
       "    <tr>\n",
       "      <th>JPN</th>\n",
       "      <td>Japan</td>\n",
       "    </tr>\n",
       "    <tr>\n",
       "      <th>IN</th>\n",
       "      <td>India</td>\n",
       "    </tr>\n",
       "    <tr>\n",
       "      <th>RU</th>\n",
       "      <td>Russia</td>\n",
       "    </tr>\n",
       "    <tr>\n",
       "      <th>MOR</th>\n",
       "      <td>Morocco</td>\n",
       "    </tr>\n",
       "    <tr>\n",
       "      <th>EG</th>\n",
       "      <td>Egypt</td>\n",
       "    </tr>\n",
       "  </tbody>\n",
       "</table>\n",
       "</div>"
      ],
      "text/plain": [
       "           country\n",
       "US   United States\n",
       "AUS      Australia\n",
       "JPN          Japan\n",
       "IN           India\n",
       "RU          Russia\n",
       "MOR        Morocco\n",
       "EG           Egypt"
      ]
     },
     "execution_count": 72,
     "metadata": {},
     "output_type": "execute_result"
    }
   ],
   "source": [
    "cars.loc[:,['country']]"
   ]
  },
  {
   "cell_type": "markdown",
   "metadata": {},
   "source": [
    "**Recap**  \n",
    "* Square brackets\n",
    " * Column access `df[[\"col_label_1\", \"col_label_2\"]]`\n",
    " * Row access: only through slicing `df[1:4]`\n",
    "* loc (label-based)\n",
    " * Row access `df.loc[[\"row_label_1\",\"row_label_2\",\"row_label_3\"]]`\n",
    " * Column access `df.loc[:,[\"col_label_1\", \"col_label_2\"]]`\n",
    " * Row & Colum access  \n",
    " `df.loc[`  \n",
    " `[\"row_label_1\",\"row_label_2\",\"row_label_3\"],`  \n",
    " `[\"col_label_1\", \"col_label_2\"]`  \n",
    " `]`  \n",
    "   \n",
    "Using `loc`, becomes similar to subsetting 2D-numpy arrays. The only difference is that we are using row_labels with `loc`, not the positions of the elements. If we want to sub-set pandas `df` using position or index we can use the `iloc` function.  \n",
    "  \n",
    "**Row Access iloc**  \n",
    "  \n",
    "Using position or index of elements.  \n",
    "`df.iloc[[index]]`  \n",
    "The results are exactly the same as when using `loc`"
   ]
  },
  {
   "cell_type": "code",
   "execution_count": 76,
   "metadata": {},
   "outputs": [
    {
     "data": {
      "text/html": [
       "<div>\n",
       "<style scoped>\n",
       "    .dataframe tbody tr th:only-of-type {\n",
       "        vertical-align: middle;\n",
       "    }\n",
       "\n",
       "    .dataframe tbody tr th {\n",
       "        vertical-align: top;\n",
       "    }\n",
       "\n",
       "    .dataframe thead th {\n",
       "        text-align: right;\n",
       "    }\n",
       "</style>\n",
       "<table border=\"1\" class=\"dataframe\">\n",
       "  <thead>\n",
       "    <tr style=\"text-align: right;\">\n",
       "      <th></th>\n",
       "      <th>country</th>\n",
       "      <th>drives_right</th>\n",
       "      <th>cars_per_cap</th>\n",
       "    </tr>\n",
       "  </thead>\n",
       "  <tbody>\n",
       "    <tr>\n",
       "      <th>US</th>\n",
       "      <td>United States</td>\n",
       "      <td>True</td>\n",
       "      <td>809</td>\n",
       "    </tr>\n",
       "    <tr>\n",
       "      <th>AUS</th>\n",
       "      <td>Australia</td>\n",
       "      <td>False</td>\n",
       "      <td>731</td>\n",
       "    </tr>\n",
       "    <tr>\n",
       "      <th>JPN</th>\n",
       "      <td>Japan</td>\n",
       "      <td>False</td>\n",
       "      <td>588</td>\n",
       "    </tr>\n",
       "    <tr>\n",
       "      <th>IN</th>\n",
       "      <td>India</td>\n",
       "      <td>False</td>\n",
       "      <td>18</td>\n",
       "    </tr>\n",
       "    <tr>\n",
       "      <th>RU</th>\n",
       "      <td>Russia</td>\n",
       "      <td>True</td>\n",
       "      <td>200</td>\n",
       "    </tr>\n",
       "    <tr>\n",
       "      <th>MOR</th>\n",
       "      <td>Morocco</td>\n",
       "      <td>True</td>\n",
       "      <td>70</td>\n",
       "    </tr>\n",
       "    <tr>\n",
       "      <th>EG</th>\n",
       "      <td>Egypt</td>\n",
       "      <td>True</td>\n",
       "      <td>45</td>\n",
       "    </tr>\n",
       "  </tbody>\n",
       "</table>\n",
       "</div>"
      ],
      "text/plain": [
       "           country  drives_right  cars_per_cap\n",
       "US   United States          True           809\n",
       "AUS      Australia         False           731\n",
       "JPN          Japan         False           588\n",
       "IN           India         False            18\n",
       "RU          Russia          True           200\n",
       "MOR        Morocco          True            70\n",
       "EG           Egypt          True            45"
      ]
     },
     "execution_count": 76,
     "metadata": {},
     "output_type": "execute_result"
    }
   ],
   "source": [
    "cars"
   ]
  },
  {
   "cell_type": "code",
   "execution_count": 78,
   "metadata": {},
   "outputs": [
    {
     "data": {
      "text/html": [
       "<div>\n",
       "<style scoped>\n",
       "    .dataframe tbody tr th:only-of-type {\n",
       "        vertical-align: middle;\n",
       "    }\n",
       "\n",
       "    .dataframe tbody tr th {\n",
       "        vertical-align: top;\n",
       "    }\n",
       "\n",
       "    .dataframe thead th {\n",
       "        text-align: right;\n",
       "    }\n",
       "</style>\n",
       "<table border=\"1\" class=\"dataframe\">\n",
       "  <thead>\n",
       "    <tr style=\"text-align: right;\">\n",
       "      <th></th>\n",
       "      <th>country</th>\n",
       "      <th>drives_right</th>\n",
       "      <th>cars_per_cap</th>\n",
       "    </tr>\n",
       "  </thead>\n",
       "  <tbody>\n",
       "    <tr>\n",
       "      <th>AUS</th>\n",
       "      <td>Australia</td>\n",
       "      <td>False</td>\n",
       "      <td>731</td>\n",
       "    </tr>\n",
       "  </tbody>\n",
       "</table>\n",
       "</div>"
      ],
      "text/plain": [
       "       country  drives_right  cars_per_cap\n",
       "AUS  Australia         False           731"
      ]
     },
     "execution_count": 78,
     "metadata": {},
     "output_type": "execute_result"
    }
   ],
   "source": [
    "# loc\n",
    "cars.loc[[\"AUS\"]]"
   ]
  },
  {
   "cell_type": "code",
   "execution_count": 77,
   "metadata": {},
   "outputs": [
    {
     "data": {
      "text/html": [
       "<div>\n",
       "<style scoped>\n",
       "    .dataframe tbody tr th:only-of-type {\n",
       "        vertical-align: middle;\n",
       "    }\n",
       "\n",
       "    .dataframe tbody tr th {\n",
       "        vertical-align: top;\n",
       "    }\n",
       "\n",
       "    .dataframe thead th {\n",
       "        text-align: right;\n",
       "    }\n",
       "</style>\n",
       "<table border=\"1\" class=\"dataframe\">\n",
       "  <thead>\n",
       "    <tr style=\"text-align: right;\">\n",
       "      <th></th>\n",
       "      <th>country</th>\n",
       "      <th>drives_right</th>\n",
       "      <th>cars_per_cap</th>\n",
       "    </tr>\n",
       "  </thead>\n",
       "  <tbody>\n",
       "    <tr>\n",
       "      <th>AUS</th>\n",
       "      <td>Australia</td>\n",
       "      <td>False</td>\n",
       "      <td>731</td>\n",
       "    </tr>\n",
       "  </tbody>\n",
       "</table>\n",
       "</div>"
      ],
      "text/plain": [
       "       country  drives_right  cars_per_cap\n",
       "AUS  Australia         False           731"
      ]
     },
     "execution_count": 77,
     "metadata": {},
     "output_type": "execute_result"
    }
   ],
   "source": [
    "# iloc\n",
    "cars.iloc[[1]]"
   ]
  },
  {
   "cell_type": "code",
   "execution_count": 80,
   "metadata": {},
   "outputs": [
    {
     "data": {
      "text/html": [
       "<div>\n",
       "<style scoped>\n",
       "    .dataframe tbody tr th:only-of-type {\n",
       "        vertical-align: middle;\n",
       "    }\n",
       "\n",
       "    .dataframe tbody tr th {\n",
       "        vertical-align: top;\n",
       "    }\n",
       "\n",
       "    .dataframe thead th {\n",
       "        text-align: right;\n",
       "    }\n",
       "</style>\n",
       "<table border=\"1\" class=\"dataframe\">\n",
       "  <thead>\n",
       "    <tr style=\"text-align: right;\">\n",
       "      <th></th>\n",
       "      <th>country</th>\n",
       "      <th>drives_right</th>\n",
       "      <th>cars_per_cap</th>\n",
       "    </tr>\n",
       "  </thead>\n",
       "  <tbody>\n",
       "    <tr>\n",
       "      <th>US</th>\n",
       "      <td>United States</td>\n",
       "      <td>True</td>\n",
       "      <td>809</td>\n",
       "    </tr>\n",
       "    <tr>\n",
       "      <th>AUS</th>\n",
       "      <td>Australia</td>\n",
       "      <td>False</td>\n",
       "      <td>731</td>\n",
       "    </tr>\n",
       "    <tr>\n",
       "      <th>JPN</th>\n",
       "      <td>Japan</td>\n",
       "      <td>False</td>\n",
       "      <td>588</td>\n",
       "    </tr>\n",
       "  </tbody>\n",
       "</table>\n",
       "</div>"
      ],
      "text/plain": [
       "           country  drives_right  cars_per_cap\n",
       "US   United States          True           809\n",
       "AUS      Australia         False           731\n",
       "JPN          Japan         False           588"
      ]
     },
     "execution_count": 80,
     "metadata": {},
     "output_type": "execute_result"
    }
   ],
   "source": [
    "# loc\n",
    "cars.loc[['US','AUS','JPN']] # List of country"
   ]
  },
  {
   "cell_type": "code",
   "execution_count": 81,
   "metadata": {},
   "outputs": [
    {
     "data": {
      "text/html": [
       "<div>\n",
       "<style scoped>\n",
       "    .dataframe tbody tr th:only-of-type {\n",
       "        vertical-align: middle;\n",
       "    }\n",
       "\n",
       "    .dataframe tbody tr th {\n",
       "        vertical-align: top;\n",
       "    }\n",
       "\n",
       "    .dataframe thead th {\n",
       "        text-align: right;\n",
       "    }\n",
       "</style>\n",
       "<table border=\"1\" class=\"dataframe\">\n",
       "  <thead>\n",
       "    <tr style=\"text-align: right;\">\n",
       "      <th></th>\n",
       "      <th>country</th>\n",
       "      <th>drives_right</th>\n",
       "      <th>cars_per_cap</th>\n",
       "    </tr>\n",
       "  </thead>\n",
       "  <tbody>\n",
       "    <tr>\n",
       "      <th>US</th>\n",
       "      <td>United States</td>\n",
       "      <td>True</td>\n",
       "      <td>809</td>\n",
       "    </tr>\n",
       "    <tr>\n",
       "      <th>AUS</th>\n",
       "      <td>Australia</td>\n",
       "      <td>False</td>\n",
       "      <td>731</td>\n",
       "    </tr>\n",
       "    <tr>\n",
       "      <th>JPN</th>\n",
       "      <td>Japan</td>\n",
       "      <td>False</td>\n",
       "      <td>588</td>\n",
       "    </tr>\n",
       "  </tbody>\n",
       "</table>\n",
       "</div>"
      ],
      "text/plain": [
       "           country  drives_right  cars_per_cap\n",
       "US   United States          True           809\n",
       "AUS      Australia         False           731\n",
       "JPN          Japan         False           588"
      ]
     },
     "execution_count": 81,
     "metadata": {},
     "output_type": "execute_result"
    }
   ],
   "source": [
    "# iloc\n",
    "cars.iloc[[0,1,2]] # list of index"
   ]
  },
  {
   "cell_type": "markdown",
   "metadata": {},
   "source": [
    "**Row & Column Access iloc**"
   ]
  },
  {
   "cell_type": "code",
   "execution_count": 83,
   "metadata": {},
   "outputs": [
    {
     "data": {
      "text/html": [
       "<div>\n",
       "<style scoped>\n",
       "    .dataframe tbody tr th:only-of-type {\n",
       "        vertical-align: middle;\n",
       "    }\n",
       "\n",
       "    .dataframe tbody tr th {\n",
       "        vertical-align: top;\n",
       "    }\n",
       "\n",
       "    .dataframe thead th {\n",
       "        text-align: right;\n",
       "    }\n",
       "</style>\n",
       "<table border=\"1\" class=\"dataframe\">\n",
       "  <thead>\n",
       "    <tr style=\"text-align: right;\">\n",
       "      <th></th>\n",
       "      <th>country</th>\n",
       "    </tr>\n",
       "  </thead>\n",
       "  <tbody>\n",
       "    <tr>\n",
       "      <th>AUS</th>\n",
       "      <td>Australia</td>\n",
       "    </tr>\n",
       "    <tr>\n",
       "      <th>IN</th>\n",
       "      <td>India</td>\n",
       "    </tr>\n",
       "  </tbody>\n",
       "</table>\n",
       "</div>"
      ],
      "text/plain": [
       "       country\n",
       "AUS  Australia\n",
       "IN       India"
      ]
     },
     "execution_count": 83,
     "metadata": {},
     "output_type": "execute_result"
    }
   ],
   "source": [
    "# loc\n",
    "cars.loc[['AUS','IN'],['country']]"
   ]
  },
  {
   "cell_type": "code",
   "execution_count": 84,
   "metadata": {},
   "outputs": [
    {
     "data": {
      "text/html": [
       "<div>\n",
       "<style scoped>\n",
       "    .dataframe tbody tr th:only-of-type {\n",
       "        vertical-align: middle;\n",
       "    }\n",
       "\n",
       "    .dataframe tbody tr th {\n",
       "        vertical-align: top;\n",
       "    }\n",
       "\n",
       "    .dataframe thead th {\n",
       "        text-align: right;\n",
       "    }\n",
       "</style>\n",
       "<table border=\"1\" class=\"dataframe\">\n",
       "  <thead>\n",
       "    <tr style=\"text-align: right;\">\n",
       "      <th></th>\n",
       "      <th>country</th>\n",
       "    </tr>\n",
       "  </thead>\n",
       "  <tbody>\n",
       "    <tr>\n",
       "      <th>AUS</th>\n",
       "      <td>Australia</td>\n",
       "    </tr>\n",
       "    <tr>\n",
       "      <th>IN</th>\n",
       "      <td>India</td>\n",
       "    </tr>\n",
       "  </tbody>\n",
       "</table>\n",
       "</div>"
      ],
      "text/plain": [
       "       country\n",
       "AUS  Australia\n",
       "IN       India"
      ]
     },
     "execution_count": 84,
     "metadata": {},
     "output_type": "execute_result"
    }
   ],
   "source": [
    "# iloc\n",
    "cars.iloc[[1,3],[0]]"
   ]
  },
  {
   "cell_type": "markdown",
   "metadata": {},
   "source": [
    "Keeping all rows and only some columns"
   ]
  },
  {
   "cell_type": "code",
   "execution_count": 85,
   "metadata": {},
   "outputs": [
    {
     "data": {
      "text/html": [
       "<div>\n",
       "<style scoped>\n",
       "    .dataframe tbody tr th:only-of-type {\n",
       "        vertical-align: middle;\n",
       "    }\n",
       "\n",
       "    .dataframe tbody tr th {\n",
       "        vertical-align: top;\n",
       "    }\n",
       "\n",
       "    .dataframe thead th {\n",
       "        text-align: right;\n",
       "    }\n",
       "</style>\n",
       "<table border=\"1\" class=\"dataframe\">\n",
       "  <thead>\n",
       "    <tr style=\"text-align: right;\">\n",
       "      <th></th>\n",
       "      <th>country</th>\n",
       "    </tr>\n",
       "  </thead>\n",
       "  <tbody>\n",
       "    <tr>\n",
       "      <th>US</th>\n",
       "      <td>United States</td>\n",
       "    </tr>\n",
       "    <tr>\n",
       "      <th>AUS</th>\n",
       "      <td>Australia</td>\n",
       "    </tr>\n",
       "    <tr>\n",
       "      <th>JPN</th>\n",
       "      <td>Japan</td>\n",
       "    </tr>\n",
       "    <tr>\n",
       "      <th>IN</th>\n",
       "      <td>India</td>\n",
       "    </tr>\n",
       "    <tr>\n",
       "      <th>RU</th>\n",
       "      <td>Russia</td>\n",
       "    </tr>\n",
       "    <tr>\n",
       "      <th>MOR</th>\n",
       "      <td>Morocco</td>\n",
       "    </tr>\n",
       "    <tr>\n",
       "      <th>EG</th>\n",
       "      <td>Egypt</td>\n",
       "    </tr>\n",
       "  </tbody>\n",
       "</table>\n",
       "</div>"
      ],
      "text/plain": [
       "           country\n",
       "US   United States\n",
       "AUS      Australia\n",
       "JPN          Japan\n",
       "IN           India\n",
       "RU          Russia\n",
       "MOR        Morocco\n",
       "EG           Egypt"
      ]
     },
     "execution_count": 85,
     "metadata": {},
     "output_type": "execute_result"
    }
   ],
   "source": [
    "# loc\n",
    "cars.loc[:,['country']]"
   ]
  },
  {
   "cell_type": "code",
   "execution_count": 86,
   "metadata": {},
   "outputs": [
    {
     "data": {
      "text/html": [
       "<div>\n",
       "<style scoped>\n",
       "    .dataframe tbody tr th:only-of-type {\n",
       "        vertical-align: middle;\n",
       "    }\n",
       "\n",
       "    .dataframe tbody tr th {\n",
       "        vertical-align: top;\n",
       "    }\n",
       "\n",
       "    .dataframe thead th {\n",
       "        text-align: right;\n",
       "    }\n",
       "</style>\n",
       "<table border=\"1\" class=\"dataframe\">\n",
       "  <thead>\n",
       "    <tr style=\"text-align: right;\">\n",
       "      <th></th>\n",
       "      <th>country</th>\n",
       "    </tr>\n",
       "  </thead>\n",
       "  <tbody>\n",
       "    <tr>\n",
       "      <th>US</th>\n",
       "      <td>United States</td>\n",
       "    </tr>\n",
       "    <tr>\n",
       "      <th>AUS</th>\n",
       "      <td>Australia</td>\n",
       "    </tr>\n",
       "    <tr>\n",
       "      <th>JPN</th>\n",
       "      <td>Japan</td>\n",
       "    </tr>\n",
       "    <tr>\n",
       "      <th>IN</th>\n",
       "      <td>India</td>\n",
       "    </tr>\n",
       "    <tr>\n",
       "      <th>RU</th>\n",
       "      <td>Russia</td>\n",
       "    </tr>\n",
       "    <tr>\n",
       "      <th>MOR</th>\n",
       "      <td>Morocco</td>\n",
       "    </tr>\n",
       "    <tr>\n",
       "      <th>EG</th>\n",
       "      <td>Egypt</td>\n",
       "    </tr>\n",
       "  </tbody>\n",
       "</table>\n",
       "</div>"
      ],
      "text/plain": [
       "           country\n",
       "US   United States\n",
       "AUS      Australia\n",
       "JPN          Japan\n",
       "IN           India\n",
       "RU          Russia\n",
       "MOR        Morocco\n",
       "EG           Egypt"
      ]
     },
     "execution_count": 86,
     "metadata": {},
     "output_type": "execute_result"
    }
   ],
   "source": [
    "# iloc\n",
    "cars.iloc[:, [0]]"
   ]
  },
  {
   "cell_type": "code",
   "execution_count": 88,
   "metadata": {},
   "outputs": [
    {
     "name": "stdout",
     "output_type": "stream",
     "text": [
      "US     United States\n",
      "AUS        Australia\n",
      "JPN            Japan\n",
      "IN             India\n",
      "RU            Russia\n",
      "MOR          Morocco\n",
      "EG             Egypt\n",
      "Name: country, dtype: object\n",
      "           country\n",
      "US   United States\n",
      "AUS      Australia\n",
      "JPN          Japan\n",
      "IN           India\n",
      "RU          Russia\n",
      "MOR        Morocco\n",
      "EG           Egypt\n",
      "           country  drives_right\n",
      "US   United States          True\n",
      "AUS      Australia         False\n",
      "JPN          Japan         False\n",
      "IN           India         False\n",
      "RU          Russia          True\n",
      "MOR        Morocco          True\n",
      "EG           Egypt          True\n"
     ]
    }
   ],
   "source": [
    "# Import cars data\n",
    "import pandas as pd\n",
    "\n",
    "# Print out country column as Pandas Series\n",
    "print(cars['country'])\n",
    "\n",
    "# Print out country column as Pandas DataFrame\n",
    "print(cars[['country']])\n",
    "\n",
    "# Print out DataFrame with country and drives_right columns\n",
    "print(cars[['country','drives_right']])"
   ]
  },
  {
   "cell_type": "code",
   "execution_count": 89,
   "metadata": {},
   "outputs": [
    {
     "name": "stdout",
     "output_type": "stream",
     "text": [
      "           country  drives_right  cars_per_cap\n",
      "US   United States          True           809\n",
      "AUS      Australia         False           731\n",
      "JPN          Japan         False           588\n",
      "     country  drives_right  cars_per_cap\n",
      "IN     India         False            18\n",
      "RU    Russia          True           200\n",
      "MOR  Morocco          True            70\n"
     ]
    }
   ],
   "source": [
    "# Print out first 3 observations\n",
    "print(cars[0:3])\n",
    "\n",
    "# Print out fourth, fifth and sixth observation\n",
    "print(cars[3:6])"
   ]
  },
  {
   "cell_type": "markdown",
   "metadata": {},
   "source": [
    "You can get interesting information, but using square brackets to do indexing is rather limited. Experiment with more advanced techniques is usefull."
   ]
  },
  {
   "cell_type": "code",
   "execution_count": 90,
   "metadata": {},
   "outputs": [
    {
     "name": "stdout",
     "output_type": "stream",
     "text": [
      "country         Japan\n",
      "drives_right    False\n",
      "cars_per_cap      588\n",
      "Name: JPN, dtype: object\n",
      "country         Japan\n",
      "drives_right    False\n",
      "cars_per_cap      588\n",
      "Name: JPN, dtype: object\n",
      "       country  drives_right  cars_per_cap\n",
      "AUS  Australia         False           731\n",
      "EG       Egypt          True            45\n",
      "       country  drives_right  cars_per_cap\n",
      "AUS  Australia         False           731\n",
      "EG       Egypt          True            45\n"
     ]
    }
   ],
   "source": [
    "# Print out observation for Japan\n",
    "print(cars.loc[\"JPN\"])\n",
    "print(cars.iloc[2])\n",
    "\n",
    "# Print out observations for Australia and Egypt\n",
    "print(cars.loc[[\"AUS\",\"EG\"]])\n",
    "print(cars.iloc[[1,6]])"
   ]
  },
  {
   "cell_type": "code",
   "execution_count": 91,
   "metadata": {},
   "outputs": [
    {
     "name": "stdout",
     "output_type": "stream",
     "text": [
      "True\n",
      "70\n",
      "     country  drives_right\n",
      "RU    Russia          True\n",
      "MOR  Morocco          True\n",
      "     drives_right  cars_per_cap\n",
      "RU           True           200\n",
      "MOR          True            70\n"
     ]
    }
   ],
   "source": [
    "# Print out drives_right value of Morocco\n",
    "print(cars.loc[\"MOR\",\"drives_right\"])\n",
    "print(cars.iloc[5,2])\n",
    "\n",
    "# Print sub-DataFrame\n",
    "print(cars.loc[[\"RU\",\"MOR\"],[\"country\",\"drives_right\"]])\n",
    "print(cars.iloc[[4,5],[1,2]])"
   ]
  },
  {
   "cell_type": "markdown",
   "metadata": {},
   "source": [
    "\n",
    "We can also combine label-based selection the `loc` way and index-based selection the `iloc` way. You can! It's done with `ix`, but we won't go into that here."
   ]
  },
  {
   "cell_type": "code",
   "execution_count": 92,
   "metadata": {},
   "outputs": [
    {
     "name": "stdout",
     "output_type": "stream",
     "text": [
      "US      True\n",
      "AUS    False\n",
      "JPN    False\n",
      "IN     False\n",
      "RU      True\n",
      "MOR     True\n",
      "EG      True\n",
      "Name: drives_right, dtype: bool\n",
      "US     809\n",
      "AUS    731\n",
      "JPN    588\n",
      "IN      18\n",
      "RU     200\n",
      "MOR     70\n",
      "EG      45\n",
      "Name: cars_per_cap, dtype: int64\n",
      "     drives_right\n",
      "US           True\n",
      "AUS         False\n",
      "JPN         False\n",
      "IN          False\n",
      "RU           True\n",
      "MOR          True\n",
      "EG           True\n",
      "     cars_per_cap\n",
      "US            809\n",
      "AUS           731\n",
      "JPN           588\n",
      "IN             18\n",
      "RU            200\n",
      "MOR            70\n",
      "EG             45\n",
      "     cars_per_cap  drives_right\n",
      "US            809          True\n",
      "AUS           731         False\n",
      "JPN           588         False\n",
      "IN             18         False\n",
      "RU            200          True\n",
      "MOR            70          True\n",
      "EG             45          True\n",
      "           country  cars_per_cap\n",
      "US   United States           809\n",
      "AUS      Australia           731\n",
      "JPN          Japan           588\n",
      "IN           India            18\n",
      "RU          Russia           200\n",
      "MOR        Morocco            70\n",
      "EG           Egypt            45\n"
     ]
    }
   ],
   "source": [
    "# Print out drives_right column as Series\n",
    "print(cars.loc[:,\"drives_right\"])\n",
    "print(cars.iloc[:,2])\n",
    "\n",
    "# Print out drives_right column as DataFrame\n",
    "print(cars.loc[:,[\"drives_right\"]])\n",
    "print(cars.iloc[:,[2]])\n",
    "\n",
    "# Print out cars_per_cap and drives_right as DataFrame\n",
    "print(cars.loc[:,[\"cars_per_cap\",\"drives_right\"]])\n",
    "print(cars.iloc[:,[0,2]])"
   ]
  },
  {
   "cell_type": "markdown",
   "metadata": {},
   "source": [
    "`lov` and `iloc` are pretty similar, the only difference is how we refer to rows and columns. Both are usefull when selecting observations from DataFrames; over to selecting both rows and columns!  "
   ]
  },
  {
   "cell_type": "markdown",
   "metadata": {},
   "source": [
    "### 3. Logic, Control Flow and Filtering  \n",
    "  \n",
    "**Comparison Operators**  \n",
    "  \n",
    "Equality  \n",
    "To check if two Python values, or variables, are equal we can use `==`. To check for inequality, we need `!=`. As a refresher, have a look at the following examples that all result in `True`.  "
   ]
  },
  {
   "cell_type": "code",
   "execution_count": 95,
   "metadata": {},
   "outputs": [
    {
     "name": "stdout",
     "output_type": "stream",
     "text": [
      "True\n",
      "True\n",
      "True\n",
      "True\n"
     ]
    }
   ],
   "source": [
    "print(2 == (1 + 1)) \n",
    "print(\"intermediate\" != \"python\")\n",
    "print(True != False)\n",
    "print(\"Python\" != \"python\")"
   ]
  },
  {
   "cell_type": "code",
   "execution_count": 96,
   "metadata": {},
   "outputs": [
    {
     "data": {
      "text/plain": [
       "True"
      ]
     },
     "execution_count": 96,
     "metadata": {},
     "output_type": "execute_result"
    }
   ],
   "source": [
    "# Comparison of booleans\n",
    "True == False\n",
    "\n",
    "# Comparison of integers\n",
    "-5 * 15 != 75\n",
    "\n",
    "# Comparison of strings\n",
    "\"pyscript\" == \"Pyscript\"\n",
    "\n",
    "# Compare a boolean with an integer\n",
    "True == 1"
   ]
  },
  {
   "cell_type": "code",
   "execution_count": 97,
   "metadata": {},
   "outputs": [
    {
     "name": "stdout",
     "output_type": "stream",
     "text": [
      "False\n",
      "True\n",
      "True\n"
     ]
    }
   ],
   "source": [
    "# Comparison of integers\n",
    "x = -3 * 6\n",
    "print(x >= -10)\n",
    "\n",
    "# Comparison of strings\n",
    "y = \"test\"\n",
    "print(y >= \"test\")\n",
    "\n",
    "# Comparison of booleans\n",
    "print(True > False)"
   ]
  },
  {
   "cell_type": "markdown",
   "metadata": {},
   "source": [
    "**Comparing arrays**  "
   ]
  },
  {
   "cell_type": "code",
   "execution_count": 100,
   "metadata": {},
   "outputs": [
    {
     "name": "stdout",
     "output_type": "stream",
     "text": [
      "[ True  True False False]\n",
      "[False  True  True False]\n"
     ]
    }
   ],
   "source": [
    "# Create arrays\n",
    "import numpy as np\n",
    "my_house = np.array([18.0, 20.0, 10.75, 9.50])\n",
    "your_house = np.array([14.0, 24.0, 14.25, 9.0])\n",
    "\n",
    "# my_house greater than or equal to 18\n",
    "print(my_house >= 18)\n",
    "\n",
    "# my_house less than your_house\n",
    "print(my_house <= your_house)"
   ]
  },
  {
   "cell_type": "markdown",
   "metadata": {},
   "source": [
    "**Boolean Operators**  \n",
    "  \n",
    "Above we produce booleans by comparing objects of various types.  \n",
    "Next step is combining these booleans. The three most common operators are: `and`, `or`, `not`:  \n",
    "* `and`, takes two booleans and returns `True` only if both booleans are true.\n",
    "* `or`, takes two booleans and returns `True` if one of the booleans are true.  \n",
    "* `not`, takes one boolean and negates its value. This is usefull if you combine boolean operations and want to negate the outcome."
   ]
  },
  {
   "cell_type": "code",
   "execution_count": 106,
   "metadata": {},
   "outputs": [
    {
     "name": "stdout",
     "output_type": "stream",
     "text": [
      "True\n",
      "False\n",
      "False\n",
      "False\n",
      "\n",
      "\n",
      "True\n"
     ]
    }
   ],
   "source": [
    "# and\n",
    "\n",
    "print(True and True)\n",
    "print(False and True)\n",
    "print(True and False)\n",
    "print(False and False)\n",
    "\n",
    "print('\\n')\n",
    "# We can also use variable comparisons to generate the booleans to compare\n",
    "\n",
    "x = 12\n",
    "print(x > 5 and x < 15)\n",
    "#     True  and True\n"
   ]
  },
  {
   "cell_type": "code",
   "execution_count": 108,
   "metadata": {},
   "outputs": [
    {
     "name": "stdout",
     "output_type": "stream",
     "text": [
      "True\n",
      "True\n",
      "True\n",
      "False\n",
      "\n",
      "\n",
      "True\n"
     ]
    }
   ],
   "source": [
    "# or\n",
    "\n",
    "print(True or True)\n",
    "print(False or True)\n",
    "print(True or False)\n",
    "print(False or False)\n",
    "\n",
    "print('\\n')\n",
    "# Combinations with variables\n",
    "y = 5\n",
    "print(y <7 or y > 13)\n",
    "#     True  or  False"
   ]
  },
  {
   "cell_type": "code",
   "execution_count": 109,
   "metadata": {},
   "outputs": [
    {
     "name": "stdout",
     "output_type": "stream",
     "text": [
      "False\n",
      "True\n"
     ]
    }
   ],
   "source": [
    "# not\n",
    "print(not True)\n",
    "print(not False)"
   ]
  },
  {
   "cell_type": "markdown",
   "metadata": {},
   "source": [
    "**NumPy**  \n",
    "For numpy arrays things are different!  \n",
    "  \n",
    "There are array equivalence of the operators `and`, `or`, `not`:\n",
    "* `logical_and()` performed element-wise\n",
    "* `logical_or()`\n",
    "* `logical_not`"
   ]
  },
  {
   "cell_type": "code",
   "execution_count": 111,
   "metadata": {},
   "outputs": [
    {
     "name": "stdout",
     "output_type": "stream",
     "text": [
      "[18.   20.   10.75  9.5 ]\n"
     ]
    },
    {
     "data": {
      "text/plain": [
       "array([False, False,  True,  True])"
      ]
     },
     "execution_count": 111,
     "metadata": {},
     "output_type": "execute_result"
    }
   ],
   "source": [
    "print(my_house)\n",
    "my_house < 11"
   ]
  },
  {
   "cell_type": "code",
   "execution_count": 112,
   "metadata": {},
   "outputs": [
    {
     "data": {
      "text/plain": [
       "array([ True,  True, False, False])"
      ]
     },
     "execution_count": 112,
     "metadata": {},
     "output_type": "execute_result"
    }
   ],
   "source": [
    "my_house > 12"
   ]
  },
  {
   "cell_type": "code",
   "execution_count": 117,
   "metadata": {},
   "outputs": [
    {
     "ename": "ValueError",
     "evalue": "The truth value of an array with more than one element is ambiguous. Use a.any() or a.all()",
     "output_type": "error",
     "traceback": [
      "\u001b[1;31m---------------------------------------------------------------------------\u001b[0m",
      "\u001b[1;31mValueError\u001b[0m                                Traceback (most recent call last)",
      "\u001b[1;32m<ipython-input-117-6314a9d67899>\u001b[0m in \u001b[0;36m<module>\u001b[1;34m\u001b[0m\n\u001b[0;32m      1\u001b[0m \u001b[1;31m# This returns an error, due to ambiguity\u001b[0m\u001b[1;33m\u001b[0m\u001b[1;33m\u001b[0m\u001b[1;33m\u001b[0m\u001b[0m\n\u001b[1;32m----> 2\u001b[1;33m \u001b[0mmy_house\u001b[0m \u001b[1;33m<\u001b[0m \u001b[1;36m12\u001b[0m \u001b[1;32mand\u001b[0m \u001b[0mmy_house\u001b[0m \u001b[1;33m>\u001b[0m \u001b[1;36m10\u001b[0m\u001b[1;33m\u001b[0m\u001b[1;33m\u001b[0m\u001b[0m\n\u001b[0m",
      "\u001b[1;31mValueError\u001b[0m: The truth value of an array with more than one element is ambiguous. Use a.any() or a.all()"
     ]
    }
   ],
   "source": [
    "# This returns an error, due to ambiguity\n",
    "my_house < 12 and my_house > 10"
   ]
  },
  {
   "cell_type": "code",
   "execution_count": 118,
   "metadata": {},
   "outputs": [
    {
     "data": {
      "text/plain": [
       "array([False, False,  True, False])"
      ]
     },
     "execution_count": 118,
     "metadata": {},
     "output_type": "execute_result"
    }
   ],
   "source": [
    "# logical_and\n",
    "np.logical_and(my_house < 12, my_house > 10)"
   ]
  },
  {
   "cell_type": "markdown",
   "metadata": {},
   "source": [
    "To actually select the values that pass the logical test we can use:"
   ]
  },
  {
   "cell_type": "code",
   "execution_count": 119,
   "metadata": {},
   "outputs": [
    {
     "data": {
      "text/plain": [
       "array([10.75])"
      ]
     },
     "execution_count": 119,
     "metadata": {},
     "output_type": "execute_result"
    }
   ],
   "source": [
    "my_house[np.logical_and(my_house < 12, my_house > 10)]"
   ]
  },
  {
   "cell_type": "markdown",
   "metadata": {},
   "source": [
    "**and, or, not (1)**  \n",
    "  \n",
    "Some example of the above, before numpy."
   ]
  },
  {
   "cell_type": "code",
   "execution_count": 120,
   "metadata": {},
   "outputs": [
    {
     "name": "stdout",
     "output_type": "stream",
     "text": [
      "False\n",
      "True\n",
      "True\n"
     ]
    }
   ],
   "source": [
    "# Define variables\n",
    "my_kitchen = 18.0\n",
    "your_kitchen = 14.0\n",
    "\n",
    "# my_kitchen bigger than 10 and smaller than 18?\n",
    "print(my_kitchen > 10 and my_kitchen < 18)\n",
    "\n",
    "# my_kitchen smaller than 14 or bigger than 17?\n",
    "print(my_kitchen < 14 or my_kitchen > 17)\n",
    "\n",
    "# Double my_kitchen smaller than triple your_kitchen?\n",
    "print(my_kitchen*2 < your_kitchen*3)"
   ]
  },
  {
   "cell_type": "markdown",
   "metadata": {},
   "source": [
    "**Boolean operators with Numpy**  \n",
    "  \n",
    "Some examples with numpy."
   ]
  },
  {
   "cell_type": "code",
   "execution_count": 121,
   "metadata": {},
   "outputs": [
    {
     "name": "stdout",
     "output_type": "stream",
     "text": [
      "[False  True False  True]\n",
      "[False False False  True]\n"
     ]
    }
   ],
   "source": [
    "my_house = np.array([18.0, 20.0, 10.75, 9.50])\n",
    "your_house = np.array([14.0, 24.0, 14.25, 9.0])\n",
    "\n",
    "# my_house greater than 18.5 or smaller than 10\n",
    "print(np.logical_or(my_house > 18.5, my_house < 10))\n",
    "\n",
    "# Both my_house and your_house smaller than 11\n",
    "print(np.logical_and(my_house < 11, your_house < 11))"
   ]
  },
  {
   "cell_type": "markdown",
   "metadata": {},
   "source": [
    "**if, elif, else**  \n",
    "  \n",
    "Overview  \n",
    "* Comparison Operators\n",
    " * `<`,`>`,`>=`,`<=`,`==`,`!=`\n",
    "* Boolean Operators\n",
    " * `and`, `or`, `not`  \n",
    "  \n",
    "Things get really interesting when you can use these concepts to change how our program behaves!  \n",
    "We can do this with conditional statements.  \n",
    "  \n",
    "* Conditional Statements\n",
    " * **if**  \n",
    " `if condiftion:` , *if condition...execute expression*  \n",
    "     `expression` [indented with 4 spaces, so Python knows it is not part of the if-statement]  \n",
    "  \n",
    " * **else**  \n",
    "   `if condition:`  \n",
    "      `expression`  \n",
    "   `else:` , *expression gets executed if the condition of the if statement does not hold*  \n",
    "      `expression`  \n",
    "  \n",
    " * **elif**  \n",
    "  `if condition:`  \n",
    "    `expression`  \n",
    "  `elif condition:` , *allows for more customized logic*     \n",
    "    `expression`  \n",
    "  `else:`  \n",
    "    `expression`  \n",
    "    As soon as Python finds a condition that is `True` it executes that and leave the control structure after that!\n",
    "  \n",
    "TBD...\n"
   ]
  },
  {
   "cell_type": "code",
   "execution_count": 127,
   "metadata": {},
   "outputs": [
    {
     "name": "stdout",
     "output_type": "stream",
     "text": [
      "z is even\n"
     ]
    }
   ],
   "source": [
    "# if , condition is met\n",
    "\n",
    "z = 4\n",
    "if z % 2 == 0:   # True\n",
    "     print(\"z is even\")"
   ]
  },
  {
   "cell_type": "code",
   "execution_count": 128,
   "metadata": {},
   "outputs": [],
   "source": [
    "# if , condition is not met!\n",
    "z = 5\n",
    "if z % 2 == 0:   # False\n",
    "    print(\"z is even\")"
   ]
  },
  {
   "cell_type": "code",
   "execution_count": 129,
   "metadata": {},
   "outputs": [
    {
     "name": "stdout",
     "output_type": "stream",
     "text": [
      "z is odd\n"
     ]
    }
   ],
   "source": [
    "# if else, condition not met\n",
    "\n",
    "z = 5\n",
    "if z % 2 == 0:   # False\n",
    "    print(\"z is even\")\n",
    "else:\n",
    "    print(\"z is odd\")"
   ]
  },
  {
   "cell_type": "code",
   "execution_count": 132,
   "metadata": {},
   "outputs": [
    {
     "name": "stdout",
     "output_type": "stream",
     "text": [
      "z is neither divisible by 2 nor by 3\n"
     ]
    }
   ],
   "source": [
    "# elif , several steps\n",
    "\n",
    "z = 5\n",
    "if z % 2 == 0:\n",
    "    print(\"z is divisible by 2\")  # False\n",
    "elif z % 3 == 0:\n",
    "    print(\"z is divisible by 3\")  # True\n",
    "else:\n",
    "    print(\"z is neither divisible by 2 nor by 3\")"
   ]
  },
  {
   "cell_type": "markdown",
   "metadata": {},
   "source": [
    "Some `if` examples:"
   ]
  },
  {
   "cell_type": "code",
   "execution_count": 134,
   "metadata": {},
   "outputs": [
    {
     "name": "stdout",
     "output_type": "stream",
     "text": [
      "looking around in the kitchen.\n"
     ]
    }
   ],
   "source": [
    "# Define variables\n",
    "room = \"kit\"\n",
    "area = 14.0\n",
    "\n",
    "# if statement for room\n",
    "if room == \"kit\" :\n",
    "    print(\"looking around in the kitchen.\")\n",
    "\n",
    "# if statement for area\n",
    "if area > 15:\n",
    "    print(\"big place!\")"
   ]
  },
  {
   "cell_type": "code",
   "execution_count": 135,
   "metadata": {},
   "outputs": [
    {
     "name": "stdout",
     "output_type": "stream",
     "text": [
      "looking around in the kitchen.\n",
      "pretty small.\n"
     ]
    }
   ],
   "source": [
    "# Addin else\n",
    "\n",
    "# if-else construct for room\n",
    "if room == \"kit\" :\n",
    "    print(\"looking around in the kitchen.\")\n",
    "else :\n",
    "    print(\"looking around elsewhere.\")\n",
    "\n",
    "# if-else construct for area\n",
    "if area > 15 :\n",
    "    print(\"big place!\")\n",
    "else:\n",
    "    print(\"pretty small.\")"
   ]
  },
  {
   "cell_type": "code",
   "execution_count": 136,
   "metadata": {},
   "outputs": [
    {
     "name": "stdout",
     "output_type": "stream",
     "text": [
      "looking around in the kitchen.\n",
      "medium size, nice!\n"
     ]
    }
   ],
   "source": [
    "# addin an elif\n",
    "\n",
    "# if-elif-else construct for room\n",
    "if room == \"kit\" :\n",
    "    print(\"looking around in the kitchen.\")\n",
    "elif room == \"bed\":\n",
    "    print(\"looking around in the bedroom.\")\n",
    "else :\n",
    "    print(\"looking around elsewhere.\")\n",
    "\n",
    "# if-elif-else construct for area\n",
    "if area > 15 :\n",
    "    print(\"big place!\")\n",
    "elif area > 10:\n",
    "    print(\"medium size, nice!\")\n",
    "else :\n",
    "    print(\"pretty small.\")"
   ]
  },
  {
   "cell_type": "markdown",
   "metadata": {},
   "source": [
    "**Filtering pandas DataFrames**  \n",
    "  \n",
    "Above we looked at how bolean operations can be used on numpy arrays.  \n",
    "Now we do this on the pandas `df`.  \n",
    "  \n",
    "* Select countries with `cars_per_cap` above `500`  \n",
    "* 3 steps  \n",
    " 1. Select the `carps_per_cap` column\n",
    " 2. Do comparison on the column\n",
    " 3. Use result to select countries"
   ]
  },
  {
   "cell_type": "code",
   "execution_count": 137,
   "metadata": {},
   "outputs": [
    {
     "data": {
      "text/html": [
       "<div>\n",
       "<style scoped>\n",
       "    .dataframe tbody tr th:only-of-type {\n",
       "        vertical-align: middle;\n",
       "    }\n",
       "\n",
       "    .dataframe tbody tr th {\n",
       "        vertical-align: top;\n",
       "    }\n",
       "\n",
       "    .dataframe thead th {\n",
       "        text-align: right;\n",
       "    }\n",
       "</style>\n",
       "<table border=\"1\" class=\"dataframe\">\n",
       "  <thead>\n",
       "    <tr style=\"text-align: right;\">\n",
       "      <th></th>\n",
       "      <th>country</th>\n",
       "      <th>drives_right</th>\n",
       "      <th>cars_per_cap</th>\n",
       "    </tr>\n",
       "  </thead>\n",
       "  <tbody>\n",
       "    <tr>\n",
       "      <th>US</th>\n",
       "      <td>United States</td>\n",
       "      <td>True</td>\n",
       "      <td>809</td>\n",
       "    </tr>\n",
       "    <tr>\n",
       "      <th>AUS</th>\n",
       "      <td>Australia</td>\n",
       "      <td>False</td>\n",
       "      <td>731</td>\n",
       "    </tr>\n",
       "    <tr>\n",
       "      <th>JPN</th>\n",
       "      <td>Japan</td>\n",
       "      <td>False</td>\n",
       "      <td>588</td>\n",
       "    </tr>\n",
       "    <tr>\n",
       "      <th>IN</th>\n",
       "      <td>India</td>\n",
       "      <td>False</td>\n",
       "      <td>18</td>\n",
       "    </tr>\n",
       "    <tr>\n",
       "      <th>RU</th>\n",
       "      <td>Russia</td>\n",
       "      <td>True</td>\n",
       "      <td>200</td>\n",
       "    </tr>\n",
       "    <tr>\n",
       "      <th>MOR</th>\n",
       "      <td>Morocco</td>\n",
       "      <td>True</td>\n",
       "      <td>70</td>\n",
       "    </tr>\n",
       "    <tr>\n",
       "      <th>EG</th>\n",
       "      <td>Egypt</td>\n",
       "      <td>True</td>\n",
       "      <td>45</td>\n",
       "    </tr>\n",
       "  </tbody>\n",
       "</table>\n",
       "</div>"
      ],
      "text/plain": [
       "           country  drives_right  cars_per_cap\n",
       "US   United States          True           809\n",
       "AUS      Australia         False           731\n",
       "JPN          Japan         False           588\n",
       "IN           India         False            18\n",
       "RU          Russia          True           200\n",
       "MOR        Morocco          True            70\n",
       "EG           Egypt          True            45"
      ]
     },
     "execution_count": 137,
     "metadata": {},
     "output_type": "execute_result"
    }
   ],
   "source": [
    "cars"
   ]
  },
  {
   "cell_type": "markdown",
   "metadata": {},
   "source": [
    "1.Select the `carps_per_cap` column. \n",
    "  \n",
    "We ideally want to get a series, not a data frame.  \n",
    "We can do this using square brackets."
   ]
  },
  {
   "cell_type": "code",
   "execution_count": 138,
   "metadata": {},
   "outputs": [
    {
     "data": {
      "text/plain": [
       "US     809\n",
       "AUS    731\n",
       "JPN    588\n",
       "IN      18\n",
       "RU     200\n",
       "MOR     70\n",
       "EG      45\n",
       "Name: cars_per_cap, dtype: int64"
      ]
     },
     "execution_count": 138,
     "metadata": {},
     "output_type": "execute_result"
    }
   ],
   "source": [
    "# alt 1\n",
    "cars[\"cars_per_cap\"] # Need Pandas Series"
   ]
  },
  {
   "cell_type": "code",
   "execution_count": 140,
   "metadata": {},
   "outputs": [
    {
     "data": {
      "text/plain": [
       "US     809\n",
       "AUS    731\n",
       "JPN    588\n",
       "IN      18\n",
       "RU     200\n",
       "MOR     70\n",
       "EG      45\n",
       "Name: cars_per_cap, dtype: int64"
      ]
     },
     "execution_count": 140,
     "metadata": {},
     "output_type": "execute_result"
    }
   ],
   "source": [
    "# alt 2 or 3\n",
    "cars.loc[:,\"cars_per_cap\"]\n",
    "cars.iloc[:,2]"
   ]
  },
  {
   "cell_type": "markdown",
   "metadata": {},
   "source": [
    " 2.Do comparison on the column"
   ]
  },
  {
   "cell_type": "code",
   "execution_count": 142,
   "metadata": {},
   "outputs": [
    {
     "data": {
      "text/plain": [
       "US      True\n",
       "AUS     True\n",
       "JPN     True\n",
       "IN     False\n",
       "RU     False\n",
       "MOR    False\n",
       "EG     False\n",
       "Name: cars_per_cap, dtype: bool"
      ]
     },
     "execution_count": 142,
     "metadata": {},
     "output_type": "execute_result"
    }
   ],
   "source": [
    "is_huge = cars[\"cars_per_cap\"] > 500\n",
    "is_huge"
   ]
  },
  {
   "cell_type": "markdown",
   "metadata": {},
   "source": [
    "Now we get a series containing booleans.  \n",
    "  \n",
    "3.Use result to select countries, subset the pd with the `is_huge`"
   ]
  },
  {
   "cell_type": "code",
   "execution_count": 143,
   "metadata": {},
   "outputs": [
    {
     "data": {
      "text/html": [
       "<div>\n",
       "<style scoped>\n",
       "    .dataframe tbody tr th:only-of-type {\n",
       "        vertical-align: middle;\n",
       "    }\n",
       "\n",
       "    .dataframe tbody tr th {\n",
       "        vertical-align: top;\n",
       "    }\n",
       "\n",
       "    .dataframe thead th {\n",
       "        text-align: right;\n",
       "    }\n",
       "</style>\n",
       "<table border=\"1\" class=\"dataframe\">\n",
       "  <thead>\n",
       "    <tr style=\"text-align: right;\">\n",
       "      <th></th>\n",
       "      <th>country</th>\n",
       "      <th>drives_right</th>\n",
       "      <th>cars_per_cap</th>\n",
       "    </tr>\n",
       "  </thead>\n",
       "  <tbody>\n",
       "    <tr>\n",
       "      <th>US</th>\n",
       "      <td>United States</td>\n",
       "      <td>True</td>\n",
       "      <td>809</td>\n",
       "    </tr>\n",
       "    <tr>\n",
       "      <th>AUS</th>\n",
       "      <td>Australia</td>\n",
       "      <td>False</td>\n",
       "      <td>731</td>\n",
       "    </tr>\n",
       "    <tr>\n",
       "      <th>JPN</th>\n",
       "      <td>Japan</td>\n",
       "      <td>False</td>\n",
       "      <td>588</td>\n",
       "    </tr>\n",
       "  </tbody>\n",
       "</table>\n",
       "</div>"
      ],
      "text/plain": [
       "           country  drives_right  cars_per_cap\n",
       "US   United States          True           809\n",
       "AUS      Australia         False           731\n",
       "JPN          Japan         False           588"
      ]
     },
     "execution_count": 143,
     "metadata": {},
     "output_type": "execute_result"
    }
   ],
   "source": [
    "# subset the df with the condition\n",
    "cars[is_huge]"
   ]
  },
  {
   "cell_type": "markdown",
   "metadata": {},
   "source": [
    "We can do this 3 step operation as a **one liner**:"
   ]
  },
  {
   "cell_type": "code",
   "execution_count": 145,
   "metadata": {},
   "outputs": [
    {
     "data": {
      "text/html": [
       "<div>\n",
       "<style scoped>\n",
       "    .dataframe tbody tr th:only-of-type {\n",
       "        vertical-align: middle;\n",
       "    }\n",
       "\n",
       "    .dataframe tbody tr th {\n",
       "        vertical-align: top;\n",
       "    }\n",
       "\n",
       "    .dataframe thead th {\n",
       "        text-align: right;\n",
       "    }\n",
       "</style>\n",
       "<table border=\"1\" class=\"dataframe\">\n",
       "  <thead>\n",
       "    <tr style=\"text-align: right;\">\n",
       "      <th></th>\n",
       "      <th>country</th>\n",
       "      <th>drives_right</th>\n",
       "      <th>cars_per_cap</th>\n",
       "    </tr>\n",
       "  </thead>\n",
       "  <tbody>\n",
       "    <tr>\n",
       "      <th>US</th>\n",
       "      <td>United States</td>\n",
       "      <td>True</td>\n",
       "      <td>809</td>\n",
       "    </tr>\n",
       "    <tr>\n",
       "      <th>AUS</th>\n",
       "      <td>Australia</td>\n",
       "      <td>False</td>\n",
       "      <td>731</td>\n",
       "    </tr>\n",
       "    <tr>\n",
       "      <th>JPN</th>\n",
       "      <td>Japan</td>\n",
       "      <td>False</td>\n",
       "      <td>588</td>\n",
       "    </tr>\n",
       "  </tbody>\n",
       "</table>\n",
       "</div>"
      ],
      "text/plain": [
       "           country  drives_right  cars_per_cap\n",
       "US   United States          True           809\n",
       "AUS      Australia         False           731\n",
       "JPN          Japan         False           588"
      ]
     },
     "execution_count": 145,
     "metadata": {},
     "output_type": "execute_result"
    }
   ],
   "source": [
    "cars[cars[\"cars_per_cap\"] > 500]"
   ]
  },
  {
   "cell_type": "markdown",
   "metadata": {},
   "source": [
    "**Boolean operators**  \n",
    "  \n",
    "Since pandas is built upon numpy, we can use the numpy boolean operators also on `df`.  \n",
    "  \n",
    "We can use for example `np.logical_and` inside `[]` to subset our `df` appropriately."
   ]
  },
  {
   "cell_type": "code",
   "execution_count": 147,
   "metadata": {},
   "outputs": [
    {
     "data": {
      "text/html": [
       "<div>\n",
       "<style scoped>\n",
       "    .dataframe tbody tr th:only-of-type {\n",
       "        vertical-align: middle;\n",
       "    }\n",
       "\n",
       "    .dataframe tbody tr th {\n",
       "        vertical-align: top;\n",
       "    }\n",
       "\n",
       "    .dataframe thead th {\n",
       "        text-align: right;\n",
       "    }\n",
       "</style>\n",
       "<table border=\"1\" class=\"dataframe\">\n",
       "  <thead>\n",
       "    <tr style=\"text-align: right;\">\n",
       "      <th></th>\n",
       "      <th>country</th>\n",
       "      <th>drives_right</th>\n",
       "      <th>cars_per_cap</th>\n",
       "    </tr>\n",
       "  </thead>\n",
       "  <tbody>\n",
       "    <tr>\n",
       "      <th>AUS</th>\n",
       "      <td>Australia</td>\n",
       "      <td>False</td>\n",
       "      <td>731</td>\n",
       "    </tr>\n",
       "    <tr>\n",
       "      <th>JPN</th>\n",
       "      <td>Japan</td>\n",
       "      <td>False</td>\n",
       "      <td>588</td>\n",
       "    </tr>\n",
       "  </tbody>\n",
       "</table>\n",
       "</div>"
      ],
      "text/plain": [
       "       country  drives_right  cars_per_cap\n",
       "AUS  Australia         False           731\n",
       "JPN      Japan         False           588"
      ]
     },
     "execution_count": 147,
     "metadata": {},
     "output_type": "execute_result"
    }
   ],
   "source": [
    "# Only include the rows that have cars_per_cap larger than 500 and smaller than 800\n",
    "cars[np.logical_and(cars[\"cars_per_cap\"] > 500, cars[\"cars_per_cap\"] < 800)]"
   ]
  },
  {
   "cell_type": "markdown",
   "metadata": {},
   "source": [
    "Some examples of sub-setting a `df`"
   ]
  },
  {
   "cell_type": "code",
   "execution_count": 148,
   "metadata": {},
   "outputs": [
    {
     "name": "stdout",
     "output_type": "stream",
     "text": [
      "           country  drives_right  cars_per_cap\n",
      "US   United States          True           809\n",
      "RU          Russia          True           200\n",
      "MOR        Morocco          True            70\n",
      "EG           Egypt          True            45\n"
     ]
    }
   ],
   "source": [
    "# Extract drives_right column as Series: dr\n",
    "dr = cars[\"drives_right\"]\n",
    "\n",
    "# Use dr to subset cars: sel\n",
    "sel = cars[dr]\n",
    "\n",
    "# Print sel\n",
    "print(sel)"
   ]
  },
  {
   "cell_type": "code",
   "execution_count": 151,
   "metadata": {},
   "outputs": [
    {
     "name": "stdout",
     "output_type": "stream",
     "text": [
      "           country  drives_right  cars_per_cap\n",
      "US   United States          True           809\n",
      "RU          Russia          True           200\n",
      "MOR        Morocco          True            70\n",
      "EG           Egypt          True            45\n"
     ]
    }
   ],
   "source": [
    "# Convert code to a one-liner\n",
    "sel = cars[cars['drives_right']]\n",
    "print(sel)"
   ]
  },
  {
   "cell_type": "code",
   "execution_count": 152,
   "metadata": {},
   "outputs": [
    {
     "name": "stdout",
     "output_type": "stream",
     "text": [
      "           country  drives_right  cars_per_cap\n",
      "US   United States          True           809\n",
      "AUS      Australia         False           731\n",
      "JPN          Japan         False           588\n"
     ]
    }
   ],
   "source": [
    "# Create car_maniac: observations that have a cars_per_cap over 500\n",
    "car_maniac = cars[cars[\"cars_per_cap\"] > 500]\n",
    "\n",
    "# Print car_maniac\n",
    "print(car_maniac)"
   ]
  },
  {
   "cell_type": "code",
   "execution_count": 153,
   "metadata": {},
   "outputs": [
    {
     "name": "stdout",
     "output_type": "stream",
     "text": [
      "   country  drives_right  cars_per_cap\n",
      "RU  Russia          True           200\n"
     ]
    }
   ],
   "source": [
    "# Create medium: observations with cars_per_cap between 100 and 500\n",
    "medium = cars[np.logical_and(cars[\"cars_per_cap\"] > 100, cars[\"cars_per_cap\"] <500)]\n",
    "\n",
    "# Print medium\n",
    "print(medium)"
   ]
  },
  {
   "cell_type": "markdown",
   "metadata": {},
   "source": [
    "### 4. Loops  \n",
    "  \n",
    "While loop.  \n",
    "A `while` loop is somewhat similar to the above `if` statements, it executes the code as long as the condition is is true. However as apposed to the `if` statement the `while` loop willl continue to execute the code over and over again as long as the condition is true.  \n",
    "  \n",
    "* `if` statement goes through the construct only once\n",
    "* `while` loop is equal to a repeated `if`statement, it continues to execute the code if the statement is true  \n",
    "  \n",
    "The syntax of a `while` loop is as follows:  \n",
    "`while condition:`  \n",
    " `expression`  \n",
    "  \n",
    "The `while` loop is not that common, but can be usefull for some situations  \n",
    "* Numerically calculating model.  \n",
    "This typically involves calculating the same steps until the error between you model and data is below some threshold.   \n",
    "If you can formulate your problem into:\n",
    "* Repeating an action until a condition is met, a `while` loop is often the way to go\n",
    "* Example\n",
    " * Error starts at 60\n",
    " * Divide error by 4 on every run\n",
    " * Continue until error no longer > 1"
   ]
  },
  {
   "cell_type": "code",
   "execution_count": 1,
   "metadata": {},
   "outputs": [
    {
     "name": "stdout",
     "output_type": "stream",
     "text": [
      "15.0\n",
      "3.75\n",
      "0.9375\n"
     ]
    }
   ],
   "source": [
    "error = 60\n",
    "\n",
    "while error > 1:\n",
    "    error = error / 4\n",
    "    print(error)"
   ]
  },
  {
   "cell_type": "markdown",
   "metadata": {},
   "source": [
    "Make sure that the `while` loop does not continue for ever, so set it up properly before we use it!  \n",
    "  \n",
    "**Add conditionals**\n",
    "The `while` loop that corrects the `offset` below is a good start, but what if `offset` is negative? You can try to run the following code where `offset` is initialized to -6:\n",
    "\n",
    "`# Initialize offset`  \n",
    "`offset = -6`  \n",
    "  \n",
    "`# Code the while loop` \n",
    "`while offset != 0 :\n",
    "`    print(\"correcting...\")`  \n",
    "`    offset = offset - 1`  \n",
    "`    print(offset)`  \n",
    "but your session will be disconnected. The while loop will never stop running, because `offset` will be further decreased on every run. `offset != 0` will never become `False` and the `while` loop continues forever.\n",
    "\n",
    "Fix things by putting an `if-else` statement inside the `while` loop.  \n",
    "  \n",
    "* Inside the `while` loop, complete the `if-else` statement:\n",
    " * If `offset` is greater than zero, you should decrease `offset` by `1`.\n",
    " * `Else`, you should increase `offset` by `1`."
   ]
  },
  {
   "cell_type": "code",
   "execution_count": 2,
   "metadata": {},
   "outputs": [
    {
     "name": "stdout",
     "output_type": "stream",
     "text": [
      "correcting...\n",
      "-5\n",
      "correcting...\n",
      "-4\n",
      "correcting...\n",
      "-3\n",
      "correcting...\n",
      "-2\n",
      "correcting...\n",
      "-1\n",
      "correcting...\n",
      "0\n"
     ]
    }
   ],
   "source": [
    "# Initialize offset\n",
    "offset = -6\n",
    "\n",
    "# Code the while loop\n",
    "while offset != 0 :\n",
    "    print(\"correcting...\")\n",
    "    if offset > 0 :\n",
    "      offset = offset - 1\n",
    "    else : \n",
    "      offset = offset + 1    \n",
    "    print(offset)"
   ]
  },
  {
   "cell_type": "markdown",
   "metadata": {},
   "source": [
    "The `while` loop is not that often used in Data Science, so let's do the the `for` loop next.  \n",
    "  \n",
    "**For loop**  \n",
    "  \n",
    "The syntax is:  \n",
    "`for var in seq: `  \n",
    "` expression `  \n",
    "* for each var in seq, execute expression  \n",
    "  \n",
    "Python executes until all var in the sequence has been completed."
   ]
  },
  {
   "cell_type": "code",
   "execution_count": 3,
   "metadata": {},
   "outputs": [
    {
     "name": "stdout",
     "output_type": "stream",
     "text": [
      "1.75\n",
      "1.66\n",
      "1.78\n",
      "1.87\n"
     ]
    }
   ],
   "source": [
    "fam = [1.75, 1.66, 1.78, 1.87]\n",
    "\n",
    "for height in fam:\n",
    "    print(height)"
   ]
  },
  {
   "cell_type": "markdown",
   "metadata": {},
   "source": [
    "If we also want to print out the `index` of each `element` in the `fam` list we can use `enumerate()` function. The later will product two values on each iteration, the index of the value and the value itself. On each each iterations index will contain the index and height will contain the value of the element in the list."
   ]
  },
  {
   "cell_type": "code",
   "execution_count": 6,
   "metadata": {},
   "outputs": [
    {
     "name": "stdout",
     "output_type": "stream",
     "text": [
      "index 0: 1.75\n",
      "index 1: 1.66\n",
      "index 2: 1.78\n",
      "index 3: 1.87\n"
     ]
    }
   ],
   "source": [
    "for index, height in enumerate(fam):\n",
    "    print(\"index \" + str(index) + \": \" +str(height))"
   ]
  },
  {
   "cell_type": "markdown",
   "metadata": {},
   "source": [
    "**Loop over strings**  \n",
    "We can also use the `for` loop to iterate over every character in a string."
   ]
  },
  {
   "cell_type": "code",
   "execution_count": 7,
   "metadata": {},
   "outputs": [
    {
     "name": "stdout",
     "output_type": "stream",
     "text": [
      "F\n",
      "A\n",
      "M\n",
      "I\n",
      "L\n",
      "Y\n"
     ]
    }
   ],
   "source": [
    "for c in \"family\":\n",
    "    print(c.capitalize())"
   ]
  },
  {
   "cell_type": "markdown",
   "metadata": {},
   "source": [
    "**Loop over list of lists**  \n",
    "Example:  \n",
    "Write a `for` loop that goes through each sublist of `house` and prints out `the x is y sqm`, where x is the name of the room and y is the area of the room."
   ]
  },
  {
   "cell_type": "code",
   "execution_count": 9,
   "metadata": {},
   "outputs": [
    {
     "name": "stdout",
     "output_type": "stream",
     "text": [
      "the hallway is 11.25 sqm\n",
      "the kitchen is 18.0 sqm\n",
      "the living room is 20.0 sqm\n",
      "the bedroom is 10.75 sqm\n",
      "the bathroom is 9.5 sqm\n"
     ]
    }
   ],
   "source": [
    "# house list of lists\n",
    "house = [[\"hallway\", 11.25], \n",
    "         [\"kitchen\", 18.0], \n",
    "         [\"living room\", 20.0], \n",
    "         [\"bedroom\", 10.75], \n",
    "         [\"bathroom\", 9.50]]\n",
    "         \n",
    "# Build a for loop from scratch\n",
    "for room,area in house:\n",
    "    print(\"the \" + room + \" is \" + str(area) + \" sqm\")"
   ]
  },
  {
   "cell_type": "markdown",
   "metadata": {},
   "source": [
    "**Loop Data Structures part 1**  \n",
    "  \n",
    "Looping over such as dictionaries and numpy arrays. But the way we define the sequence over what we are iterating will differ depending on the data structure.  \n",
    "* dictionarie, print out value for each key, value pair by calling method `items()` on the dict"
   ]
  },
  {
   "cell_type": "code",
   "execution_count": 11,
   "metadata": {},
   "outputs": [
    {
     "name": "stdout",
     "output_type": "stream",
     "text": [
      "afghanistan -- 30.5\n",
      "albania -- 2.78\n",
      "algeria -- 39.23\n"
     ]
    }
   ],
   "source": [
    "# iterate over dict\n",
    "world = {\"afghanistan\":30.5, \n",
    "         \"albania\":2.78, \n",
    "         \"algeria\":39.23}\n",
    "\n",
    "for key, value in world.items():\n",
    "    print(key + \" -- \" + str(value))"
   ]
  },
  {
   "cell_type": "markdown",
   "metadata": {},
   "source": [
    "Notice that, afghanistan comes first in the `world` but not in the print out. That because dictionaries inherently unordered. The order they are iterated in is not fixed, at least not in this version of Python. The names `key`and `value` are totally arbitrary, we can call them what we want. The order does matter though, the first variable gets the key and the second the value."
   ]
  },
  {
   "cell_type": "markdown",
   "metadata": {},
   "source": [
    "* numpy arrays, print out each element of a `1D array,` normal `for` loop works fine"
   ]
  },
  {
   "cell_type": "code",
   "execution_count": 13,
   "metadata": {},
   "outputs": [
    {
     "name": "stdout",
     "output_type": "stream",
     "text": [
      "21.194420504963453\n",
      "21.302075772971406\n",
      "22.861215427208688\n",
      "22.533574380165287\n"
     ]
    }
   ],
   "source": [
    "# 1D array\n",
    "import numpy as np\n",
    "\n",
    "np_height = np.array([1.77, 1.66, 1.91, 1.76])\n",
    "np_weight = np.array([66.4, 58.7, 83.4, 69.8])\n",
    "bmi = np_weight / np_height ** 2\n",
    "\n",
    "for val in bmi:\n",
    "    print(val)"
   ]
  },
  {
   "cell_type": "markdown",
   "metadata": {},
   "source": [
    "* numpy arrays, print out each element of a `2D array`  \n",
    "If we want to print out each element in this 2D array seperately the same basic for loop will not do it. This loop prints out an entire array since the `2D array` is made up of `1D arrays`. To get every element we can use a numpy function `nditer()`."
   ]
  },
  {
   "cell_type": "code",
   "execution_count": 15,
   "metadata": {},
   "outputs": [
    {
     "name": "stdout",
     "output_type": "stream",
     "text": [
      "[[ 1.77  1.66  1.91  1.76]\n",
      " [66.4  58.7  83.4  69.8 ]]\n",
      "[1.77 1.66 1.91 1.76]\n",
      "[66.4 58.7 83.4 69.8]\n"
     ]
    }
   ],
   "source": [
    "# 2D array\n",
    "meas = np.array([np_height, np_weight])\n",
    "print(meas)\n",
    "\n",
    "for val in meas:\n",
    "    print(val)"
   ]
  },
  {
   "cell_type": "code",
   "execution_count": 17,
   "metadata": {},
   "outputs": [
    {
     "name": "stdout",
     "output_type": "stream",
     "text": [
      "1.77\n",
      "1.66\n",
      "1.91\n",
      "1.76\n",
      "66.4\n",
      "58.7\n",
      "83.4\n",
      "69.8\n"
     ]
    }
   ],
   "source": [
    "# To get each element off 2D array\n",
    "# We get first all the heights, then all the weights!\n",
    "\n",
    "for val in np.nditer(meas):\n",
    "    print(val)"
   ]
  },
  {
   "cell_type": "markdown",
   "metadata": {},
   "source": [
    "**Recap**  \n",
    "* Dictionary\n",
    " * `for key; val in my_dict.items() :`  \n",
    "Dictionaries requires a method.  \n",
    "  \n",
    "  \n",
    "* Numpy array\n",
    " * `for val in np.nditer(my_array) :`  \n",
    "Numpy arrays use a function.\n",
    "  \n",
    "Some examples!"
   ]
  },
  {
   "cell_type": "code",
   "execution_count": 18,
   "metadata": {},
   "outputs": [
    {
     "name": "stdout",
     "output_type": "stream",
     "text": [
      "the capital of spain is madrid\n",
      "the capital of france is paris\n",
      "the capital of germany is berlin\n",
      "the capital of norway is oslo\n",
      "the capital of italy is rome\n",
      "the capital of poland is warsaw\n",
      "the capital of austria is vienna\n"
     ]
    }
   ],
   "source": [
    "# Definition of dictionary\n",
    "europe = {'spain':'madrid', 'france':'paris', 'germany':'berlin',\n",
    "          'norway':'oslo', 'italy':'rome', 'poland':'warsaw', 'austria':'vienna' }\n",
    "          \n",
    "# Iterate over europe\n",
    "for key, value in europe.items():\n",
    "    print(\"the capital of \" + key + \" is \" + value)"
   ]
  },
  {
   "cell_type": "markdown",
   "metadata": {},
   "source": [
    "Notice that the order of the printouts doesn't necessarily correspond with the order used when defining `europe`. Remember: dictionaries are inherently unordered!"
   ]
  },
  {
   "cell_type": "markdown",
   "metadata": {},
   "source": [
    "**Loop Data Structures part 2**  \n",
    "  \n",
    "Looping over the `pandas` data frames."
   ]
  },
  {
   "cell_type": "code",
   "execution_count": 21,
   "metadata": {},
   "outputs": [
    {
     "data": {
      "text/html": [
       "<div>\n",
       "<style scoped>\n",
       "    .dataframe tbody tr th:only-of-type {\n",
       "        vertical-align: middle;\n",
       "    }\n",
       "\n",
       "    .dataframe tbody tr th {\n",
       "        vertical-align: top;\n",
       "    }\n",
       "\n",
       "    .dataframe thead th {\n",
       "        text-align: right;\n",
       "    }\n",
       "</style>\n",
       "<table border=\"1\" class=\"dataframe\">\n",
       "  <thead>\n",
       "    <tr style=\"text-align: right;\">\n",
       "      <th></th>\n",
       "      <th>country</th>\n",
       "      <th>drives_right</th>\n",
       "      <th>cars_per_cap</th>\n",
       "    </tr>\n",
       "  </thead>\n",
       "  <tbody>\n",
       "    <tr>\n",
       "      <th>US</th>\n",
       "      <td>United States</td>\n",
       "      <td>True</td>\n",
       "      <td>809</td>\n",
       "    </tr>\n",
       "    <tr>\n",
       "      <th>AUS</th>\n",
       "      <td>Australia</td>\n",
       "      <td>False</td>\n",
       "      <td>731</td>\n",
       "    </tr>\n",
       "    <tr>\n",
       "      <th>JPN</th>\n",
       "      <td>Japan</td>\n",
       "      <td>False</td>\n",
       "      <td>588</td>\n",
       "    </tr>\n",
       "    <tr>\n",
       "      <th>IN</th>\n",
       "      <td>India</td>\n",
       "      <td>False</td>\n",
       "      <td>18</td>\n",
       "    </tr>\n",
       "    <tr>\n",
       "      <th>RU</th>\n",
       "      <td>Russia</td>\n",
       "      <td>True</td>\n",
       "      <td>200</td>\n",
       "    </tr>\n",
       "    <tr>\n",
       "      <th>MOR</th>\n",
       "      <td>Morocco</td>\n",
       "      <td>True</td>\n",
       "      <td>70</td>\n",
       "    </tr>\n",
       "    <tr>\n",
       "      <th>EG</th>\n",
       "      <td>Egypt</td>\n",
       "      <td>True</td>\n",
       "      <td>45</td>\n",
       "    </tr>\n",
       "  </tbody>\n",
       "</table>\n",
       "</div>"
      ],
      "text/plain": [
       "           country  drives_right  cars_per_cap\n",
       "US   United States          True           809\n",
       "AUS      Australia         False           731\n",
       "JPN          Japan         False           588\n",
       "IN           India         False            18\n",
       "RU          Russia          True           200\n",
       "MOR        Morocco          True            70\n",
       "EG           Egypt          True            45"
      ]
     },
     "execution_count": 21,
     "metadata": {},
     "output_type": "execute_result"
    }
   ],
   "source": [
    "import pandas as pd\n",
    "\n",
    "# Build cars DataFrame\n",
    "names = ['United States', 'Australia', 'Japan', 'India', 'Russia', 'Morocco', 'Egypt']\n",
    "dr =  [True, False, False, False, True, True, True]\n",
    "cpc = [809, 731, 588, 18, 200, 70, 45]\n",
    "cars_dict = { 'country':names, 'drives_right':dr, 'cars_per_cap':cpc }\n",
    "cars = pd.DataFrame(cars_dict)\n",
    "\n",
    "# Definition of row_labels\n",
    "row_labels = ['US', 'AUS', 'JPN', 'IN', 'RU', 'MOR', 'EG']\n",
    "\n",
    "# Specify row labels of cars\n",
    "cars.index = row_labels\n",
    "cars"
   ]
  },
  {
   "cell_type": "markdown",
   "metadata": {},
   "source": [
    "**for, first try**"
   ]
  },
  {
   "cell_type": "code",
   "execution_count": 22,
   "metadata": {},
   "outputs": [
    {
     "name": "stdout",
     "output_type": "stream",
     "text": [
      "country\n",
      "drives_right\n",
      "cars_per_cap\n"
     ]
    }
   ],
   "source": [
    "for val in cars:\n",
    "    print(val)"
   ]
  },
  {
   "cell_type": "markdown",
   "metadata": {},
   "source": [
    "This only gave the column names, could be interesting but not exactly what we want.  \n",
    "In `pandas` we need to mention explicitly that we want to iterate over the rows.  \n",
    "We do this by calling the `iterrows` rows on the `df`.  \n",
    "This method looks at each iteration and for each row generates two pieces of data: the label of the row and the actual data in the row, as a pandas series.  \n",
    "\n",
    "..."
   ]
  },
  {
   "cell_type": "code",
   "execution_count": 23,
   "metadata": {},
   "outputs": [
    {
     "name": "stdout",
     "output_type": "stream",
     "text": [
      "US\n",
      "country         United States\n",
      "drives_right             True\n",
      "cars_per_cap              809\n",
      "Name: US, dtype: object\n",
      "AUS\n",
      "country         Australia\n",
      "drives_right        False\n",
      "cars_per_cap          731\n",
      "Name: AUS, dtype: object\n",
      "JPN\n",
      "country         Japan\n",
      "drives_right    False\n",
      "cars_per_cap      588\n",
      "Name: JPN, dtype: object\n",
      "IN\n",
      "country         India\n",
      "drives_right    False\n",
      "cars_per_cap       18\n",
      "Name: IN, dtype: object\n",
      "RU\n",
      "country         Russia\n",
      "drives_right      True\n",
      "cars_per_cap       200\n",
      "Name: RU, dtype: object\n",
      "MOR\n",
      "country         Morocco\n",
      "drives_right       True\n",
      "cars_per_cap         70\n",
      "Name: MOR, dtype: object\n",
      "EG\n",
      "country         Egypt\n",
      "drives_right     True\n",
      "cars_per_cap       45\n",
      "Name: EG, dtype: object\n"
     ]
    }
   ],
   "source": [
    "# iterating over rows of a df\n",
    "for lab, row in cars.iterrows():\n",
    "    print(lab) # row label\n",
    "    print(row) # row data"
   ]
  },
  {
   "cell_type": "markdown",
   "metadata": {},
   "source": [
    "The first iteration is label US and row is this entire pandas series.  \n",
    "Because this row information is an entire series we can easily select additional information from it using the sub-setting techniques we covered above.  \n",
    "  \n",
    "Suppose we only want to print out the name of the `country` on each iterations:"
   ]
  },
  {
   "cell_type": "code",
   "execution_count": 26,
   "metadata": {},
   "outputs": [
    {
     "name": "stdout",
     "output_type": "stream",
     "text": [
      "US: United States\n",
      "AUS: Australia\n",
      "JPN: Japan\n",
      "IN: India\n",
      "RU: Russia\n",
      "MOR: Morocco\n",
      "EG: Egypt\n"
     ]
    }
   ],
   "source": [
    "for lab, row in cars.iterrows():\n",
    "    print(lab + \": \" + row[\"country\"])"
   ]
  },
  {
   "cell_type": "markdown",
   "metadata": {},
   "source": [
    "We can take things further than just simple print out statements. Let´s add a new column called `\"name_length\"` containint the number of characters in the `country` name. We use the same loop construct and add a new column by passing the `row[\"country\"]` to the `len()` function"
   ]
  },
  {
   "cell_type": "code",
   "execution_count": 29,
   "metadata": {},
   "outputs": [
    {
     "data": {
      "text/html": [
       "<div>\n",
       "<style scoped>\n",
       "    .dataframe tbody tr th:only-of-type {\n",
       "        vertical-align: middle;\n",
       "    }\n",
       "\n",
       "    .dataframe tbody tr th {\n",
       "        vertical-align: top;\n",
       "    }\n",
       "\n",
       "    .dataframe thead th {\n",
       "        text-align: right;\n",
       "    }\n",
       "</style>\n",
       "<table border=\"1\" class=\"dataframe\">\n",
       "  <thead>\n",
       "    <tr style=\"text-align: right;\">\n",
       "      <th></th>\n",
       "      <th>country</th>\n",
       "      <th>drives_right</th>\n",
       "      <th>cars_per_cap</th>\n",
       "      <th>name_length</th>\n",
       "    </tr>\n",
       "  </thead>\n",
       "  <tbody>\n",
       "    <tr>\n",
       "      <th>US</th>\n",
       "      <td>United States</td>\n",
       "      <td>True</td>\n",
       "      <td>809</td>\n",
       "      <td>13.0</td>\n",
       "    </tr>\n",
       "    <tr>\n",
       "      <th>AUS</th>\n",
       "      <td>Australia</td>\n",
       "      <td>False</td>\n",
       "      <td>731</td>\n",
       "      <td>9.0</td>\n",
       "    </tr>\n",
       "    <tr>\n",
       "      <th>JPN</th>\n",
       "      <td>Japan</td>\n",
       "      <td>False</td>\n",
       "      <td>588</td>\n",
       "      <td>5.0</td>\n",
       "    </tr>\n",
       "    <tr>\n",
       "      <th>IN</th>\n",
       "      <td>India</td>\n",
       "      <td>False</td>\n",
       "      <td>18</td>\n",
       "      <td>5.0</td>\n",
       "    </tr>\n",
       "    <tr>\n",
       "      <th>RU</th>\n",
       "      <td>Russia</td>\n",
       "      <td>True</td>\n",
       "      <td>200</td>\n",
       "      <td>6.0</td>\n",
       "    </tr>\n",
       "    <tr>\n",
       "      <th>MOR</th>\n",
       "      <td>Morocco</td>\n",
       "      <td>True</td>\n",
       "      <td>70</td>\n",
       "      <td>7.0</td>\n",
       "    </tr>\n",
       "    <tr>\n",
       "      <th>EG</th>\n",
       "      <td>Egypt</td>\n",
       "      <td>True</td>\n",
       "      <td>45</td>\n",
       "      <td>5.0</td>\n",
       "    </tr>\n",
       "  </tbody>\n",
       "</table>\n",
       "</div>"
      ],
      "text/plain": [
       "           country  drives_right  cars_per_cap  name_length\n",
       "US   United States          True           809         13.0\n",
       "AUS      Australia         False           731          9.0\n",
       "JPN          Japan         False           588          5.0\n",
       "IN           India         False            18          5.0\n",
       "RU          Russia          True           200          6.0\n",
       "MOR        Morocco          True            70          7.0\n",
       "EG           Egypt          True            45          5.0"
      ]
     },
     "execution_count": 29,
     "metadata": {},
     "output_type": "execute_result"
    }
   ],
   "source": [
    "for lab, row in cars.iterrows():\n",
    "    # Creating series on every iteration\n",
    "    cars.loc[lab, \"name_length\"] = len(row[\"country\"])  # Using loc and len\n",
    "    \n",
    "cars # Check the results"
   ]
  },
  {
   "cell_type": "markdown",
   "metadata": {},
   "source": [
    "The new column is nice but not very effective since we are creating an entire series object on each iteration. On this small data frame it does not matter, but on a big data frames this is inefficient. A better approach if we want to calculate an entire data frame column by applying a function on a particular column in element wise way is to use `apply()` withouth a `for` loop. The `apply()` function uses vectorized operation which is more efficient!"
   ]
  },
  {
   "cell_type": "code",
   "execution_count": 30,
   "metadata": {},
   "outputs": [
    {
     "data": {
      "text/html": [
       "<div>\n",
       "<style scoped>\n",
       "    .dataframe tbody tr th:only-of-type {\n",
       "        vertical-align: middle;\n",
       "    }\n",
       "\n",
       "    .dataframe tbody tr th {\n",
       "        vertical-align: top;\n",
       "    }\n",
       "\n",
       "    .dataframe thead th {\n",
       "        text-align: right;\n",
       "    }\n",
       "</style>\n",
       "<table border=\"1\" class=\"dataframe\">\n",
       "  <thead>\n",
       "    <tr style=\"text-align: right;\">\n",
       "      <th></th>\n",
       "      <th>country</th>\n",
       "      <th>drives_right</th>\n",
       "      <th>cars_per_cap</th>\n",
       "      <th>name_length</th>\n",
       "      <th>name_lenght_2</th>\n",
       "    </tr>\n",
       "  </thead>\n",
       "  <tbody>\n",
       "    <tr>\n",
       "      <th>US</th>\n",
       "      <td>United States</td>\n",
       "      <td>True</td>\n",
       "      <td>809</td>\n",
       "      <td>13.0</td>\n",
       "      <td>13</td>\n",
       "    </tr>\n",
       "    <tr>\n",
       "      <th>AUS</th>\n",
       "      <td>Australia</td>\n",
       "      <td>False</td>\n",
       "      <td>731</td>\n",
       "      <td>9.0</td>\n",
       "      <td>9</td>\n",
       "    </tr>\n",
       "    <tr>\n",
       "      <th>JPN</th>\n",
       "      <td>Japan</td>\n",
       "      <td>False</td>\n",
       "      <td>588</td>\n",
       "      <td>5.0</td>\n",
       "      <td>5</td>\n",
       "    </tr>\n",
       "    <tr>\n",
       "      <th>IN</th>\n",
       "      <td>India</td>\n",
       "      <td>False</td>\n",
       "      <td>18</td>\n",
       "      <td>5.0</td>\n",
       "      <td>5</td>\n",
       "    </tr>\n",
       "    <tr>\n",
       "      <th>RU</th>\n",
       "      <td>Russia</td>\n",
       "      <td>True</td>\n",
       "      <td>200</td>\n",
       "      <td>6.0</td>\n",
       "      <td>6</td>\n",
       "    </tr>\n",
       "    <tr>\n",
       "      <th>MOR</th>\n",
       "      <td>Morocco</td>\n",
       "      <td>True</td>\n",
       "      <td>70</td>\n",
       "      <td>7.0</td>\n",
       "      <td>7</td>\n",
       "    </tr>\n",
       "    <tr>\n",
       "      <th>EG</th>\n",
       "      <td>Egypt</td>\n",
       "      <td>True</td>\n",
       "      <td>45</td>\n",
       "      <td>5.0</td>\n",
       "      <td>5</td>\n",
       "    </tr>\n",
       "  </tbody>\n",
       "</table>\n",
       "</div>"
      ],
      "text/plain": [
       "           country  drives_right  cars_per_cap  name_length  name_lenght_2\n",
       "US   United States          True           809         13.0             13\n",
       "AUS      Australia         False           731          9.0              9\n",
       "JPN          Japan         False           588          5.0              5\n",
       "IN           India         False            18          5.0              5\n",
       "RU          Russia          True           200          6.0              6\n",
       "MOR        Morocco          True            70          7.0              7\n",
       "EG           Egypt          True            45          5.0              5"
      ]
     },
     "execution_count": 30,
     "metadata": {},
     "output_type": "execute_result"
    }
   ],
   "source": [
    "cars[\"name_lenght_2\"] = cars[\"country\"].apply(len)\n",
    "\n",
    "cars"
   ]
  },
  {
   "cell_type": "markdown",
   "metadata": {},
   "source": [
    "Some more examples below:"
   ]
  },
  {
   "cell_type": "code",
   "execution_count": 31,
   "metadata": {},
   "outputs": [
    {
     "name": "stdout",
     "output_type": "stream",
     "text": [
      "US: 809\n",
      "AUS: 731\n",
      "JPN: 588\n",
      "IN: 18\n",
      "RU: 200\n",
      "MOR: 70\n",
      "EG: 45\n"
     ]
    }
   ],
   "source": [
    "# Adapt for loop\n",
    "for lab, row in cars.iterrows() :\n",
    "    print(lab + \": \" + str(row[\"cars_per_cap\"]))"
   ]
  },
  {
   "cell_type": "code",
   "execution_count": 33,
   "metadata": {},
   "outputs": [
    {
     "data": {
      "text/html": [
       "<div>\n",
       "<style scoped>\n",
       "    .dataframe tbody tr th:only-of-type {\n",
       "        vertical-align: middle;\n",
       "    }\n",
       "\n",
       "    .dataframe tbody tr th {\n",
       "        vertical-align: top;\n",
       "    }\n",
       "\n",
       "    .dataframe thead th {\n",
       "        text-align: right;\n",
       "    }\n",
       "</style>\n",
       "<table border=\"1\" class=\"dataframe\">\n",
       "  <thead>\n",
       "    <tr style=\"text-align: right;\">\n",
       "      <th></th>\n",
       "      <th>country</th>\n",
       "      <th>drives_right</th>\n",
       "      <th>cars_per_cap</th>\n",
       "      <th>name_length</th>\n",
       "      <th>name_lenght_2</th>\n",
       "      <th>COUNTRY</th>\n",
       "    </tr>\n",
       "  </thead>\n",
       "  <tbody>\n",
       "    <tr>\n",
       "      <th>US</th>\n",
       "      <td>United States</td>\n",
       "      <td>True</td>\n",
       "      <td>809</td>\n",
       "      <td>13.0</td>\n",
       "      <td>13</td>\n",
       "      <td>UNITED STATES</td>\n",
       "    </tr>\n",
       "    <tr>\n",
       "      <th>AUS</th>\n",
       "      <td>Australia</td>\n",
       "      <td>False</td>\n",
       "      <td>731</td>\n",
       "      <td>9.0</td>\n",
       "      <td>9</td>\n",
       "      <td>AUSTRALIA</td>\n",
       "    </tr>\n",
       "    <tr>\n",
       "      <th>JPN</th>\n",
       "      <td>Japan</td>\n",
       "      <td>False</td>\n",
       "      <td>588</td>\n",
       "      <td>5.0</td>\n",
       "      <td>5</td>\n",
       "      <td>JAPAN</td>\n",
       "    </tr>\n",
       "    <tr>\n",
       "      <th>IN</th>\n",
       "      <td>India</td>\n",
       "      <td>False</td>\n",
       "      <td>18</td>\n",
       "      <td>5.0</td>\n",
       "      <td>5</td>\n",
       "      <td>INDIA</td>\n",
       "    </tr>\n",
       "    <tr>\n",
       "      <th>RU</th>\n",
       "      <td>Russia</td>\n",
       "      <td>True</td>\n",
       "      <td>200</td>\n",
       "      <td>6.0</td>\n",
       "      <td>6</td>\n",
       "      <td>RUSSIA</td>\n",
       "    </tr>\n",
       "    <tr>\n",
       "      <th>MOR</th>\n",
       "      <td>Morocco</td>\n",
       "      <td>True</td>\n",
       "      <td>70</td>\n",
       "      <td>7.0</td>\n",
       "      <td>7</td>\n",
       "      <td>MOROCCO</td>\n",
       "    </tr>\n",
       "    <tr>\n",
       "      <th>EG</th>\n",
       "      <td>Egypt</td>\n",
       "      <td>True</td>\n",
       "      <td>45</td>\n",
       "      <td>5.0</td>\n",
       "      <td>5</td>\n",
       "      <td>EGYPT</td>\n",
       "    </tr>\n",
       "  </tbody>\n",
       "</table>\n",
       "</div>"
      ],
      "text/plain": [
       "           country  drives_right  cars_per_cap  name_length  name_lenght_2  \\\n",
       "US   United States          True           809         13.0             13   \n",
       "AUS      Australia         False           731          9.0              9   \n",
       "JPN          Japan         False           588          5.0              5   \n",
       "IN           India         False            18          5.0              5   \n",
       "RU          Russia          True           200          6.0              6   \n",
       "MOR        Morocco          True            70          7.0              7   \n",
       "EG           Egypt          True            45          5.0              5   \n",
       "\n",
       "           COUNTRY  \n",
       "US   UNITED STATES  \n",
       "AUS      AUSTRALIA  \n",
       "JPN          JAPAN  \n",
       "IN           INDIA  \n",
       "RU          RUSSIA  \n",
       "MOR        MOROCCO  \n",
       "EG           EGYPT  "
      ]
     },
     "execution_count": 33,
     "metadata": {},
     "output_type": "execute_result"
    }
   ],
   "source": [
    "# Code for loop that adds COUNTRY column\n",
    "for lab, row in cars.iterrows():\n",
    "    cars.loc[lab, \"COUNTRY\"] = (row[\"country\"].upper())\n",
    "    \n",
    "cars"
   ]
  },
  {
   "cell_type": "code",
   "execution_count": 34,
   "metadata": {},
   "outputs": [
    {
     "data": {
      "text/html": [
       "<div>\n",
       "<style scoped>\n",
       "    .dataframe tbody tr th:only-of-type {\n",
       "        vertical-align: middle;\n",
       "    }\n",
       "\n",
       "    .dataframe tbody tr th {\n",
       "        vertical-align: top;\n",
       "    }\n",
       "\n",
       "    .dataframe thead th {\n",
       "        text-align: right;\n",
       "    }\n",
       "</style>\n",
       "<table border=\"1\" class=\"dataframe\">\n",
       "  <thead>\n",
       "    <tr style=\"text-align: right;\">\n",
       "      <th></th>\n",
       "      <th>country</th>\n",
       "      <th>drives_right</th>\n",
       "      <th>cars_per_cap</th>\n",
       "      <th>name_length</th>\n",
       "      <th>name_lenght_2</th>\n",
       "      <th>COUNTRY</th>\n",
       "    </tr>\n",
       "  </thead>\n",
       "  <tbody>\n",
       "    <tr>\n",
       "      <th>US</th>\n",
       "      <td>United States</td>\n",
       "      <td>True</td>\n",
       "      <td>809</td>\n",
       "      <td>13.0</td>\n",
       "      <td>13</td>\n",
       "      <td>UNITED STATES</td>\n",
       "    </tr>\n",
       "    <tr>\n",
       "      <th>AUS</th>\n",
       "      <td>Australia</td>\n",
       "      <td>False</td>\n",
       "      <td>731</td>\n",
       "      <td>9.0</td>\n",
       "      <td>9</td>\n",
       "      <td>AUSTRALIA</td>\n",
       "    </tr>\n",
       "    <tr>\n",
       "      <th>JPN</th>\n",
       "      <td>Japan</td>\n",
       "      <td>False</td>\n",
       "      <td>588</td>\n",
       "      <td>5.0</td>\n",
       "      <td>5</td>\n",
       "      <td>JAPAN</td>\n",
       "    </tr>\n",
       "    <tr>\n",
       "      <th>IN</th>\n",
       "      <td>India</td>\n",
       "      <td>False</td>\n",
       "      <td>18</td>\n",
       "      <td>5.0</td>\n",
       "      <td>5</td>\n",
       "      <td>INDIA</td>\n",
       "    </tr>\n",
       "    <tr>\n",
       "      <th>RU</th>\n",
       "      <td>Russia</td>\n",
       "      <td>True</td>\n",
       "      <td>200</td>\n",
       "      <td>6.0</td>\n",
       "      <td>6</td>\n",
       "      <td>RUSSIA</td>\n",
       "    </tr>\n",
       "    <tr>\n",
       "      <th>MOR</th>\n",
       "      <td>Morocco</td>\n",
       "      <td>True</td>\n",
       "      <td>70</td>\n",
       "      <td>7.0</td>\n",
       "      <td>7</td>\n",
       "      <td>MOROCCO</td>\n",
       "    </tr>\n",
       "    <tr>\n",
       "      <th>EG</th>\n",
       "      <td>Egypt</td>\n",
       "      <td>True</td>\n",
       "      <td>45</td>\n",
       "      <td>5.0</td>\n",
       "      <td>5</td>\n",
       "      <td>EGYPT</td>\n",
       "    </tr>\n",
       "  </tbody>\n",
       "</table>\n",
       "</div>"
      ],
      "text/plain": [
       "           country  drives_right  cars_per_cap  name_length  name_lenght_2  \\\n",
       "US   United States          True           809         13.0             13   \n",
       "AUS      Australia         False           731          9.0              9   \n",
       "JPN          Japan         False           588          5.0              5   \n",
       "IN           India         False            18          5.0              5   \n",
       "RU          Russia          True           200          6.0              6   \n",
       "MOR        Morocco          True            70          7.0              7   \n",
       "EG           Egypt          True            45          5.0              5   \n",
       "\n",
       "           COUNTRY  \n",
       "US   UNITED STATES  \n",
       "AUS      AUSTRALIA  \n",
       "JPN          JAPAN  \n",
       "IN           INDIA  \n",
       "RU          RUSSIA  \n",
       "MOR        MOROCCO  \n",
       "EG           EGYPT  "
      ]
     },
     "execution_count": 34,
     "metadata": {},
     "output_type": "execute_result"
    }
   ],
   "source": [
    "# a more efficnet way of doing the same\n",
    "# Use .apply(str.upper)\n",
    "cars[\"COUNTRY\"] = cars[\"country\"].apply(str.upper)\n",
    "\n",
    "cars"
   ]
  },
  {
   "cell_type": "markdown",
   "metadata": {},
   "source": [
    "### 5. Case Study: Hacker Stats  \n",
    "  \n",
    "**Random Numbers**  \n",
    "  \n",
    "We will create a nice script summarizing all above.  \n",
    "Imagine walking up the Empire State building. We dill throw a dice, if it is:\n",
    "* 1, 2 we go one step down (-1)\n",
    "* 3, 4, 5 we go one step up (+1)\n",
    "* 6 we throw the dice again and go up as many steps as the dice (1-6)\n",
    "* Cant go below step 0\n",
    "* Clumsyness chans of 0.1% of falling down the stairs and start from 0.\n",
    "* Bet: What is the chance that we reach step 60?  \n",
    "  \n",
    "How to solve this?  \n",
    "* Analytical\n",
    "* Simulate the process  \n",
    " * Hacker statistics!  \n",
    "   \n",
    "Random generators  \n",
    "`import numpy as np`  \n",
    "`np.random.rand() # Pseudo-random numbers`  \n",
    "  \n",
    "  "
   ]
  },
  {
   "cell_type": "code",
   "execution_count": 1,
   "metadata": {},
   "outputs": [
    {
     "data": {
      "text/plain": [
       "0.8033178032367103"
      ]
     },
     "execution_count": 1,
     "metadata": {},
     "output_type": "execute_result"
    }
   ],
   "source": [
    "import numpy as np\n",
    "np.random.rand()"
   ]
  },
  {
   "cell_type": "markdown",
   "metadata": {},
   "source": [
    "We get a random number between 0-1. How is this random number created?  \n",
    "Computer can generate pseudo-random numberst using mathematical formulas starting from a random seed. This seed was chosen by Python when calling the function, but we can also set the seed randomly."
   ]
  },
  {
   "cell_type": "code",
   "execution_count": 4,
   "metadata": {},
   "outputs": [
    {
     "data": {
      "text/plain": [
       "0.6121701756176187"
      ]
     },
     "execution_count": 4,
     "metadata": {},
     "output_type": "execute_result"
    }
   ],
   "source": [
    "np.random.seed(111) # pseudo random since we can control it by setting the seed\n",
    "np.random.rand()"
   ]
  },
  {
   "cell_type": "markdown",
   "metadata": {},
   "source": [
    "**Coin toss**  \n",
    "Simulation, using `randint()` function. First argument is `0`, the second `2`, because `2`is not going to be included. If we print out `coin` we get a random integer, `0` or `1`."
   ]
  },
  {
   "cell_type": "code",
   "execution_count": 7,
   "metadata": {},
   "outputs": [
    {
     "name": "stdout",
     "output_type": "stream",
     "text": [
      "0\n",
      "heads\n"
     ]
    }
   ],
   "source": [
    "np.random.seed(222)\n",
    "coin = np.random.randint(0,2) # randomly generate 0 or 1\n",
    "print(coin)\n",
    "if coin == 0:\n",
    "    print(\"heads\")\n",
    "else:\n",
    "    print(\"tails\")"
   ]
  },
  {
   "cell_type": "markdown",
   "metadata": {},
   "source": [
    "**Roll the dice**  \n",
    "  \n",
    "We can just as well use `randint()`, also a function of the random package, to generate integers randomly. The following call generates the integer `4`, `5`, `6` or `7` randomly. `8` is not included.  \n",
    "  \n",
    "* Use `randint()` with the appropriate arguments to randomly generate the integer `1, 2, 3, 4, 5` or `6`. This simulates a dice. Print it out.\n",
    "* Repeat the outcome to see if the second throw is different. Again, print out the result."
   ]
  },
  {
   "cell_type": "code",
   "execution_count": 8,
   "metadata": {},
   "outputs": [
    {
     "name": "stdout",
     "output_type": "stream",
     "text": [
      "6\n",
      "3\n"
     ]
    }
   ],
   "source": [
    "# Import numpy and set seed\n",
    "import numpy as np\n",
    "np.random.seed(123)\n",
    "\n",
    "# Use randint() to simulate a dice\n",
    "print(np.random.randint(1,7))\n",
    "\n",
    "# Use randint() again\n",
    "print(np.random.randint(1,7))"
   ]
  },
  {
   "cell_type": "markdown",
   "metadata": {},
   "source": [
    "**Determine your next move**  \n",
    "  \n",
    "In the Empire State Building bet, your next move depends on the number of eyes you throw with the dice. We can perfectly code this with an `if-elif-else` construct!\n",
    "\n",
    "The sample code assumes that you're currently at step 50.  \n",
    "* Set seed to `123`\n",
    "* Roll the dice. `Use` randint() to create the variable dice.\n",
    "* Make a `if-elif-else` construct\n",
    "* If dice is `1` or `2`, you go one step down.\n",
    "* if dice is `3`, `4` or `5`, you go one step up.\n",
    "* Else, you throw the dice again. The number of eyes is the number of steps you go up.\n",
    "* Print out dice and step. Given the value of dice, was step updated correctly?"
   ]
  },
  {
   "cell_type": "code",
   "execution_count": 10,
   "metadata": {},
   "outputs": [
    {
     "name": "stdout",
     "output_type": "stream",
     "text": [
      "6\n",
      "53\n"
     ]
    }
   ],
   "source": [
    "np.random.seed(123)\n",
    "\n",
    "# Starting step\n",
    "step = 50\n",
    "\n",
    "# Roll the dice\n",
    "dice = np.random.randint(1,7)\n",
    "\n",
    "# Finish the control construct\n",
    "if dice <= 2 :\n",
    "    step = step - 1\n",
    "elif dice <= 5 :\n",
    "    step = step + 1\n",
    "else :\n",
    "    step = step + np.random.randint(1,7)\n",
    "\n",
    "# Print out dice and step\n",
    "print(dice)\n",
    "print(step)"
   ]
  },
  {
   "cell_type": "markdown",
   "metadata": {},
   "source": [
    "We threw a `6`, so the code for the `else` statement was executed. We threw again, and apparently we threw `3`, causing us to take three steps up: We are currently at step `53`."
   ]
  },
  {
   "cell_type": "markdown",
   "metadata": {},
   "source": [
    "**Random Walk**  \n",
    "  \n",
    "When we use a dice to determine we can call it a random step.  \n",
    "If we use the die 100 times to determine our next step, we will have a random walk.  \n",
    "  \n",
    "Known in science:  \n",
    "* Path of molecules\n",
    "* Gambler´s financial status  \n",
    "  \n",
    "To build and record every step in our random walk we can gradually build a list with a `for` loop.  \n",
    "The `range()` function generates a list of number that we can iterate over.  \n",
    "We use the `append()` method to add \"heads\" if coin is `0` or \"tails\" if coin is `1`."
   ]
  },
  {
   "cell_type": "code",
   "execution_count": 12,
   "metadata": {},
   "outputs": [
    {
     "name": "stdout",
     "output_type": "stream",
     "text": [
      "['heads', 'tails', 'heads', 'heads', 'heads', 'heads', 'heads', 'tails', 'tails', 'heads']\n"
     ]
    }
   ],
   "source": [
    "import numpy as np\n",
    "np.random.seed(123)\n",
    "outcomes = []\n",
    "\n",
    "for x in range(10):\n",
    "    coin = np.random.randint(0,2)\n",
    "    if coin == 0:\n",
    "        outcomes.append(\"heads\")\n",
    "    else:\n",
    "        outcomes.append(\"tails\")\n",
    "print(outcomes)"
   ]
  },
  {
   "cell_type": "markdown",
   "metadata": {},
   "source": [
    "The list of `outcomes` is just a bunch of random steps, but it is not a random walk since they each random value does not build upon the previous one. We can turn this into a random walk by tracking the total number of tails while we are simulating the games. We do this by creating a list `tails` that starts at `0`. Then we generate a random number, if `1` the number of tails does not change, if `0` the number of tails should be incremented by `1`, this means that we can simply add `coin` to the previous number of tails and this count to the list with `append()`. Then we print the `tails` and the final element of the list tells us how often tails was drawn. This is how a number of random steps are converted into a random walk."
   ]
  },
  {
   "cell_type": "code",
   "execution_count": 15,
   "metadata": {},
   "outputs": [
    {
     "name": "stdout",
     "output_type": "stream",
     "text": [
      "[0, 0, 1, 1, 1, 1, 1, 1, 2, 3, 3]\n"
     ]
    }
   ],
   "source": [
    "np.random.seed(123)\n",
    "tails = [0]\n",
    "\n",
    "for x in range(10):\n",
    "    coin = np.random.randint(0,2)\n",
    "    tails.append(tails[x] + coin)\n",
    "print(tails)"
   ]
  },
  {
   "cell_type": "code",
   "execution_count": 16,
   "metadata": {},
   "outputs": [
    {
     "data": {
      "text/plain": [
       "['heads',\n",
       " 'tails',\n",
       " 'heads',\n",
       " 'heads',\n",
       " 'heads',\n",
       " 'heads',\n",
       " 'heads',\n",
       " 'tails',\n",
       " 'tails',\n",
       " 'heads']"
      ]
     },
     "execution_count": 16,
     "metadata": {},
     "output_type": "execute_result"
    }
   ],
   "source": [
    "outcomes # Compare and see that there where in total 3 tails"
   ]
  },
  {
   "cell_type": "markdown",
   "metadata": {},
   "source": [
    "Some more example below"
   ]
  },
  {
   "cell_type": "code",
   "execution_count": 17,
   "metadata": {},
   "outputs": [
    {
     "name": "stdout",
     "output_type": "stream",
     "text": [
      "[0, 3, 4, 5, 4, 5, 6, 7, 6, 5, 4, 3, 2, 1, 0, -1, 0, 5, 4, 3, 4, 3, 4, 5, 6, 7, 8, 7, 8, 7, 8, 9, 10, 11, 10, 14, 15, 14, 15, 14, 15, 16, 17, 18, 19, 20, 21, 24, 25, 26, 27, 32, 33, 37, 38, 37, 38, 39, 38, 39, 40, 42, 43, 44, 43, 42, 43, 44, 43, 42, 43, 44, 46, 45, 44, 45, 44, 45, 46, 47, 49, 48, 49, 50, 51, 52, 53, 52, 51, 52, 51, 52, 53, 52, 55, 56, 57, 58, 57, 58, 59]\n"
     ]
    }
   ],
   "source": [
    "np.random.seed(123)\n",
    "\n",
    "# Initialize random_walk\n",
    "random_walk = [0]\n",
    "\n",
    "# Complete the ___\n",
    "for x in range(100) :\n",
    "    # Set step: last element in random_walk\n",
    "    step = random_walk[-1]\n",
    "\n",
    "    # Roll the dice\n",
    "    dice = np.random.randint(1,7)\n",
    "\n",
    "    # Determine next step\n",
    "    if dice <= 2:\n",
    "        step = step - 1\n",
    "    elif dice <= 5:\n",
    "        step = step + 1\n",
    "    else:\n",
    "        step = step + np.random.randint(1,7)\n",
    "\n",
    "    # append next_step to random_walk\n",
    "    random_walk.append(step)\n",
    "\n",
    "# Print random_walk\n",
    "print(random_walk)"
   ]
  },
  {
   "cell_type": "markdown",
   "metadata": {},
   "source": [
    "There's still something wrong: the level at index 15 is negative!  \n",
    "  \n",
    "**How low can you go?**  \n",
    "  \n",
    "A typical way to solve problems like this is by using `max()`. If you pass `max()` two arguments, the biggest one gets returned. For example, to make sure that a variable x never goes below 10 when you decrease it, you can use:  \n",
    "  \n",
    "`x = max(10, x - 1)`"
   ]
  },
  {
   "cell_type": "code",
   "execution_count": 18,
   "metadata": {},
   "outputs": [
    {
     "name": "stdout",
     "output_type": "stream",
     "text": [
      "[0, 3, 4, 5, 4, 5, 6, 7, 6, 5, 4, 3, 2, 1, 0, 0, 1, 6, 5, 4, 5, 4, 5, 6, 7, 8, 9, 8, 9, 8, 9, 10, 11, 12, 11, 15, 16, 15, 16, 15, 16, 17, 18, 19, 20, 21, 22, 25, 26, 27, 28, 33, 34, 38, 39, 38, 39, 40, 39, 40, 41, 43, 44, 45, 44, 43, 44, 45, 44, 43, 44, 45, 47, 46, 45, 46, 45, 46, 47, 48, 50, 49, 50, 51, 52, 53, 54, 53, 52, 53, 52, 53, 54, 53, 56, 57, 58, 59, 58, 59, 60]\n"
     ]
    }
   ],
   "source": [
    "np.random.seed(123)\n",
    "\n",
    "# Initialize random_walk\n",
    "random_walk = [0]\n",
    "\n",
    "for x in range(100) :\n",
    "    step = random_walk[-1]\n",
    "    dice = np.random.randint(1,7)\n",
    "\n",
    "    if dice <= 2:\n",
    "        # Replace below: use max to make sure step can't go below 0\n",
    "        step = max(0, step - 1)\n",
    "    elif dice <= 5:\n",
    "        step = step + 1\n",
    "    else:\n",
    "        step = step + np.random.randint(1,7)\n",
    "\n",
    "    random_walk.append(step)\n",
    "\n",
    "print(random_walk)"
   ]
  },
  {
   "cell_type": "markdown",
   "metadata": {},
   "source": [
    "Looking at the output, we see that we cannot go below zero anymore!  \n",
    "  \n",
    "**Visualize the walk**"
   ]
  },
  {
   "cell_type": "code",
   "execution_count": 19,
   "metadata": {},
   "outputs": [
    {
     "data": {
      "image/png": "[encoded data removed]",
      "text/plain": [
       "<Figure size 432x288 with 1 Axes>"
      ]
     },
     "metadata": {
      "needs_background": "light"
     },
     "output_type": "display_data"
    }
   ],
   "source": [
    "np.random.seed(123)\n",
    "\n",
    "# Initialization\n",
    "random_walk = [0]\n",
    "\n",
    "for x in range(100) :\n",
    "    step = random_walk[-1]\n",
    "    dice = np.random.randint(1,7)\n",
    "\n",
    "    if dice <= 2:\n",
    "        step = max(0, step - 1)\n",
    "    elif dice <= 5:\n",
    "        step = step + 1\n",
    "    else:\n",
    "        step = step + np.random.randint(1,7)\n",
    "\n",
    "    random_walk.append(step)\n",
    "\n",
    "# Import matplotlib.pyplot as plt\n",
    "import matplotlib.pyplot as plt\n",
    "\n",
    "# Plot random_walk\n",
    "plt.plot(random_walk)\n",
    "\n",
    "# Show the plot\n",
    "plt.show()"
   ]
  },
  {
   "cell_type": "markdown",
   "metadata": {},
   "source": [
    "We can clearly see how your random walk progressed.  \n",
    "  \n",
    "**Distribution**  \n",
    "  \n",
    "Now we will talk about distributions of a random walk.  \n",
    "  \n",
    "What is the chance that we will reach 60 steps high?  \n",
    "If we simulate this a 1000 times we will end up with a distribution of final steps.  \n",
    "Once we know our distribution we can start calculating chances.  \n",
    "  \n",
    "Repeat the code from before.  \n",
    "  \n",
    "Create a list `final_tails` that will contain the results if we run it 100 times.  \n",
    "We create a `for` loop to run it 100 times, then 1000 times, 10000 times. \n",
    "Inside this loop we put the first for loop.\n",
    "The `final_tails` will contain an element for each run with the count of tails. This list represents a distribution of tails that we can visualize."
   ]
  },
  {
   "cell_type": "code",
   "execution_count": 25,
   "metadata": {},
   "outputs": [
    {
     "data": {
      "image/png": "[encoded data removed]",
      "text/plain": [
       "<Figure size 432x288 with 1 Axes>"
      ]
     },
     "metadata": {
      "needs_background": "light"
     },
     "output_type": "display_data"
    }
   ],
   "source": [
    "import numpy as np\n",
    "import matplotlib.pyplot as plt\n",
    "np.random.seed(123)\n",
    "final_tails = []\n",
    "\n",
    "for x in range(10000):\n",
    "    tails = [0]\n",
    "    for x in range(10):\n",
    "        coin = np.random.randint(0,2)\n",
    "        tails.append(tails[x] + coin)\n",
    "    final_tails.append(tails[-1])\n",
    "plt.hist(final_tails, bins = 10)\n",
    "plt.show()"
   ]
  },
  {
   "cell_type": "markdown",
   "metadata": {},
   "source": [
    "Using only `100` iterations makes the histogram look not so smooth.  \n",
    "Fix this by running the simulation `1000` times instead, this makes the histogram look better.  \n",
    "`10000` times makes it look like a bell-curve."
   ]
  },
  {
   "cell_type": "markdown",
   "metadata": {},
   "source": [
    "**Simulate multiple walks**  \n",
    "  \n",
    " single random walk is one thing, but that doesn't tell you if you have a good chance at winning the bet.\n",
    "\n",
    "To get an idea about how big your chances are of reaching 60 steps, you can repeatedly simulate the random walk and collect the results. That's exactly what you'll do in this exercise.\n",
    "\n",
    "The sample code already sets you off in the right direction. Another `for` loop is wrapped around the code you already wrote. It's up to you to add some bits and pieces to make sure all of the results are recorded correctly."
   ]
  },
  {
   "cell_type": "code",
   "execution_count": 26,
   "metadata": {},
   "outputs": [
    {
     "name": "stdout",
     "output_type": "stream",
     "text": [
      "[[0, 3, 4, 5, 4, 5, 6, 7, 6, 5, 4, 3, 2, 1, 0, 0, 1, 6, 5, 4, 5, 4, 5, 6, 7, 8, 9, 8, 9, 8, 9, 10, 11, 12, 11, 15, 16, 15, 16, 15, 16, 17, 18, 19, 20, 21, 22, 25, 26, 27, 28, 33, 34, 38, 39, 38, 39, 40, 39, 40, 41, 43, 44, 45, 44, 43, 44, 45, 44, 43, 44, 45, 47, 46, 45, 46, 45, 46, 47, 48, 50, 49, 50, 51, 52, 53, 54, 53, 52, 53, 52, 53, 54, 53, 56, 57, 58, 59, 58, 59, 60], [0, 4, 3, 2, 4, 3, 4, 6, 7, 8, 13, 12, 13, 14, 15, 16, 17, 16, 21, 22, 23, 24, 23, 22, 21, 20, 19, 20, 21, 22, 28, 27, 26, 25, 26, 27, 28, 27, 28, 29, 28, 33, 34, 33, 32, 31, 30, 31, 30, 29, 31, 32, 35, 36, 38, 39, 40, 41, 40, 39, 40, 41, 42, 43, 42, 43, 44, 45, 48, 49, 50, 49, 50, 49, 50, 51, 52, 56, 55, 54, 55, 56, 57, 56, 57, 56, 57, 59, 64, 63, 64, 65, 66, 67, 68, 69, 68, 69, 70, 71, 73], [0, 2, 1, 2, 3, 6, 5, 6, 5, 6, 7, 8, 7, 8, 7, 8, 9, 11, 10, 9, 10, 11, 10, 12, 13, 14, 15, 16, 17, 18, 17, 18, 19, 24, 25, 24, 23, 22, 21, 22, 23, 24, 29, 30, 29, 30, 31, 32, 33, 34, 35, 34, 33, 34, 33, 39, 38, 39, 38, 39, 38, 39, 43, 47, 49, 51, 50, 51, 53, 52, 58, 59, 61, 62, 61, 62, 63, 64, 63, 64, 65, 66, 68, 67, 66, 67, 73, 78, 77, 76, 80, 81, 82, 83, 85, 84, 85, 84, 85, 84, 83], [0, 6, 5, 6, 7, 8, 9, 10, 11, 12, 13, 12, 13, 12, 11, 12, 11, 12, 11, 12, 13, 17, 18, 17, 23, 22, 21, 22, 21, 20, 21, 20, 24, 23, 24, 23, 24, 23, 24, 26, 25, 24, 23, 24, 23, 28, 29, 30, 29, 28, 29, 28, 29, 28, 33, 34, 33, 32, 31, 30, 31, 32, 36, 42, 43, 44, 45, 46, 45, 46, 48, 49, 50, 51, 50, 49, 50, 49, 50, 51, 52, 51, 52, 53, 54, 53, 52, 53, 54, 59, 60, 61, 66, 65, 66, 65, 66, 67, 68, 69, 68], [0, 6, 5, 6, 5, 4, 5, 9, 10, 11, 12, 13, 12, 11, 10, 9, 8, 9, 10, 11, 12, 13, 14, 13, 14, 15, 14, 15, 16, 19, 18, 19, 18, 19, 22, 23, 24, 25, 24, 23, 26, 27, 28, 29, 28, 27, 28, 31, 32, 37, 38, 37, 38, 37, 38, 37, 43, 42, 41, 42, 44, 43, 42, 41, 42, 43, 44, 45, 49, 54, 55, 56, 57, 60, 61, 62, 63, 64, 65, 66, 65, 64, 65, 66, 65, 71, 70, 71, 72, 71, 70, 71, 70, 69, 75, 74, 73, 74, 75, 74, 73], [0, 0, 0, 1, 7, 8, 11, 12, 18, 19, 20, 26, 25, 31, 30, 31, 32, 33, 32, 38, 39, 38, 39, 38, 39, 38, 39, 38, 39, 43, 44, 46, 45, 46, 45, 44, 45, 44, 45, 44, 48, 52, 51, 50, 49, 50, 51, 55, 56, 57, 61, 60, 59, 58, 59, 60, 62, 61, 60, 61, 62, 64, 67, 72, 73, 72, 73, 74, 75, 76, 77, 76, 77, 78, 84, 83, 88, 87, 91, 90, 94, 93, 96, 97, 96, 97, 103, 102, 101, 100, 104, 103, 102, 103, 104, 103, 104, 105, 106, 107, 106], [0, 0, 0, 1, 0, 0, 4, 5, 7, 11, 17, 16, 15, 16, 17, 18, 17, 18, 17, 18, 19, 18, 17, 18, 19, 20, 21, 22, 23, 24, 25, 26, 27, 33, 32, 35, 36, 35, 34, 35, 36, 37, 36, 35, 34, 33, 34, 35, 36, 37, 38, 39, 40, 39, 40, 41, 43, 42, 43, 44, 47, 49, 50, 49, 48, 47, 46, 45, 46, 45, 46, 48, 49, 50, 49, 50, 49, 48, 49, 48, 47, 46, 47, 46, 45, 46, 47, 48, 50, 51, 52, 51, 50, 51, 57, 56, 57, 58, 63, 62, 63], [0, 0, 1, 2, 1, 2, 3, 9, 10, 11, 12, 11, 13, 14, 15, 16, 15, 16, 17, 18, 19, 18, 19, 18, 19, 20, 19, 20, 24, 25, 28, 29, 33, 34, 33, 34, 35, 34, 33, 38, 39, 40, 39, 38, 39, 40, 41, 40, 44, 43, 44, 45, 46, 47, 48, 49, 50, 49, 48, 47, 48, 49, 53, 54, 53, 54, 55, 54, 60, 61, 62, 63, 62, 63, 64, 67, 66, 67, 66, 65, 64, 65, 66, 68, 69, 70, 74, 75, 74, 73, 74, 75, 74, 73, 74, 75, 76, 75, 74, 75, 76], [0, 1, 0, 1, 2, 1, 0, 0, 1, 2, 3, 4, 5, 10, 14, 13, 14, 13, 12, 11, 12, 11, 12, 13, 12, 16, 17, 16, 17, 16, 15, 16, 15, 19, 20, 21, 22, 23, 24, 23, 24, 25, 26, 27, 28, 27, 32, 33, 34, 33, 34, 33, 34, 35, 34, 35, 40, 41, 42, 41, 42, 43, 44, 43, 44, 43, 44, 45, 44, 43, 42, 43, 44, 43, 42, 41, 42, 46, 47, 48, 49, 50, 51, 50, 51, 52, 51, 52, 57, 58, 57, 56, 57, 56, 55, 54, 58, 59, 60, 61, 60], [0, 1, 2, 3, 4, 5, 4, 3, 6, 5, 4, 3, 2, 3, 9, 10, 9, 10, 11, 10, 9, 10, 11, 12, 11, 15, 16, 15, 17, 18, 17, 18, 19, 20, 21, 22, 23, 22, 21, 22, 23, 22, 23, 24, 23, 22, 21, 25, 26, 27, 28, 29, 30, 31, 32, 33, 34, 33, 34, 35, 36, 37, 38, 37, 36, 42, 43, 44, 43, 42, 41, 45, 46, 50, 49, 55, 56, 57, 61, 62, 61, 60, 61, 62, 63, 64, 63, 69, 70, 69, 73, 74, 73, 74, 73, 79, 85, 86, 85, 86, 87]]\n"
     ]
    }
   ],
   "source": [
    "np.random.seed(123)\n",
    "\n",
    "# Initialize all_walks (don't change this line)\n",
    "all_walks = []\n",
    "\n",
    "# Simulate random walk 10 times\n",
    "for i in range(10) :\n",
    "\n",
    "    # Code from before\n",
    "    random_walk = [0]\n",
    "    for x in range(100) :\n",
    "        step = random_walk[-1]\n",
    "        dice = np.random.randint(1,7)\n",
    "\n",
    "        if dice <= 2:\n",
    "            step = max(0, step - 1)\n",
    "        elif dice <= 5:\n",
    "            step = step + 1\n",
    "        else:\n",
    "            step = step + np.random.randint(1,7)\n",
    "        random_walk.append(step)\n",
    "\n",
    "    # Append random_walk to all_walks\n",
    "    all_walks.append(random_walk)\n",
    "\n",
    "# Print all_walks\n",
    "print(all_walks)"
   ]
  },
  {
   "cell_type": "markdown",
   "metadata": {},
   "source": [
    "**Visualize all walks**  \n",
    "  \n",
    "`all_walks` is a list of lists: every sub-list represents a single random walk. If you convert this list of lists to a Numpy array, you can start making interesting plots! "
   ]
  },
  {
   "cell_type": "code",
   "execution_count": 27,
   "metadata": {},
   "outputs": [
    {
     "data": {
      "image/png": "[encoded data removed]",
      "text/plain": [
       "<Figure size 432x288 with 1 Axes>"
      ]
     },
     "metadata": {
      "needs_background": "light"
     },
     "output_type": "display_data"
    },
    {
     "data": {
      "image/png": "[encoded data removed]",
      "text/plain": [
       "<Figure size 432x288 with 1 Axes>"
      ]
     },
     "metadata": {
      "needs_background": "light"
     },
     "output_type": "display_data"
    }
   ],
   "source": [
    "import numpy as np\n",
    "import matplotlib.pyplot as plt\n",
    "np.random.seed(123)\n",
    "# numpy and matplotlib imported, seed set.\n",
    "\n",
    "# initialize and populate all_walks\n",
    "all_walks = []\n",
    "for i in range(10) :\n",
    "    random_walk = [0]\n",
    "    for x in range(100) :\n",
    "        step = random_walk[-1]\n",
    "        dice = np.random.randint(1,7)\n",
    "        if dice <= 2:\n",
    "            step = max(0, step - 1)\n",
    "        elif dice <= 5:\n",
    "            step = step + 1\n",
    "        else:\n",
    "            step = step + np.random.randint(1,7)\n",
    "        random_walk.append(step)\n",
    "    all_walks.append(random_walk)\n",
    "\n",
    "# Convert all_walks to Numpy array: np_aw\n",
    "np_aw = np.array(all_walks)\n",
    "\n",
    "# Plot np_aw and show\n",
    "plt.plot(np_aw)\n",
    "plt.show()\n",
    "\n",
    "# Clear the figure\n",
    "plt.clf()\n",
    "\n",
    "# Transpose np_aw: np_aw_t\n",
    "np_aw_t = np.transpose(np_aw)\n",
    "\n",
    "# Plot np_aw_t and show\n",
    "plt.plot(np_aw_t)\n",
    "plt.show()"
   ]
  },
  {
   "cell_type": "markdown",
   "metadata": {},
   "source": [
    "We can clearly see how the different simulations of the random walk went. Transposing the 2D Numpy array was crucial; otherwise Python misunderstood."
   ]
  },
  {
   "cell_type": "markdown",
   "metadata": {},
   "source": [
    "**Implementing clumsiness**  \n",
    "  \n",
    "With this neatly written code, changing the number of times the random walk should be simulated is super-easy. We update the `range()` function in the top-level `for` loop.\n",
    "\n",
    "There's still something we forgot! We are a bit clumsy and you have a 0.1% chance of falling down. That calls for another random number generation. Basically, we can generate a random float between `0` and `1`. If this value is less than or equal to `0.001`, you should reset step to `0`."
   ]
  },
  {
   "cell_type": "code",
   "execution_count": 28,
   "metadata": {},
   "outputs": [
    {
     "data": {
      "image/png": "[encoded data removed]",
      "text/plain": [
       "<Figure size 432x288 with 1 Axes>"
      ]
     },
     "metadata": {
      "needs_background": "light"
     },
     "output_type": "display_data"
    }
   ],
   "source": [
    "np.random.seed(123)\n",
    "\n",
    "# Simulate random walk 250 times\n",
    "all_walks = []\n",
    "for i in range(250) :\n",
    "    random_walk = [0]\n",
    "    for x in range(100) :\n",
    "        step = random_walk[-1]\n",
    "        dice = np.random.randint(1,7)\n",
    "        if dice <= 2:\n",
    "            step = max(0, step - 1)\n",
    "        elif dice <= 5:\n",
    "            step = step + 1\n",
    "        else:\n",
    "            step = step + np.random.randint(1,7)\n",
    "\n",
    "        # Implement clumsiness\n",
    "        if np.random.rand() <= 0.001 :  # set the rand() without any argument\n",
    "            step = 0\n",
    "\n",
    "        random_walk.append(step)\n",
    "    all_walks.append(random_walk)\n",
    "\n",
    "# Create and plot np_aw_t\n",
    "np_aw_t = np.transpose(np.array(all_walks))\n",
    "plt.plot(np_aw_t)\n",
    "plt.show()"
   ]
  },
  {
   "cell_type": "markdown",
   "metadata": {},
   "source": [
    "In some of the 250 simulations we're indeed taking a deep dive down!  \n",
    "  \n",
    "**Plot the distribution**  \n",
    "  \n",
    "All these fancy visualizations have put us on a sidetrack. We still have to solve the million-dollar problem: What are the odds that you'll reach 60 steps high on the Empire State Building?\n",
    "\n",
    "Basically, you want to know about the end points of all the random walks you've simulated. These end points have a certain distribution that you can visualize with a histogram.\n",
    "\n",
    "Note that if your code is taking too long to run, you might be plotting a histogram of the wrong data!  \n",
    "  \n",
    "* To make sure we've got enough simulations, go crazy. Simulate the random walk 500 times.\n",
    "* From `np_aw_t`, select the last row. This contains the endpoint of all 500 random walks you've simulated. Store this Numpy array as `ends`.\n",
    "* Use p`lt.hist()` to build a histogram of `ends`. Use `plt.show()` to display the plot."
   ]
  },
  {
   "cell_type": "code",
   "execution_count": 29,
   "metadata": {},
   "outputs": [
    {
     "data": {
      "image/png": "[encoded data removed]",
      "text/plain": [
       "<Figure size 432x288 with 1 Axes>"
      ]
     },
     "metadata": {
      "needs_background": "light"
     },
     "output_type": "display_data"
    }
   ],
   "source": [
    "import numpy as np\n",
    "import matplotlib.pyplot as plt\n",
    "np.random.seed(123)\n",
    "\n",
    "# Simulate random walk 500 times\n",
    "all_walks = []\n",
    "for i in range(500) :\n",
    "    random_walk = [0]\n",
    "    for x in range(100) :\n",
    "        step = random_walk[-1]\n",
    "        dice = np.random.randint(1,7)\n",
    "        if dice <= 2:\n",
    "            step = max(0, step - 1)\n",
    "        elif dice <= 5:\n",
    "            step = step + 1\n",
    "        else:\n",
    "            step = step + np.random.randint(1,7)\n",
    "        if np.random.rand() <= 0.001 :\n",
    "            step = 0\n",
    "        random_walk.append(step)\n",
    "    all_walks.append(random_walk)\n",
    "\n",
    "# Create and plot np_aw_t\n",
    "np_aw_t = np.transpose(np.array(all_walks))\n",
    "\n",
    "# Select last row from np_aw_t: ends\n",
    "ends = np_aw_t[-1,:]\n",
    "\n",
    "# Plot histogram of ends, display plot\n",
    "plt.hist(ends)\n",
    "plt.show()"
   ]
  },
  {
   "cell_type": "markdown",
   "metadata": {},
   "source": [
    "Have a look at a histogram; what do we think your chances are?  \n",
    "  \n",
    "**Calculate the odds**  \n",
    "  \n",
    "The histogram of the previous exercise was created from a Numpy array `ends`, that contains 500 integers. Each integer represents the end point of a random walk. To calculate the chance that this end point is greater than or equal to 60, you can count the number of integers in `ends` that are greater than or equal to 60 and divide that number by 500, the total number of simulations.\n",
    "\n",
    "Well then, what's the estimated chance that you'll reach 60 steps high if you play this Empire State Building game? "
   ]
  },
  {
   "cell_type": "code",
   "execution_count": 39,
   "metadata": {},
   "outputs": [
    {
     "name": "stdout",
     "output_type": "stream",
     "text": [
      "500\n",
      "392\n",
      "the chance that this end point is greater or equal to 60 is: 78.4% \n"
     ]
    }
   ],
   "source": [
    "print(len(ends))\n",
    "print(len(ends[ends >= 60]))\n",
    "print(f'the chance that this end point is greater or equal to 60 is: {len(ends[ends >= 60]) / len(ends)*100}% ')"
   ]
  },
  {
   "cell_type": "code",
   "execution_count": 34,
   "metadata": {},
   "outputs": [
    {
     "data": {
      "text/plain": [
       "array([ 70,  94,  82,  66, 107,  72, 116,  65,  78,  87,  81,  75,  70,\n",
       "        77,  88,  74,  64,  63,  70,  93,  98,  70,  70,  72,  71,  78,\n",
       "        78,  79,  71,  83,  71,  63,  94,  72,  63,  74,  61,  61,  79,\n",
       "        91,  66,  70,  80,  89,  91,  61,  83,  71,  68,  74,  85,  68,\n",
       "        88,  64,  84, 114,  61,  65,  78,  63,  61,  90,  96,  83,  77,\n",
       "        80,  71,  87,  73,  85,  84,  76, 105,  98,  63, 112,  81, 101,\n",
       "        74,  77,  81,  97,  90,  66,  63,  91, 101,  81,  64,  95,  83,\n",
       "        99,  75,  75,  61,  97,  94,  76,  82,  86, 122, 110,  91,  94,\n",
       "       106,  74,  75,  93,  64,  76, 100,  66,  98,  94,  72,  85,  66,\n",
       "        69,  78,  81,  87,  75,  80,  97,  75,  67,  78,  87,  87,  80,\n",
       "        80, 108,  83,  76,  73,  75, 116, 106,  78,  76, 103, 101,  80,\n",
       "        73,  66,  93,  92,  63,  89,  72,  94,  79,  63,  88, 109,  88,\n",
       "        95,  74,  70,  80,  89,  77,  83,  72,  65,  87,  80,  67,  65,\n",
       "        70,  86, 104,  69,  76,  76,  64, 102,  66,  71,  73,  83,  75,\n",
       "        71,  84,  66,  79,  73,  76,  84,  73,  99,  69,  83,  86,  81,\n",
       "        77, 100,  87,  75,  80,  98,  64,  75,  77,  62,  98,  89,  66,\n",
       "        88, 108,  71, 116,  87,  63,  88,  77, 107,  67,  67,  71,  78,\n",
       "        64, 108,  93, 100,  65,  97,  74,  70,  79,  66,  82,  87,  71,\n",
       "        86,  68,  80,  61,  67,  69, 110,  95,  63, 117,  72,  71,  99,\n",
       "        72,  81,  69, 103,  89,  63,  61,  78,  65,  64,  84,  85,  69,\n",
       "        65,  77,  70,  89,  78,  69,  69,  81, 107,  70,  83,  90,  94,\n",
       "        63, 101,  82,  76,  84,  91,  79,  83,  94,  73,  71,  67,  95,\n",
       "        68,  97,  95,  72,  75,  78,  93,  87,  71,  74,  70,  92,  81,\n",
       "        90,  73,  66,  97,  76,  64, 100,  76,  94,  80,  63,  71,  86,\n",
       "        81,  95,  64,  69,  69,  87,  64,  93,  82,  89,  68,  82,  75,\n",
       "        74,  82, 101,  75,  89,  61,  68,  72,  70,  77,  83,  81,  85,\n",
       "        91,  73,  80,  70, 127, 110,  77,  82,  88,  98,  86,  67,  66,\n",
       "        72,  92,  75, 109,  61,  78,  77,  98,  62,  67,  68,  69,  65,\n",
       "        96,  67,  91,  95,  71,  86,  84,  73,  73,  67,  62,  69,  76,\n",
       "        78,  88,  80,  80,  91,  65])"
      ]
     },
     "execution_count": 34,
     "metadata": {},
     "output_type": "execute_result"
    }
   ],
   "source": [
    "ends[ends > 60]"
   ]
  },
  {
   "cell_type": "markdown",
   "metadata": {},
   "source": [
    "Seems like we have a pretty high chance of winning the bet.  \n",
    "  \n",
    "The end!"
   ]
  }
 ],
 "metadata": {
  "kernelspec": {
   "display_name": "Python 3",
   "language": "python",
   "name": "python3"
  },
  "language_info": {
   "codemirror_mode": {
    "name": "ipython",
    "version": 3
   },
   "file_extension": ".py",
   "mimetype": "text/x-python",
   "name": "python",
   "nbconvert_exporter": "python",
   "pygments_lexer": "ipython3",
   "version": "3.8.5"
  }
 },
 "nbformat": 4,
 "nbformat_minor": 4
}
