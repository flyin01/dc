{
 "cells": [
  {
   "cell_type": "markdown",
   "metadata": {},
   "source": [
    "# Intermediate Python  \n",
    "1. Matplotlib\n",
    "2. Dictionaries and Pandas\n",
    "3. Logic, Control Flow and Filtering\n",
    "4. Loops\n",
    "5. Case Study: Hacker Stats"
   ]
  },
  {
   "cell_type": "markdown",
   "metadata": {},
   "source": [
    "### 1. Matplotlib  \n",
    "* Visualizations  \n",
    "* Data struccture  \n",
    "* Control strutures  \n",
    "  \n",
    "**Data visualization**  \n",
    "Understand data, explore data, explain data.  \n",
    "  \n",
    "Matplotlib is the mother of all visualization packages."
   ]
  },
  {
   "cell_type": "code",
   "execution_count": 1,
   "metadata": {},
   "outputs": [
    {
     "data": {
      "image/png": "[encoded data removed]",
      "text/plain": [
       "<Figure size 432x288 with 1 Axes>"
      ]
     },
     "metadata": {
      "needs_background": "light"
     },
     "output_type": "display_data"
    }
   ],
   "source": [
    "# create a line plot\n",
    "import matplotlib.pyplot as plt\n",
    "# create two lists or year and world population\n",
    "year = [1950, 1970, 1990, 2010]\n",
    "pop = [2.517, 3.543, 5.432, 6.787]\n",
    "\n",
    "# plot, first argument is x-axis, second is y-axis\n",
    "plt.plot(year,pop) # tells python what to plot\n",
    "plt.show() # show function displays the actual plot"
   ]
  },
  {
   "cell_type": "code",
   "execution_count": 2,
   "metadata": {},
   "outputs": [
    {
     "data": {
      "image/png": "[encoded data removed]",
      "text/plain": [
       "<Figure size 432x288 with 1 Axes>"
      ]
     },
     "metadata": {
      "needs_background": "light"
     },
     "output_type": "display_data"
    }
   ],
   "source": [
    "# scatter plot\n",
    "plt.scatter(year,pop) # function scatter instead of plot\n",
    "plt.show()\n",
    "# Now we see that the plot is built of only 4 observations"
   ]
  },
  {
   "cell_type": "code",
   "execution_count": 4,
   "metadata": {},
   "outputs": [],
   "source": [
    "# create data for rosling graph: gdp_cap, life_exp\n",
    "gdp_cap = [974.5803384,\n",
    " 5937.029525999998,\n",
    " 6223.367465,\n",
    " 4797.231267,\n",
    " 12779.37964,\n",
    " 34435.367439999995,\n",
    " 36126.4927,\n",
    " 29796.04834,\n",
    " 1391.253792,\n",
    " 33692.60508,\n",
    " 1441.284873,\n",
    " 3822.137084,\n",
    " 7446.298803,\n",
    " 12569.85177,\n",
    " 9065.800825,\n",
    " 10680.79282,\n",
    " 1217.032994,\n",
    " 430.0706916,\n",
    " 1713.778686,\n",
    " 2042.09524,\n",
    " 36319.23501,\n",
    " 706.016537,\n",
    " 1704.063724,\n",
    " 13171.63885,\n",
    " 4959.114854,\n",
    " 7006.580419,\n",
    " 986.1478792,\n",
    " 277.5518587,\n",
    " 3632.557798,\n",
    " 9645.06142,\n",
    " 1544.750112,\n",
    " 14619.222719999998,\n",
    " 8948.102923,\n",
    " 22833.30851,\n",
    " 35278.41874,\n",
    " 2082.4815670000007,\n",
    " 6025.3747520000015,\n",
    " 6873.262326000001,\n",
    " 5581.180998,\n",
    " 5728.353514,\n",
    " 12154.08975,\n",
    " 641.3695236000002,\n",
    " 690.8055759,\n",
    " 33207.0844,\n",
    " 30470.0167,\n",
    " 13206.48452,\n",
    " 752.7497265,\n",
    " 32170.37442,\n",
    " 1327.60891,\n",
    " 27538.41188,\n",
    " 5186.050003,\n",
    " 942.6542111,\n",
    " 579.2317429999998,\n",
    " 1201.637154,\n",
    " 3548.3308460000007,\n",
    " 39724.97867,\n",
    " 18008.94444,\n",
    " 36180.78919,\n",
    " 2452.210407,\n",
    " 3540.651564,\n",
    " 11605.71449,\n",
    " 4471.061906,\n",
    " 40675.99635,\n",
    " 25523.2771,\n",
    " 28569.7197,\n",
    " 7320.8802620000015,\n",
    " 31656.06806,\n",
    " 4519.461171,\n",
    " 1463.249282,\n",
    " 1593.06548,\n",
    " 23348.139730000006,\n",
    " 47306.98978,\n",
    " 10461.05868,\n",
    " 1569.331442,\n",
    " 414.5073415,\n",
    " 12057.49928,\n",
    " 1044.770126,\n",
    " 759.3499101,\n",
    " 12451.6558,\n",
    " 1042.581557,\n",
    " 1803.151496,\n",
    " 10956.99112,\n",
    " 11977.57496,\n",
    " 3095.7722710000007,\n",
    " 9253.896111,\n",
    " 3820.17523,\n",
    " 823.6856205,\n",
    " 944.0,\n",
    " 4811.060429,\n",
    " 1091.359778,\n",
    " 36797.93332,\n",
    " 25185.00911,\n",
    " 2749.320965,\n",
    " 619.6768923999998,\n",
    " 2013.977305,\n",
    " 49357.19017,\n",
    " 22316.19287,\n",
    " 2605.94758,\n",
    " 9809.185636,\n",
    " 4172.838464,\n",
    " 7408.905561,\n",
    " 3190.481016,\n",
    " 15389.924680000002,\n",
    " 20509.64777,\n",
    " 19328.70901,\n",
    " 7670.122558,\n",
    " 10808.47561,\n",
    " 863.0884639000002,\n",
    " 1598.435089,\n",
    " 21654.83194,\n",
    " 1712.472136,\n",
    " 9786.534714,\n",
    " 862.5407561000002,\n",
    " 47143.17964,\n",
    " 18678.31435,\n",
    " 25768.25759,\n",
    " 926.1410683,\n",
    " 9269.657808,\n",
    " 28821.0637,\n",
    " 3970.095407,\n",
    " 2602.394995,\n",
    " 4513.480643,\n",
    " 33859.74835,\n",
    " 37506.41907,\n",
    " 4184.548089,\n",
    " 28718.27684,\n",
    " 1107.482182,\n",
    " 7458.396326999998,\n",
    " 882.9699437999999,\n",
    " 18008.50924,\n",
    " 7092.923025,\n",
    " 8458.276384,\n",
    " 1056.380121,\n",
    " 33203.26128,\n",
    " 42951.65309,\n",
    " 10611.46299,\n",
    " 11415.80569,\n",
    " 2441.576404,\n",
    " 3025.349798,\n",
    " 2280.769906,\n",
    " 1271.211593,\n",
    " 469.70929810000007]\n",
    "\n",
    "life_exp = [43.828,\n",
    " 76.423,\n",
    " 72.301,\n",
    " 42.731,\n",
    " 75.32,\n",
    " 81.235,\n",
    " 79.829,\n",
    " 75.635,\n",
    " 64.062,\n",
    " 79.441,\n",
    " 56.728,\n",
    " 65.554,\n",
    " 74.852,\n",
    " 50.728,\n",
    " 72.39,\n",
    " 73.005,\n",
    " 52.295,\n",
    " 49.58,\n",
    " 59.723,\n",
    " 50.43,\n",
    " 80.653,\n",
    " 44.74100000000001,\n",
    " 50.651,\n",
    " 78.553,\n",
    " 72.961,\n",
    " 72.889,\n",
    " 65.152,\n",
    " 46.462,\n",
    " 55.322,\n",
    " 78.782,\n",
    " 48.328,\n",
    " 75.748,\n",
    " 78.273,\n",
    " 76.486,\n",
    " 78.332,\n",
    " 54.791,\n",
    " 72.235,\n",
    " 74.994,\n",
    " 71.33800000000002,\n",
    " 71.878,\n",
    " 51.57899999999999,\n",
    " 58.04,\n",
    " 52.947,\n",
    " 79.313,\n",
    " 80.657,\n",
    " 56.735,\n",
    " 59.448,\n",
    " 79.406,\n",
    " 60.022,\n",
    " 79.483,\n",
    " 70.259,\n",
    " 56.007,\n",
    " 46.38800000000001,\n",
    " 60.916,\n",
    " 70.19800000000001,\n",
    " 82.208,\n",
    " 73.33800000000002,\n",
    " 81.757,\n",
    " 64.69800000000001,\n",
    " 70.65,\n",
    " 70.964,\n",
    " 59.545,\n",
    " 78.885,\n",
    " 80.745,\n",
    " 80.546,\n",
    " 72.567,\n",
    " 82.603,\n",
    " 72.535,\n",
    " 54.11,\n",
    " 67.297,\n",
    " 78.623,\n",
    " 77.58800000000002,\n",
    " 71.993,\n",
    " 42.592,\n",
    " 45.678,\n",
    " 73.952,\n",
    " 59.44300000000001,\n",
    " 48.303,\n",
    " 74.241,\n",
    " 54.467,\n",
    " 64.164,\n",
    " 72.801,\n",
    " 76.195,\n",
    " 66.803,\n",
    " 74.543,\n",
    " 71.164,\n",
    " 42.082,\n",
    " 62.069,\n",
    " 52.90600000000001,\n",
    " 63.785,\n",
    " 79.762,\n",
    " 80.204,\n",
    " 72.899,\n",
    " 56.867,\n",
    " 46.859,\n",
    " 80.196,\n",
    " 75.64,\n",
    " 65.483,\n",
    " 75.53699999999998,\n",
    " 71.752,\n",
    " 71.421,\n",
    " 71.688,\n",
    " 75.563,\n",
    " 78.098,\n",
    " 78.74600000000002,\n",
    " 76.442,\n",
    " 72.476,\n",
    " 46.242,\n",
    " 65.528,\n",
    " 72.777,\n",
    " 63.062,\n",
    " 74.002,\n",
    " 42.56800000000001,\n",
    " 79.972,\n",
    " 74.663,\n",
    " 77.926,\n",
    " 48.159,\n",
    " 49.339,\n",
    " 80.941,\n",
    " 72.396,\n",
    " 58.556,\n",
    " 39.613,\n",
    " 80.884,\n",
    " 81.70100000000002,\n",
    " 74.143,\n",
    " 78.4,\n",
    " 52.517,\n",
    " 70.616,\n",
    " 58.42,\n",
    " 69.819,\n",
    " 73.923,\n",
    " 71.777,\n",
    " 51.542,\n",
    " 79.425,\n",
    " 78.242,\n",
    " 76.384,\n",
    " 73.747,\n",
    " 74.249,\n",
    " 73.422,\n",
    " 62.698,\n",
    " 42.38399999999999,\n",
    " 43.487]"
   ]
  },
  {
   "cell_type": "markdown",
   "metadata": {},
   "source": [
    "**Create a plot for life expectancy vs gdp cap**  \n",
    "* Print the last item from both the list `gdp_cap`, and the list `life_exp`; it is information about Zimbabwe.\n",
    "* Build a line chart, with `gdp_cap` on the x-axis, and `life_exp` on the y-axis. Does it make sense to plot this data on a line plot?"
   ]
  },
  {
   "cell_type": "code",
   "execution_count": 5,
   "metadata": {},
   "outputs": [
    {
     "name": "stdout",
     "output_type": "stream",
     "text": [
      "469.70929810000007\n",
      "43.487\n"
     ]
    },
    {
     "data": {
      "image/png": "[encoded data removed]",
      "text/plain": [
       "<Figure size 432x288 with 1 Axes>"
      ]
     },
     "metadata": {
      "needs_background": "light"
     },
     "output_type": "display_data"
    }
   ],
   "source": [
    "# Print the last item of gdp_cap and life_exp\n",
    "print(gdp_cap[-1])\n",
    "print(life_exp[-1])\n",
    "\n",
    "# Make a line plot, gdp_cap on the x-axis, life_exp on the y-axis\n",
    "plt.plot(gdp_cap,life_exp)\n",
    "\n",
    "# Display the plot\n",
    "plt.show()"
   ]
  },
  {
   "cell_type": "markdown",
   "metadata": {},
   "source": [
    "This plot makes no sense!  \n",
    "  \n",
    "**Scatter Plot 1**  \n",
    "When you have a time scale along the horizontal axis, the line plot is your friend. But in many other cases, when you're trying to assess if there's a correlation between two variables, for example, the scatter plot is the better choice.  \n",
    "  \n",
    "* Change the line plot that's coded in the script to a scatter plot.\n",
    "* A correlation will become clear when you display the GDP per capita on a logarithmic scale. Add the line `plt.xscale('log')`"
   ]
  },
  {
   "cell_type": "code",
   "execution_count": 6,
   "metadata": {},
   "outputs": [
    {
     "data": {
      "image/png": "[encoded data removed]",
      "text/plain": [
       "<Figure size 432x288 with 1 Axes>"
      ]
     },
     "metadata": {
      "needs_background": "light"
     },
     "output_type": "display_data"
    }
   ],
   "source": [
    "# Change the line plot below to a scatter plot\n",
    "plt.scatter(gdp_cap, life_exp)\n",
    "\n",
    "# Put the x-axis on a logarithmic scale\n",
    "plt.xscale('log')\n",
    "\n",
    "# Show plot\n",
    "plt.show()"
   ]
  },
  {
   "cell_type": "markdown",
   "metadata": {},
   "source": [
    "This plot looks much better on log scale."
   ]
  },
  {
   "cell_type": "code",
   "execution_count": 7,
   "metadata": {},
   "outputs": [
    {
     "data": {
      "image/png": "[encoded data removed]",
      "text/plain": [
       "<Figure size 432x288 with 1 Axes>"
      ]
     },
     "metadata": {
      "needs_background": "light"
     },
     "output_type": "display_data"
    }
   ],
   "source": [
    "# Without the log scale as comparison\n",
    "plt.scatter(gdp_cap, life_exp)\n",
    "plt.show()"
   ]
  },
  {
   "cell_type": "markdown",
   "metadata": {},
   "source": [
    "**Histogram**  \n",
    "* Explore dataset\n",
    "* Get idea about distribution of data\n",
    "Use bins to divide the horizontal axis into how many groups data points should be grouped into. Each group will have a bar. You can set the number of bins specifically when creating a histogram using `matplotlib` and `hist()` will automatically find appropriate bounds for all bins and calculate how many values are in each one.  \n",
    "The histogram is usefull for example to see the distribution of population ages and comparing them over time can show how demographics change."
   ]
  },
  {
   "cell_type": "code",
   "execution_count": 7,
   "metadata": {},
   "outputs": [],
   "source": [
    "import matplotlib.pyplot as plt"
   ]
  },
  {
   "cell_type": "code",
   "execution_count": 9,
   "metadata": {},
   "outputs": [],
   "source": [
    "# help(plt.hist)"
   ]
  },
  {
   "cell_type": "code",
   "execution_count": 9,
   "metadata": {},
   "outputs": [
    {
     "data": {
      "image/png": "[encoded data removed]",
      "text/plain": [
       "<Figure size 432x288 with 1 Axes>"
      ]
     },
     "metadata": {
      "needs_background": "light"
     },
     "output_type": "display_data"
    }
   ],
   "source": [
    "values = [0,0.6,1.3,1.5,2.2,2.6,2.5,3.1,3.5,3.8,4.3,6]\n",
    "# specify the input x and bins\n",
    "plt.hist(values, bins = 5)\n",
    "plt.show()"
   ]
  },
  {
   "cell_type": "markdown",
   "metadata": {},
   "source": [
    "**Build a histogram (1)**  \n",
    "  \n",
    "To see how life expectancy in different countries is distributed, let's create a histogram of `life_exp` using `matplotlib.pyplot`.  \n",
    "  \n",
    "* Use `plt.hist()` to create a histogram of the values in `life_exp`. Do not specify the number of bins; Python will set the number of bins to 10 by default for you.\n",
    "* Add `plt.show()` to actually display the histogram. Can you tell which bin contains the most observations?"
   ]
  },
  {
   "cell_type": "code",
   "execution_count": 13,
   "metadata": {},
   "outputs": [
    {
     "data": {
      "image/png": "[encoded data removed]",
      "text/plain": [
       "<Figure size 432x288 with 1 Axes>"
      ]
     },
     "metadata": {
      "needs_background": "light"
     },
     "output_type": "display_data"
    }
   ],
   "source": [
    "plt.hist(life_exp)\n",
    "plt.show()"
   ]
  },
  {
   "cell_type": "markdown",
   "metadata": {},
   "source": [
    "To control the number of bins to divide your data in, you can set the bins argument.\n",
    "\n",
    "We will be making two plots here. `plt.show()` displays a plot; `plt.clf()` cleans it up again so you can start afresh."
   ]
  },
  {
   "cell_type": "code",
   "execution_count": 14,
   "metadata": {},
   "outputs": [
    {
     "data": {
      "image/png": "[encoded data removed]",
      "text/plain": [
       "<Figure size 432x288 with 1 Axes>"
      ]
     },
     "metadata": {
      "needs_background": "light"
     },
     "output_type": "display_data"
    },
    {
     "data": {
      "image/png": "[encoded data removed]",
      "text/plain": [
       "<Figure size 432x288 with 1 Axes>"
      ]
     },
     "metadata": {
      "needs_background": "light"
     },
     "output_type": "display_data"
    },
    {
     "data": {
      "text/plain": [
       "<Figure size 432x288 with 0 Axes>"
      ]
     },
     "metadata": {},
     "output_type": "display_data"
    }
   ],
   "source": [
    "# build a histogram with 5 bins\n",
    "plt.hist(life_exp, bins=5)\n",
    "\n",
    "# Show and clean up plot\n",
    "plt.show()\n",
    "plt.clf()\n",
    "\n",
    "# Build a histogram with 20 bins\n",
    "plt.hist(life_exp, bins=20)\n",
    "\n",
    "# Show and clean up plot\n",
    "plt.show()\n",
    "plt.clf()\n"
   ]
  },
  {
   "cell_type": "markdown",
   "metadata": {},
   "source": [
    "Split data into two sets and create two histograms, one for each group, and display them in the same plot."
   ]
  },
  {
   "cell_type": "code",
   "execution_count": 19,
   "metadata": {},
   "outputs": [
    {
     "name": "stdout",
     "output_type": "stream",
     "text": [
      "nbr of rows: 142\n"
     ]
    },
    {
     "data": {
      "image/png": "[encoded data removed]",
      "text/plain": [
       "<Figure size 432x288 with 1 Axes>"
      ]
     },
     "metadata": {
      "needs_background": "light"
     },
     "output_type": "display_data"
    },
    {
     "data": {
      "text/plain": [
       "<Figure size 432x288 with 0 Axes>"
      ]
     },
     "metadata": {},
     "output_type": "display_data"
    }
   ],
   "source": [
    "print('nbr of rows:', len(life_exp))\n",
    "\n",
    "life_expA = life_exp[:71]\n",
    "life_expB = life_exp[71:]\n",
    "\n",
    "# Histogram of life_exp, 15 bins\n",
    "plt.hist(life_expA, bins=15)\n",
    "\n",
    "# Histogram of life_exp1950, 15 bins\n",
    "plt.hist(life_expB, bins=15)\n",
    "\n",
    "# Show and clear plot again\n",
    "plt.show()\n",
    "plt.clf()"
   ]
  },
  {
   "cell_type": "markdown",
   "metadata": {},
   "source": [
    "**Customization**  \n",
    "Create a plot is one thing, the real challenge is to make a really usefull plot.  \n",
    "  \n",
    "**Data visualization**  \n",
    "* Many options\n",
    " * different plot types\n",
    " * many customizations\n",
    "* Choice depends on  \n",
    " * data\n",
    " * story we want to tell"
   ]
  },
  {
   "cell_type": "code",
   "execution_count": 20,
   "metadata": {},
   "outputs": [
    {
     "data": {
      "text/plain": [
       "[<matplotlib.lines.Line2D at 0x1d77287cfd0>]"
      ]
     },
     "execution_count": 20,
     "metadata": {},
     "output_type": "execute_result"
    },
    {
     "data": {
      "image/png": "[encoded data removed]",
      "text/plain": [
       "<Figure size 432x288 with 1 Axes>"
      ]
     },
     "metadata": {
      "needs_background": "light"
     },
     "output_type": "display_data"
    }
   ],
   "source": [
    "# same example\n",
    "plt.plot(year, pop)"
   ]
  },
  {
   "cell_type": "markdown",
   "metadata": {},
   "source": [
    "We should add the following information to the plot  \n",
    "* Label axis using `xlabel()` and `ylabel()` functions\n",
    "* Add title to the plot using `title()` function  \n",
    "* Ticks, e.g have y-axis start from `0` using `yticks()` function with a list as argument.  \n",
    "This will help us to create a clearer plot!"
   ]
  },
  {
   "cell_type": "code",
   "execution_count": 21,
   "metadata": {},
   "outputs": [
    {
     "data": {
      "image/png": "[encoded data removed]",
      "text/plain": [
       "<Figure size 432x288 with 1 Axes>"
      ]
     },
     "metadata": {
      "needs_background": "light"
     },
     "output_type": "display_data"
    }
   ],
   "source": [
    "# add some data from wikipedia\n",
    "year = [1800,1850,1900] + year\n",
    "pop = [1.0, 1.262, 1.650] + pop\n",
    "\n",
    "plt.plot(year, pop)\n",
    "\n",
    "# add labels with values as strings that describe what we are looking at\n",
    "plt.xlabel('Year')\n",
    "plt.ylabel('Population')\n",
    "plt.title('World Population') # Add title\n",
    "plt.yticks([0,2,4,6,8],                  # Make y-axis start from zero\n",
    "           ['0','2 B','4 B','6 B','8 B'])    # Add display names of the ticks, same name as the first list\n",
    "\n",
    "plt.show()"
   ]
  },
  {
   "cell_type": "markdown",
   "metadata": {},
   "source": [
    "**Labels**  \n",
    "  \n",
    "Using the `gdp_cap`and `life_exp` data.  \n",
    "* The strings xlab and ylab are already set for you. Use these variables to set the label of the x- and y-axis.\n",
    "* The string title is also coded for you. Use it to add a title to the plot.\n",
    "* Use `tick_val` and `tick_lab` as inputs to the `xticks()` function to make the the plot more readable.\n",
    "* After these customizations, with `plt.show()` to actually display the plot.  "
   ]
  },
  {
   "cell_type": "code",
   "execution_count": 22,
   "metadata": {},
   "outputs": [
    {
     "data": {
      "image/png": "[encoded data removed]",
      "text/plain": [
       "<Figure size 432x288 with 1 Axes>"
      ]
     },
     "metadata": {
      "needs_background": "light"
     },
     "output_type": "display_data"
    }
   ],
   "source": [
    "# Basic scatter plot, log scale\n",
    "plt.scatter(gdp_cap, life_exp)\n",
    "plt.xscale('log') \n",
    "\n",
    "# Strings\n",
    "xlab = 'GDP per Capita [in USD]'\n",
    "ylab = 'Life Expectancy [in years]'\n",
    "title = 'World Development in 2007'\n",
    "\n",
    "# Add axis labels\n",
    "plt.xlabel(xlab)\n",
    "plt.ylabel(ylab)\n",
    "\n",
    "# Definition of tick_val and tick_lab\n",
    "tick_val = [1000, 10000, 100000]\n",
    "tick_lab = ['1k', '10k', '100k']\n",
    "\n",
    "# Adapt ticks on the x-axis\n",
    "plt.xticks(tick_val, tick_lab)\n",
    "\n",
    "# Add title\n",
    "plt.title(title)\n",
    "\n",
    "# After customizing, display the plot\n",
    "plt.show()"
   ]
  },
  {
   "cell_type": "code",
   "execution_count": 23,
   "metadata": {},
   "outputs": [],
   "source": [
    "# add pop for size\n",
    "\n",
    "import numpy as np\n",
    "\n",
    "pop = [31.889923,\n",
    " 3.600523,\n",
    " 33.333216,\n",
    " 12.420476,\n",
    " 40.301927,\n",
    " 20.434176,\n",
    " 8.199783,\n",
    " 0.708573,\n",
    " 150.448339,\n",
    " 10.392226,\n",
    " 8.078314,\n",
    " 9.119152,\n",
    " 4.552198,\n",
    " 1.639131,\n",
    " 190.010647,\n",
    " 7.322858,\n",
    " 14.326203,\n",
    " 8.390505,\n",
    " 14.131858,\n",
    " 17.696293,\n",
    " 33.390141,\n",
    " 4.369038,\n",
    " 10.238807,\n",
    " 16.284741,\n",
    " 1318.683096,\n",
    " 44.22755,\n",
    " 0.71096,\n",
    " 64.606759,\n",
    " 3.80061,\n",
    " 4.133884,\n",
    " 18.013409,\n",
    " 4.493312,\n",
    " 11.416987,\n",
    " 10.228744,\n",
    " 5.46812,\n",
    " 0.496374,\n",
    " 9.319622,\n",
    " 13.75568,\n",
    " 80.264543,\n",
    " 6.939688,\n",
    " 0.551201,\n",
    " 4.906585,\n",
    " 76.511887,\n",
    " 5.23846,\n",
    " 61.083916,\n",
    " 1.454867,\n",
    " 1.688359,\n",
    " 82.400996,\n",
    " 22.873338,\n",
    " 10.70629,\n",
    " 12.572928,\n",
    " 9.947814,\n",
    " 1.472041,\n",
    " 8.502814,\n",
    " 7.483763,\n",
    " 6.980412,\n",
    " 9.956108,\n",
    " 0.301931,\n",
    " 1110.396331,\n",
    " 223.547,\n",
    " 69.45357,\n",
    " 27.499638,\n",
    " 4.109086,\n",
    " 6.426679,\n",
    " 58.147733,\n",
    " 2.780132,\n",
    " 127.467972,\n",
    " 6.053193,\n",
    " 35.610177,\n",
    " 23.301725,\n",
    " 49.04479,\n",
    " 2.505559,\n",
    " 3.921278,\n",
    " 2.012649,\n",
    " 3.193942,\n",
    " 6.036914,\n",
    " 19.167654,\n",
    " 13.327079,\n",
    " 24.821286,\n",
    " 12.031795,\n",
    " 3.270065,\n",
    " 1.250882,\n",
    " 108.700891,\n",
    " 2.874127,\n",
    " 0.684736,\n",
    " 33.757175,\n",
    " 19.951656,\n",
    " 47.76198,\n",
    " 2.05508,\n",
    " 28.90179,\n",
    " 16.570613,\n",
    " 4.115771,\n",
    " 5.675356,\n",
    " 12.894865,\n",
    " 135.031164,\n",
    " 4.627926,\n",
    " 3.204897,\n",
    " 169.270617,\n",
    " 3.242173,\n",
    " 6.667147,\n",
    " 28.674757,\n",
    " 91.077287,\n",
    " 38.518241,\n",
    " 10.642836,\n",
    " 3.942491,\n",
    " 0.798094,\n",
    " 22.276056,\n",
    " 8.860588,\n",
    " 0.199579,\n",
    " 27.601038,\n",
    " 12.267493,\n",
    " 10.150265,\n",
    " 6.144562,\n",
    " 4.553009,\n",
    " 5.447502,\n",
    " 2.009245,\n",
    " 9.118773,\n",
    " 43.997828,\n",
    " 40.448191,\n",
    " 20.378239,\n",
    " 42.292929,\n",
    " 1.133066,\n",
    " 9.031088,\n",
    " 7.554661,\n",
    " 19.314747,\n",
    " 23.174294,\n",
    " 38.13964,\n",
    " 65.068149,\n",
    " 5.701579,\n",
    " 1.056608,\n",
    " 10.276158,\n",
    " 71.158647,\n",
    " 29.170398,\n",
    " 60.776238,\n",
    " 301.139947,\n",
    " 3.447496,\n",
    " 26.084662,\n",
    " 85.262356,\n",
    " 4.018332,\n",
    " 22.211743,\n",
    " 11.746035,\n",
    " 12.311143]\n",
    "\n",
    "np_pop = np.array(pop)"
   ]
  },
  {
   "cell_type": "markdown",
   "metadata": {},
   "source": [
    "**Sizes**  \n",
    "Add size of the dots that corresponds to the populations by using `pop` list from above and use the `s` argument to the `scatter` method.  \n",
    "  \n",
    "* Double the values in `np_pop` setting the value of `np_pop` equal to `np_pop * 2`. Because np_pop is a Numpy array, each array element will be doubled.\n",
    "* Change the `s` argument inside `plt.scatter()` to be `np_pop` instead of `pop`."
   ]
  },
  {
   "cell_type": "code",
   "execution_count": 24,
   "metadata": {},
   "outputs": [
    {
     "data": {
      "image/png": "[encoded data removed]",
      "text/plain": [
       "<Figure size 432x288 with 1 Axes>"
      ]
     },
     "metadata": {
      "needs_background": "light"
     },
     "output_type": "display_data"
    }
   ],
   "source": [
    "# Double np_pop\n",
    "np_pop = np_pop * 2\n",
    "\n",
    "# Update: set s argument to np_pop\n",
    "plt.scatter(gdp_cap, life_exp, s = np_pop)\n",
    "\n",
    "# Previous customizations\n",
    "plt.xscale('log') \n",
    "plt.xlabel('GDP per Capita [in USD]')\n",
    "plt.ylabel('Life Expectancy [in years]')\n",
    "plt.title('World Development in 2007')\n",
    "plt.xticks([1000, 10000, 100000],['1k', '10k', '100k'])\n",
    "\n",
    "# Display the plot\n",
    "plt.show()"
   ]
  },
  {
   "cell_type": "code",
   "execution_count": 25,
   "metadata": {},
   "outputs": [],
   "source": [
    "# add col for color\n",
    "\n",
    "col = ['red',\n",
    " 'green',\n",
    " 'blue',\n",
    " 'blue',\n",
    " 'yellow',\n",
    " 'black',\n",
    " 'green',\n",
    " 'red',\n",
    " 'red',\n",
    " 'green',\n",
    " 'blue',\n",
    " 'yellow',\n",
    " 'green',\n",
    " 'blue',\n",
    " 'yellow',\n",
    " 'green',\n",
    " 'blue',\n",
    " 'blue',\n",
    " 'red',\n",
    " 'blue',\n",
    " 'yellow',\n",
    " 'blue',\n",
    " 'blue',\n",
    " 'yellow',\n",
    " 'red',\n",
    " 'yellow',\n",
    " 'blue',\n",
    " 'blue',\n",
    " 'blue',\n",
    " 'yellow',\n",
    " 'blue',\n",
    " 'green',\n",
    " 'yellow',\n",
    " 'green',\n",
    " 'green',\n",
    " 'blue',\n",
    " 'yellow',\n",
    " 'yellow',\n",
    " 'blue',\n",
    " 'yellow',\n",
    " 'blue',\n",
    " 'blue',\n",
    " 'blue',\n",
    " 'green',\n",
    " 'green',\n",
    " 'blue',\n",
    " 'blue',\n",
    " 'green',\n",
    " 'blue',\n",
    " 'green',\n",
    " 'yellow',\n",
    " 'blue',\n",
    " 'blue',\n",
    " 'yellow',\n",
    " 'yellow',\n",
    " 'red',\n",
    " 'green',\n",
    " 'green',\n",
    " 'red',\n",
    " 'red',\n",
    " 'red',\n",
    " 'red',\n",
    " 'green',\n",
    " 'red',\n",
    " 'green',\n",
    " 'yellow',\n",
    " 'red',\n",
    " 'red',\n",
    " 'blue',\n",
    " 'red',\n",
    " 'red',\n",
    " 'red',\n",
    " 'red',\n",
    " 'blue',\n",
    " 'blue',\n",
    " 'blue',\n",
    " 'blue',\n",
    " 'blue',\n",
    " 'red',\n",
    " 'blue',\n",
    " 'blue',\n",
    " 'blue',\n",
    " 'yellow',\n",
    " 'red',\n",
    " 'green',\n",
    " 'blue',\n",
    " 'blue',\n",
    " 'red',\n",
    " 'blue',\n",
    " 'red',\n",
    " 'green',\n",
    " 'black',\n",
    " 'yellow',\n",
    " 'blue',\n",
    " 'blue',\n",
    " 'green',\n",
    " 'red',\n",
    " 'red',\n",
    " 'yellow',\n",
    " 'yellow',\n",
    " 'yellow',\n",
    " 'red',\n",
    " 'green',\n",
    " 'green',\n",
    " 'yellow',\n",
    " 'blue',\n",
    " 'green',\n",
    " 'blue',\n",
    " 'blue',\n",
    " 'red',\n",
    " 'blue',\n",
    " 'green',\n",
    " 'blue',\n",
    " 'red',\n",
    " 'green',\n",
    " 'green',\n",
    " 'blue',\n",
    " 'blue',\n",
    " 'green',\n",
    " 'red',\n",
    " 'blue',\n",
    " 'blue',\n",
    " 'green',\n",
    " 'green',\n",
    " 'red',\n",
    " 'red',\n",
    " 'blue',\n",
    " 'red',\n",
    " 'blue',\n",
    " 'yellow',\n",
    " 'blue',\n",
    " 'green',\n",
    " 'blue',\n",
    " 'green',\n",
    " 'yellow',\n",
    " 'yellow',\n",
    " 'yellow',\n",
    " 'red',\n",
    " 'red',\n",
    " 'red',\n",
    " 'blue',\n",
    " 'blue']"
   ]
  },
  {
   "cell_type": "markdown",
   "metadata": {},
   "source": [
    "**Colours**  \n",
    "We can add some colours to the plot using the `col`data.  \n",
    "  \n",
    "* Add `c = col` to the arguments of the `plt.scatter()` function.\n",
    "* Change the opacity of the bubbles by setting the `alpha` argument to `0.8` inside `plt.scatter()`. Alpha can be set from zero to one, where zero is totally transparent, and one is not at all transparent.  \n",
    "* Add `plt.grid(True)` after the `plt.text()` calls so that gridlines are drawn on the plot."
   ]
  },
  {
   "cell_type": "code",
   "execution_count": 26,
   "metadata": {},
   "outputs": [
    {
     "data": {
      "image/png": "[encoded data removed]",
      "text/plain": [
       "<Figure size 432x288 with 1 Axes>"
      ]
     },
     "metadata": {
      "needs_background": "light"
     },
     "output_type": "display_data"
    }
   ],
   "source": [
    "# Specify c and alpha inside plt.scatter()\n",
    "plt.scatter(x = gdp_cap, y = life_exp, s = np.array(pop) * 2, c = col, alpha = .8)\n",
    "\n",
    "# Previous customizations\n",
    "plt.xscale('log') \n",
    "plt.xlabel('GDP per Capita [in USD]')\n",
    "plt.ylabel('Life Expectancy [in years]')\n",
    "plt.title('World Development in 2007')\n",
    "plt.xticks([1000,10000,100000], ['1k','10k','100k'])\n",
    "\n",
    "# Additional customizations\n",
    "plt.text(1550, 71, 'India')\n",
    "plt.text(5700, 80, 'China')\n",
    "\n",
    "# Add grid() call\n",
    "plt.grid(True)\n",
    "\n",
    "# Show the plot\n",
    "plt.show()"
   ]
  },
  {
   "cell_type": "markdown",
   "metadata": {},
   "source": [
    "A visualization only makes sense if you can interpret it properly. We do that next!  \n",
    "  \n",
    "**Interpretation**  \n",
    "If you have a look at your colorful plot, it's clear that people live longer in countries with a higher GDP per capita. No high income countries have really short life expectancy, and no low income countries have very long life expectancy. Still, there is a huge difference in life expectancy between countries on the same income level. Most people live in middle income countries where difference in lifespan is huge between countries; depending on how income is distributed and how it is used.\n",
    "  \n",
    "What can you say about the plot?  \n",
    "**A**: The countries in blue, corresponding to Africa, have both low life expectancy and a low GDP per capita.  \n",
    "B: There is a negative correlation between GDP per capita and life expectancy.  \n",
    "C: China has both a lower GDP per capita and lower life expectancy compared to India.  "
   ]
  },
  {
   "cell_type": "markdown",
   "metadata": {},
   "source": [
    "### 2. Dictionaries and Pandas  \n",
    "  \n",
    "**Dictionaries, part 1**  \n",
    "Dictionaries are so usefull in the data world. Compare the below approach for storing population per country using two lists and then subsetting them to get the population of a specific country (this is quite a terrible approach).  \n",
    "  \n",
    "List vs Dictionary"
   ]
  },
  {
   "cell_type": "code",
   "execution_count": 27,
   "metadata": {},
   "outputs": [
    {
     "data": {
      "text/plain": [
       "1"
      ]
     },
     "execution_count": 27,
     "metadata": {},
     "output_type": "execute_result"
    }
   ],
   "source": [
    "# List\n",
    "pop = [30.5, 2.78, 39.23]\n",
    "countries = [\"afghanistan\",\"albania\",\"algeria\"]\n",
    "\n",
    "# use index method to get the population of e.g albania\n",
    "ind_alb = countries.index(\"albania\")\n",
    "ind_alb"
   ]
  },
  {
   "cell_type": "code",
   "execution_count": 28,
   "metadata": {},
   "outputs": [
    {
     "data": {
      "text/plain": [
       "2.78"
      ]
     },
     "execution_count": 28,
     "metadata": {},
     "output_type": "execute_result"
    }
   ],
   "source": [
    "# then subset the pop list with the index\n",
    "pop[ind_alb]"
   ]
  },
  {
   "cell_type": "markdown",
   "metadata": {},
   "source": [
    "* Not convenient\n",
    "* Not intuitive  \n",
    "  \n",
    "Would it not be easier if we could connect each country to its population without using an index?  \n",
    "This is where the dictionary comes into play!  \n",
    "  \n",
    "**Dictionary**  \n",
    "We use curly brackets `{}`  \n",
    "Inside these brackets we have `key-value pairs`.  \n",
    "In our case keys are the country names and population are the values.  "
   ]
  },
  {
   "cell_type": "code",
   "execution_count": 29,
   "metadata": {},
   "outputs": [
    {
     "data": {
      "text/plain": [
       "2.78"
      ]
     },
     "execution_count": 29,
     "metadata": {},
     "output_type": "execute_result"
    }
   ],
   "source": [
    "# create a dict world\n",
    "world = {\"afghanistan\":30.5, \"albania\":2.78, \"algeria\":39.23}\n",
    "\n",
    "world[\"albania\"] # We pass the key in the squared brackets and we get the corresponding value\n",
    "# python can make the look up of these keys fast even for huge dictionaries, which makes it very efficient!"
   ]
  },
  {
   "cell_type": "markdown",
   "metadata": {},
   "source": [
    "**Motivation for dictionaries**  \n",
    "To see why dictionaries are useful, have a look at the two lists defined in the script. `countries` contains the names of some European countries. `capitals` lists the corresponding names of their capital.  \n",
    "  \n",
    "* Use the `index()` method on `countries` to find the index of `'germany'`. Store this index as `ind_ger`.\n",
    "* Use `ind_ger` to access the capital of Germany from the `capitals` list. Print it out."
   ]
  },
  {
   "cell_type": "code",
   "execution_count": 30,
   "metadata": {},
   "outputs": [
    {
     "name": "stdout",
     "output_type": "stream",
     "text": [
      "berlin\n"
     ]
    }
   ],
   "source": [
    "# Definition of countries and capital\n",
    "countries = ['spain', 'france', 'germany', 'norway']\n",
    "capitals = ['madrid', 'paris', 'berlin', 'oslo']\n",
    "\n",
    "# Get index of 'germany': ind_ger\n",
    "ind_ger = countries.index('germany')\n",
    "\n",
    "# Use ind_ger to print out capital of Germany\n",
    "print(capitals[ind_ger])"
   ]
  },
  {
   "cell_type": "markdown",
   "metadata": {},
   "source": [
    "**Create dictionary**  \n",
    "The `countries` and `capitals` lists are again available in the script. It's your job to convert this data to a dictionary where the country names are the keys and the capitals are the corresponding values. As a refresher, here is a recipe for creating a dictionary:\n",
    "\n",
    "`my_dict = {\n",
    "   \"key1\":\"value1\",\n",
    "   \"key2\":\"value2\",\n",
    "}`\n",
    "\n",
    "In this recipe, both the keys and the values are strings. This will also be the case for this exercise.  \n",
    "  \n",
    "* With the strings in `countries` and `capitals`, create a dictionary called `europe` with 4 key:value pairs. Beware of capitalization! Make sure you use lowercase characters everywhere.\n",
    "* Print out `europe` to see if the result is what you expected."
   ]
  },
  {
   "cell_type": "code",
   "execution_count": 33,
   "metadata": {},
   "outputs": [
    {
     "name": "stdout",
     "output_type": "stream",
     "text": [
      "{'spain': 'madrid', 'france': 'paris', 'germany': 'berlin', 'norway': 'oslo'}\n"
     ]
    }
   ],
   "source": [
    "# Definition of countries and capital\n",
    "countries = ['spain', 'france', 'germany', 'norway']\n",
    "capitals = ['madrid', 'paris', 'berlin', 'oslo']\n",
    "\n",
    "# From string in countries and capitals, create dictionary europe\n",
    "europe = { 'spain':'madrid', 'france':'paris', 'germany':'berlin', 'norway':'oslo' }\n",
    "\n",
    "# Print europe\n",
    "print(europe)"
   ]
  },
  {
   "cell_type": "markdown",
   "metadata": {},
   "source": [
    "**Access dictionary**  \n",
    "If the keys of a dictionary are chosen wisely, accessing the values in a dictionary is easy and intuitive. For example, to get the capital for France from `europe` you can use:\n",
    "\n",
    "`europe['france']`\n",
    "Here, `'france'` is the key and `'paris'` the value is returned.  \n",
    "  \n",
    "* Check out which keys are in `europe` by calling the `keys()` method on `europe`. Print out the result.\n",
    "* Print out the value that belongs to the key `'norway'`."
   ]
  },
  {
   "cell_type": "code",
   "execution_count": 34,
   "metadata": {},
   "outputs": [
    {
     "name": "stdout",
     "output_type": "stream",
     "text": [
      "dict_keys(['spain', 'france', 'germany', 'norway'])\n",
      "oslo\n"
     ]
    }
   ],
   "source": [
    "# Definition of dictionary\n",
    "europe = {'spain':'madrid', 'france':'paris', 'germany':'berlin', 'norway':'oslo' }\n",
    "\n",
    "# Print out the keys in europe\n",
    "print(europe.keys())\n",
    "\n",
    "# Print out value that belongs to key 'norway'\n",
    "print(europe['norway'])"
   ]
  },
  {
   "cell_type": "markdown",
   "metadata": {},
   "source": [
    "**Dictionaries, part 1**  \n",
    "* Keys have to be \"immutable\" objects.  \n",
    " Strings, booleans, integers, floats cannot be changes efter they are created. But lists are mutable."
   ]
  },
  {
   "cell_type": "code",
   "execution_count": 36,
   "metadata": {},
   "outputs": [
    {
     "ename": "TypeError",
     "evalue": "unhashable type: 'list'",
     "output_type": "error",
     "traceback": [
      "\u001b[1;31m---------------------------------------------------------------------------\u001b[0m",
      "\u001b[1;31mTypeError\u001b[0m                                 Traceback (most recent call last)",
      "\u001b[1;32m<ipython-input-36-2269382864aa>\u001b[0m in \u001b[0;36m<module>\u001b[1;34m\u001b[0m\n\u001b[0;32m      3\u001b[0m \u001b[1;33m\u001b[0m\u001b[0m\n\u001b[0;32m      4\u001b[0m \u001b[1;31m# not valid, since it uses a list as a key\u001b[0m\u001b[1;33m\u001b[0m\u001b[1;33m\u001b[0m\u001b[1;33m\u001b[0m\u001b[0m\n\u001b[1;32m----> 5\u001b[1;33m \u001b[1;33m{\u001b[0m\u001b[1;33m[\u001b[0m\u001b[1;34m\"just\"\u001b[0m\u001b[1;33m,\u001b[0m \u001b[1;34m\"to\"\u001b[0m\u001b[1;33m,\u001b[0m \u001b[1;34m\"test\"\u001b[0m\u001b[1;33m]\u001b[0m\u001b[1;33m:\u001b[0m \u001b[1;34m\"value\"\u001b[0m\u001b[1;33m}\u001b[0m\u001b[1;33m\u001b[0m\u001b[1;33m\u001b[0m\u001b[0m\n\u001b[0m",
      "\u001b[1;31mTypeError\u001b[0m: unhashable type: 'list'"
     ]
    }
   ],
   "source": [
    "# valid dict\n",
    "{0:\"hello\", True:\"dear\", \"two\":\"world\"}\n",
    "\n",
    "# not valid, since it uses a list as a key\n",
    "{[\"just\", \"to\", \"test\"]: \"value\"}"
   ]
  },
  {
   "cell_type": "markdown",
   "metadata": {},
   "source": [
    "Now we can add more information to a dict.  \n",
    "  \n",
    "**Adding Sealand to world dict**"
   ]
  },
  {
   "cell_type": "code",
   "execution_count": 35,
   "metadata": {},
   "outputs": [
    {
     "name": "stdout",
     "output_type": "stream",
     "text": [
      "{'afghanistan': 30.5, 'albania': 2.78, 'algeria': 39.23, 'sealand': 2.8e-05}\n"
     ]
    },
    {
     "data": {
      "text/plain": [
       "True"
      ]
     },
     "execution_count": 35,
     "metadata": {},
     "output_type": "execute_result"
    }
   ],
   "source": [
    "# create a dict world\n",
    "world = {\"afghanistan\":30.5, \"albania\":2.78, \"algeria\":39.23}\n",
    "\n",
    "# add sealand\n",
    "world[\"sealand\"] = 0.000028\n",
    "print(world)\n",
    "\n",
    "\"sealand\" in world # gives true, if key sealand is in the dict"
   ]
  },
  {
   "cell_type": "markdown",
   "metadata": {},
   "source": [
    "Because each key in a dict is unique, we can update the value and python knows that we are not trying to create a new pair. But want to update the pair that is already there."
   ]
  },
  {
   "cell_type": "code",
   "execution_count": 36,
   "metadata": {},
   "outputs": [
    {
     "name": "stdout",
     "output_type": "stream",
     "text": [
      "{'afghanistan': 30.5, 'albania': 2.78, 'algeria': 39.23, 'sealand': 3.8e-05}\n"
     ]
    }
   ],
   "source": [
    "# update sealand\n",
    "world[\"sealand\"] = 0.000038\n",
    "print(world)"
   ]
  },
  {
   "cell_type": "code",
   "execution_count": 37,
   "metadata": {},
   "outputs": [
    {
     "data": {
      "text/plain": [
       "{'afghanistan': 30.5, 'albania': 2.78, 'algeria': 39.23}"
      ]
     },
     "execution_count": 37,
     "metadata": {},
     "output_type": "execute_result"
    }
   ],
   "source": [
    "#remove sealand from dict\n",
    "del(world[\"sealand\"])\n",
    "world"
   ]
  },
  {
   "cell_type": "markdown",
   "metadata": {},
   "source": [
    "**List vs Dictionary**  \n",
    "LIST | Dictionary\n",
    "Select, update and remove: [] | Select, update and remove: []  \n",
    "Indexed by range of numbers | Indexed by unique keys  \n",
    "When to use which?  \n",
    "Collection of values order matters select entire subsets | Lookup table with unique keys  \n",
    "  \n",
    "**Dictionary Manipulation (1)**  \n",
    "If you know how to access a dictionary, you can also assign a new value to it. To add a new key-value pair to europe you can use something like this:  \n",
    "  \n",
    "`europe['iceland'] = 'reykjavik'`  \n",
    "  \n",
    "* Add the key `'italy'` with the value `'rome'` to `europe`.\n",
    "* To assert that `'italy'` is now a key in `europe`, print out `'italy' in europe`.\n",
    "* Add another key:value pair to `europe`: `'poland'` is the key, `'warsaw'` is the corresponding value.\n",
    "* Print out `europe`"
   ]
  },
  {
   "cell_type": "code",
   "execution_count": 38,
   "metadata": {},
   "outputs": [
    {
     "name": "stdout",
     "output_type": "stream",
     "text": [
      "True\n",
      "{'spain': 'madrid', 'france': 'paris', 'germany': 'berlin', 'norway': 'oslo', 'italy': 'rome', 'poland': 'warsaw'}\n"
     ]
    }
   ],
   "source": [
    "# Definition of dictionary\n",
    "europe = {'spain':'madrid', 'france':'paris', 'germany':'berlin', 'norway':'oslo' }\n",
    "\n",
    "# Add italy to europe\n",
    "europe['italy'] = 'rome'\n",
    "\n",
    "# Print out italy in europe\n",
    "print('italy' in europe)\n",
    "\n",
    "# Add poland to europe\n",
    "europe['poland'] = 'warsaw'\n",
    "\n",
    "# Print europe\n",
    "print(europe)"
   ]
  },
  {
   "cell_type": "markdown",
   "metadata": {},
   "source": [
    "Europe is growing by the minute! Did you notice that the order of the printout is not the same as the order in the dictionary's definition? That's because dictionaries are inherently unordered."
   ]
  },
  {
   "cell_type": "code",
   "execution_count": 39,
   "metadata": {},
   "outputs": [
    {
     "name": "stdout",
     "output_type": "stream",
     "text": [
      "{'spain': 'madrid', 'france': 'paris', 'germany': 'berlin', 'norway': 'oslo', 'italy': 'rome', 'poland': 'warsaw'}\n"
     ]
    }
   ],
   "source": [
    "# Definition of dictionary\n",
    "europe = {'spain':'madrid', 'france':'paris', 'germany':'bonn',\n",
    "          'norway':'oslo', 'italy':'rome', 'poland':'warsaw',\n",
    "          'australia':'vienna' }\n",
    "\n",
    "# Update capital of germany\n",
    "europe['germany'] = 'berlin'\n",
    "\n",
    "# Remove australia\n",
    "del(europe['australia'])\n",
    "\n",
    "# Print europe\n",
    "print(europe)"
   ]
  },
  {
   "cell_type": "markdown",
   "metadata": {},
   "source": [
    "**Dictionariception**  \n",
    "Remember lists?  \n",
    "They could contain anything, even other lists. Well, for dictionaries the same holds. Dictionaries can contain key:value pairs where the values are again dictionaries.  \n",
    "  \n",
    "As an example, have a look at the script where another version of `europe` - the dictionary you've been working with all along - is coded. The keys are still the country names, but the values are dictionaries that contain more information than just the capital.  \n",
    "  \n",
    "It's perfectly possible to chain square brackets to select elements. To fetch the population for Spain from europe, for example, you need:  \n",
    "  \n",
    "`europe['spain']['population']`  \n",
    "* Use chained square brackets to select and print out the capital of France.\n",
    "* Create a dictionary, named data, with the keys `'capital'` and `'population'`. Set them to `'rome'` and `59.83`, respectively.\n",
    "* Add a new key-value pair to `europe`; the key is `'italy'` and the value is `data`, the dictionary you just built."
   ]
  },
  {
   "cell_type": "code",
   "execution_count": 40,
   "metadata": {},
   "outputs": [
    {
     "name": "stdout",
     "output_type": "stream",
     "text": [
      "66.03\n",
      "{'spain': {'capital': 'madrid', 'population': 46.77}, 'france': {'capital': 'paris', 'population': 66.03}, 'germany': {'capital': 'berlin', 'population': 80.62}, 'norway': {'capital': 'oslo', 'population': 5.084}, 'italy': {'capital': 'rome', 'population': 59.83}}\n"
     ]
    }
   ],
   "source": [
    "# Dictionary of dictionaries\n",
    "europe = { 'spain': { 'capital':'madrid', 'population':46.77 },\n",
    "           'france': { 'capital':'paris', 'population':66.03 },\n",
    "           'germany': { 'capital':'berlin', 'population':80.62 },\n",
    "           'norway': { 'capital':'oslo', 'population':5.084 } }\n",
    "\n",
    "\n",
    "# Print out the capital of France\n",
    "print(europe['france']['population'])\n",
    "\n",
    "# Create sub-dictionary data\n",
    "data = {'capital':'rome','population':59.83}\n",
    "\n",
    "# Add data to europe under key 'italy'\n",
    "europe['italy'] = data\n",
    "\n",
    "# Print europe\n",
    "print(europe)"
   ]
  },
  {
   "cell_type": "markdown",
   "metadata": {},
   "source": [
    "**Pandas, Part 1**  \n",
    "  \n",
    "A lot of data comes in tabular form, rows and columns. Each row is an observations, each column is a variable. The latter can have different data in the columns. Sometimes the data types are different, numerical, time, string format etc.  \n",
    "  \n",
    "Datasets in Python  \n",
    "* 2D Numpy array\n",
    " * One data type only!\n",
    "  \n",
    "For handling different types of data we can use Pandas!  \n",
    "* High level data manipulation tool\n",
    "* Built by Wes McKinney\n",
    "* Built upon Numpy\n",
    "* Uses DataFrame to store the data\n",
    "  \n",
    "Compared to numpy it is more high level.  \n",
    "  \n",
    "**How to build a DataFrame?**  \n",
    "  \n",
    "1. we can do it manually, starting from a Dictionary, using the curly brackets.  \n",
    "  Build a dict with:\n",
    "  * keys, column names\n",
    "  * values, data in list form for each column\n",
    "  * then `import pandas as pd` and call `pd.DataFrame()`."
   ]
  },
  {
   "cell_type": "code",
   "execution_count": 47,
   "metadata": {},
   "outputs": [
    {
     "data": {
      "text/plain": [
       "{'country': ['spain', 'france', 'germany', 'norway'],\n",
       " 'capital': ['madrid', 'paris', 'berling', 'oslo'],\n",
       " 'population': [46.77, 66.03, 80.62, 5.084]}"
      ]
     },
     "execution_count": 47,
     "metadata": {},
     "output_type": "execute_result"
    }
   ],
   "source": [
    "dict = {\n",
    "    \"country\":['spain','france','germany','norway'],\n",
    "    \"capital\":['madrid','paris','berling','oslo'],\n",
    "    \"population\":[46.77,66.03,80.62,5.084]\n",
    "}\n",
    "dict"
   ]
  },
  {
   "cell_type": "code",
   "execution_count": 48,
   "metadata": {},
   "outputs": [
    {
     "data": {
      "text/html": [
       "<div>\n",
       "<style scoped>\n",
       "    .dataframe tbody tr th:only-of-type {\n",
       "        vertical-align: middle;\n",
       "    }\n",
       "\n",
       "    .dataframe tbody tr th {\n",
       "        vertical-align: top;\n",
       "    }\n",
       "\n",
       "    .dataframe thead th {\n",
       "        text-align: right;\n",
       "    }\n",
       "</style>\n",
       "<table border=\"1\" class=\"dataframe\">\n",
       "  <thead>\n",
       "    <tr style=\"text-align: right;\">\n",
       "      <th></th>\n",
       "      <th>country</th>\n",
       "      <th>capital</th>\n",
       "      <th>population</th>\n",
       "    </tr>\n",
       "  </thead>\n",
       "  <tbody>\n",
       "    <tr>\n",
       "      <th>0</th>\n",
       "      <td>spain</td>\n",
       "      <td>madrid</td>\n",
       "      <td>46.770</td>\n",
       "    </tr>\n",
       "    <tr>\n",
       "      <th>1</th>\n",
       "      <td>france</td>\n",
       "      <td>paris</td>\n",
       "      <td>66.030</td>\n",
       "    </tr>\n",
       "    <tr>\n",
       "      <th>2</th>\n",
       "      <td>germany</td>\n",
       "      <td>berling</td>\n",
       "      <td>80.620</td>\n",
       "    </tr>\n",
       "    <tr>\n",
       "      <th>3</th>\n",
       "      <td>norway</td>\n",
       "      <td>oslo</td>\n",
       "      <td>5.084</td>\n",
       "    </tr>\n",
       "  </tbody>\n",
       "</table>\n",
       "</div>"
      ],
      "text/plain": [
       "   country  capital  population\n",
       "0    spain   madrid      46.770\n",
       "1   france    paris      66.030\n",
       "2  germany  berling      80.620\n",
       "3   norway     oslo       5.084"
      ]
     },
     "execution_count": 48,
     "metadata": {},
     "output_type": "execute_result"
    }
   ],
   "source": [
    "import pandas as pd\n",
    "\n",
    "brics = pd.DataFrame(dict)\n",
    "brics"
   ]
  },
  {
   "cell_type": "markdown",
   "metadata": {},
   "source": [
    "Pandas assigns row labes automatically, in this case 0-3.  \n",
    "We can specify them manually by setting the index attribute of brics to a list with the correct labels."
   ]
  },
  {
   "cell_type": "code",
   "execution_count": 49,
   "metadata": {},
   "outputs": [
    {
     "data": {
      "text/html": [
       "<div>\n",
       "<style scoped>\n",
       "    .dataframe tbody tr th:only-of-type {\n",
       "        vertical-align: middle;\n",
       "    }\n",
       "\n",
       "    .dataframe tbody tr th {\n",
       "        vertical-align: top;\n",
       "    }\n",
       "\n",
       "    .dataframe thead th {\n",
       "        text-align: right;\n",
       "    }\n",
       "</style>\n",
       "<table border=\"1\" class=\"dataframe\">\n",
       "  <thead>\n",
       "    <tr style=\"text-align: right;\">\n",
       "      <th></th>\n",
       "      <th>country</th>\n",
       "      <th>capital</th>\n",
       "      <th>population</th>\n",
       "    </tr>\n",
       "  </thead>\n",
       "  <tbody>\n",
       "    <tr>\n",
       "      <th>SP</th>\n",
       "      <td>spain</td>\n",
       "      <td>madrid</td>\n",
       "      <td>46.770</td>\n",
       "    </tr>\n",
       "    <tr>\n",
       "      <th>FR</th>\n",
       "      <td>france</td>\n",
       "      <td>paris</td>\n",
       "      <td>66.030</td>\n",
       "    </tr>\n",
       "    <tr>\n",
       "      <th>DE</th>\n",
       "      <td>germany</td>\n",
       "      <td>berling</td>\n",
       "      <td>80.620</td>\n",
       "    </tr>\n",
       "    <tr>\n",
       "      <th>NO</th>\n",
       "      <td>norway</td>\n",
       "      <td>oslo</td>\n",
       "      <td>5.084</td>\n",
       "    </tr>\n",
       "  </tbody>\n",
       "</table>\n",
       "</div>"
      ],
      "text/plain": [
       "    country  capital  population\n",
       "SP    spain   madrid      46.770\n",
       "FR   france    paris      66.030\n",
       "DE  germany  berling      80.620\n",
       "NO   norway     oslo       5.084"
      ]
     },
     "execution_count": 49,
     "metadata": {},
     "output_type": "execute_result"
    }
   ],
   "source": [
    "# set list as labels to df\n",
    "brics.index = ['SP','FR','DE','NO']\n",
    "brics"
   ]
  },
  {
   "cell_type": "markdown",
   "metadata": {},
   "source": [
    "If working with tons of data the dics approach of building a DataFrame is not convenient. We don´t build the df manually, instead we import the data from an external source. E.g 'brics.csv'.  \n",
    "  \n",
    "  2. Build a DataFrame using `pd.read_csv()` function, passing the `.csv` file or path as an argument."
   ]
  },
  {
   "cell_type": "code",
   "execution_count": 50,
   "metadata": {},
   "outputs": [
    {
     "data": {
      "text/html": [
       "<div>\n",
       "<style scoped>\n",
       "    .dataframe tbody tr th:only-of-type {\n",
       "        vertical-align: middle;\n",
       "    }\n",
       "\n",
       "    .dataframe tbody tr th {\n",
       "        vertical-align: top;\n",
       "    }\n",
       "\n",
       "    .dataframe thead th {\n",
       "        text-align: right;\n",
       "    }\n",
       "</style>\n",
       "<table border=\"1\" class=\"dataframe\">\n",
       "  <thead>\n",
       "    <tr style=\"text-align: right;\">\n",
       "      <th></th>\n",
       "      <th>Entity</th>\n",
       "      <th>Code</th>\n",
       "      <th>Year</th>\n",
       "      <th>Capture fisheries production (metric tons)</th>\n",
       "    </tr>\n",
       "  </thead>\n",
       "  <tbody>\n",
       "    <tr>\n",
       "      <th>0</th>\n",
       "      <td>Afghanistan</td>\n",
       "      <td>AFG</td>\n",
       "      <td>1960</td>\n",
       "      <td>200.0</td>\n",
       "    </tr>\n",
       "    <tr>\n",
       "      <th>1</th>\n",
       "      <td>Afghanistan</td>\n",
       "      <td>AFG</td>\n",
       "      <td>1961</td>\n",
       "      <td>300.0</td>\n",
       "    </tr>\n",
       "    <tr>\n",
       "      <th>2</th>\n",
       "      <td>Afghanistan</td>\n",
       "      <td>AFG</td>\n",
       "      <td>1962</td>\n",
       "      <td>300.0</td>\n",
       "    </tr>\n",
       "    <tr>\n",
       "      <th>3</th>\n",
       "      <td>Afghanistan</td>\n",
       "      <td>AFG</td>\n",
       "      <td>1963</td>\n",
       "      <td>300.0</td>\n",
       "    </tr>\n",
       "    <tr>\n",
       "      <th>4</th>\n",
       "      <td>Afghanistan</td>\n",
       "      <td>AFG</td>\n",
       "      <td>1964</td>\n",
       "      <td>300.0</td>\n",
       "    </tr>\n",
       "  </tbody>\n",
       "</table>\n",
       "</div>"
      ],
      "text/plain": [
       "        Entity Code  Year  Capture fisheries production (metric tons)\n",
       "0  Afghanistan  AFG  1960                                       200.0\n",
       "1  Afghanistan  AFG  1961                                       300.0\n",
       "2  Afghanistan  AFG  1962                                       300.0\n",
       "3  Afghanistan  AFG  1963                                       300.0\n",
       "4  Afghanistan  AFG  1964                                       300.0"
      ]
     },
     "execution_count": 50,
     "metadata": {},
     "output_type": "execute_result"
    }
   ],
   "source": [
    "path = \"https://raw.githubusercontent.com/rfordatascience/tidytuesday/master/data/2021/2021-10-12/capture-fishery-production.csv\"\n",
    "\n",
    "fish = pd.read_csv(path)\n",
    "\n",
    "fish.head()"
   ]
  },
  {
   "cell_type": "markdown",
   "metadata": {},
   "source": [
    "The first row contains the row indexes, if we want something else as index we could set is specifically.    \n",
    "We can tell this to the `pd.read_csv()` function by setting the `index_col = 0` argument (if we had assigned the index with a list of specific values like in the `brics.index` example from above)."
   ]
  },
  {
   "cell_type": "code",
   "execution_count": 52,
   "metadata": {},
   "outputs": [],
   "source": [
    "# Do not run\n",
    "# brics = pd.read_csv(\"path/brics.csv\", index_col = 0)"
   ]
  },
  {
   "cell_type": "markdown",
   "metadata": {},
   "source": [
    "**Dictionary to DataFrame (1)**  \n",
    "Pandas is an open source library, providing high-performance, easy-to-use data structures and data analysis tools for Python. Sounds promising!\n",
    "\n",
    "The DataFrame is one of Pandas' most important data structures. It's basically a way to store tabular data where you can label the rows and the columns. One way to build a DataFrame is from a dictionary.\n",
    "\n",
    "In the exercises that follow you will be working with vehicle data from different countries. Each observation corresponds to a country and the columns give information about the number of vehicles per capita, whether people drive left or right, and so on.\n",
    "\n",
    "Three lists are defined in the script:\n",
    "\n",
    "* `names`, containing the country names for which data is available.\n",
    "* `dr`, a list with booleans that tells whether people drive left or right in the corresponding country.\n",
    "* `cpc`, the number of motor vehicles per 1000 people in the corresponding country.  \n",
    "  \n",
    "Each dictionary key is a column label and each value is a list which contains the column elements.  \n",
    "  \n",
    "1. Use the pre-defined lists to create a dictionary called `my_dict`. There should be three key value pairs:\n",
    " * key `'country'` and value names.\n",
    " * key `'drives_right'` and value dr.\n",
    " * key `'cars_per_cap'` and value cpc.\n",
    "2. Use `pd.DataFrame()` to turn your dict into a DataFrame called cars.\n",
    "3. Print out `cars` and see how beautiful it is."
   ]
  },
  {
   "cell_type": "code",
   "execution_count": 54,
   "metadata": {},
   "outputs": [
    {
     "data": {
      "text/html": [
       "<div>\n",
       "<style scoped>\n",
       "    .dataframe tbody tr th:only-of-type {\n",
       "        vertical-align: middle;\n",
       "    }\n",
       "\n",
       "    .dataframe tbody tr th {\n",
       "        vertical-align: top;\n",
       "    }\n",
       "\n",
       "    .dataframe thead th {\n",
       "        text-align: right;\n",
       "    }\n",
       "</style>\n",
       "<table border=\"1\" class=\"dataframe\">\n",
       "  <thead>\n",
       "    <tr style=\"text-align: right;\">\n",
       "      <th></th>\n",
       "      <th>country</th>\n",
       "      <th>drives_right</th>\n",
       "      <th>cars_per_cap</th>\n",
       "    </tr>\n",
       "  </thead>\n",
       "  <tbody>\n",
       "    <tr>\n",
       "      <th>0</th>\n",
       "      <td>United States</td>\n",
       "      <td>True</td>\n",
       "      <td>809</td>\n",
       "    </tr>\n",
       "    <tr>\n",
       "      <th>1</th>\n",
       "      <td>Australia</td>\n",
       "      <td>False</td>\n",
       "      <td>731</td>\n",
       "    </tr>\n",
       "    <tr>\n",
       "      <th>2</th>\n",
       "      <td>Japan</td>\n",
       "      <td>False</td>\n",
       "      <td>588</td>\n",
       "    </tr>\n",
       "    <tr>\n",
       "      <th>3</th>\n",
       "      <td>India</td>\n",
       "      <td>False</td>\n",
       "      <td>18</td>\n",
       "    </tr>\n",
       "    <tr>\n",
       "      <th>4</th>\n",
       "      <td>Russia</td>\n",
       "      <td>True</td>\n",
       "      <td>200</td>\n",
       "    </tr>\n",
       "    <tr>\n",
       "      <th>5</th>\n",
       "      <td>Morocco</td>\n",
       "      <td>True</td>\n",
       "      <td>70</td>\n",
       "    </tr>\n",
       "    <tr>\n",
       "      <th>6</th>\n",
       "      <td>Egypt</td>\n",
       "      <td>True</td>\n",
       "      <td>45</td>\n",
       "    </tr>\n",
       "  </tbody>\n",
       "</table>\n",
       "</div>"
      ],
      "text/plain": [
       "         country  drives_right  cars_per_cap\n",
       "0  United States          True           809\n",
       "1      Australia         False           731\n",
       "2          Japan         False           588\n",
       "3          India         False            18\n",
       "4         Russia          True           200\n",
       "5        Morocco          True            70\n",
       "6          Egypt          True            45"
      ]
     },
     "execution_count": 54,
     "metadata": {},
     "output_type": "execute_result"
    }
   ],
   "source": [
    "# Pre-defined lists\n",
    "names = ['United States', 'Australia', 'Japan', 'India', 'Russia', 'Morocco', 'Egypt']\n",
    "dr =  [True, False, False, False, True, True, True]\n",
    "cpc = [809, 731, 588, 18, 200, 70, 45]\n",
    "\n",
    "# Import pandas as pd\n",
    "import pandas as pd\n",
    "\n",
    "# Create dictionary my_dict with three key:value pairs: my_dict\n",
    "my_dict = {'country':names, 'drives_right':dr, 'cars_per_cap':cpc}\n",
    "\n",
    "# Build a DataFrame cars from my_dict: cars\n",
    "cars = pd.DataFrame(my_dict)\n",
    "\n",
    "# Print cars\n",
    "cars"
   ]
  },
  {
   "cell_type": "markdown",
   "metadata": {},
   "source": [
    "Notice that the columns of cars can be of different types. This was not possible with 2D Numpy arrays!  \n",
    "  \n",
    "**Dictionary to DataFrame (2)**\n",
    "The Python code that solves the previous exercise is included in the script. Have you noticed that the row labels (i.e. the labels for the different observations) were automatically set to integers from 0 up to 6?\n",
    "\n",
    "To solve this a list `row_labels` has been created. You can use it to specify the row labels of the `cars` DataFrame. You do this by setting the `index` attribute of `cars`, that you can access as `cars.index`.   "
   ]
  },
  {
   "cell_type": "code",
   "execution_count": 57,
   "metadata": {},
   "outputs": [
    {
     "name": "stdout",
     "output_type": "stream",
     "text": [
      "         country  drives_right  cars_per_cap\n",
      "0  United States          True           809\n",
      "1      Australia         False           731\n",
      "2          Japan         False           588\n",
      "3          India         False            18\n",
      "4         Russia          True           200\n",
      "5        Morocco          True            70\n",
      "6          Egypt          True            45\n",
      "           country  drives_right  cars_per_cap\n",
      "US   United States          True           809\n",
      "AUS      Australia         False           731\n",
      "JPN          Japan         False           588\n",
      "IN           India         False            18\n",
      "RU          Russia          True           200\n",
      "MOR        Morocco          True            70\n",
      "EG           Egypt          True            45\n"
     ]
    }
   ],
   "source": [
    "import pandas as pd\n",
    "\n",
    "# Build cars DataFrame\n",
    "names = ['United States', 'Australia', 'Japan', 'India', 'Russia', 'Morocco', 'Egypt']\n",
    "dr =  [True, False, False, False, True, True, True]\n",
    "cpc = [809, 731, 588, 18, 200, 70, 45]\n",
    "cars_dict = { 'country':names, 'drives_right':dr, 'cars_per_cap':cpc }\n",
    "cars = pd.DataFrame(cars_dict)\n",
    "print(cars)\n",
    "\n",
    "# Definition of row_labels\n",
    "row_labels = ['US', 'AUS', 'JPN', 'IN', 'RU', 'MOR', 'EG']\n",
    "\n",
    "# Specify row labels of cars\n",
    "cars.index = row_labels\n",
    "\n",
    "# print cars again\n",
    "print(cars)"
   ]
  },
  {
   "cell_type": "markdown",
   "metadata": {},
   "source": [
    "**CSV to DataFrame (1)**  \n",
    "  \n",
    "To import CSV data into Python as a Pandas DataFrame you can use `read_csv()`.\n",
    "\n",
    "Let's explore this function with the same cars data from the previous exercises. This time, however, the data is available in a CSV file, named `cars.csv`. It is available in your current working directory, so the path to the file is simply `'cars.csv'`."
   ]
  },
  {
   "cell_type": "code",
   "execution_count": null,
   "metadata": {},
   "outputs": [],
   "source": [
    "# DO NOT RUN!\n",
    "\n",
    "# Import the cars.csv data: cars\n",
    "cars = pd.read_csv('cars.csv')\n",
    "\n",
    "# Alternative, setting the index_col\n",
    "cars = pd.read_csv('cars.csv', index_col = 0)\n",
    "\n",
    "# Print out cars\n",
    "print(cars)"
   ]
  },
  {
   "cell_type": "code",
   "execution_count": null,
   "metadata": {},
   "outputs": [],
   "source": []
  },
  {
   "cell_type": "code",
   "execution_count": null,
   "metadata": {},
   "outputs": [],
   "source": []
  },
  {
   "cell_type": "code",
   "execution_count": null,
   "metadata": {},
   "outputs": [],
   "source": []
  },
  {
   "cell_type": "markdown",
   "metadata": {},
   "source": [
    "### 3. Logic, Control Flow and Filtering"
   ]
  },
  {
   "cell_type": "code",
   "execution_count": 1,
   "metadata": {},
   "outputs": [],
   "source": [
    "# TBD"
   ]
  },
  {
   "cell_type": "markdown",
   "metadata": {},
   "source": [
    "### 4. Loops"
   ]
  },
  {
   "cell_type": "code",
   "execution_count": null,
   "metadata": {},
   "outputs": [],
   "source": [
    "# TBD"
   ]
  },
  {
   "cell_type": "markdown",
   "metadata": {},
   "source": [
    "### 5. Case Study: Hacker Stats"
   ]
  },
  {
   "cell_type": "code",
   "execution_count": null,
   "metadata": {},
   "outputs": [],
   "source": [
    "# TBD"
   ]
  }
 ],
 "metadata": {
  "kernelspec": {
   "display_name": "Python 3",
   "language": "python",
   "name": "python3"
  },
  "language_info": {
   "codemirror_mode": {
    "name": "ipython",
    "version": 3
   },
   "file_extension": ".py",
   "mimetype": "text/x-python",
   "name": "python",
   "nbconvert_exporter": "python",
   "pygments_lexer": "ipython3",
   "version": "3.8.5"
  }
 },
 "nbformat": 4,
 "nbformat_minor": 4
}
