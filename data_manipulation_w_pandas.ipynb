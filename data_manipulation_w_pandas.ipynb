{
 "cells": [
  {
   "cell_type": "markdown",
   "metadata": {},
   "source": [
    "# Data Manipulation with Pandas  \n",
    "1. Transforming DataFrames\n",
    "2. Aggregating DataFrames\n",
    "3. Slicing and Indexing DataFrames\n",
    "4. Creating and Visualizing DataFrames\n",
    "\n",
    "### 1. Transforming DataFrames  \n",
    "  \n",
    "**What´s the point of pandas?**  \n",
    "* Data Manipulation\n",
    " * Ch 1, Sorting and Subsetting, Creating new columns\n",
    " * Ch 2, Summary statistics, Counting, Grouped Summary statistics\n",
    " * Ch 3, Subsetting using slicing, Indexing and subsetting using index\n",
    "* Data Visualization  \n",
    " * Ch 4, Plotting, Handling missing data, Reading data into a DataFrame\n",
    "  \n",
    "  \n",
    "* **Introducing DataFrames**  \n",
    "pandas is built on top of NumPy and Matplotlib.  \n",
    "  \n",
    "Rectangular data or tabular data is the a common form of data pandas is design to work with it.  \n",
    "Each row is an observation and each column is a property or attribute. In pandas this rectangular data is represented as a `DataFrame` object. Other programming languages has something similar, `SQL` has `data table` and `R` also has `data.frame`. Every column have the same data type on each row but different columns can have different data types.  \n",
    "  \n",
    "Exploring a DataFrame object using methods/attributes:  \n",
    "  \n",
    "`df.head()` method displays the first rows (default is 5)  \n",
    "`df.indo()` method displays the names of columns, data types they contain and if there are any missing alues.  \n",
    "`df.shape` attribute shows the number of rows followed by the number of clolumns, e.g `(8,7)`  \n",
    "`df.describe()` method calculates some summary statistics for numerical columns.  \n",
    "  \n",
    "A `DataFrame` consists of three different components accessible using attributes.  \n",
    "  \n",
    "`df.values` attribute contains the data values in a 2D numpy array  \n",
    "`df.columns` attribute contains the labels of the column names as index object.  \n",
    "`df.index` attribute contains row numbers of row names as index object. Note: Row labes are stored in `.index` and not in `.rows`!  \n",
    "  \n",
    "**pandas Philosophy**  \n",
    "There should be one -- and preferably only one -- obvious way to do it!  \n",
    "*- The Zen of Python* by Tim Peters, Item 13 https://www.python.org/dev/peps/pep-0020/ \n",
    "Pandas deliberately does not follow this philosphoy, instead there are often many ways to solve a problem in pandas and we can choose the best one. pandas gives many tools to give options."
   ]
  },
  {
   "cell_type": "code",
   "execution_count": null,
   "metadata": {},
   "outputs": [],
   "source": []
  },
  {
   "cell_type": "code",
   "execution_count": null,
   "metadata": {},
   "outputs": [],
   "source": []
  }
 ],
 "metadata": {
  "kernelspec": {
   "display_name": "Python 3",
   "language": "python",
   "name": "python3"
  },
  "language_info": {
   "codemirror_mode": {
    "name": "ipython",
    "version": 3
   },
   "file_extension": ".py",
   "mimetype": "text/x-python",
   "name": "python",
   "nbconvert_exporter": "python",
   "pygments_lexer": "ipython3",
   "version": "3.8.5"
  }
 },
 "nbformat": 4,
 "nbformat_minor": 4
}
