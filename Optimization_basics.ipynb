{
  "nbformat": 4,
  "nbformat_minor": 0,
  "metadata": {
    "colab": {
      "name": "Optimization_basics.ipynb",
      "provenance": [],
      "collapsed_sections": []
    },
    "kernelspec": {
      "name": "python3",
      "display_name": "Python 3"
    },
    "language_info": {
      "name": "python"
    }
  },
  "cells": [
    {
      "cell_type": "markdown",
      "source": [
        "# Optimization Basics  \n",
        "\n",
        "* Define Linear Programming and Basic Components\n",
        " * Decision Variables\n",
        " * Objective Function\n",
        " * Constraints\n",
        "* Define LP vs IP vs MIP\n",
        "  \n",
        "Summary of Linear Programming (LP)\n",
        "* Optimization method that uses mathemacial model which requirements are linear relationships\n",
        "* The 3 components of LP:\n",
        "\n",
        " * Objective Function - What do we want to achieve, mathematical expression that uses variables to express the goal\n",
        " * Decision Variables -What can we control\n",
        " * Constraints - mathematical expression(s) that describe the limits of a potential solution"
      ],
      "metadata": {
        "id": "xNEfYY7lZh69"
      }
    },
    {
      "cell_type": "markdown",
      "source": [
        "**Simple Examples**  \n",
        "Use LP to decide on which exercise routine to burn as many calories as possible.  \n",
        "\n",
        "|Rows   |Pushup        |Running    |\n",
        "|-------|--------------|-----------|\n",
        "|Minutes|0.2 per pushup|10 per mile|\n",
        "|Calories|3 per pushup|130 per mile|\n",
        "\n",
        "Constraint only 10 minutes to exercise  \n",
        "  \n",
        "**Basic components of LP**  \n",
        "Objective Function:\n",
        "* Max(3 * Number of Pushups + 130 * Number of Miles)    \n",
        "\n",
        "Decision Variables:  \n",
        "\n",
        "* Number of Pushups & Number of Miles Run\n",
        "  \n",
        "Constraints:  \n",
        "* 0.2 * Number of Pushups + 10 * Number of Miles <= 10  \n",
        "(this describes how many mins it takes to perform the excerecises which must be less than or equal to 10 min)\n",
        "* Number of Pushups >= 0  \n",
        "(also ensure decision variables are not negative!)\n",
        "* Number of Miles >= 0  \n",
        "  \n",
        "**Optimal Solution**\n",
        "* 50 Pushups\n",
        "* 0 Miles Ran  \n",
        "  \n",
        "Calories Burned: 150  \n",
        "  \n",
        "###LP vs IP vs MIP  \n",
        "  \n",
        "|Terms   |Decision Variables  |\n",
        "|--|--|\n",
        "|Linear Programing (LP)|Only Continuous|\n",
        "|Integer Programming (IP)|Only Discrete or Integers|\n",
        "|Mixed Integer Programming (MIP)|Mix of Continutous and Discrete|\n",
        "  \n"
      ],
      "metadata": {
        "id": "yDuakTjeagnZ"
      }
    },
    {
      "cell_type": "markdown",
      "source": [
        "**Basics of PuLP modelling**  \n",
        "* PuLP is a Python LP / IP modeler  \n",
        "* 5 steps of PuLP modeling process\n",
        " * Initialize Model\n",
        " * Define Decision Variables\n",
        " * Define Objective Function\n",
        " * Define the Constraints\n",
        " * Solve Model"
      ],
      "metadata": {
        "id": "kLHpFVT0gLe3"
      }
    },
    {
      "cell_type": "code",
      "source": [
        "# install pulp\n",
        "!pip install pulp"
      ],
      "metadata": {
        "colab": {
          "base_uri": "https://localhost:8080/"
        },
        "id": "TLJMfqBJgs_r",
        "outputId": "158b90cf-ec77-494e-a2c1-a988b0d1bc0c"
      },
      "execution_count": 6,
      "outputs": [
        {
          "output_type": "stream",
          "name": "stdout",
          "text": [
            "Looking in indexes: https://pypi.org/simple, https://us-python.pkg.dev/colab-wheels/public/simple/\n",
            "Collecting pulp\n",
            "  Downloading PuLP-2.6.0-py3-none-any.whl (14.2 MB)\n",
            "\u001b[K     |████████████████████████████████| 14.2 MB 12.4 MB/s \n",
            "\u001b[?25hInstalling collected packages: pulp\n",
            "Successfully installed pulp-2.6.0\n"
          ]
        }
      ]
    },
    {
      "cell_type": "code",
      "source": [
        "from pulp import *"
      ],
      "metadata": {
        "id": "oSvRl10nhcan"
      },
      "execution_count": 9,
      "outputs": []
    },
    {
      "cell_type": "code",
      "source": [
        "# Initialize Class\n",
        "model = LpProblem(\"Maximize Bakery Profits\", LpMaximize)\n",
        "\n",
        "# Define Decisions Variables\n",
        "A = LpVariable('A', lowBound=0,\n",
        "               cat='Integer')\n",
        "B = LpVariable('B',lowBound=0,\n",
        "               cat='Integer')\n",
        "\n",
        "# Define Objective Function\n",
        "model += 20 * A + 40 * B\n",
        "\n",
        "# Define Constraints\n",
        "model += 0.5 * A + 1 * B <= 30\n",
        "model += 1 * A + 2.5 * B <= 60\n",
        "model += 1 * A + 2 * B <= 22\n",
        "\n",
        "# Solve Model\n",
        "model.solve()\n",
        "print(f\"Produce {A.varValue} Cake A\")\n",
        "print(f\"Product {B.varValue} Cake B\")"
      ],
      "metadata": {
        "colab": {
          "base_uri": "https://localhost:8080/"
        },
        "id": "UGpzQy1CgicA",
        "outputId": "d0aaf79a-82d6-4b40-95a0-9c93bb59812b"
      },
      "execution_count": 10,
      "outputs": [
        {
          "output_type": "stream",
          "name": "stdout",
          "text": [
            "Produce 0.0 Cake A\n",
            "Product 11.0 Cake B\n"
          ]
        },
        {
          "output_type": "stream",
          "name": "stderr",
          "text": [
            "/usr/local/lib/python3.7/dist-packages/pulp/pulp.py:1352: UserWarning: Spaces are not permitted in the name. Converted to '_'\n",
            "  warnings.warn(\"Spaces are not permitted in the name. Converted to '_'\")\n"
          ]
        }
      ]
    },
    {
      "cell_type": "code",
      "source": [
        "# Basic of PuLP modelling\n",
        "# https://campus.datacamp.com/courses/supply-chain-analytics-in-python/basics-of-supply-chain-optimization-and-pulp?ex=4"
      ],
      "metadata": {
        "id": "iI7iLKoAiMJC"
      },
      "execution_count": null,
      "outputs": []
    },
    {
      "cell_type": "code",
      "source": [
        ""
      ],
      "metadata": {
        "id": "xmOmzhJNcr_4"
      },
      "execution_count": null,
      "outputs": []
    },
    {
      "cell_type": "code",
      "source": [
        ""
      ],
      "metadata": {
        "id": "sMXEHDi8iOu6"
      },
      "execution_count": null,
      "outputs": []
    }
  ]
}